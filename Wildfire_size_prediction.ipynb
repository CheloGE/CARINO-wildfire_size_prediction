{
 "cells": [
  {
   "cell_type": "markdown",
   "metadata": {},
   "source": [
    "# The aim of this notebook is to create a model that predicts the size of a wildfire\n",
    "\n",
    "Author: Marcelo Garcia Escalante\n",
    "\n",
    "## Index\n",
    "\n",
    "1. [EDA+Preprocess Data](#1.-EDA-(Exploratory-Data-Analysis)-+-preprocess-data)\n",
    " * [Clean data](#Clean-data)\n",
    "     * [Parsing Dates](#Parsing-Dates)\n",
    "     * [Find null values](#Find-null-values)\n",
    "     * [fillining null data](#fillining-null-data)\n",
    " * [Feature engineering](#Feature-engineering)\n",
    " * [Standardize data](#Standardize-data)\n",
    " * [Visualize class distribution](#Visualize-class-distribution)\n",
    " \n",
    "2. [Build Model](#2.-Build-Model)\n",
    " * [One Hot encode categorical data](#One-Hot-encode-categorical-data)\n",
    " * [Stratified cross validation](#Stratified-cross-validation)\n",
    " * [Define feature importance](#Define-feature-importance)\n",
    "3. [Make submission](#3.-Make-submission)\n",
    "4. [References](#4.-References)"
   ]
  },
  {
   "cell_type": "code",
   "execution_count": 46,
   "metadata": {},
   "outputs": [
    {
     "name": "stdout",
     "output_type": "stream",
     "text": [
      "The autoreload extension is already loaded. To reload it, use:\n",
      "  %reload_ext autoreload\n"
     ]
    }
   ],
   "source": [
    "# All imports for the project goes here\n",
    "import pandas as pd\n",
    "import numpy as np\n",
    "import matplotlib.pyplot as plt\n",
    "from collections import Counter\n",
    "from helpers import feature_plot, oneHotEnc_to_classes, parse_datetime_features_to_hours, RocCallback\n",
    "from helpers import datetime_feature_engineering\n",
    "from sklearn.ensemble import RandomForestClassifier, AdaBoostClassifier, GradientBoostingClassifier\n",
    "import category_encoders as ce\n",
    "from datetime import datetime\n",
    "from sklearn.preprocessing import StandardScaler, RobustScaler\n",
    "from helpers import feature_plot\n",
    "from sklearn.model_selection import StratifiedKFold\n",
    "from sklearn.model_selection import train_test_split\n",
    "from sklearn.metrics import fbeta_score, accuracy_score, make_scorer\n",
    "from sklearn.model_selection import GridSearchCV\n",
    "\n",
    "\n",
    "%matplotlib inline\n",
    "%load_ext autoreload\n",
    "%autoreload 2"
   ]
  },
  {
   "cell_type": "markdown",
   "metadata": {},
   "source": [
    "## 1. EDA (Exploratory Data Analysis) + preprocess data\n",
    "\n",
    "In this section, we will visualize and analyze our dataset. Also any possible clean-up required will be performed. "
   ]
  },
  {
   "cell_type": "code",
   "execution_count": 212,
   "metadata": {},
   "outputs": [],
   "source": [
    "# Loading the dataset\n",
    "train = pd.read_csv('train.csv')\n",
    "test = pd.read_csv('test.csv')"
   ]
  },
  {
   "cell_type": "code",
   "execution_count": 213,
   "metadata": {},
   "outputs": [
    {
     "data": {
      "text/plain": [
       "fire_number                      object\n",
       "fire_year                         int64\n",
       "assessment_datetime              object\n",
       "size_class                       object\n",
       "fire_location_latitude          float64\n",
       "fire_location_longitude         float64\n",
       "fire_origin                      object\n",
       "general_cause_desc               object\n",
       "activity_class                   object\n",
       "true_cause                       object\n",
       "fire_start_date                  object\n",
       "det_agent_type                   object\n",
       "det_agent                        object\n",
       "discovered_date                  object\n",
       "reported_date                    object\n",
       "start_for_fire_date              object\n",
       "fire_fighting_start_date         object\n",
       "initial_action_by                object\n",
       "fire_type                        object\n",
       "fire_position_on_slope           object\n",
       "weather_conditions_over_fire     object\n",
       "fuel_type                        object\n",
       "bh_fs_date                       object\n",
       "uc_fs_date                       object\n",
       "ex_fs_date                       object\n",
       "dtype: object"
      ]
     },
     "execution_count": 213,
     "metadata": {},
     "output_type": "execute_result"
    }
   ],
   "source": [
    "train.dtypes"
   ]
  },
  {
   "cell_type": "markdown",
   "metadata": {},
   "source": [
    "`note:` We can see that most of our data is categorical with two of the features being float numbers and one an integer"
   ]
  },
  {
   "cell_type": "code",
   "execution_count": 214,
   "metadata": {},
   "outputs": [
    {
     "data": {
      "text/html": [
       "<div>\n",
       "<style scoped>\n",
       "    .dataframe tbody tr th:only-of-type {\n",
       "        vertical-align: middle;\n",
       "    }\n",
       "\n",
       "    .dataframe tbody tr th {\n",
       "        vertical-align: top;\n",
       "    }\n",
       "\n",
       "    .dataframe thead th {\n",
       "        text-align: right;\n",
       "    }\n",
       "</style>\n",
       "<table border=\"1\" class=\"dataframe\">\n",
       "  <thead>\n",
       "    <tr style=\"text-align: right;\">\n",
       "      <th></th>\n",
       "      <th>fire_number</th>\n",
       "      <th>fire_year</th>\n",
       "      <th>assessment_datetime</th>\n",
       "      <th>size_class</th>\n",
       "      <th>fire_location_latitude</th>\n",
       "      <th>fire_location_longitude</th>\n",
       "      <th>fire_origin</th>\n",
       "      <th>general_cause_desc</th>\n",
       "      <th>activity_class</th>\n",
       "      <th>true_cause</th>\n",
       "      <th>fire_start_date</th>\n",
       "      <th>det_agent_type</th>\n",
       "      <th>det_agent</th>\n",
       "      <th>discovered_date</th>\n",
       "      <th>reported_date</th>\n",
       "      <th>start_for_fire_date</th>\n",
       "      <th>fire_fighting_start_date</th>\n",
       "      <th>initial_action_by</th>\n",
       "      <th>fire_type</th>\n",
       "      <th>fire_position_on_slope</th>\n",
       "      <th>weather_conditions_over_fire</th>\n",
       "      <th>fuel_type</th>\n",
       "      <th>bh_fs_date</th>\n",
       "      <th>uc_fs_date</th>\n",
       "      <th>ex_fs_date</th>\n",
       "    </tr>\n",
       "  </thead>\n",
       "  <tbody>\n",
       "    <tr>\n",
       "      <th>15870</th>\n",
       "      <td>SWF001</td>\n",
       "      <td>2006</td>\n",
       "      <td>2006-04-07 17:55:00</td>\n",
       "      <td>B</td>\n",
       "      <td>55.355664</td>\n",
       "      <td>-115.776846</td>\n",
       "      <td>Indian Reservation</td>\n",
       "      <td>Incendiary</td>\n",
       "      <td>Lighting Fires</td>\n",
       "      <td>Arson Known</td>\n",
       "      <td>2006-04-07 16:46:00</td>\n",
       "      <td>UNP</td>\n",
       "      <td>LFS</td>\n",
       "      <td>2006-04-07 17:46:00</td>\n",
       "      <td>2006-04-07 17:46:00</td>\n",
       "      <td>2006-04-07 18:00:00</td>\n",
       "      <td>NaN</td>\n",
       "      <td>Fire Department</td>\n",
       "      <td>Surface</td>\n",
       "      <td>Flat</td>\n",
       "      <td>Clear</td>\n",
       "      <td>O1a</td>\n",
       "      <td>2006-04-07 17:55:00</td>\n",
       "      <td>2006-04-07 17:55:00</td>\n",
       "      <td>2006-04-07 19:30:00</td>\n",
       "    </tr>\n",
       "    <tr>\n",
       "      <th>15871</th>\n",
       "      <td>HWF091</td>\n",
       "      <td>2008</td>\n",
       "      <td>2008-06-03 15:35:00</td>\n",
       "      <td>A</td>\n",
       "      <td>58.743900</td>\n",
       "      <td>-117.223467</td>\n",
       "      <td>Provincial Land</td>\n",
       "      <td>Lightning</td>\n",
       "      <td>NaN</td>\n",
       "      <td>NaN</td>\n",
       "      <td>2008-06-02 19:00:00</td>\n",
       "      <td>UNP</td>\n",
       "      <td>UPA</td>\n",
       "      <td>2008-06-03 15:00:00</td>\n",
       "      <td>2008-06-03 15:03:00</td>\n",
       "      <td>2008-06-03 15:08:00</td>\n",
       "      <td>2008-06-03 16:00:00</td>\n",
       "      <td>HAC1F</td>\n",
       "      <td>Ground</td>\n",
       "      <td>Flat</td>\n",
       "      <td>Clear</td>\n",
       "      <td>C2</td>\n",
       "      <td>2008-06-03 16:42:00</td>\n",
       "      <td>2008-06-03 16:42:00</td>\n",
       "      <td>2008-06-03 18:24:00</td>\n",
       "    </tr>\n",
       "    <tr>\n",
       "      <th>15872</th>\n",
       "      <td>HWF234</td>\n",
       "      <td>2015</td>\n",
       "      <td>2015-06-26 15:27:00</td>\n",
       "      <td>E</td>\n",
       "      <td>59.846600</td>\n",
       "      <td>-116.768133</td>\n",
       "      <td>Provincial Land</td>\n",
       "      <td>Lightning</td>\n",
       "      <td>NaN</td>\n",
       "      <td>NaN</td>\n",
       "      <td>2015-06-26 12:00:00</td>\n",
       "      <td>UNP</td>\n",
       "      <td>UPA</td>\n",
       "      <td>NaN</td>\n",
       "      <td>2015-06-26 15:27:00</td>\n",
       "      <td>2015-06-26 17:30:00</td>\n",
       "      <td>2015-06-26 17:30:00</td>\n",
       "      <td>FTAC</td>\n",
       "      <td>Ground</td>\n",
       "      <td>Flat</td>\n",
       "      <td>CB Wet</td>\n",
       "      <td>C1</td>\n",
       "      <td>2015-06-26 22:00:00</td>\n",
       "      <td>2015-06-26 23:00:00</td>\n",
       "      <td>2015-07-01 10:46:00</td>\n",
       "    </tr>\n",
       "    <tr>\n",
       "      <th>15873</th>\n",
       "      <td>MWF097</td>\n",
       "      <td>2008</td>\n",
       "      <td>2008-07-19 14:59:00</td>\n",
       "      <td>A</td>\n",
       "      <td>56.300000</td>\n",
       "      <td>-112.535217</td>\n",
       "      <td>Provincial Land</td>\n",
       "      <td>Lightning</td>\n",
       "      <td>NaN</td>\n",
       "      <td>NaN</td>\n",
       "      <td>2008-07-19 13:48:00</td>\n",
       "      <td>LKT</td>\n",
       "      <td>GE</td>\n",
       "      <td>2008-07-19 14:48:00</td>\n",
       "      <td>2008-07-19 14:48:00</td>\n",
       "      <td>2008-07-19 14:55:00</td>\n",
       "      <td>2008-07-19 15:10:00</td>\n",
       "      <td>HAC1H</td>\n",
       "      <td>Surface</td>\n",
       "      <td>Flat</td>\n",
       "      <td>Cloudy</td>\n",
       "      <td>C2</td>\n",
       "      <td>2008-07-19 15:20:00</td>\n",
       "      <td>2008-07-19 15:30:00</td>\n",
       "      <td>2008-07-19 17:43:00</td>\n",
       "    </tr>\n",
       "    <tr>\n",
       "      <th>15874</th>\n",
       "      <td>SWF133</td>\n",
       "      <td>2015</td>\n",
       "      <td>2015-06-26 17:05:00</td>\n",
       "      <td>B</td>\n",
       "      <td>55.917023</td>\n",
       "      <td>-113.707167</td>\n",
       "      <td>Private Land</td>\n",
       "      <td>Resident</td>\n",
       "      <td>Debris Disposal</td>\n",
       "      <td>Unsafe Fire</td>\n",
       "      <td>2015-06-26 16:37:00</td>\n",
       "      <td>LKT</td>\n",
       "      <td>SQ</td>\n",
       "      <td>2015-06-26 16:42:00</td>\n",
       "      <td>2015-06-26 16:42:00</td>\n",
       "      <td>2015-06-26 16:51:00</td>\n",
       "      <td>2015-06-26 17:25:00</td>\n",
       "      <td>HAC</td>\n",
       "      <td>Surface</td>\n",
       "      <td>Flat</td>\n",
       "      <td>Clear</td>\n",
       "      <td>M2</td>\n",
       "      <td>2015-06-26 17:52:00</td>\n",
       "      <td>2015-06-26 19:35:00</td>\n",
       "      <td>2015-06-27 16:40:00</td>\n",
       "    </tr>\n",
       "  </tbody>\n",
       "</table>\n",
       "</div>"
      ],
      "text/plain": [
       "      fire_number  fire_year  assessment_datetime size_class  \\\n",
       "15870      SWF001       2006  2006-04-07 17:55:00          B   \n",
       "15871      HWF091       2008  2008-06-03 15:35:00          A   \n",
       "15872      HWF234       2015  2015-06-26 15:27:00          E   \n",
       "15873      MWF097       2008  2008-07-19 14:59:00          A   \n",
       "15874      SWF133       2015  2015-06-26 17:05:00          B   \n",
       "\n",
       "       fire_location_latitude  fire_location_longitude         fire_origin  \\\n",
       "15870               55.355664              -115.776846  Indian Reservation   \n",
       "15871               58.743900              -117.223467     Provincial Land   \n",
       "15872               59.846600              -116.768133     Provincial Land   \n",
       "15873               56.300000              -112.535217     Provincial Land   \n",
       "15874               55.917023              -113.707167        Private Land   \n",
       "\n",
       "      general_cause_desc   activity_class   true_cause      fire_start_date  \\\n",
       "15870         Incendiary   Lighting Fires  Arson Known  2006-04-07 16:46:00   \n",
       "15871          Lightning              NaN          NaN  2008-06-02 19:00:00   \n",
       "15872          Lightning              NaN          NaN  2015-06-26 12:00:00   \n",
       "15873          Lightning              NaN          NaN  2008-07-19 13:48:00   \n",
       "15874           Resident  Debris Disposal  Unsafe Fire  2015-06-26 16:37:00   \n",
       "\n",
       "      det_agent_type det_agent      discovered_date        reported_date  \\\n",
       "15870            UNP       LFS  2006-04-07 17:46:00  2006-04-07 17:46:00   \n",
       "15871            UNP       UPA  2008-06-03 15:00:00  2008-06-03 15:03:00   \n",
       "15872            UNP       UPA                  NaN  2015-06-26 15:27:00   \n",
       "15873            LKT        GE  2008-07-19 14:48:00  2008-07-19 14:48:00   \n",
       "15874            LKT        SQ  2015-06-26 16:42:00  2015-06-26 16:42:00   \n",
       "\n",
       "       start_for_fire_date fire_fighting_start_date initial_action_by  \\\n",
       "15870  2006-04-07 18:00:00                      NaN   Fire Department   \n",
       "15871  2008-06-03 15:08:00      2008-06-03 16:00:00             HAC1F   \n",
       "15872  2015-06-26 17:30:00      2015-06-26 17:30:00              FTAC   \n",
       "15873  2008-07-19 14:55:00      2008-07-19 15:10:00             HAC1H   \n",
       "15874  2015-06-26 16:51:00      2015-06-26 17:25:00               HAC   \n",
       "\n",
       "      fire_type fire_position_on_slope weather_conditions_over_fire fuel_type  \\\n",
       "15870   Surface                   Flat                        Clear       O1a   \n",
       "15871    Ground                   Flat                        Clear        C2   \n",
       "15872    Ground                   Flat                       CB Wet        C1   \n",
       "15873   Surface                   Flat                       Cloudy        C2   \n",
       "15874   Surface                   Flat                        Clear        M2   \n",
       "\n",
       "                bh_fs_date           uc_fs_date           ex_fs_date  \n",
       "15870  2006-04-07 17:55:00  2006-04-07 17:55:00  2006-04-07 19:30:00  \n",
       "15871  2008-06-03 16:42:00  2008-06-03 16:42:00  2008-06-03 18:24:00  \n",
       "15872  2015-06-26 22:00:00  2015-06-26 23:00:00  2015-07-01 10:46:00  \n",
       "15873  2008-07-19 15:20:00  2008-07-19 15:30:00  2008-07-19 17:43:00  \n",
       "15874  2015-06-26 17:52:00  2015-06-26 19:35:00  2015-06-27 16:40:00  "
      ]
     },
     "execution_count": 214,
     "metadata": {},
     "output_type": "execute_result"
    }
   ],
   "source": [
    "#Visualizing the train dataset\n",
    "train.tail()"
   ]
  },
  {
   "cell_type": "code",
   "execution_count": 215,
   "metadata": {},
   "outputs": [
    {
     "data": {
      "text/html": [
       "<div>\n",
       "<style scoped>\n",
       "    .dataframe tbody tr th:only-of-type {\n",
       "        vertical-align: middle;\n",
       "    }\n",
       "\n",
       "    .dataframe tbody tr th {\n",
       "        vertical-align: top;\n",
       "    }\n",
       "\n",
       "    .dataframe thead th {\n",
       "        text-align: right;\n",
       "    }\n",
       "</style>\n",
       "<table border=\"1\" class=\"dataframe\">\n",
       "  <thead>\n",
       "    <tr style=\"text-align: right;\">\n",
       "      <th></th>\n",
       "      <th>fire_number</th>\n",
       "      <th>fire_year</th>\n",
       "      <th>assessment_datetime</th>\n",
       "      <th>fire_location_latitude</th>\n",
       "      <th>fire_location_longitude</th>\n",
       "      <th>fire_origin</th>\n",
       "      <th>general_cause_desc</th>\n",
       "      <th>activity_class</th>\n",
       "      <th>true_cause</th>\n",
       "      <th>fire_start_date</th>\n",
       "      <th>det_agent_type</th>\n",
       "      <th>det_agent</th>\n",
       "      <th>discovered_date</th>\n",
       "      <th>reported_date</th>\n",
       "      <th>start_for_fire_date</th>\n",
       "      <th>fire_fighting_start_date</th>\n",
       "      <th>initial_action_by</th>\n",
       "      <th>fire_type</th>\n",
       "      <th>fire_position_on_slope</th>\n",
       "      <th>weather_conditions_over_fire</th>\n",
       "      <th>fuel_type</th>\n",
       "      <th>bh_fs_date</th>\n",
       "      <th>uc_fs_date</th>\n",
       "      <th>ex_fs_date</th>\n",
       "    </tr>\n",
       "  </thead>\n",
       "  <tbody>\n",
       "    <tr>\n",
       "      <th>3964</th>\n",
       "      <td>RWF047</td>\n",
       "      <td>2018</td>\n",
       "      <td>2018-07-30 17:21:00</td>\n",
       "      <td>52.490550</td>\n",
       "      <td>-115.964300</td>\n",
       "      <td>Provincial Land</td>\n",
       "      <td>Lightning</td>\n",
       "      <td>NaN</td>\n",
       "      <td>NaN</td>\n",
       "      <td>2018-07-30 16:30:00</td>\n",
       "      <td>AIR</td>\n",
       "      <td>HAC</td>\n",
       "      <td>2018-07-30 17:21:00</td>\n",
       "      <td>2018-07-30 17:21:00</td>\n",
       "      <td>2018-07-30 17:21:00</td>\n",
       "      <td>2018-07-30 17:42:00</td>\n",
       "      <td>HAC</td>\n",
       "      <td>Surface</td>\n",
       "      <td>Flat</td>\n",
       "      <td>Rainshowers</td>\n",
       "      <td>C3</td>\n",
       "      <td>2018-07-30 17:21:00</td>\n",
       "      <td>2018-07-30 17:50:00</td>\n",
       "      <td>2018-07-30 18:05:00</td>\n",
       "    </tr>\n",
       "    <tr>\n",
       "      <th>3965</th>\n",
       "      <td>GWF067</td>\n",
       "      <td>2009</td>\n",
       "      <td>2009-06-27 19:30:00</td>\n",
       "      <td>55.077350</td>\n",
       "      <td>-117.618717</td>\n",
       "      <td>Private Land</td>\n",
       "      <td>Resident</td>\n",
       "      <td>Refuse</td>\n",
       "      <td>Permit Related</td>\n",
       "      <td>2009-06-26 16:00:00</td>\n",
       "      <td>AIR</td>\n",
       "      <td>ASU</td>\n",
       "      <td>2009-06-27 17:54:00</td>\n",
       "      <td>2009-06-27 17:54:00</td>\n",
       "      <td>2009-06-27 19:00:00</td>\n",
       "      <td>NaN</td>\n",
       "      <td>Land Owner</td>\n",
       "      <td>Surface</td>\n",
       "      <td>Bottom</td>\n",
       "      <td>Cloudy</td>\n",
       "      <td>NaN</td>\n",
       "      <td>2009-06-27 19:30:00</td>\n",
       "      <td>2009-06-27 19:30:00</td>\n",
       "      <td>2009-06-30 14:30:00</td>\n",
       "    </tr>\n",
       "    <tr>\n",
       "      <th>3966</th>\n",
       "      <td>GWF194</td>\n",
       "      <td>2006</td>\n",
       "      <td>2006-09-07 14:35:00</td>\n",
       "      <td>54.350328</td>\n",
       "      <td>-119.919998</td>\n",
       "      <td>Provincial Land</td>\n",
       "      <td>Restart</td>\n",
       "      <td>NaN</td>\n",
       "      <td>NaN</td>\n",
       "      <td>2006-09-01 16:00:00</td>\n",
       "      <td>AIR</td>\n",
       "      <td>MD</td>\n",
       "      <td>2006-09-07 14:35:00</td>\n",
       "      <td>2006-09-07 14:35:00</td>\n",
       "      <td>2006-09-07 14:51:00</td>\n",
       "      <td>2006-09-07 15:35:00</td>\n",
       "      <td>HAC1F</td>\n",
       "      <td>Ground</td>\n",
       "      <td>Upper 1/3</td>\n",
       "      <td>Clear</td>\n",
       "      <td>C3</td>\n",
       "      <td>2006-09-07 14:35:00</td>\n",
       "      <td>2006-09-07 14:35:00</td>\n",
       "      <td>2006-09-27 16:50:00</td>\n",
       "    </tr>\n",
       "    <tr>\n",
       "      <th>3967</th>\n",
       "      <td>LWF091</td>\n",
       "      <td>2012</td>\n",
       "      <td>2012-06-01 16:10:00</td>\n",
       "      <td>55.105667</td>\n",
       "      <td>-111.517000</td>\n",
       "      <td>Provincial Land</td>\n",
       "      <td>Recreation</td>\n",
       "      <td>Transportation</td>\n",
       "      <td>Vehicle Fire</td>\n",
       "      <td>2012-06-01 15:32:00</td>\n",
       "      <td>LKT</td>\n",
       "      <td>HL</td>\n",
       "      <td>2012-06-01 15:35:00</td>\n",
       "      <td>2012-06-01 15:35:00</td>\n",
       "      <td>2012-06-01 15:38:00</td>\n",
       "      <td>NaN</td>\n",
       "      <td>Fire Department</td>\n",
       "      <td>Surface</td>\n",
       "      <td>Bottom</td>\n",
       "      <td>Clear</td>\n",
       "      <td>O1a</td>\n",
       "      <td>2012-06-01 16:10:00</td>\n",
       "      <td>2012-06-01 16:10:00</td>\n",
       "      <td>2012-06-01 16:24:00</td>\n",
       "    </tr>\n",
       "    <tr>\n",
       "      <th>3968</th>\n",
       "      <td>GWF084</td>\n",
       "      <td>2008</td>\n",
       "      <td>2008-07-09 09:26:00</td>\n",
       "      <td>55.035717</td>\n",
       "      <td>-117.867233</td>\n",
       "      <td>Private Land</td>\n",
       "      <td>Resident</td>\n",
       "      <td>Unclassified</td>\n",
       "      <td>Unpredictable Event</td>\n",
       "      <td>2008-07-08 21:00:00</td>\n",
       "      <td>LKT</td>\n",
       "      <td>EC</td>\n",
       "      <td>2008-07-09 07:40:00</td>\n",
       "      <td>2008-07-09 07:40:00</td>\n",
       "      <td>2008-07-09 08:28:00</td>\n",
       "      <td>NaN</td>\n",
       "      <td>Fire Department</td>\n",
       "      <td>Surface</td>\n",
       "      <td>Flat</td>\n",
       "      <td>Clear</td>\n",
       "      <td>NaN</td>\n",
       "      <td>2008-07-09 09:26:00</td>\n",
       "      <td>2008-07-09 09:26:00</td>\n",
       "      <td>2008-07-15 10:40:00</td>\n",
       "    </tr>\n",
       "  </tbody>\n",
       "</table>\n",
       "</div>"
      ],
      "text/plain": [
       "     fire_number  fire_year  assessment_datetime  fire_location_latitude  \\\n",
       "3964      RWF047       2018  2018-07-30 17:21:00               52.490550   \n",
       "3965      GWF067       2009  2009-06-27 19:30:00               55.077350   \n",
       "3966      GWF194       2006  2006-09-07 14:35:00               54.350328   \n",
       "3967      LWF091       2012  2012-06-01 16:10:00               55.105667   \n",
       "3968      GWF084       2008  2008-07-09 09:26:00               55.035717   \n",
       "\n",
       "      fire_location_longitude      fire_origin general_cause_desc  \\\n",
       "3964              -115.964300  Provincial Land          Lightning   \n",
       "3965              -117.618717     Private Land           Resident   \n",
       "3966              -119.919998  Provincial Land            Restart   \n",
       "3967              -111.517000  Provincial Land         Recreation   \n",
       "3968              -117.867233     Private Land           Resident   \n",
       "\n",
       "      activity_class           true_cause      fire_start_date det_agent_type  \\\n",
       "3964             NaN                  NaN  2018-07-30 16:30:00            AIR   \n",
       "3965          Refuse       Permit Related  2009-06-26 16:00:00            AIR   \n",
       "3966             NaN                  NaN  2006-09-01 16:00:00            AIR   \n",
       "3967  Transportation         Vehicle Fire  2012-06-01 15:32:00            LKT   \n",
       "3968    Unclassified  Unpredictable Event  2008-07-08 21:00:00            LKT   \n",
       "\n",
       "     det_agent      discovered_date        reported_date  start_for_fire_date  \\\n",
       "3964       HAC  2018-07-30 17:21:00  2018-07-30 17:21:00  2018-07-30 17:21:00   \n",
       "3965       ASU  2009-06-27 17:54:00  2009-06-27 17:54:00  2009-06-27 19:00:00   \n",
       "3966        MD  2006-09-07 14:35:00  2006-09-07 14:35:00  2006-09-07 14:51:00   \n",
       "3967        HL  2012-06-01 15:35:00  2012-06-01 15:35:00  2012-06-01 15:38:00   \n",
       "3968        EC  2008-07-09 07:40:00  2008-07-09 07:40:00  2008-07-09 08:28:00   \n",
       "\n",
       "     fire_fighting_start_date initial_action_by fire_type  \\\n",
       "3964      2018-07-30 17:42:00               HAC   Surface   \n",
       "3965                      NaN        Land Owner   Surface   \n",
       "3966      2006-09-07 15:35:00             HAC1F    Ground   \n",
       "3967                      NaN   Fire Department   Surface   \n",
       "3968                      NaN   Fire Department   Surface   \n",
       "\n",
       "     fire_position_on_slope weather_conditions_over_fire fuel_type  \\\n",
       "3964                   Flat                  Rainshowers        C3   \n",
       "3965                 Bottom                       Cloudy       NaN   \n",
       "3966              Upper 1/3                        Clear        C3   \n",
       "3967                 Bottom                        Clear       O1a   \n",
       "3968                   Flat                        Clear       NaN   \n",
       "\n",
       "               bh_fs_date           uc_fs_date           ex_fs_date  \n",
       "3964  2018-07-30 17:21:00  2018-07-30 17:50:00  2018-07-30 18:05:00  \n",
       "3965  2009-06-27 19:30:00  2009-06-27 19:30:00  2009-06-30 14:30:00  \n",
       "3966  2006-09-07 14:35:00  2006-09-07 14:35:00  2006-09-27 16:50:00  \n",
       "3967  2012-06-01 16:10:00  2012-06-01 16:10:00  2012-06-01 16:24:00  \n",
       "3968  2008-07-09 09:26:00  2008-07-09 09:26:00  2008-07-15 10:40:00  "
      ]
     },
     "execution_count": 215,
     "metadata": {},
     "output_type": "execute_result"
    }
   ],
   "source": [
    "#Visualizing the test dataset\n",
    "test.tail()"
   ]
  },
  {
   "cell_type": "code",
   "execution_count": 216,
   "metadata": {},
   "outputs": [
    {
     "name": "stdout",
     "output_type": "stream",
     "text": [
      "The shape of train dataset is: (15875, 25)\n",
      "The shape of test dataset is: (3969, 24)\n"
     ]
    }
   ],
   "source": [
    "# Shape of dataset\n",
    "print(f\"The shape of train dataset is: {train.shape}\")\n",
    "print(f\"The shape of test dataset is: {test.shape}\")"
   ]
  },
  {
   "cell_type": "markdown",
   "metadata": {},
   "source": [
    "`comment:` First thing we can notice is that the features are not the same. Train has 25 features while test has only 24. let's see what is the difference"
   ]
  },
  {
   "cell_type": "code",
   "execution_count": 217,
   "metadata": {},
   "outputs": [
    {
     "data": {
      "text/plain": [
       "'size_class'"
      ]
     },
     "execution_count": 217,
     "metadata": {},
     "output_type": "execute_result"
    }
   ],
   "source": [
    "train.columns[np.array([feature not in test.columns for feature in train.columns])][0]"
   ]
  },
  {
   "cell_type": "markdown",
   "metadata": {},
   "source": [
    "That will mean that our testing dataset does not have labels. The reason for this is that this is a contest and the labels are not provided as this will be the metric to assess the performance of all the models proposed by each contestant. \n",
    "\n",
    "`size_class` is the target we want to predict with our model. Let's visualize what are the possible outcomes of this feature:\n"
   ]
  },
  {
   "cell_type": "code",
   "execution_count": 218,
   "metadata": {},
   "outputs": [
    {
     "name": "stdout",
     "output_type": "stream",
     "text": [
      "The possible classes in the target feature are: ['A', 'B', 'D', 'E', 'C']\n"
     ]
    }
   ],
   "source": [
    "classes = list(train['size_class'].unique())\n",
    "print(f\"The possible classes in the target feature are: {classes}\")"
   ]
  },
  {
   "cell_type": "markdown",
   "metadata": {},
   "source": [
    "That will mean that we have 5 classes to predict. In fact in the dataset information we can find that these classes represent ranges to which the wildfire grows until the final aree burned is determined after extinghishment. The area is catalogized as follows: \n",
    "\n",
    "* **A:** 0 to 0.1 [ha]\n",
    "* **B:** 0.1 to 4 [ha]\n",
    "* **C:** 4 to 40 [ha]\n",
    "* **D:** 40 to 200 [ha]\n",
    "* **E:** more than 200 [ha]\n",
    "\n",
    "`note:` all sizes are in hectare(ha). $$ 1 ha = 10000 m^2 $$"
   ]
  },
  {
   "cell_type": "markdown",
   "metadata": {},
   "source": [
    "### Clean data\n",
    "\n",
    "In this section we will clean all unnecesary data or parse any data that it is required\n",
    "\n",
    "#### Parsing Dates\n",
    " \n",
    " As shown from all information above, we can tell that columns that contain dates are presented in our dataset as strings. Therefore we will need to parse them back to dates. The features that should contain dates are:\n",
    " \n",
    " * `assessment_datetime` - The date and time the wildfire was originally assessed by Wildfire Management employees \n",
    " * `fire_start_date` - The time and date the wildfire started.\n",
    " * `discovered_date` - The time the detection agent first discovered the wildfire.\n",
    " * `reported_date` - The time and date the wildfire was first reported to Wildfire Management\n",
    " * `start_for_fire_date` - The time and date that the first Wildfire Management resource started for the wildfire.\n",
    " * `fire_fighting_start_date` - The time and date that the initial action resource began physical suppression on the wildfire.\n",
    " * `bh_fs_date` - The date and time the Incident Commander (IC) determined the wildfire to be at the fire status of\n",
    "being held (BH).\n",
    " * `uc_fs_date` - The date and time the Incident Commander determined the wildfire to be at the fire status of under\n",
    "control (UC).\n",
    " * `ex_fs_date` - This is the date and time the Incident Commander determined the wildfire to be completely\n",
    "extinguished (EX).\n"
   ]
  },
  {
   "cell_type": "code",
   "execution_count": 219,
   "metadata": {},
   "outputs": [
    {
     "data": {
      "text/html": [
       "<div>\n",
       "<style scoped>\n",
       "    .dataframe tbody tr th:only-of-type {\n",
       "        vertical-align: middle;\n",
       "    }\n",
       "\n",
       "    .dataframe tbody tr th {\n",
       "        vertical-align: top;\n",
       "    }\n",
       "\n",
       "    .dataframe thead th {\n",
       "        text-align: right;\n",
       "    }\n",
       "</style>\n",
       "<table border=\"1\" class=\"dataframe\">\n",
       "  <thead>\n",
       "    <tr style=\"text-align: right;\">\n",
       "      <th></th>\n",
       "      <th>assessment_datetime</th>\n",
       "      <th>fire_start_date</th>\n",
       "      <th>discovered_date</th>\n",
       "      <th>reported_date</th>\n",
       "      <th>start_for_fire_date</th>\n",
       "      <th>fire_fighting_start_date</th>\n",
       "      <th>bh_fs_date</th>\n",
       "      <th>uc_fs_date</th>\n",
       "      <th>ex_fs_date</th>\n",
       "    </tr>\n",
       "  </thead>\n",
       "  <tbody>\n",
       "    <tr>\n",
       "      <th>8074</th>\n",
       "      <td>2011-04-21 12:40:00</td>\n",
       "      <td>2011-04-21 12:20:00</td>\n",
       "      <td>2011-04-21 12:35:00</td>\n",
       "      <td>2011-04-21 12:35:00</td>\n",
       "      <td>2011-04-21 12:35:00</td>\n",
       "      <td>2011-04-21 12:40:00</td>\n",
       "      <td>2011-04-21 12:40:00</td>\n",
       "      <td>2011-04-21 12:40:00</td>\n",
       "      <td>2011-04-21 12:50:00</td>\n",
       "    </tr>\n",
       "  </tbody>\n",
       "</table>\n",
       "</div>"
      ],
      "text/plain": [
       "      assessment_datetime      fire_start_date      discovered_date  \\\n",
       "8074  2011-04-21 12:40:00  2011-04-21 12:20:00  2011-04-21 12:35:00   \n",
       "\n",
       "            reported_date  start_for_fire_date fire_fighting_start_date  \\\n",
       "8074  2011-04-21 12:35:00  2011-04-21 12:35:00      2011-04-21 12:40:00   \n",
       "\n",
       "               bh_fs_date           uc_fs_date           ex_fs_date  \n",
       "8074  2011-04-21 12:40:00  2011-04-21 12:40:00  2011-04-21 12:50:00  "
      ]
     },
     "metadata": {},
     "output_type": "display_data"
    },
    {
     "data": {
      "text/plain": [
       "assessment_datetime         object\n",
       "fire_start_date             object\n",
       "discovered_date             object\n",
       "reported_date               object\n",
       "start_for_fire_date         object\n",
       "fire_fighting_start_date    object\n",
       "bh_fs_date                  object\n",
       "uc_fs_date                  object\n",
       "ex_fs_date                  object\n",
       "dtype: object"
      ]
     },
     "execution_count": 219,
     "metadata": {},
     "output_type": "execute_result"
    }
   ],
   "source": [
    "dates_list = ['assessment_datetime', 'fire_start_date', 'discovered_date', 'reported_date', 'start_for_fire_date', \n",
    "             'fire_fighting_start_date', 'bh_fs_date', 'uc_fs_date', 'ex_fs_date']\n",
    "display(train[dates_list].sample(1))\n",
    "train[dates_list].dtypes"
   ]
  },
  {
   "cell_type": "markdown",
   "metadata": {},
   "source": [
    "- We can see that all the dates have the format = `%y-%m-%d %H:%M:%S`\n",
    "- We can also see that all of them have type object. Therefore we need to convert this values into datetime format"
   ]
  },
  {
   "cell_type": "code",
   "execution_count": 220,
   "metadata": {},
   "outputs": [],
   "source": [
    "# parsing the object to datetime type\n",
    "train[dates_list]=pd.to_datetime(train[dates_list].stack(), format = \"%Y-%m-%d %H:%M:%S\").unstack()\n",
    "test[dates_list]=pd.to_datetime(test[dates_list].stack(), format = \"%Y-%m-%d %H:%M:%S\").unstack()"
   ]
  },
  {
   "cell_type": "code",
   "execution_count": 221,
   "metadata": {},
   "outputs": [
    {
     "data": {
      "text/plain": [
       "assessment_datetime         datetime64[ns]\n",
       "fire_start_date             datetime64[ns]\n",
       "discovered_date             datetime64[ns]\n",
       "reported_date               datetime64[ns]\n",
       "start_for_fire_date         datetime64[ns]\n",
       "fire_fighting_start_date    datetime64[ns]\n",
       "bh_fs_date                  datetime64[ns]\n",
       "uc_fs_date                  datetime64[ns]\n",
       "ex_fs_date                  datetime64[ns]\n",
       "dtype: object"
      ]
     },
     "execution_count": 221,
     "metadata": {},
     "output_type": "execute_result"
    }
   ],
   "source": [
    "train[dates_list].dtypes"
   ]
  },
  {
   "cell_type": "markdown",
   "metadata": {},
   "source": [
    "We can see that date features are now of type `datetime64`."
   ]
  },
  {
   "cell_type": "markdown",
   "metadata": {},
   "source": [
    "#### Find null values\n",
    "we will look for empty or null values that could make invalid our analysis"
   ]
  },
  {
   "cell_type": "code",
   "execution_count": 222,
   "metadata": {},
   "outputs": [
    {
     "data": {
      "text/plain": [
       "true_cause                      7194\n",
       "activity_class                  6197\n",
       "fuel_type                       4793\n",
       "fire_fighting_start_date        4199\n",
       "discovered_date                 2119\n",
       "weather_conditions_over_fire    1893\n",
       "fire_position_on_slope          1888\n",
       "fire_type                       1819\n",
       "fire_start_date                  433\n",
       "fire_origin                        7\n",
       "reported_date                      1\n",
       "det_agent                          1\n",
       "det_agent_type                     1\n",
       "dtype: int64"
      ]
     },
     "execution_count": 222,
     "metadata": {},
     "output_type": "execute_result"
    }
   ],
   "source": [
    "null_counts = train.isnull().sum()\n",
    "null_counts[null_counts > 0].sort_values(ascending=False)"
   ]
  },
  {
   "cell_type": "code",
   "execution_count": 223,
   "metadata": {},
   "outputs": [
    {
     "data": {
      "text/plain": [
       "true_cause                      1796\n",
       "activity_class                  1524\n",
       "fuel_type                       1247\n",
       "fire_fighting_start_date        1080\n",
       "discovered_date                  546\n",
       "weather_conditions_over_fire     456\n",
       "fire_position_on_slope           456\n",
       "fire_type                        434\n",
       "fire_start_date                  112\n",
       "fire_origin                        3\n",
       "dtype: int64"
      ]
     },
     "execution_count": 223,
     "metadata": {},
     "output_type": "execute_result"
    }
   ],
   "source": [
    "null_counts = test.isnull().sum()\n",
    "null_counts[null_counts > 0].sort_values(ascending=False)"
   ]
  },
  {
   "cell_type": "markdown",
   "metadata": {},
   "source": [
    "`comment:` From above we can see that most of the missing data for both datasets are in the `true_cause` and `activity class` features, which means that we don't know what was the true reason of the wildfire or what was the activity that was going on when the wildfire was started. "
   ]
  },
  {
   "cell_type": "code",
   "execution_count": 224,
   "metadata": {},
   "outputs": [
    {
     "name": "stdout",
     "output_type": "stream",
     "text": [
      "Number of datapoints that have at least one value missing: 14137\n"
     ]
    }
   ],
   "source": [
    "pd.set_option('display.max_columns', None)\n",
    "print(f\"Number of datapoints that have at least one value missing: {len(train[train.isnull().any(axis=1)])}\")"
   ]
  },
  {
   "cell_type": "code",
   "execution_count": 225,
   "metadata": {},
   "outputs": [
    {
     "data": {
      "image/png": "[encoded data removed]",
      "text/plain": [
       "<Figure size 1080x360 with 1 Axes>"
      ]
     },
     "metadata": {
      "needs_background": "light"
     },
     "output_type": "display_data"
    }
   ],
   "source": [
    "plt.figure(figsize=(15,5))\n",
    "plt.bar(*zip(*dict(Counter(train.isnull().sum(axis=1))).items()))\n",
    "plt.xlabel('Number of missing values in a datapoint(row)', fontsize=15)\n",
    "plt.ylabel('Number of samples', fontsize=15)\n",
    "plt.title('train dataset missing data', fontsize=20)\n",
    "plt.show()"
   ]
  },
  {
   "cell_type": "code",
   "execution_count": 226,
   "metadata": {},
   "outputs": [
    {
     "data": {
      "image/png": "[encoded data removed]",
      "text/plain": [
       "<Figure size 1080x360 with 1 Axes>"
      ]
     },
     "metadata": {
      "needs_background": "light"
     },
     "output_type": "display_data"
    }
   ],
   "source": [
    "plt.figure(figsize=(15,5))\n",
    "plt.bar(*zip(*dict(Counter(test.isnull().sum(axis=1))).items()))\n",
    "plt.xlabel('Number of missing values in a datapoint(row)', fontsize=15)\n",
    "plt.ylabel('Number of samples', fontsize=15)\n",
    "plt.title('test dataset missing data', fontsize=20)\n",
    "plt.show()"
   ]
  },
  {
   "cell_type": "markdown",
   "metadata": {},
   "source": [
    "`comment:` We can see from above that in most of our data 2 missing features are common followed by one missing feature per row. Most likely `true_cause` and `activity class` as they are the most frequent missing feature. That means that perhaps it is not a good idea to trust in these features for building our model.\n",
    "\n",
    "#### fillining null data\n",
    "Since all of the features that contain null values are categorical, we will proceed to change the `NaN` to `unknown`"
   ]
  },
  {
   "cell_type": "code",
   "execution_count": 227,
   "metadata": {},
   "outputs": [
    {
     "data": {
      "text/plain": [
       "assessment_datetime        2015-05-13 09:30:00\n",
       "fire_start_date            2015-05-13 01:00:00\n",
       "discovered_date            2015-05-13 07:32:00\n",
       "reported_date              2015-05-13 07:35:00\n",
       "start_for_fire_date        2015-05-13 09:04:00\n",
       "fire_fighting_start_date   2015-05-13 09:38:00\n",
       "bh_fs_date                 2015-05-13 11:50:00\n",
       "uc_fs_date                 2015-05-13 12:29:00\n",
       "ex_fs_date                 2015-05-13 17:22:00\n",
       "Name: 5359, dtype: datetime64[ns]"
      ]
     },
     "execution_count": 227,
     "metadata": {},
     "output_type": "execute_result"
    }
   ],
   "source": [
    "train[dates_list].loc[5359]"
   ]
  },
  {
   "cell_type": "code",
   "execution_count": 228,
   "metadata": {},
   "outputs": [
    {
     "data": {
      "text/plain": [
       "assessment_datetime        2008-10-26 14:06:00\n",
       "fire_start_date            2008-10-25 17:00:00\n",
       "discovered_date            2008-10-26 14:03:00\n",
       "reported_date              2008-10-26 14:03:00\n",
       "start_for_fire_date        2008-10-26 14:03:00\n",
       "fire_fighting_start_date   2008-10-26 14:10:00\n",
       "bh_fs_date                 2008-10-26 14:06:00\n",
       "uc_fs_date                 2008-10-26 14:06:00\n",
       "ex_fs_date                 2008-10-26 15:30:00\n",
       "Name: 3456, dtype: datetime64[ns]"
      ]
     },
     "execution_count": 228,
     "metadata": {},
     "output_type": "execute_result"
    }
   ],
   "source": [
    "train[dates_list].loc[3456]"
   ]
  },
  {
   "cell_type": "code",
   "execution_count": 229,
   "metadata": {},
   "outputs": [
    {
     "data": {
      "text/plain": [
       "assessment_datetime        2015-05-13 17:15:00\n",
       "fire_start_date            2015-05-13 17:00:00\n",
       "discovered_date            2015-05-13 17:03:00\n",
       "reported_date              2015-05-13 17:07:00\n",
       "start_for_fire_date        2015-05-13 17:15:00\n",
       "fire_fighting_start_date   2015-05-13 17:30:00\n",
       "bh_fs_date                 2015-05-13 17:37:00\n",
       "uc_fs_date                 2015-05-13 17:52:00\n",
       "ex_fs_date                 2015-05-13 18:55:00\n",
       "Name: 2642, dtype: datetime64[ns]"
      ]
     },
     "execution_count": 229,
     "metadata": {},
     "output_type": "execute_result"
    }
   ],
   "source": [
    "test[dates_list].loc[2642]"
   ]
  },
  {
   "cell_type": "code",
   "execution_count": 231,
   "metadata": {},
   "outputs": [],
   "source": [
    "# First fill NAN datetime types with neighbor features\n",
    "fill_datetime_with_neighbors(train)\n",
    "fill_datetime_with_neighbors(test)"
   ]
  },
  {
   "cell_type": "code",
   "execution_count": 232,
   "metadata": {},
   "outputs": [],
   "source": [
    "# Fill remaining object types\n",
    "train = train.fillna('Unknown')\n",
    "test = test.fillna('Unknown')"
   ]
  },
  {
   "cell_type": "markdown",
   "metadata": {},
   "source": [
    "### Feature engineering\n",
    "\n",
    "As we saw above we have many datetimes in out dataset. However, this will only be usable if we feed them to our model. To achieve this we will need to convert our datetime features to countable features. In this regard I will create new features for year month and day for all each datetime feature."
   ]
  },
  {
   "cell_type": "code",
   "execution_count": 233,
   "metadata": {},
   "outputs": [],
   "source": [
    "# feature engineering\n",
    "train_feng = datetime_feature_engineering(train)\n",
    "test_feng = datetime_feature_engineering(test)"
   ]
  },
  {
   "cell_type": "code",
   "execution_count": 234,
   "metadata": {},
   "outputs": [],
   "source": [
    "# feature engineering\n",
    "#train_feng = parse_datetime_features_to_hours(train)\n",
    "#test_feng = parse_datetime_features_to_hours(test)"
   ]
  },
  {
   "cell_type": "code",
   "execution_count": 235,
   "metadata": {},
   "outputs": [
    {
     "data": {
      "text/plain": [
       "fire_number                      object\n",
       "fire_year                         int64\n",
       "size_class                       object\n",
       "fire_location_latitude          float64\n",
       "fire_location_longitude         float64\n",
       "fire_origin                      object\n",
       "general_cause_desc               object\n",
       "activity_class                   object\n",
       "true_cause                       object\n",
       "det_agent_type                   object\n",
       "det_agent                        object\n",
       "initial_action_by                object\n",
       "fire_type                        object\n",
       "fire_position_on_slope           object\n",
       "weather_conditions_over_fire     object\n",
       "fuel_type                        object\n",
       "fire_duration                   float64\n",
       "fire_fight_response_time        float64\n",
       "time_to_discover                float64\n",
       "dtype: object"
      ]
     },
     "execution_count": 235,
     "metadata": {},
     "output_type": "execute_result"
    }
   ],
   "source": [
    "train_feng.dtypes"
   ]
  },
  {
   "cell_type": "markdown",
   "metadata": {},
   "source": [
    "### Standardize data\n",
    "\n",
    "It is important to standardize data as we don't want our model to skew towards features that have higher values"
   ]
  },
  {
   "cell_type": "code",
   "execution_count": 236,
   "metadata": {},
   "outputs": [
    {
     "data": {
      "text/html": [
       "<div>\n",
       "<style scoped>\n",
       "    .dataframe tbody tr th:only-of-type {\n",
       "        vertical-align: middle;\n",
       "    }\n",
       "\n",
       "    .dataframe tbody tr th {\n",
       "        vertical-align: top;\n",
       "    }\n",
       "\n",
       "    .dataframe thead th {\n",
       "        text-align: right;\n",
       "    }\n",
       "</style>\n",
       "<table border=\"1\" class=\"dataframe\">\n",
       "  <thead>\n",
       "    <tr style=\"text-align: right;\">\n",
       "      <th></th>\n",
       "      <th>fire_year</th>\n",
       "      <th>fire_location_latitude</th>\n",
       "      <th>fire_location_longitude</th>\n",
       "      <th>fire_duration</th>\n",
       "      <th>fire_fight_response_time</th>\n",
       "      <th>time_to_discover</th>\n",
       "    </tr>\n",
       "  </thead>\n",
       "  <tbody>\n",
       "    <tr>\n",
       "      <th>count</th>\n",
       "      <td>15875.000000</td>\n",
       "      <td>15875.000000</td>\n",
       "      <td>15875.000000</td>\n",
       "      <td>1.587500e+04</td>\n",
       "      <td>1.587500e+04</td>\n",
       "      <td>1.587500e+04</td>\n",
       "    </tr>\n",
       "    <tr>\n",
       "      <th>mean</th>\n",
       "      <td>2011.717228</td>\n",
       "      <td>54.984684</td>\n",
       "      <td>-115.258572</td>\n",
       "      <td>1.600204e+04</td>\n",
       "      <td>1.454852e+04</td>\n",
       "      <td>1.101382e+04</td>\n",
       "    </tr>\n",
       "    <tr>\n",
       "      <th>std</th>\n",
       "      <td>3.737510</td>\n",
       "      <td>2.669900</td>\n",
       "      <td>2.300677</td>\n",
       "      <td>4.716082e+05</td>\n",
       "      <td>7.250102e+05</td>\n",
       "      <td>4.708993e+05</td>\n",
       "    </tr>\n",
       "    <tr>\n",
       "      <th>min</th>\n",
       "      <td>2006.000000</td>\n",
       "      <td>49.056267</td>\n",
       "      <td>-119.998067</td>\n",
       "      <td>0.000000e+00</td>\n",
       "      <td>-8.834000e+03</td>\n",
       "      <td>0.000000e+00</td>\n",
       "    </tr>\n",
       "    <tr>\n",
       "      <th>25%</th>\n",
       "      <td>2008.000000</td>\n",
       "      <td>53.066609</td>\n",
       "      <td>-116.824059</td>\n",
       "      <td>1.950000e+02</td>\n",
       "      <td>1.050000e+01</td>\n",
       "      <td>1.100000e+01</td>\n",
       "    </tr>\n",
       "    <tr>\n",
       "      <th>50%</th>\n",
       "      <td>2012.000000</td>\n",
       "      <td>55.336950</td>\n",
       "      <td>-115.156817</td>\n",
       "      <td>1.055000e+03</td>\n",
       "      <td>3.700000e+01</td>\n",
       "      <td>5.000000e+01</td>\n",
       "    </tr>\n",
       "    <tr>\n",
       "      <th>75%</th>\n",
       "      <td>2015.000000</td>\n",
       "      <td>56.876556</td>\n",
       "      <td>-114.340384</td>\n",
       "      <td>3.760000e+03</td>\n",
       "      <td>8.200000e+01</td>\n",
       "      <td>3.200000e+02</td>\n",
       "    </tr>\n",
       "    <tr>\n",
       "      <th>max</th>\n",
       "      <td>2018.000000</td>\n",
       "      <td>59.999510</td>\n",
       "      <td>-110.000917</td>\n",
       "      <td>5.863460e+07</td>\n",
       "      <td>4.260242e+07</td>\n",
       "      <td>5.863070e+07</td>\n",
       "    </tr>\n",
       "  </tbody>\n",
       "</table>\n",
       "</div>"
      ],
      "text/plain": [
       "          fire_year  fire_location_latitude  fire_location_longitude  \\\n",
       "count  15875.000000            15875.000000             15875.000000   \n",
       "mean    2011.717228               54.984684              -115.258572   \n",
       "std        3.737510                2.669900                 2.300677   \n",
       "min     2006.000000               49.056267              -119.998067   \n",
       "25%     2008.000000               53.066609              -116.824059   \n",
       "50%     2012.000000               55.336950              -115.156817   \n",
       "75%     2015.000000               56.876556              -114.340384   \n",
       "max     2018.000000               59.999510              -110.000917   \n",
       "\n",
       "       fire_duration  fire_fight_response_time  time_to_discover  \n",
       "count   1.587500e+04              1.587500e+04      1.587500e+04  \n",
       "mean    1.600204e+04              1.454852e+04      1.101382e+04  \n",
       "std     4.716082e+05              7.250102e+05      4.708993e+05  \n",
       "min     0.000000e+00             -8.834000e+03      0.000000e+00  \n",
       "25%     1.950000e+02              1.050000e+01      1.100000e+01  \n",
       "50%     1.055000e+03              3.700000e+01      5.000000e+01  \n",
       "75%     3.760000e+03              8.200000e+01      3.200000e+02  \n",
       "max     5.863460e+07              4.260242e+07      5.863070e+07  "
      ]
     },
     "execution_count": 236,
     "metadata": {},
     "output_type": "execute_result"
    }
   ],
   "source": [
    "# lest visualize non-standard data first\n",
    "train_feng.describe()"
   ]
  },
  {
   "cell_type": "code",
   "execution_count": 237,
   "metadata": {},
   "outputs": [],
   "source": [
    "# training standarized\n",
    "numeric_features_indx = np.where(train_feng.dtypes!='O')[0]\n",
    "numeric_features = train_feng.columns[numeric_features_indx]\n",
    "standardize = RobustScaler()\n",
    "train_feng[numeric_features] = standardize.fit_transform(train_feng[numeric_features])\n",
    "# testing standarized\n",
    "numeric_features_indx = np.where(test_feng.dtypes!='O')[0]\n",
    "numeric_features = test_feng.columns[numeric_features_indx]\n",
    "standardize = RobustScaler()\n",
    "test_feng[numeric_features] = standardize.fit_transform(test_feng[numeric_features])\n"
   ]
  },
  {
   "cell_type": "code",
   "execution_count": 238,
   "metadata": {},
   "outputs": [
    {
     "data": {
      "text/html": [
       "<div>\n",
       "<style scoped>\n",
       "    .dataframe tbody tr th:only-of-type {\n",
       "        vertical-align: middle;\n",
       "    }\n",
       "\n",
       "    .dataframe tbody tr th {\n",
       "        vertical-align: top;\n",
       "    }\n",
       "\n",
       "    .dataframe thead th {\n",
       "        text-align: right;\n",
       "    }\n",
       "</style>\n",
       "<table border=\"1\" class=\"dataframe\">\n",
       "  <thead>\n",
       "    <tr style=\"text-align: right;\">\n",
       "      <th></th>\n",
       "      <th>fire_year</th>\n",
       "      <th>fire_location_latitude</th>\n",
       "      <th>fire_location_longitude</th>\n",
       "      <th>fire_duration</th>\n",
       "      <th>fire_fight_response_time</th>\n",
       "      <th>time_to_discover</th>\n",
       "    </tr>\n",
       "  </thead>\n",
       "  <tbody>\n",
       "    <tr>\n",
       "      <th>count</th>\n",
       "      <td>15875.000000</td>\n",
       "      <td>15875.000000</td>\n",
       "      <td>15875.000000</td>\n",
       "      <td>15875.000000</td>\n",
       "      <td>15875.000000</td>\n",
       "      <td>15875.000000</td>\n",
       "    </tr>\n",
       "    <tr>\n",
       "      <th>mean</th>\n",
       "      <td>-0.040396</td>\n",
       "      <td>-0.092459</td>\n",
       "      <td>-0.040970</td>\n",
       "      <td>4.192719</td>\n",
       "      <td>202.958300</td>\n",
       "      <td>35.481629</td>\n",
       "    </tr>\n",
       "    <tr>\n",
       "      <th>std</th>\n",
       "      <td>0.533930</td>\n",
       "      <td>0.700771</td>\n",
       "      <td>0.926319</td>\n",
       "      <td>132.288413</td>\n",
       "      <td>10140.002217</td>\n",
       "      <td>1523.945896</td>\n",
       "    </tr>\n",
       "    <tr>\n",
       "      <th>min</th>\n",
       "      <td>-0.857143</td>\n",
       "      <td>-1.648496</td>\n",
       "      <td>-1.949228</td>\n",
       "      <td>-0.295933</td>\n",
       "      <td>-124.069930</td>\n",
       "      <td>-0.161812</td>\n",
       "    </tr>\n",
       "    <tr>\n",
       "      <th>25%</th>\n",
       "      <td>-0.571429</td>\n",
       "      <td>-0.595898</td>\n",
       "      <td>-0.671280</td>\n",
       "      <td>-0.241234</td>\n",
       "      <td>-0.370629</td>\n",
       "      <td>-0.126214</td>\n",
       "    </tr>\n",
       "    <tr>\n",
       "      <th>50%</th>\n",
       "      <td>0.000000</td>\n",
       "      <td>0.000000</td>\n",
       "      <td>0.000000</td>\n",
       "      <td>0.000000</td>\n",
       "      <td>0.000000</td>\n",
       "      <td>0.000000</td>\n",
       "    </tr>\n",
       "    <tr>\n",
       "      <th>75%</th>\n",
       "      <td>0.428571</td>\n",
       "      <td>0.404102</td>\n",
       "      <td>0.328720</td>\n",
       "      <td>0.758766</td>\n",
       "      <td>0.629371</td>\n",
       "      <td>0.873786</td>\n",
       "    </tr>\n",
       "    <tr>\n",
       "      <th>max</th>\n",
       "      <td>0.857143</td>\n",
       "      <td>1.223786</td>\n",
       "      <td>2.075916</td>\n",
       "      <td>16446.997195</td>\n",
       "      <td>595837.510490</td>\n",
       "      <td>189743.187702</td>\n",
       "    </tr>\n",
       "  </tbody>\n",
       "</table>\n",
       "</div>"
      ],
      "text/plain": [
       "          fire_year  fire_location_latitude  fire_location_longitude  \\\n",
       "count  15875.000000            15875.000000             15875.000000   \n",
       "mean      -0.040396               -0.092459                -0.040970   \n",
       "std        0.533930                0.700771                 0.926319   \n",
       "min       -0.857143               -1.648496                -1.949228   \n",
       "25%       -0.571429               -0.595898                -0.671280   \n",
       "50%        0.000000                0.000000                 0.000000   \n",
       "75%        0.428571                0.404102                 0.328720   \n",
       "max        0.857143                1.223786                 2.075916   \n",
       "\n",
       "       fire_duration  fire_fight_response_time  time_to_discover  \n",
       "count   15875.000000              15875.000000      15875.000000  \n",
       "mean        4.192719                202.958300         35.481629  \n",
       "std       132.288413              10140.002217       1523.945896  \n",
       "min        -0.295933               -124.069930         -0.161812  \n",
       "25%        -0.241234                 -0.370629         -0.126214  \n",
       "50%         0.000000                  0.000000          0.000000  \n",
       "75%         0.758766                  0.629371          0.873786  \n",
       "max     16446.997195             595837.510490     189743.187702  "
      ]
     },
     "execution_count": 238,
     "metadata": {},
     "output_type": "execute_result"
    }
   ],
   "source": [
    "train_feng.describe()"
   ]
  },
  {
   "cell_type": "code",
   "execution_count": 239,
   "metadata": {},
   "outputs": [
    {
     "data": {
      "text/html": [
       "<div>\n",
       "<style scoped>\n",
       "    .dataframe tbody tr th:only-of-type {\n",
       "        vertical-align: middle;\n",
       "    }\n",
       "\n",
       "    .dataframe tbody tr th {\n",
       "        vertical-align: top;\n",
       "    }\n",
       "\n",
       "    .dataframe thead th {\n",
       "        text-align: right;\n",
       "    }\n",
       "</style>\n",
       "<table border=\"1\" class=\"dataframe\">\n",
       "  <thead>\n",
       "    <tr style=\"text-align: right;\">\n",
       "      <th></th>\n",
       "      <th>fire_year</th>\n",
       "      <th>fire_location_latitude</th>\n",
       "      <th>fire_location_longitude</th>\n",
       "      <th>fire_duration</th>\n",
       "      <th>fire_fight_response_time</th>\n",
       "      <th>time_to_discover</th>\n",
       "    </tr>\n",
       "  </thead>\n",
       "  <tbody>\n",
       "    <tr>\n",
       "      <th>count</th>\n",
       "      <td>3969.000000</td>\n",
       "      <td>3969.000000</td>\n",
       "      <td>3969.000000</td>\n",
       "      <td>3969.000000</td>\n",
       "      <td>3.969000e+03</td>\n",
       "      <td>3969.000000</td>\n",
       "    </tr>\n",
       "    <tr>\n",
       "      <th>mean</th>\n",
       "      <td>-0.044704</td>\n",
       "      <td>-0.082983</td>\n",
       "      <td>-0.032437</td>\n",
       "      <td>3.035042</td>\n",
       "      <td>6.653655e+02</td>\n",
       "      <td>26.335479</td>\n",
       "    </tr>\n",
       "    <tr>\n",
       "      <th>std</th>\n",
       "      <td>0.535269</td>\n",
       "      <td>0.681130</td>\n",
       "      <td>0.951642</td>\n",
       "      <td>18.504762</td>\n",
       "      <td>2.222826e+04</td>\n",
       "      <td>213.145124</td>\n",
       "    </tr>\n",
       "    <tr>\n",
       "      <th>min</th>\n",
       "      <td>-0.857143</td>\n",
       "      <td>-1.525187</td>\n",
       "      <td>-2.017126</td>\n",
       "      <td>-0.279456</td>\n",
       "      <td>-5.277778e-01</td>\n",
       "      <td>-0.158576</td>\n",
       "    </tr>\n",
       "    <tr>\n",
       "      <th>25%</th>\n",
       "      <td>-0.571429</td>\n",
       "      <td>-0.589111</td>\n",
       "      <td>-0.675174</td>\n",
       "      <td>-0.227755</td>\n",
       "      <td>-3.888889e-01</td>\n",
       "      <td>-0.122977</td>\n",
       "    </tr>\n",
       "    <tr>\n",
       "      <th>50%</th>\n",
       "      <td>0.000000</td>\n",
       "      <td>0.000000</td>\n",
       "      <td>0.000000</td>\n",
       "      <td>0.000000</td>\n",
       "      <td>0.000000e+00</td>\n",
       "      <td>0.000000</td>\n",
       "    </tr>\n",
       "    <tr>\n",
       "      <th>75%</th>\n",
       "      <td>0.428571</td>\n",
       "      <td>0.410889</td>\n",
       "      <td>0.324826</td>\n",
       "      <td>0.772245</td>\n",
       "      <td>6.111111e-01</td>\n",
       "      <td>0.877023</td>\n",
       "    </tr>\n",
       "    <tr>\n",
       "      <th>max</th>\n",
       "      <td>0.857143</td>\n",
       "      <td>1.188782</td>\n",
       "      <td>2.133778</td>\n",
       "      <td>572.299320</td>\n",
       "      <td>1.051900e+06</td>\n",
       "      <td>6808.773463</td>\n",
       "    </tr>\n",
       "  </tbody>\n",
       "</table>\n",
       "</div>"
      ],
      "text/plain": [
       "         fire_year  fire_location_latitude  fire_location_longitude  \\\n",
       "count  3969.000000             3969.000000              3969.000000   \n",
       "mean     -0.044704               -0.082983                -0.032437   \n",
       "std       0.535269                0.681130                 0.951642   \n",
       "min      -0.857143               -1.525187                -2.017126   \n",
       "25%      -0.571429               -0.589111                -0.675174   \n",
       "50%       0.000000                0.000000                 0.000000   \n",
       "75%       0.428571                0.410889                 0.324826   \n",
       "max       0.857143                1.188782                 2.133778   \n",
       "\n",
       "       fire_duration  fire_fight_response_time  time_to_discover  \n",
       "count    3969.000000              3.969000e+03       3969.000000  \n",
       "mean        3.035042              6.653655e+02         26.335479  \n",
       "std        18.504762              2.222826e+04        213.145124  \n",
       "min        -0.279456             -5.277778e-01         -0.158576  \n",
       "25%        -0.227755             -3.888889e-01         -0.122977  \n",
       "50%         0.000000              0.000000e+00          0.000000  \n",
       "75%         0.772245              6.111111e-01          0.877023  \n",
       "max       572.299320              1.051900e+06       6808.773463  "
      ]
     },
     "execution_count": 239,
     "metadata": {},
     "output_type": "execute_result"
    }
   ],
   "source": [
    "test_feng.describe()"
   ]
  },
  {
   "cell_type": "markdown",
   "metadata": {},
   "source": [
    "\n",
    "### Visualize class distribution\n",
    "Lets visualize data distribution grouped by class of the target feature after the clean up"
   ]
  },
  {
   "cell_type": "code",
   "execution_count": 240,
   "metadata": {},
   "outputs": [
    {
     "data": {
      "image/png": "[encoded data removed]",
      "text/plain": [
       "<Figure size 1080x432 with 1 Axes>"
      ]
     },
     "metadata": {
      "needs_background": "light"
     },
     "output_type": "display_data"
    }
   ],
   "source": [
    "plt.figure(figsize=(15,6))\n",
    "train_feng['size_class'].value_counts().plot(kind='bar');\n",
    "plt.title('Training set histogram per class', fontsize=15);\n",
    "plt.xlabel('size classes')\n",
    "plt.ylabel('# of samples');"
   ]
  },
  {
   "cell_type": "code",
   "execution_count": 241,
   "metadata": {},
   "outputs": [
    {
     "data": {
      "text/plain": [
       "A    10679\n",
       "B     4000\n",
       "C      734\n",
       "E      246\n",
       "D      216\n",
       "Name: size_class, dtype: int64"
      ]
     },
     "execution_count": 241,
     "metadata": {},
     "output_type": "execute_result"
    }
   ],
   "source": [
    "train_feng['size_class'].value_counts()"
   ]
  },
  {
   "cell_type": "markdown",
   "metadata": {},
   "source": [
    "From plot above, we can notice that we have an unbalanced number of classes. Therefore, we must be very cautious to not make our model skew towards the classes with more data"
   ]
  },
  {
   "cell_type": "code",
   "execution_count": 153,
   "metadata": {},
   "outputs": [
    {
     "name": "stdout",
     "output_type": "stream",
     "text": [
      "10679 4000 734 216 246\n"
     ]
    },
    {
     "data": {
      "text/plain": [
       "C    10679\n",
       "D    10679\n",
       "E    10679\n",
       "B    10679\n",
       "A    10679\n",
       "Name: size_class, dtype: int64"
      ]
     },
     "execution_count": 153,
     "metadata": {},
     "output_type": "execute_result"
    }
   ],
   "source": [
    "from sklearn.utils import resample\n",
    "\n",
    "# Separate majority and minority classes\n",
    "df_A = train_feng[train_feng.size_class=='A']\n",
    "df_B = train_feng[train_feng.size_class=='B']\n",
    "df_C = train_feng[train_feng.size_class=='C']\n",
    "df_D = train_feng[train_feng.size_class=='D']\n",
    "df_E = train_feng[train_feng.size_class=='E']\n",
    "\n",
    "print(len(df_A),len(df_B),len(df_C),len(df_D),len(df_E))\n",
    "\n",
    "\n",
    "# Upsample minority class\n",
    "df_B_upsampled = resample(df_B, \n",
    "                          replace=True,     # sample with replacement\n",
    "                          n_samples=10679,    # to match majority class\n",
    "                          random_state=42) # reproducible results\n",
    "\n",
    "df_C_upsampled = resample(df_C, \n",
    "                          replace=True,     # sample with replacement\n",
    "                          n_samples=10679,    # to match majority class\n",
    "                          random_state=42) # reproducible results\n",
    "\n",
    "df_D_upsampled = resample(df_D, \n",
    "                          replace=True,     # sample with replacement\n",
    "                          n_samples=10679,    # to match majority class\n",
    "                          random_state=42) # reproducible results\n",
    "\n",
    "df_E_upsampled = resample(df_E, \n",
    "                          replace=True,     # sample with replacement\n",
    "                          n_samples=10679,    # to match majority class\n",
    "                          random_state=42) # reproducible results\n",
    "# Combine majority class with upsampled minority class\n",
    "df_upsampled = pd.concat([df_A, df_B_upsampled, df_C_upsampled, df_D_upsampled, df_E_upsampled])\n",
    " \n",
    "# Display new class counts\n",
    "df_upsampled.size_class.value_counts()\n"
   ]
  },
  {
   "cell_type": "markdown",
   "metadata": {},
   "source": [
    "## 2. Build Model\n",
    "\n",
    "In this section we will build a model to classify `size_class` of our dataset.\n"
   ]
  },
  {
   "cell_type": "markdown",
   "metadata": {},
   "source": [
    "### One Hot encode categorical data"
   ]
  },
  {
   "cell_type": "code",
   "execution_count": 173,
   "metadata": {},
   "outputs": [],
   "source": [
    "# Extract y_train and X_train\n",
    "y_train = train_feng[['size_class']]\n",
    "X_train = train_feng.drop(['size_class', 'fire_number'], 1)\n",
    "# One hot encode data\n",
    "ohe = ce.OneHotEncoder(handle_unknown='value', use_cat_names=True)\n",
    "X_train_ohe = ohe.fit_transform(X_train)\n",
    "# Drop unknown features\n",
    "Unknown_columns =[column for column in list(X_train_ohe.columns) if 'Unknown' in column]\n",
    "X_train_ohe.drop(Unknown_columns, 1, inplace=True)\n",
    "# Standardize categorical data\n",
    "standardize = StandardScaler()\n",
    "X_train_ohe[X_train_ohe.columns]=standardize.fit_transform(X_train_ohe)\n",
    "_, validation_X, _, validation_y = train_test_split(X_train_ohe, y_train, \n",
    "                                                                test_size=0.35, random_state=2, \n",
    "                                                                stratify=y_train)"
   ]
  },
  {
   "cell_type": "code",
   "execution_count": 295,
   "metadata": {},
   "outputs": [],
   "source": [
    "# Extract y_train and X_train\n",
    "y_train = train_feng[['size_class']]\n",
    "X_train = train_feng.drop(['size_class', 'fire_number'], 1)\n",
    "# Extract and X_test\n",
    "X_test = test_feng.drop(['fire_number'], 1)"
   ]
  },
  {
   "cell_type": "code",
   "execution_count": 296,
   "metadata": {
    "scrolled": true
   },
   "outputs": [],
   "source": [
    "# One hot encode data\n",
    "ohe = ce.OneHotEncoder(handle_unknown='value', use_cat_names=True)\n",
    "X_train_ohe = ohe.fit_transform(X_train)\n",
    "X_test_ohe = ohe.transform(X_test)"
   ]
  },
  {
   "cell_type": "code",
   "execution_count": 244,
   "metadata": {},
   "outputs": [],
   "source": [
    "# Drop unknown features\n",
    "Unknown_columns =[column for column in list(X_test_ohe.columns) if 'Unknown' in column]\n",
    "X_test_ohe.drop(Unknown_columns, 1, inplace=True)\n",
    "X_train_ohe.drop(Unknown_columns, 1, inplace=True)"
   ]
  },
  {
   "cell_type": "code",
   "execution_count": 297,
   "metadata": {},
   "outputs": [],
   "source": [
    "# Standardize categorical data\n",
    "standardize = RobustScaler()\n",
    "X_test_ohe[X_test_ohe.columns]=standardize.fit_transform(X_test_ohe)\n",
    "standardize = RobustScaler()\n",
    "X_train_ohe[X_train_ohe.columns]=standardize.fit_transform(X_train_ohe)"
   ]
  },
  {
   "cell_type": "markdown",
   "metadata": {},
   "source": [
    "### Stratified cross validation\n",
    "\n",
    "We are going to use stratified cross validation to mitigate the imbalance of the dataset that we saw in the EDA section [class distribution](#Visualize-class-distribution) "
   ]
  },
  {
   "cell_type": "code",
   "execution_count": 298,
   "metadata": {},
   "outputs": [],
   "source": [
    "train_X, validation_X, train_y, validation_y = train_test_split(X_train_ohe, y_train, \n",
    "                                                                test_size=0.25, random_state=2, \n",
    "                                                                stratify=y_train)"
   ]
  },
  {
   "cell_type": "markdown",
   "metadata": {},
   "source": [
    "### Define feature importance\n",
    "\n",
    "In all datasets there is always a high chance that some features are irrelevant to predict the target feature. We could try guessing which ones are the most relevant using our intuition. However, intuition is not always good. Therefore, there is an alternative way to do it using feature importances that is available for tree based models in Sklearn. To quickly identify some of the features let's use a simple random forest classifier."
   ]
  },
  {
   "cell_type": "code",
   "execution_count": 300,
   "metadata": {},
   "outputs": [],
   "source": [
    "#model = AdaBoostClassifier(random_state=42)\n",
    "model = GradientBoostingClassifier(random_state=42, learning_rate=0.5, n_estimators=50, \n",
    "                                   max_depth=3)\n",
    "model.fit(train_X.values, train_y.values.ravel())\n",
    "\n",
    "# Extract the feature importances using .feature_importances_ \n",
    "importances = model.feature_importances_"
   ]
  },
  {
   "cell_type": "code",
   "execution_count": 301,
   "metadata": {
    "scrolled": false
   },
   "outputs": [
    {
     "data": {
      "image/png": "[encoded data removed]",
      "text/plain": [
       "<Figure size 1080x1440 with 1 Axes>"
      ]
     },
     "metadata": {
      "needs_background": "light"
     },
     "output_type": "display_data"
    },
    {
     "data": {
      "text/html": [
       "<div>\n",
       "<style scoped>\n",
       "    .dataframe tbody tr th:only-of-type {\n",
       "        vertical-align: middle;\n",
       "    }\n",
       "\n",
       "    .dataframe tbody tr th {\n",
       "        vertical-align: top;\n",
       "    }\n",
       "\n",
       "    .dataframe thead th {\n",
       "        text-align: right;\n",
       "    }\n",
       "</style>\n",
       "<table border=\"1\" class=\"dataframe\">\n",
       "  <thead>\n",
       "    <tr style=\"text-align: right;\">\n",
       "      <th></th>\n",
       "      <th>Features</th>\n",
       "      <th>Importance value</th>\n",
       "    </tr>\n",
       "  </thead>\n",
       "  <tbody>\n",
       "    <tr>\n",
       "      <th>0</th>\n",
       "      <td>fire_duration</td>\n",
       "      <td>0.439079</td>\n",
       "    </tr>\n",
       "    <tr>\n",
       "      <th>1</th>\n",
       "      <td>fire_type_Crown</td>\n",
       "      <td>0.113258</td>\n",
       "    </tr>\n",
       "    <tr>\n",
       "      <th>2</th>\n",
       "      <td>fuel_type_Unknown</td>\n",
       "      <td>0.106666</td>\n",
       "    </tr>\n",
       "    <tr>\n",
       "      <th>3</th>\n",
       "      <td>fire_location_latitude</td>\n",
       "      <td>0.048842</td>\n",
       "    </tr>\n",
       "    <tr>\n",
       "      <th>4</th>\n",
       "      <td>time_to_discover</td>\n",
       "      <td>0.045524</td>\n",
       "    </tr>\n",
       "    <tr>\n",
       "      <th>...</th>\n",
       "      <td>...</td>\n",
       "      <td>...</td>\n",
       "    </tr>\n",
       "    <tr>\n",
       "      <th>95</th>\n",
       "      <td>det_agent_RI</td>\n",
       "      <td>0.000217</td>\n",
       "    </tr>\n",
       "    <tr>\n",
       "      <th>96</th>\n",
       "      <td>activity_class_Traditional Burning</td>\n",
       "      <td>0.000217</td>\n",
       "    </tr>\n",
       "    <tr>\n",
       "      <th>97</th>\n",
       "      <td>det_agent_BL</td>\n",
       "      <td>0.000215</td>\n",
       "    </tr>\n",
       "    <tr>\n",
       "      <th>98</th>\n",
       "      <td>initial_action_by_HAC1F</td>\n",
       "      <td>0.000211</td>\n",
       "    </tr>\n",
       "    <tr>\n",
       "      <th>99</th>\n",
       "      <td>activity_class_Flaring Gas</td>\n",
       "      <td>0.000207</td>\n",
       "    </tr>\n",
       "  </tbody>\n",
       "</table>\n",
       "<p>100 rows × 2 columns</p>\n",
       "</div>"
      ],
      "text/plain": [
       "                              Features  Importance value\n",
       "0                        fire_duration          0.439079\n",
       "1                      fire_type_Crown          0.113258\n",
       "2                    fuel_type_Unknown          0.106666\n",
       "3               fire_location_latitude          0.048842\n",
       "4                     time_to_discover          0.045524\n",
       "..                                 ...               ...\n",
       "95                        det_agent_RI          0.000217\n",
       "96  activity_class_Traditional Burning          0.000217\n",
       "97                        det_agent_BL          0.000215\n",
       "98             initial_action_by_HAC1F          0.000211\n",
       "99          activity_class_Flaring Gas          0.000207\n",
       "\n",
       "[100 rows x 2 columns]"
      ]
     },
     "execution_count": 301,
     "metadata": {},
     "output_type": "execute_result"
    }
   ],
   "source": [
    "relevant_df = feature_plot(importances, train_X, train_y, top_k=100)\n",
    "relevant_df"
   ]
  },
  {
   "cell_type": "markdown",
   "metadata": {},
   "source": [
    "We are going to test the model by using only the first features that have more relevance than the remaining ones"
   ]
  },
  {
   "cell_type": "code",
   "execution_count": 303,
   "metadata": {},
   "outputs": [
    {
     "data": {
      "text/plain": [
       "0                       fire_duration\n",
       "1                     fire_type_Crown\n",
       "2                   fuel_type_Unknown\n",
       "3              fire_location_latitude\n",
       "4                    time_to_discover\n",
       "5                        det_agent_CH\n",
       "6                           fire_year\n",
       "7             fire_location_longitude\n",
       "8                  det_agent_type_LKT\n",
       "9            fire_fight_response_time\n",
       "10        fire_origin_Provincial Land\n",
       "11    general_cause_desc_Undetermined\n",
       "Name: Features, dtype: object"
      ]
     },
     "execution_count": 303,
     "metadata": {},
     "output_type": "execute_result"
    }
   ],
   "source": [
    "most_relevant_features = relevant_df[relevant_df['Importance value']>=0.008]['Features']\n",
    "most_relevant_features"
   ]
  },
  {
   "cell_type": "markdown",
   "metadata": {},
   "source": [
    "## PCA"
   ]
  },
  {
   "cell_type": "code",
   "execution_count": 330,
   "metadata": {},
   "outputs": [],
   "source": [
    "from sklearn.decomposition import PCA\n",
    "pca = PCA(n_components=20)\n",
    "pca_train_X = pca.fit_transform(X_train_ohe)\n",
    "pca_test_X = pca.transform(X_test_ohe)\n"
   ]
  },
  {
   "cell_type": "code",
   "execution_count": 331,
   "metadata": {},
   "outputs": [
    {
     "data": {
      "text/plain": [
       "(15875, 20)"
      ]
     },
     "execution_count": 331,
     "metadata": {},
     "output_type": "execute_result"
    }
   ],
   "source": [
    "pca_train_X.shape"
   ]
  },
  {
   "cell_type": "code",
   "execution_count": 332,
   "metadata": {},
   "outputs": [
    {
     "data": {
      "text/plain": [
       "(3969, 20)"
      ]
     },
     "execution_count": 332,
     "metadata": {},
     "output_type": "execute_result"
    }
   ],
   "source": [
    "pca_test_X.shape"
   ]
  },
  {
   "cell_type": "markdown",
   "metadata": {},
   "source": [
    "#### PCA train and validation for splitted data"
   ]
  },
  {
   "cell_type": "code",
   "execution_count": 333,
   "metadata": {},
   "outputs": [],
   "source": [
    "pca = PCA(n_components=20)\n",
    "pca_train_split_X = pca.fit_transform(train_X)\n",
    "pca_validation_split_X =  pca.transform(validation_X)\n",
    "pca_test_X = pca.transform(X_test_ohe)"
   ]
  },
  {
   "cell_type": "markdown",
   "metadata": {},
   "source": [
    "## Train Validation results"
   ]
  },
  {
   "cell_type": "code",
   "execution_count": 250,
   "metadata": {},
   "outputs": [
    {
     "data": {
      "text/plain": [
       "RandomForestClassifier(class_weight='balanced_subsample', criterion='entropy',\n",
       "                       max_depth=10, max_features=None,\n",
       "                       min_impurity_decrease=0.003, random_state=42)"
      ]
     },
     "execution_count": 250,
     "metadata": {},
     "output_type": "execute_result"
    }
   ],
   "source": [
    "model = RandomForestClassifier(random_state=42, n_estimators=100, \n",
    "                                   max_depth=10, class_weight = 'balanced_subsample',\n",
    "                              criterion='entropy', max_features=None, min_impurity_decrease=0.003)\n",
    "#model.fit(train_X[most_relevant_features].values, train_y.values.ravel())\n",
    "#model.fit(pca_train_X, train_y.values.ravel())\n",
    "model.fit(train_X[most_relevant_features].values, train_y.values.ravel())"
   ]
  },
  {
   "cell_type": "code",
   "execution_count": 251,
   "metadata": {},
   "outputs": [],
   "source": [
    "## prediction train dataset\n",
    "#pred_train_y = model.predict(train_X)\n",
    "pred_train_y = model.predict(train_X[most_relevant_features])\n",
    "#pred_train_y = model.predict(pca_train_X)\n",
    "\n",
    "## prediction validation dataset\n",
    "#pred_validation_y = model.predict(validation_X)\n",
    "pred_validation_y = model.predict(validation_X[most_relevant_features])\n",
    "#pred_validation_y = model.predict(pca_validation_X)"
   ]
  },
  {
   "cell_type": "code",
   "execution_count": 252,
   "metadata": {},
   "outputs": [
    {
     "name": "stdout",
     "output_type": "stream",
     "text": [
      "F1-score - train:0.6462962808503201 - validation: 0.47282173096373353\n"
     ]
    }
   ],
   "source": [
    "train_f1_score = fbeta_score(train_y.values.ravel(), pred_train_y, beta = 1, average='macro')\n",
    "validation_f1_score = fbeta_score(validation_y.values.ravel(), pred_validation_y, beta = 1, average='macro')\n",
    "print(f\"F1-score - train:{train_f1_score} - validation: {validation_f1_score}\")"
   ]
  },
  {
   "cell_type": "markdown",
   "metadata": {},
   "source": [
    "#### Balanced random forest"
   ]
  },
  {
   "cell_type": "code",
   "execution_count": 299,
   "metadata": {},
   "outputs": [
    {
     "name": "stdout",
     "output_type": "stream",
     "text": [
      "Mean f1-score: 0.486\n"
     ]
    }
   ],
   "source": [
    "from sklearn.datasets import make_classification\n",
    "from sklearn.model_selection import cross_val_score\n",
    "from sklearn.model_selection import RepeatedStratifiedKFold\n",
    "from imblearn.ensemble import BalancedRandomForestClassifier, EasyEnsembleClassifier, RUSBoostClassifier\n",
    "from imblearn.metrics import geometric_mean_score\n",
    "# define model\n",
    "\"\"\"Best model so far\"\"\"\n",
    "model = RandomForestClassifier(n_estimators=100, max_depth=10, class_weight='balanced_subsample',\n",
    "                              criterion='entropy', max_features=50, min_impurity_decrease=0.003) \n",
    "\"\"\"\"\"\"\n",
    "#model = BalancedRandomForestClassifier(n_estimators=100, max_depth=10,\n",
    "#                                       random_state=42, class_weight='balanced_subsample',\n",
    "#                                      criterion='entropy', max_features=0.1, min_impurity_decrease=0.003)\n",
    "#model = EasyEnsembleClassifier(base_estimator=GradientBoostingClassifier(random_state=42, learning_rate=0.5, \n",
    "#                                                                         n_estimators=300, max_depth=3,\n",
    "#                                                                        max_features=0.1), \n",
    "#                                n_estimators=10, random_state=42)\n",
    "#model = RUSBoostClassifier(random_state=42,  learning_rate=0.1, n_estimators=300)\n",
    "#model = RUSBoostClassifier(base_estimator=RandomForestClassifier(class_weight = 'balanced_subsample', max_depth=10,\n",
    "#                                                                criterion='entropy'),\n",
    "#                           random_state=42,  learning_rate=0.1, n_estimators=10)\n",
    "#model = RUSBoostClassifier(RandomForestClassifier(random_state=42, n_estimators=100, \n",
    "#                                   max_depth=20, class_weight = 'balanced_subsample',\n",
    "#                              criterion='entropy', max_features=5, min_impurity_decrease=0.03),\n",
    "#                           random_state=42,  learning_rate=0.1, n_estimators=10)\n",
    "\n",
    "\n",
    "# define evaluation procedure\n",
    "cv = RepeatedStratifiedKFold(n_splits=5, n_repeats=3, random_state=42)\n",
    "metric = make_scorer(geometric_mean_score)\n",
    "# evaluate model\n",
    "#scores = cross_val_score(model, pca_train_X, y_train, scoring='f1_macro', cv=cv, n_jobs=-1)\n",
    "#scores = cross_val_score(model, X_train_ohe[:], y_train, \n",
    "#                         scoring=metric, cv=cv, n_jobs=-1)\n",
    "\n",
    "scores = cross_val_score(model, X_train_ohe, y_train, scoring='f1_macro', cv=cv, n_jobs=-1)\n",
    "# summarize performance\n",
    "print('Mean f1-score: %.3f' % np.mean(scores))"
   ]
  },
  {
   "cell_type": "code",
   "execution_count": 304,
   "metadata": {},
   "outputs": [
    {
     "name": "stdout",
     "output_type": "stream",
     "text": [
      "F1-score - validation:0.43946892989559033\n",
      "Geometric mean - validation:0.33457747088284573\n",
      "Geometric mean per class - validation:[0.74092819 0.662285   0.41326575 0.38332392 0.59862223]\n",
      "-------------------------------------------------------------------------------------------\n",
      "F1-score - train:0.6484880502319568\n",
      "Geometric mean - train:0.5709685258181397\n",
      "Geometric mean per class - train:[0.78706389 0.72557093 0.66161396 0.6651891  0.75636833]\n"
     ]
    }
   ],
   "source": [
    "#model.fit(pca_train_split_X, train_y.values.ravel())\n",
    "model.fit(train_X[:], train_y.values.ravel())\n",
    "#model.fit(X_train_ohe, y_train.values.ravel())\n",
    "\n",
    "#pred_validation_y = model.predict(pca_validation_split_X)\n",
    "pred_validation_y = model.predict(validation_X[:])\n",
    "#pred_y = model.predict(X_train_ohe)\n",
    "f1_score = fbeta_score(validation_y.values.ravel(), pred_validation_y, beta = 1, average='macro')\n",
    "gmean_score = geometric_mean_score(validation_y.values.ravel(), pred_validation_y)\n",
    "gmean_score_sparse = geometric_mean_score(validation_y.values.ravel(), pred_validation_y, average=None)\n",
    "print(f\"F1-score - validation:{f1_score}\")\n",
    "print(f\"Geometric mean - validation:{gmean_score}\")\n",
    "print(f\"Geometric mean per class - validation:{gmean_score_sparse}\")\n",
    "\n",
    "print(\"-------------------------------------------------------------------------------------------\")\n",
    "#pred_train_y = model.predict(pca_train_split_X)\n",
    "pred_train_y = model.predict(train_X[:])\n",
    "f1_score = fbeta_score(train_y.values.ravel(), pred_train_y, beta = 1, average='macro')\n",
    "gmean_score = geometric_mean_score(train_y.values.ravel(), pred_train_y)\n",
    "gmean_score_sparse = geometric_mean_score(train_y.values.ravel(), pred_train_y, average=None)\n",
    "print(f\"F1-score - train:{f1_score}\")\n",
    "print(f\"Geometric mean - train:{gmean_score}\")\n",
    "print(f\"Geometric mean per class - train:{gmean_score_sparse}\")"
   ]
  },
  {
   "cell_type": "code",
   "execution_count": 305,
   "metadata": {},
   "outputs": [
    {
     "data": {
      "text/plain": [
       "A    11613\n",
       "B     3479\n",
       "C      448\n",
       "E      171\n",
       "D      164\n",
       "Name: size_class, dtype: int64"
      ]
     },
     "execution_count": 305,
     "metadata": {},
     "output_type": "execute_result"
    },
    {
     "data": {
      "image/png": "[encoded data removed]",
      "text/plain": [
       "<Figure size 432x288 with 1 Axes>"
      ]
     },
     "metadata": {
      "needs_background": "light"
     },
     "output_type": "display_data"
    }
   ],
   "source": [
    "y_valid_pred = pd.DataFrame()\n",
    "y_valid_pred['fire_number'] = train_feng['fire_number']\n",
    "y_valid_pred['size_class'] = model.predict(X_train_ohe[:])\n",
    "#y_valid_pred['size_class'] = model.predict(pca_train_X)\n",
    "y_valid_pred['size_class'].hist()\n",
    "y_valid_pred['size_class'].value_counts()"
   ]
  },
  {
   "cell_type": "code",
   "execution_count": 306,
   "metadata": {},
   "outputs": [
    {
     "data": {
      "image/png": "[encoded data removed]",
      "text/plain": [
       "<Figure size 432x288 with 2 Axes>"
      ]
     },
     "metadata": {
      "needs_background": "light"
     },
     "output_type": "display_data"
    },
    {
     "data": {
      "image/png": "[encoded data removed]",
      "text/plain": [
       "<Figure size 432x288 with 2 Axes>"
      ]
     },
     "metadata": {
      "needs_background": "light"
     },
     "output_type": "display_data"
    }
   ],
   "source": [
    "from sklearn.metrics import plot_confusion_matrix\n",
    "\n",
    "class_names = validation_y['size_class'].unique()\n",
    "\n",
    "# Plot non-normalized and normalized confusion matrices\n",
    "titles_options = [(\"Confusion matrix, without normalization\", None),\n",
    "                  (\"Normalized confusion matrix\", 'true')]\n",
    "\n",
    "for title, normalize in titles_options:\n",
    "    disp = plot_confusion_matrix(model, validation_X, validation_y.values.ravel(),\n",
    "                                 labels=class_names,\n",
    "                                 cmap=plt.cm.Blues,\n",
    "                                 normalize=normalize)\n",
    "    disp.ax_.set_title(title)\n",
    "\n",
    "plt.show()"
   ]
  },
  {
   "cell_type": "markdown",
   "metadata": {},
   "source": [
    "### Deep Neural Network\n",
    "[refence](https://machinelearningmastery.com/cost-sensitive-neural-network-for-imbalanced-classification/)"
   ]
  },
  {
   "cell_type": "code",
   "execution_count": 192,
   "metadata": {},
   "outputs": [],
   "source": [
    "from keras.layers import Dense, Dropout, BatchNormalization\n",
    "from keras.models import Sequential\n",
    "from keras.optimizers import Adam\n",
    "\n",
    "# define the neural network model\n",
    "def define_NN_model(n_input):\n",
    "    ## Hyperparameters\n",
    "    lr = 1e-4\n",
    "    dropout_prob = 0.5\n",
    "    \n",
    "    # define model\n",
    "    \n",
    "    model = Sequential(name='Wildfire model')\n",
    "    model.add(Dropout(dropout_prob, input_shape=(n_input,)))\n",
    "    model.add(Dense(2000, activation='relu', kernel_initializer='he_uniform'))\n",
    "    model.add(Dropout(dropout_prob))\n",
    "    model.add(BatchNormalization())\n",
    "    model.add(Dense(5, activation='softmax'))\n",
    "    \n",
    "    # define loss and optimizer\n",
    "    model.compile(loss='categorical_crossentropy', optimizer=Adam(lr), metrics=['accuracy'])\n",
    "    return model"
   ]
  },
  {
   "cell_type": "code",
   "execution_count": 193,
   "metadata": {},
   "outputs": [
    {
     "data": {
      "text/html": [
       "<div>\n",
       "<style scoped>\n",
       "    .dataframe tbody tr th:only-of-type {\n",
       "        vertical-align: middle;\n",
       "    }\n",
       "\n",
       "    .dataframe tbody tr th {\n",
       "        vertical-align: top;\n",
       "    }\n",
       "\n",
       "    .dataframe thead th {\n",
       "        text-align: right;\n",
       "    }\n",
       "</style>\n",
       "<table border=\"1\" class=\"dataframe\">\n",
       "  <thead>\n",
       "    <tr style=\"text-align: right;\">\n",
       "      <th></th>\n",
       "      <th>size_class_E</th>\n",
       "      <th>size_class_D</th>\n",
       "      <th>size_class_C</th>\n",
       "      <th>size_class_B</th>\n",
       "      <th>size_class_A</th>\n",
       "    </tr>\n",
       "  </thead>\n",
       "  <tbody>\n",
       "    <tr>\n",
       "      <th>9390</th>\n",
       "      <td>0</td>\n",
       "      <td>0</td>\n",
       "      <td>0</td>\n",
       "      <td>0</td>\n",
       "      <td>1</td>\n",
       "    </tr>\n",
       "  </tbody>\n",
       "</table>\n",
       "</div>"
      ],
      "text/plain": [
       "      size_class_E  size_class_D  size_class_C  size_class_B  size_class_A\n",
       "9390             0             0             0             0             1"
      ]
     },
     "execution_count": 193,
     "metadata": {},
     "output_type": "execute_result"
    }
   ],
   "source": [
    "# One hot encode for the labels\n",
    "ohe = ce.OneHotEncoder(use_cat_names=True)\n",
    "y_train_ohe = ohe.fit_transform(train_y)\n",
    "y_validation_ohe = ohe.transform(validation_y)\n",
    "\n",
    "y_validation_ohe.sample(1)"
   ]
  },
  {
   "cell_type": "code",
   "execution_count": 194,
   "metadata": {},
   "outputs": [
    {
     "name": "stdout",
     "output_type": "stream",
     "text": [
      "Model: \"Wildfire model\"\n",
      "_________________________________________________________________\n",
      "Layer (type)                 Output Shape              Param #   \n",
      "=================================================================\n",
      "dropout_7 (Dropout)          (None, 277)               0         \n",
      "_________________________________________________________________\n",
      "dense_7 (Dense)              (None, 2000)              556000    \n",
      "_________________________________________________________________\n",
      "dropout_8 (Dropout)          (None, 2000)              0         \n",
      "_________________________________________________________________\n",
      "batch_normalization_4 (Batch (None, 2000)              8000      \n",
      "_________________________________________________________________\n",
      "dense_8 (Dense)              (None, 5)                 10005     \n",
      "=================================================================\n",
      "Total params: 574,005\n",
      "Trainable params: 570,005\n",
      "Non-trainable params: 4,000\n",
      "_________________________________________________________________\n"
     ]
    }
   ],
   "source": [
    "input_size = train_X[:].shape[1]\n",
    "#input_size = pca_train_split_X.shape[1]\n",
    "model = define_NN_model(input_size)\n",
    "model.summary()"
   ]
  },
  {
   "cell_type": "code",
   "execution_count": 195,
   "metadata": {},
   "outputs": [
    {
     "name": "stdout",
     "output_type": "stream",
     "text": [
      "Train on 40046 samples, validate on 5557 samples\n",
      "Epoch 1/100\n",
      "40046/40046 [==============================] - 14s 346us/step - loss: 1.7278 - accuracy: 0.3352 - val_loss: 1.6974 - val_accuracy: 0.3164\n",
      "roc-auc_train: 0.828 - roc-auc_val: 0.6635                                                                                                    \n",
      "Epoch 2/100\n",
      "40046/40046 [==============================] - 14s 347us/step - loss: 1.5036 - accuracy: 0.3859 - val_loss: 1.6853 - val_accuracy: 0.3182\n",
      "roc-auc_train: 0.8557 - roc-auc_val: 0.6614                                                                                                    \n",
      "Epoch 3/100\n",
      "40046/40046 [==============================] - 14s 339us/step - loss: 1.4247 - accuracy: 0.4042 - val_loss: 1.7095 - val_accuracy: 0.3032\n",
      "roc-auc_train: 0.8698 - roc-auc_val: 0.6551                                                                                                    \n",
      "Epoch 4/100\n",
      "40046/40046 [==============================] - 14s 355us/step - loss: 1.3573 - accuracy: 0.4283 - val_loss: 1.6700 - val_accuracy: 0.3221\n",
      "roc-auc_train: 0.8807 - roc-auc_val: 0.6596                                                                                                    \n",
      "Epoch 5/100\n",
      "40046/40046 [==============================] - 14s 353us/step - loss: 1.3193 - accuracy: 0.4364 - val_loss: 1.6464 - val_accuracy: 0.3275\n",
      "roc-auc_train: 0.8885 - roc-auc_val: 0.6671                                                                                                    \n",
      "Epoch 6/100\n",
      "40046/40046 [==============================] - 14s 355us/step - loss: 1.2867 - accuracy: 0.4492 - val_loss: 1.6599 - val_accuracy: 0.3122\n",
      "roc-auc_train: 0.895 - roc-auc_val: 0.6615                                                                                                    \n",
      "Epoch 7/100\n",
      "40046/40046 [==============================] - 14s 357us/step - loss: 1.2647 - accuracy: 0.4532 - val_loss: 1.6231 - val_accuracy: 0.3257\n",
      "roc-auc_train: 0.8986 - roc-auc_val: 0.6655                                                                                                    \n",
      "Epoch 8/100\n",
      "40046/40046 [==============================] - 14s 351us/step - loss: 1.2464 - accuracy: 0.4655 - val_loss: 1.6667 - val_accuracy: 0.3063\n",
      "roc-auc_train: 0.9041 - roc-auc_val: 0.6578                                                                                                    \n",
      "Epoch 9/100\n",
      "40046/40046 [==============================] - 14s 358us/step - loss: 1.2303 - accuracy: 0.4714 - val_loss: 1.6672 - val_accuracy: 0.3056\n",
      "roc-auc_train: 0.906 - roc-auc_val: 0.6611                                                                                                    \n",
      "Epoch 10/100\n",
      "40046/40046 [==============================] - 14s 354us/step - loss: 1.2204 - accuracy: 0.4756 - val_loss: 1.6511 - val_accuracy: 0.3011\n",
      "roc-auc_train: 0.9095 - roc-auc_val: 0.6664                                                                                                    \n",
      "Epoch 11/100\n",
      "40046/40046 [==============================] - 14s 360us/step - loss: 1.2076 - accuracy: 0.4812 - val_loss: 1.5974 - val_accuracy: 0.3320\n",
      "roc-auc_train: 0.9147 - roc-auc_val: 0.6695                                                                                                    \n",
      "Epoch 12/100\n",
      "40046/40046 [==============================] - 14s 350us/step - loss: 1.1980 - accuracy: 0.4894 - val_loss: 1.6408 - val_accuracy: 0.3155\n",
      "roc-auc_train: 0.916 - roc-auc_val: 0.6653                                                                                                    \n",
      "Epoch 13/100\n",
      "40046/40046 [==============================] - 14s 353us/step - loss: 1.1825 - accuracy: 0.4946 - val_loss: 1.6404 - val_accuracy: 0.3122\n",
      "roc-auc_train: 0.9182 - roc-auc_val: 0.6679                                                                                                    \n",
      "Epoch 14/100\n",
      "40046/40046 [==============================] - 14s 356us/step - loss: 1.1775 - accuracy: 0.4928 - val_loss: 1.6575 - val_accuracy: 0.3142\n",
      "roc-auc_train: 0.9211 - roc-auc_val: 0.6636                                                                                                    \n",
      "Epoch 15/100\n",
      "40046/40046 [==============================] - 14s 351us/step - loss: 1.1665 - accuracy: 0.5020 - val_loss: 1.6860 - val_accuracy: 0.2897\n",
      "roc-auc_train: 0.9211 - roc-auc_val: 0.6549                                                                                                    \n",
      "Epoch 16/100\n",
      "40046/40046 [==============================] - 14s 360us/step - loss: 1.1664 - accuracy: 0.5040 - val_loss: 1.6591 - val_accuracy: 0.3020\n",
      "roc-auc_train: 0.9228 - roc-auc_val: 0.6598                                                                                                    \n",
      "Epoch 17/100\n",
      "40046/40046 [==============================] - 14s 352us/step - loss: 1.1563 - accuracy: 0.5045 - val_loss: 1.6058 - val_accuracy: 0.3241\n",
      "roc-auc_train: 0.9278 - roc-auc_val: 0.6721                                                                                                    \n",
      "Epoch 18/100\n",
      "40046/40046 [==============================] - 15s 363us/step - loss: 1.1479 - accuracy: 0.5127 - val_loss: 1.6176 - val_accuracy: 0.3155\n",
      "roc-auc_train: 0.9287 - roc-auc_val: 0.6667                                                                                                    \n",
      "Epoch 19/100\n",
      "40046/40046 [==============================] - 14s 353us/step - loss: 1.1500 - accuracy: 0.5099 - val_loss: 1.6466 - val_accuracy: 0.3099\n",
      "\n",
      "Epoch 00019: ReduceLROnPlateau reducing learning rate to 4.999999873689376e-05.\n",
      "roc-auc_train: 0.9295 - roc-auc_val: 0.6624                                                                                                    \n",
      "Epoch 20/100\n",
      "40046/40046 [==============================] - 14s 356us/step - loss: 1.1417 - accuracy: 0.5134 - val_loss: 1.6619 - val_accuracy: 0.3025\n",
      "roc-auc_train: 0.9284 - roc-auc_val: 0.6606                                                                                                    \n",
      "Epoch 21/100\n",
      "40046/40046 [==============================] - 14s 356us/step - loss: 1.1350 - accuracy: 0.5173 - val_loss: 1.6577 - val_accuracy: 0.3099\n",
      "roc-auc_train: 0.931 - roc-auc_val: 0.662                                                                                                    \n",
      "Epoch 22/100\n",
      "40046/40046 [==============================] - 14s 352us/step - loss: 1.1254 - accuracy: 0.5220 - val_loss: 1.6005 - val_accuracy: 0.3223\n",
      "roc-auc_train: 0.9335 - roc-auc_val: 0.6703                                                                                                    \n",
      "Epoch 23/100\n",
      "40046/40046 [==============================] - 14s 360us/step - loss: 1.1285 - accuracy: 0.5213 - val_loss: 1.5989 - val_accuracy: 0.3219\n",
      "\n",
      "Epoch 00023: ReduceLROnPlateau reducing learning rate to 2.499999936844688e-05.\n",
      "roc-auc_train: 0.9351 - roc-auc_val: 0.6698                                                                                                    \n",
      "Epoch 24/100\n",
      "40046/40046 [==============================] - 14s 352us/step - loss: 1.1131 - accuracy: 0.5269 - val_loss: 1.5884 - val_accuracy: 0.3246\n",
      "roc-auc_train: 0.9356 - roc-auc_val: 0.6693                                                                                                    \n",
      "Epoch 25/100\n",
      "40046/40046 [==============================] - 14s 362us/step - loss: 1.1232 - accuracy: 0.5204 - val_loss: 1.6008 - val_accuracy: 0.3227\n",
      "\n",
      "Epoch 00025: ReduceLROnPlateau reducing learning rate to 1.249999968422344e-05.\n",
      "roc-auc_train: 0.9354 - roc-auc_val: 0.6689                                                                                                    \n",
      "Epoch 26/100\n",
      "40046/40046 [==============================] - 15s 363us/step - loss: 1.1182 - accuracy: 0.5224 - val_loss: 1.5764 - val_accuracy: 0.3275\n",
      "\n",
      "Epoch 00026: ReduceLROnPlateau reducing learning rate to 6.24999984211172e-06.\n",
      "roc-auc_train: 0.9359 - roc-auc_val: 0.6698                                                                                                    \n",
      "Epoch 27/100\n",
      "40046/40046 [==============================] - 14s 360us/step - loss: 1.1105 - accuracy: 0.5262 - val_loss: 1.5979 - val_accuracy: 0.3279\n",
      "roc-auc_train: 0.9365 - roc-auc_val: 0.6688                                                                                                    \n",
      "Epoch 28/100\n"
     ]
    },
    {
     "name": "stdout",
     "output_type": "stream",
     "text": [
      "40046/40046 [==============================] - 14s 358us/step - loss: 1.1118 - accuracy: 0.5273 - val_loss: 1.6499 - val_accuracy: 0.3007\n",
      "\n",
      "Epoch 00028: ReduceLROnPlateau reducing learning rate to 3.12499992105586e-06.\n",
      "roc-auc_train: 0.9328 - roc-auc_val: 0.661                                                                                                    \n",
      "Epoch 29/100\n",
      "40046/40046 [==============================] - 14s 350us/step - loss: 1.1176 - accuracy: 0.5246 - val_loss: 1.6045 - val_accuracy: 0.3236\n",
      "\n",
      "Epoch 00029: ReduceLROnPlateau reducing learning rate to 1.56249996052793e-06.\n",
      "roc-auc_train: 0.9363 - roc-auc_val: 0.669                                                                                                    \n",
      "Epoch 30/100\n",
      "40046/40046 [==============================] - 14s 358us/step - loss: 1.1148 - accuracy: 0.5254 - val_loss: 1.5896 - val_accuracy: 0.3252\n",
      "\n",
      "Epoch 00030: ReduceLROnPlateau reducing learning rate to 7.81249980263965e-07.\n",
      "roc-auc_train: 0.9366 - roc-auc_val: 0.6695                                                                                                    \n",
      "Epoch 31/100\n",
      "40046/40046 [==============================] - 14s 351us/step - loss: 1.1095 - accuracy: 0.5285 - val_loss: 1.6279 - val_accuracy: 0.3047\n",
      "roc-auc_train: 0.9334 - roc-auc_val: 0.6647                                                                                                    \n",
      "Epoch 32/100\n",
      "40046/40046 [==============================] - 14s 356us/step - loss: 1.1123 - accuracy: 0.5283 - val_loss: 1.5909 - val_accuracy: 0.3263\n",
      "\n",
      "Epoch 00032: ReduceLROnPlateau reducing learning rate to 3.906249901319825e-07.\n",
      "roc-auc_train: 0.9364 - roc-auc_val: 0.6705                                                                                                    \n",
      "Epoch 33/100\n",
      "40046/40046 [==============================] - 14s 350us/step - loss: 1.1149 - accuracy: 0.5263 - val_loss: 1.6019 - val_accuracy: 0.3252\n",
      "\n",
      "Epoch 00033: ReduceLROnPlateau reducing learning rate to 1.9531249506599124e-07.\n",
      "roc-auc_train: 0.9362 - roc-auc_val: 0.6694                                                                                                    \n",
      "Epoch 34/100\n",
      "40046/40046 [==============================] - 14s 357us/step - loss: 1.1169 - accuracy: 0.5275 - val_loss: 1.6047 - val_accuracy: 0.3219\n",
      "\n",
      "Epoch 00034: ReduceLROnPlateau reducing learning rate to 9.765624753299562e-08.\n",
      "roc-auc_train: 0.9361 - roc-auc_val: 0.6676                                                                                                    \n",
      "Epoch 35/100\n",
      "40046/40046 [==============================] - 14s 354us/step - loss: 1.1102 - accuracy: 0.5251 - val_loss: 1.5935 - val_accuracy: 0.3266\n",
      "\n",
      "Epoch 00035: ReduceLROnPlateau reducing learning rate to 4.882812376649781e-08.\n",
      "roc-auc_train: 0.9358 - roc-auc_val: 0.6708                                                                                                    \n",
      "Epoch 36/100\n",
      "40046/40046 [==============================] - 14s 350us/step - loss: 1.1130 - accuracy: 0.5275 - val_loss: 1.5658 - val_accuracy: 0.3309\n",
      "\n",
      "Epoch 00036: ReduceLROnPlateau reducing learning rate to 2.4414061883248905e-08.\n",
      "roc-auc_train: 0.9364 - roc-auc_val: 0.6708                                                                                                    \n",
      "Epoch 37/100\n",
      "40046/40046 [==============================] - 14s 358us/step - loss: 1.1123 - accuracy: 0.5254 - val_loss: 1.6839 - val_accuracy: 0.2903\n",
      "\n",
      "Epoch 00037: ReduceLROnPlateau reducing learning rate to 1.2207030941624453e-08.\n",
      "roc-auc_train: 0.9313 - roc-auc_val: 0.656                                                                                                    \n",
      "Epoch 38/100\n",
      "40046/40046 [==============================] - 14s 350us/step - loss: 1.1072 - accuracy: 0.5282 - val_loss: 1.5931 - val_accuracy: 0.3291\n",
      "roc-auc_train: 0.9366 - roc-auc_val: 0.6695                                                                                                    \n",
      "Epoch 39/100\n",
      "40046/40046 [==============================] - 14s 357us/step - loss: 1.1077 - accuracy: 0.5309 - val_loss: 1.6114 - val_accuracy: 0.3228\n",
      "\n",
      "Epoch 00039: ReduceLROnPlateau reducing learning rate to 6.103515470812226e-09.\n",
      "roc-auc_train: 0.9364 - roc-auc_val: 0.668                                                                                                    \n",
      "Epoch 40/100\n",
      "40046/40046 [==============================] - 14s 349us/step - loss: 1.1141 - accuracy: 0.5263 - val_loss: 1.6194 - val_accuracy: 0.3147\n",
      "\n",
      "Epoch 00040: ReduceLROnPlateau reducing learning rate to 3.051757735406113e-09.\n",
      "roc-auc_train: 0.9347 - roc-auc_val: 0.6645                                                                                                    \n",
      "Epoch 41/100\n",
      "40046/40046 [==============================] - 14s 354us/step - loss: 1.1110 - accuracy: 0.5243 - val_loss: 1.5989 - val_accuracy: 0.3272\n",
      "\n",
      "Epoch 00041: ReduceLROnPlateau reducing learning rate to 1.5258788677030566e-09.\n",
      "roc-auc_train: 0.9362 - roc-auc_val: 0.6697                                                                                                    \n",
      "Epoch 42/100\n",
      "40046/40046 [==============================] - 14s 353us/step - loss: 1.1114 - accuracy: 0.5285 - val_loss: 1.5911 - val_accuracy: 0.3275\n",
      "\n",
      "Epoch 00042: ReduceLROnPlateau reducing learning rate to 7.629394338515283e-10.\n",
      "roc-auc_train: 0.9364 - roc-auc_val: 0.6697                                                                                                    \n",
      "Epoch 43/100\n",
      "40046/40046 [==============================] - 14s 350us/step - loss: 1.1113 - accuracy: 0.5306 - val_loss: 1.5744 - val_accuracy: 0.3299\n",
      "\n",
      "Epoch 00043: ReduceLROnPlateau reducing learning rate to 3.8146971692576415e-10.\n",
      "roc-auc_train: 0.9359 - roc-auc_val: 0.671                                                                                                    \n",
      "Epoch 44/100\n",
      "40046/40046 [==============================] - 14s 359us/step - loss: 1.1075 - accuracy: 0.5277 - val_loss: 1.5871 - val_accuracy: 0.3299\n",
      "\n",
      "Epoch 00044: ReduceLROnPlateau reducing learning rate to 1.9073485846288207e-10.\n",
      "roc-auc_train: 0.9366 - roc-auc_val: 0.6702                                                                                                    \n",
      "Epoch 45/100\n",
      "40046/40046 [==============================] - 14s 360us/step - loss: 1.1121 - accuracy: 0.5290 - val_loss: 1.6226 - val_accuracy: 0.3137\n",
      "\n",
      "Epoch 00045: ReduceLROnPlateau reducing learning rate to 9.536742923144104e-11.\n",
      "roc-auc_train: 0.9356 - roc-auc_val: 0.6667                                                                                                    \n",
      "Epoch 46/100\n",
      "40046/40046 [==============================] - 15s 369us/step - loss: 1.1124 - accuracy: 0.5252 - val_loss: 1.5780 - val_accuracy: 0.3344\n",
      "\n",
      "Epoch 00046: ReduceLROnPlateau reducing learning rate to 4.768371461572052e-11.\n",
      "roc-auc_train: 0.9372 - roc-auc_val: 0.6712                                                                                                    \n",
      "Epoch 47/100\n",
      "40046/40046 [==============================] - 16s 397us/step - loss: 1.1151 - accuracy: 0.5275 - val_loss: 1.6055 - val_accuracy: 0.3223\n",
      "\n",
      "Epoch 00047: ReduceLROnPlateau reducing learning rate to 2.384185730786026e-11.\n",
      "roc-auc_train: 0.9362 - roc-auc_val: 0.6691                                                                                                    \n",
      "Epoch 48/100\n",
      "40046/40046 [==============================] - 15s 382us/step - loss: 1.1111 - accuracy: 0.5286 - val_loss: 1.5895 - val_accuracy: 0.3275\n",
      "\n",
      "Epoch 00048: ReduceLROnPlateau reducing learning rate to 1.192092865393013e-11.\n",
      "roc-auc_train: 0.9364 - roc-auc_val: 0.6694                                                                                                    \n",
      "Epoch 49/100\n",
      "40046/40046 [==============================] - 15s 374us/step - loss: 1.1152 - accuracy: 0.5270 - val_loss: 1.5920 - val_accuracy: 0.3261\n",
      "\n",
      "Epoch 00049: ReduceLROnPlateau reducing learning rate to 5.960464326965065e-12.\n",
      "roc-auc_train: 0.9366 - roc-auc_val: 0.6706                                                                                                    \n",
      "Epoch 50/100\n",
      "40046/40046 [==============================] - 15s 370us/step - loss: 1.1145 - accuracy: 0.5253 - val_loss: 1.5930 - val_accuracy: 0.3273\n",
      "\n",
      "Epoch 00050: ReduceLROnPlateau reducing learning rate to 2.9802321634825324e-12.\n",
      "roc-auc_train: 0.9364 - roc-auc_val: 0.6699                                                                                                    \n",
      "Epoch 51/100\n",
      "17312/40046 [===========>..................] - ETA: 8s - loss: 1.1029 - accuracy: 0.5362"
     ]
    },
    {
     "ename": "KeyboardInterrupt",
     "evalue": "",
     "output_type": "error",
     "traceback": [
      "\u001b[1;31m---------------------------------------------------------------------------\u001b[0m",
      "\u001b[1;31mKeyboardInterrupt\u001b[0m                         Traceback (most recent call last)",
      "\u001b[1;32m<ipython-input-195-fd2857480a67>\u001b[0m in \u001b[0;36m<module>\u001b[1;34m\u001b[0m\n\u001b[0;32m     20\u001b[0m           \u001b[0mvalidation_data\u001b[0m\u001b[1;33m=\u001b[0m\u001b[1;33m(\u001b[0m\u001b[0mvalidation_X\u001b[0m\u001b[1;33m[\u001b[0m\u001b[1;33m:\u001b[0m\u001b[1;33m]\u001b[0m\u001b[1;33m,\u001b[0m \u001b[0my_validation_ohe\u001b[0m\u001b[1;33m)\u001b[0m\u001b[1;33m,\u001b[0m\u001b[1;33m\u001b[0m\u001b[1;33m\u001b[0m\u001b[0m\n\u001b[0;32m     21\u001b[0m           \u001b[0mepochs\u001b[0m\u001b[1;33m=\u001b[0m\u001b[1;36m100\u001b[0m\u001b[1;33m,\u001b[0m \u001b[0mverbose\u001b[0m\u001b[1;33m=\u001b[0m\u001b[1;36m1\u001b[0m\u001b[1;33m,\u001b[0m \u001b[0mclass_weight\u001b[0m\u001b[1;33m=\u001b[0m\u001b[0mweights\u001b[0m\u001b[1;33m,\u001b[0m\u001b[1;33m\u001b[0m\u001b[1;33m\u001b[0m\u001b[0m\n\u001b[1;32m---> 22\u001b[1;33m          callbacks=callbacks_list)\n\u001b[0m",
      "\u001b[1;32m~\\Anaconda3\\envs\\carino\\lib\\site-packages\\keras\\engine\\training.py\u001b[0m in \u001b[0;36mfit\u001b[1;34m(self, x, y, batch_size, epochs, verbose, callbacks, validation_split, validation_data, shuffle, class_weight, sample_weight, initial_epoch, steps_per_epoch, validation_steps, validation_freq, max_queue_size, workers, use_multiprocessing, **kwargs)\u001b[0m\n\u001b[0;32m   1237\u001b[0m                                         \u001b[0msteps_per_epoch\u001b[0m\u001b[1;33m=\u001b[0m\u001b[0msteps_per_epoch\u001b[0m\u001b[1;33m,\u001b[0m\u001b[1;33m\u001b[0m\u001b[1;33m\u001b[0m\u001b[0m\n\u001b[0;32m   1238\u001b[0m                                         \u001b[0mvalidation_steps\u001b[0m\u001b[1;33m=\u001b[0m\u001b[0mvalidation_steps\u001b[0m\u001b[1;33m,\u001b[0m\u001b[1;33m\u001b[0m\u001b[1;33m\u001b[0m\u001b[0m\n\u001b[1;32m-> 1239\u001b[1;33m                                         validation_freq=validation_freq)\n\u001b[0m\u001b[0;32m   1240\u001b[0m \u001b[1;33m\u001b[0m\u001b[0m\n\u001b[0;32m   1241\u001b[0m     def evaluate(self,\n",
      "\u001b[1;32m~\\Anaconda3\\envs\\carino\\lib\\site-packages\\keras\\engine\\training_arrays.py\u001b[0m in \u001b[0;36mfit_loop\u001b[1;34m(model, fit_function, fit_inputs, out_labels, batch_size, epochs, verbose, callbacks, val_function, val_inputs, shuffle, initial_epoch, steps_per_epoch, validation_steps, validation_freq)\u001b[0m\n\u001b[0;32m    194\u001b[0m                     \u001b[0mins_batch\u001b[0m\u001b[1;33m[\u001b[0m\u001b[0mi\u001b[0m\u001b[1;33m]\u001b[0m \u001b[1;33m=\u001b[0m \u001b[0mins_batch\u001b[0m\u001b[1;33m[\u001b[0m\u001b[0mi\u001b[0m\u001b[1;33m]\u001b[0m\u001b[1;33m.\u001b[0m\u001b[0mtoarray\u001b[0m\u001b[1;33m(\u001b[0m\u001b[1;33m)\u001b[0m\u001b[1;33m\u001b[0m\u001b[1;33m\u001b[0m\u001b[0m\n\u001b[0;32m    195\u001b[0m \u001b[1;33m\u001b[0m\u001b[0m\n\u001b[1;32m--> 196\u001b[1;33m                 \u001b[0mouts\u001b[0m \u001b[1;33m=\u001b[0m \u001b[0mfit_function\u001b[0m\u001b[1;33m(\u001b[0m\u001b[0mins_batch\u001b[0m\u001b[1;33m)\u001b[0m\u001b[1;33m\u001b[0m\u001b[1;33m\u001b[0m\u001b[0m\n\u001b[0m\u001b[0;32m    197\u001b[0m                 \u001b[0mouts\u001b[0m \u001b[1;33m=\u001b[0m \u001b[0mto_list\u001b[0m\u001b[1;33m(\u001b[0m\u001b[0mouts\u001b[0m\u001b[1;33m)\u001b[0m\u001b[1;33m\u001b[0m\u001b[1;33m\u001b[0m\u001b[0m\n\u001b[0;32m    198\u001b[0m                 \u001b[1;32mfor\u001b[0m \u001b[0ml\u001b[0m\u001b[1;33m,\u001b[0m \u001b[0mo\u001b[0m \u001b[1;32min\u001b[0m \u001b[0mzip\u001b[0m\u001b[1;33m(\u001b[0m\u001b[0mout_labels\u001b[0m\u001b[1;33m,\u001b[0m \u001b[0mouts\u001b[0m\u001b[1;33m)\u001b[0m\u001b[1;33m:\u001b[0m\u001b[1;33m\u001b[0m\u001b[1;33m\u001b[0m\u001b[0m\n",
      "\u001b[1;32m~\\Anaconda3\\envs\\carino\\lib\\site-packages\\tensorflow_core\\python\\keras\\backend.py\u001b[0m in \u001b[0;36m__call__\u001b[1;34m(self, inputs)\u001b[0m\n\u001b[0;32m   3725\u001b[0m         \u001b[0mvalue\u001b[0m \u001b[1;33m=\u001b[0m \u001b[0mmath_ops\u001b[0m\u001b[1;33m.\u001b[0m\u001b[0mcast\u001b[0m\u001b[1;33m(\u001b[0m\u001b[0mvalue\u001b[0m\u001b[1;33m,\u001b[0m \u001b[0mtensor\u001b[0m\u001b[1;33m.\u001b[0m\u001b[0mdtype\u001b[0m\u001b[1;33m)\u001b[0m\u001b[1;33m\u001b[0m\u001b[1;33m\u001b[0m\u001b[0m\n\u001b[0;32m   3726\u001b[0m       \u001b[0mconverted_inputs\u001b[0m\u001b[1;33m.\u001b[0m\u001b[0mappend\u001b[0m\u001b[1;33m(\u001b[0m\u001b[0mvalue\u001b[0m\u001b[1;33m)\u001b[0m\u001b[1;33m\u001b[0m\u001b[1;33m\u001b[0m\u001b[0m\n\u001b[1;32m-> 3727\u001b[1;33m     \u001b[0moutputs\u001b[0m \u001b[1;33m=\u001b[0m \u001b[0mself\u001b[0m\u001b[1;33m.\u001b[0m\u001b[0m_graph_fn\u001b[0m\u001b[1;33m(\u001b[0m\u001b[1;33m*\u001b[0m\u001b[0mconverted_inputs\u001b[0m\u001b[1;33m)\u001b[0m\u001b[1;33m\u001b[0m\u001b[1;33m\u001b[0m\u001b[0m\n\u001b[0m\u001b[0;32m   3728\u001b[0m \u001b[1;33m\u001b[0m\u001b[0m\n\u001b[0;32m   3729\u001b[0m     \u001b[1;31m# EagerTensor.numpy() will often make a copy to ensure memory safety.\u001b[0m\u001b[1;33m\u001b[0m\u001b[1;33m\u001b[0m\u001b[1;33m\u001b[0m\u001b[0m\n",
      "\u001b[1;32m~\\Anaconda3\\envs\\carino\\lib\\site-packages\\tensorflow_core\\python\\eager\\function.py\u001b[0m in \u001b[0;36m__call__\u001b[1;34m(self, *args, **kwargs)\u001b[0m\n\u001b[0;32m   1549\u001b[0m       \u001b[0mTypeError\u001b[0m\u001b[1;33m:\u001b[0m \u001b[0mFor\u001b[0m \u001b[0minvalid\u001b[0m \u001b[0mpositional\u001b[0m\u001b[1;33m/\u001b[0m\u001b[0mkeyword\u001b[0m \u001b[0margument\u001b[0m \u001b[0mcombinations\u001b[0m\u001b[1;33m.\u001b[0m\u001b[1;33m\u001b[0m\u001b[1;33m\u001b[0m\u001b[0m\n\u001b[0;32m   1550\u001b[0m     \"\"\"\n\u001b[1;32m-> 1551\u001b[1;33m     \u001b[1;32mreturn\u001b[0m \u001b[0mself\u001b[0m\u001b[1;33m.\u001b[0m\u001b[0m_call_impl\u001b[0m\u001b[1;33m(\u001b[0m\u001b[0margs\u001b[0m\u001b[1;33m,\u001b[0m \u001b[0mkwargs\u001b[0m\u001b[1;33m)\u001b[0m\u001b[1;33m\u001b[0m\u001b[1;33m\u001b[0m\u001b[0m\n\u001b[0m\u001b[0;32m   1552\u001b[0m \u001b[1;33m\u001b[0m\u001b[0m\n\u001b[0;32m   1553\u001b[0m   \u001b[1;32mdef\u001b[0m \u001b[0m_call_impl\u001b[0m\u001b[1;33m(\u001b[0m\u001b[0mself\u001b[0m\u001b[1;33m,\u001b[0m \u001b[0margs\u001b[0m\u001b[1;33m,\u001b[0m \u001b[0mkwargs\u001b[0m\u001b[1;33m,\u001b[0m \u001b[0mcancellation_manager\u001b[0m\u001b[1;33m=\u001b[0m\u001b[1;32mNone\u001b[0m\u001b[1;33m)\u001b[0m\u001b[1;33m:\u001b[0m\u001b[1;33m\u001b[0m\u001b[1;33m\u001b[0m\u001b[0m\n",
      "\u001b[1;32m~\\Anaconda3\\envs\\carino\\lib\\site-packages\\tensorflow_core\\python\\eager\\function.py\u001b[0m in \u001b[0;36m_call_impl\u001b[1;34m(self, args, kwargs, cancellation_manager)\u001b[0m\n\u001b[0;32m   1589\u001b[0m       raise TypeError(\"Keyword arguments {} unknown. Expected {}.\".format(\n\u001b[0;32m   1590\u001b[0m           list(kwargs.keys()), list(self._arg_keywords)))\n\u001b[1;32m-> 1591\u001b[1;33m     \u001b[1;32mreturn\u001b[0m \u001b[0mself\u001b[0m\u001b[1;33m.\u001b[0m\u001b[0m_call_flat\u001b[0m\u001b[1;33m(\u001b[0m\u001b[0margs\u001b[0m\u001b[1;33m,\u001b[0m \u001b[0mself\u001b[0m\u001b[1;33m.\u001b[0m\u001b[0mcaptured_inputs\u001b[0m\u001b[1;33m,\u001b[0m \u001b[0mcancellation_manager\u001b[0m\u001b[1;33m)\u001b[0m\u001b[1;33m\u001b[0m\u001b[1;33m\u001b[0m\u001b[0m\n\u001b[0m\u001b[0;32m   1592\u001b[0m \u001b[1;33m\u001b[0m\u001b[0m\n\u001b[0;32m   1593\u001b[0m   \u001b[1;32mdef\u001b[0m \u001b[0m_filtered_call\u001b[0m\u001b[1;33m(\u001b[0m\u001b[0mself\u001b[0m\u001b[1;33m,\u001b[0m \u001b[0margs\u001b[0m\u001b[1;33m,\u001b[0m \u001b[0mkwargs\u001b[0m\u001b[1;33m)\u001b[0m\u001b[1;33m:\u001b[0m\u001b[1;33m\u001b[0m\u001b[1;33m\u001b[0m\u001b[0m\n",
      "\u001b[1;32m~\\Anaconda3\\envs\\carino\\lib\\site-packages\\tensorflow_core\\python\\eager\\function.py\u001b[0m in \u001b[0;36m_call_flat\u001b[1;34m(self, args, captured_inputs, cancellation_manager)\u001b[0m\n\u001b[0;32m   1690\u001b[0m       \u001b[1;31m# No tape is watching; skip to running the function.\u001b[0m\u001b[1;33m\u001b[0m\u001b[1;33m\u001b[0m\u001b[1;33m\u001b[0m\u001b[0m\n\u001b[0;32m   1691\u001b[0m       return self._build_call_outputs(self._inference_function.call(\n\u001b[1;32m-> 1692\u001b[1;33m           ctx, args, cancellation_manager=cancellation_manager))\n\u001b[0m\u001b[0;32m   1693\u001b[0m     forward_backward = self._select_forward_and_backward_functions(\n\u001b[0;32m   1694\u001b[0m         \u001b[0margs\u001b[0m\u001b[1;33m,\u001b[0m\u001b[1;33m\u001b[0m\u001b[1;33m\u001b[0m\u001b[0m\n",
      "\u001b[1;32m~\\Anaconda3\\envs\\carino\\lib\\site-packages\\tensorflow_core\\python\\eager\\function.py\u001b[0m in \u001b[0;36mcall\u001b[1;34m(self, ctx, args, cancellation_manager)\u001b[0m\n\u001b[0;32m    543\u001b[0m               \u001b[0minputs\u001b[0m\u001b[1;33m=\u001b[0m\u001b[0margs\u001b[0m\u001b[1;33m,\u001b[0m\u001b[1;33m\u001b[0m\u001b[1;33m\u001b[0m\u001b[0m\n\u001b[0;32m    544\u001b[0m               \u001b[0mattrs\u001b[0m\u001b[1;33m=\u001b[0m\u001b[1;33m(\u001b[0m\u001b[1;34m\"executor_type\"\u001b[0m\u001b[1;33m,\u001b[0m \u001b[0mexecutor_type\u001b[0m\u001b[1;33m,\u001b[0m \u001b[1;34m\"config_proto\"\u001b[0m\u001b[1;33m,\u001b[0m \u001b[0mconfig\u001b[0m\u001b[1;33m)\u001b[0m\u001b[1;33m,\u001b[0m\u001b[1;33m\u001b[0m\u001b[1;33m\u001b[0m\u001b[0m\n\u001b[1;32m--> 545\u001b[1;33m               ctx=ctx)\n\u001b[0m\u001b[0;32m    546\u001b[0m         \u001b[1;32melse\u001b[0m\u001b[1;33m:\u001b[0m\u001b[1;33m\u001b[0m\u001b[1;33m\u001b[0m\u001b[0m\n\u001b[0;32m    547\u001b[0m           outputs = execute.execute_with_cancellation(\n",
      "\u001b[1;32m~\\Anaconda3\\envs\\carino\\lib\\site-packages\\tensorflow_core\\python\\eager\\execute.py\u001b[0m in \u001b[0;36mquick_execute\u001b[1;34m(op_name, num_outputs, inputs, attrs, ctx, name)\u001b[0m\n\u001b[0;32m     59\u001b[0m     tensors = pywrap_tensorflow.TFE_Py_Execute(ctx._handle, device_name,\n\u001b[0;32m     60\u001b[0m                                                \u001b[0mop_name\u001b[0m\u001b[1;33m,\u001b[0m \u001b[0minputs\u001b[0m\u001b[1;33m,\u001b[0m \u001b[0mattrs\u001b[0m\u001b[1;33m,\u001b[0m\u001b[1;33m\u001b[0m\u001b[1;33m\u001b[0m\u001b[0m\n\u001b[1;32m---> 61\u001b[1;33m                                                num_outputs)\n\u001b[0m\u001b[0;32m     62\u001b[0m   \u001b[1;32mexcept\u001b[0m \u001b[0mcore\u001b[0m\u001b[1;33m.\u001b[0m\u001b[0m_NotOkStatusException\u001b[0m \u001b[1;32mas\u001b[0m \u001b[0me\u001b[0m\u001b[1;33m:\u001b[0m\u001b[1;33m\u001b[0m\u001b[1;33m\u001b[0m\u001b[0m\n\u001b[0;32m     63\u001b[0m     \u001b[1;32mif\u001b[0m \u001b[0mname\u001b[0m \u001b[1;32mis\u001b[0m \u001b[1;32mnot\u001b[0m \u001b[1;32mNone\u001b[0m\u001b[1;33m:\u001b[0m\u001b[1;33m\u001b[0m\u001b[1;33m\u001b[0m\u001b[0m\n",
      "\u001b[1;31mKeyboardInterrupt\u001b[0m: "
     ]
    }
   ],
   "source": [
    "from keras.callbacks import ModelCheckpoint, EarlyStopping, ReduceLROnPlateau\n",
    "\n",
    "## Callbacks definitions\n",
    "early = EarlyStopping(monitor='val_loss', \n",
    "                       mode= 'min', \n",
    "                       patience=2)\n",
    "lr_reduce = ReduceLROnPlateau(monitor='loss', factor=0.5, patience=0, verbose=2, mode='min')\n",
    "\n",
    "roc = RocCallback(training_data=(train_X, y_train_ohe),\n",
    "                  validation_data=(validation_X, y_validation_ohe))\n",
    "\n",
    "callbacks_list = [lr_reduce, early, roc]\n",
    "\n",
    "\n",
    "\n",
    "## Run model {A, B, C, E, D}\n",
    "#weights = {0:1, 1:2.7, 2:14.5, 3:43.5, 4:50}\n",
    "weights = {0:1, 1:1, 2:1, 3:1, 4:1}\n",
    "model.fit(train_X[:], y_train_ohe, \n",
    "          validation_data=(validation_X[:], y_validation_ohe),\n",
    "          epochs=100, verbose=1, class_weight=weights,\n",
    "         callbacks=callbacks_list)"
   ]
  },
  {
   "cell_type": "code",
   "execution_count": 196,
   "metadata": {},
   "outputs": [
    {
     "data": {
      "text/plain": [
       "D    14143\n",
       "E    12524\n",
       "C     9924\n",
       "B     8638\n",
       "A     8166\n",
       "Name: size_class, dtype: int64"
      ]
     },
     "execution_count": 196,
     "metadata": {},
     "output_type": "execute_result"
    },
    {
     "data": {
      "image/png": "[encoded data removed]",
      "text/plain": [
       "<Figure size 432x288 with 1 Axes>"
      ]
     },
     "metadata": {
      "needs_background": "light"
     },
     "output_type": "display_data"
    }
   ],
   "source": [
    "y_valid_pred = pd.DataFrame()\n",
    "y_valid_pred['fire_number'] = df_upsampled['fire_number']\n",
    "y_valid_pred['size_class'] = oneHotEnc_to_classes(model.predict(X_train_ohe[:]), \n",
    "                                                  y_validation_ohe.columns)\n",
    "                                          \n",
    "#y_valid_pred['size_class'] = model.predict(pca_train_X)\n",
    "y_valid_pred['size_class'].hist()\n",
    "y_valid_pred['size_class'].value_counts()"
   ]
  },
  {
   "cell_type": "code",
   "execution_count": 197,
   "metadata": {},
   "outputs": [
    {
     "name": "stdout",
     "output_type": "stream",
     "text": [
      "F1-score - validation:0.22395080735420558\n"
     ]
    },
    {
     "data": {
      "image/png": "[encoded data removed]",
      "text/plain": [
       "<Figure size 1080x360 with 1 Axes>"
      ]
     },
     "metadata": {
      "needs_background": "light"
     },
     "output_type": "display_data"
    }
   ],
   "source": [
    "y_valid_pred = pd.DataFrame()\n",
    "y_valid_pred['labels'] = validation_y.values.ravel()\n",
    "y_valid_pred['size_class'] = oneHotEnc_to_classes(model.predict(validation_X[:]), \n",
    "                                                  y_validation_ohe.columns)\n",
    "                                          \n",
    "\n",
    "fig = plt.figure(figsize=(15,5))\n",
    "ax = fig.add_subplot(111)    \n",
    "#y_valid_pred['size_class'] = model.predict(pca_train_X)\n",
    "y_valid_pred['size_class'].hist(ax=ax, color='b')\n",
    "y_valid_pred['labels'].hist(ax=ax, alpha = 0.25,  color= 'r')\n",
    "ax.legend(['predicted', 'labels'])\n",
    "\n",
    "f1_score = fbeta_score(y_valid_pred['labels'], y_valid_pred['size_class'], beta = 1, average='macro')\n",
    "print(f\"F1-score - validation:{f1_score}\")\n"
   ]
  },
  {
   "cell_type": "code",
   "execution_count": 198,
   "metadata": {
    "scrolled": false
   },
   "outputs": [
    {
     "name": "stdout",
     "output_type": "stream",
     "text": [
      "Legitimate Transactions Detected (True Negatives):  0.3234349919743178\n",
      "Legitimate Transactions Incorrectly Detected (False Positives):  0.08373461744248262\n",
      "Fraudulent Transactions Missed (False Negatives):  0.0\n",
      "Fraudulent Transactions Detected (True Positives):  0.5813953488372093\n",
      "Total Fraudulent Transactions:  1.0\n"
     ]
    },
    {
     "data": {
      "image/png": "[encoded data removed]",
      "text/plain": [
       "<Figure size 720x720 with 2 Axes>"
      ]
     },
     "metadata": {
      "needs_background": "light"
     },
     "output_type": "display_data"
    }
   ],
   "source": [
    "from sklearn.metrics import confusion_matrix\n",
    "import seaborn as sns\n",
    "def plot_cm(labels, predictions):\n",
    "    class_names_pred = predictions.unique()\n",
    "    class_names_labels = labels.unique()\n",
    "    cm = confusion_matrix(labels, predictions, normalize='true', labels=class_names_pred)\n",
    "    plt.figure(figsize=(10,10))\n",
    "    sns.heatmap(cm, annot=True, xticklabels=class_names_pred, yticklabels=class_names_pred)#, fmt=\"d\")\n",
    "    #plt.title('Confusion matrix @{:.2f}'.format(p))\n",
    "    plt.ylabel('Actual label')\n",
    "    plt.xlabel('Predicted label')\n",
    "    print('Legitimate Transactions Detected (True Negatives): ', cm[0][0])\n",
    "    print('Legitimate Transactions Incorrectly Detected (False Positives): ', cm[0][1])\n",
    "    print('Fraudulent Transactions Missed (False Negatives): ', cm[1][0])\n",
    "    print('Fraudulent Transactions Detected (True Positives): ', cm[1][1])\n",
    "    print('Total Fraudulent Transactions: ', np.sum(cm[1]))\n",
    "plot_cm(y_valid_pred['labels'], y_valid_pred['size_class'])"
   ]
  },
  {
   "cell_type": "markdown",
   "metadata": {},
   "source": [
    "#### Optimize model"
   ]
  },
  {
   "cell_type": "code",
   "execution_count": 544,
   "metadata": {},
   "outputs": [
    {
     "name": "stdout",
     "output_type": "stream",
     "text": [
      "Optimized model\n",
      "------\n",
      "F-score on validation data: 0.3184\n",
      "F-score on training data: 0.4649\n"
     ]
    }
   ],
   "source": [
    "# Initialize the classifier\n",
    "model = GradientBoostingClassifier(random_state=42, max_depth=3)\n",
    "\n",
    "# Create the parameters to tune\n",
    "parameters = {  \n",
    "    'n_estimators': [500],\n",
    "    'learning_rate': [0.01]\n",
    "}\n",
    "\n",
    "# Make an fbeta_score scoring object using make_scorer()\n",
    "scorer = make_scorer(fbeta_score, beta=1.0, average='macro')\n",
    "\n",
    "# Perform grid search on the classifier using 'scorer' as the scoring method using GridSearchCV()\n",
    "grid_obj = GridSearchCV(model, parameters, scoring=scorer)\n",
    "\n",
    "# Fit the grid search object to the training data and find the optimal parameters using fit()\n",
    "grid_fit = grid_obj.fit(train_X[most_relevant_features].values, train_y.values.ravel())\n",
    "\n",
    "# Get the estimator\n",
    "best_clf = grid_fit.best_estimator_\n",
    "\n",
    "# Make predictions using the optimized model\n",
    "best_predictions_validation = best_clf.predict(validation_X[most_relevant_features])\n",
    "best_predictions_train = best_clf.predict(train_X[most_relevant_features])\n",
    "\n",
    "# Report the before-and-afterscores\n",
    "print(\"Optimized model\\n------\")\n",
    "print(\"F-score on validation data: {:.4f}\".format(fbeta_score(validation_y.values.ravel(), \n",
    "                                                              best_predictions_validation, \n",
    "                                                              beta = 1.0, average='macro')))\n",
    "\n",
    "print(\"F-score on training data: {:.4f}\".format(fbeta_score(train_y.values.ravel(), \n",
    "                                                            best_predictions_train, \n",
    "                                                            beta = 1.0, average='macro')))"
   ]
  },
  {
   "cell_type": "code",
   "execution_count": 545,
   "metadata": {},
   "outputs": [
    {
     "data": {
      "text/plain": [
       "GradientBoostingClassifier(learning_rate=0.01, n_estimators=500,\n",
       "                           random_state=42)"
      ]
     },
     "execution_count": 545,
     "metadata": {},
     "output_type": "execute_result"
    }
   ],
   "source": [
    "best_clf"
   ]
  },
  {
   "cell_type": "markdown",
   "metadata": {},
   "source": [
    "## 3. Make submission"
   ]
  },
  {
   "cell_type": "code",
   "execution_count": 307,
   "metadata": {},
   "outputs": [],
   "source": [
    "\n",
    "y_test_pred = pd.DataFrame()\n",
    "y_test_pred['fire_number'] = test_feng['fire_number']\n",
    "#y_test_pred['size_class'] = model.predict(pca_test_X)\n",
    "#y_test_pred['size_class'] = oneHotEnc_to_classes(model.predict(X_test_ohe[:]), \n",
    "#                                                 y_validation_ohe.columns)\n",
    "y_test_pred['size_class'] = model.predict(X_test_ohe[:])"
   ]
  },
  {
   "cell_type": "code",
   "execution_count": 312,
   "metadata": {},
   "outputs": [
    {
     "data": {
      "text/plain": [
       "<matplotlib.axes._subplots.AxesSubplot at 0x14684e850b8>"
      ]
     },
     "execution_count": 312,
     "metadata": {},
     "output_type": "execute_result"
    },
    {
     "data": {
      "image/png": "[encoded data removed]",
      "text/plain": [
       "<Figure size 432x288 with 1 Axes>"
      ]
     },
     "metadata": {
      "needs_background": "light"
     },
     "output_type": "display_data"
    }
   ],
   "source": [
    "y_test_pred['size_class'].hist()"
   ]
  },
  {
   "cell_type": "code",
   "execution_count": 313,
   "metadata": {},
   "outputs": [
    {
     "name": "stdout",
     "output_type": "stream",
     "text": [
      "(3969, 2)\n"
     ]
    }
   ],
   "source": [
    "print(y_test_pred.shape)"
   ]
  },
  {
   "cell_type": "markdown",
   "metadata": {},
   "source": [
    "### Push the prediction to CARINO platform"
   ]
  },
  {
   "cell_type": "code",
   "execution_count": 279,
   "metadata": {},
   "outputs": [],
   "source": [
    "import math\n",
    "import requests\n",
    "\n",
    "TOKEN = 'bef13dde60939ab809582f85a2518337f4eee028e2ea385cf64831961737072d977ed884b5c4e58821b1e5f1f5376aa2f6afecacab61ea9ecf406c89cc1e19cf' # Replace with 'your token' (please ensure value is between quotes)\n",
    "comment = 'some comment' # Free text, visible by you only\n",
    "\n",
    "def submit_prediction(df, TOKEN=None, sep=',', comment='', compression='gzip', **kwargs):\n",
    "    if TOKEN is None:\n",
    "        print(\"Please set TOKEN to the value provided in CARINO plarform under Submissions tab\")\n",
    "        return None\n",
    "    URL='http://18.185.86.47/api/submissions'\n",
    "    df.to_csv('temporary.dat', sep=sep, compression=compression, **kwargs)\n",
    "    r = requests.post(URL, headers={'Authorization': 'Bearer {}'.format(TOKEN)},files={'datafile': open('temporary.dat', 'rb')},data={'comment':comment, 'compression': compression})\n",
    "    if r.status_code == 429:\n",
    "        raise Exception('Submissions are too close. Next submission is only allowed in {} minutes.'.format(int(math.ceil(int(r.headers['x-rate-limit-remaining']) / 1000.0 / 60.0))))\n",
    "    if r.status_code != 200:\n",
    "        raise Exception(r.text)"
   ]
  },
  {
   "cell_type": "code",
   "execution_count": 314,
   "metadata": {},
   "outputs": [],
   "source": [
    "submit_prediction(y_test_pred, TOKEN, sep=',', index=True, comment=comment)"
   ]
  },
  {
   "cell_type": "markdown",
   "metadata": {},
   "source": [
    "## 4. References\n",
    "\n",
    "* [Stratified cross validation](https://machinelearningmastery.com/cross-validation-for-imbalanced-classification/)\n",
    "* [Oversampling using SMOTE](https://medium.com/lumiata/cross-validation-for-imbalanced-datasets-9d203ba47e8)"
   ]
  },
  {
   "cell_type": "code",
   "execution_count": 144,
   "metadata": {},
   "outputs": [
    {
     "name": "stdout",
     "output_type": "stream",
     "text": [
      "<class 'pandas.core.frame.DataFrame'>\n",
      "Int64Index: 2796 entries, 0 to 1195\n",
      "Data columns (total 293 columns):\n",
      " #   Column                                    Dtype  \n",
      "---  ------                                    -----  \n",
      " 0   fire_year                                 float64\n",
      " 1   fire_location_latitude                    float64\n",
      " 2   fire_location_longitude                   float64\n",
      " 3   fire_origin_Provincial Land               int64  \n",
      " 4   fire_origin_Private Land                  int64  \n",
      " 5   fire_origin_Indian Reservation            int64  \n",
      " 6   fire_origin_DND                           int64  \n",
      " 7   fire_origin_Metis Settlement              int64  \n",
      " 8   fire_origin_Provincial Park               int64  \n",
      " 9   fire_origin_Unknown                       int64  \n",
      " 10  fire_origin_National Park                 int64  \n",
      " 11  general_cause_desc_Lightning              int64  \n",
      " 12  general_cause_desc_Incendiary             int64  \n",
      " 13  general_cause_desc_Recreation             int64  \n",
      " 14  general_cause_desc_Resident               int64  \n",
      " 15  general_cause_desc_Prescribed Fire        int64  \n",
      " 16  general_cause_desc_Undetermined           int64  \n",
      " 17  general_cause_desc_Power Line Industry    int64  \n",
      " 18  general_cause_desc_Agriculture Industry   int64  \n",
      " 19  general_cause_desc_Oil & Gas Industry     int64  \n",
      " 20  general_cause_desc_Forest Industry        int64  \n",
      " 21  general_cause_desc_Railroad               int64  \n",
      " 22  general_cause_desc_Other Industry         int64  \n",
      " 23  general_cause_desc_Restart                int64  \n",
      " 24  general_cause_desc_Government             int64  \n",
      " 25  general_cause_desc_Under Investigation    int64  \n",
      " 26  activity_class_Unknown                    int64  \n",
      " 27  activity_class_Lighting Fires             int64  \n",
      " 28  activity_class_Unclassified               int64  \n",
      " 29  activity_class_All Terrain Vehicles       int64  \n",
      " 30  activity_class_Grass                      int64  \n",
      " 31  activity_class_Transportation             int64  \n",
      " 32  activity_class_Power Lines                int64  \n",
      " 33  activity_class_OHV Operation              int64  \n",
      " 34  activity_class_Debris Disposal            int64  \n",
      " 35  activity_class_Operations                 int64  \n",
      " 36  activity_class_Refuse                     int64  \n",
      " 37  activity_class_Piles                      int64  \n",
      " 38  activity_class_Flaring Gas                int64  \n",
      " 39  activity_class_Cooking                    int64  \n",
      " 40  activity_class_Children                   int64  \n",
      " 41  activity_class_Ammunition                 int64  \n",
      " 42  activity_class_Cooking and Warming        int64  \n",
      " 43  activity_class_Refuse Disposal            int64  \n",
      " 44  activity_class_Traditional Burning        int64  \n",
      " 45  activity_class_Rail Transportation        int64  \n",
      " 46  activity_class_Brush                      int64  \n",
      " 47  activity_class_Arson                      int64  \n",
      " 48  activity_class_Heavy Equipment            int64  \n",
      " 49  activity_class_Smoking                    int64  \n",
      " 50  activity_class_Vehicle Trans.             int64  \n",
      " 51  activity_class_Structure Fire             int64  \n",
      " 52  activity_class_Pipelines                  int64  \n",
      " 53  activity_class_Slash                      int64  \n",
      " 54  activity_class_Restart                    int64  \n",
      " 55  activity_class_Windrows                   int64  \n",
      " 56  activity_class_Prescribed Fire            int64  \n",
      " 57  activity_class_Power Saw                  int64  \n",
      " 58  activity_class_Welders                    int64  \n",
      " 59  true_cause_Unknown                        int64  \n",
      " 60  true_cause_Arson Suspected                int64  \n",
      " 61  true_cause_Hot Exhaust                    int64  \n",
      " 62  true_cause_Permit Related                 int64  \n",
      " 63  true_cause_Burning Substance              int64  \n",
      " 64  true_cause_Insufficient Buffer            int64  \n",
      " 65  true_cause_Unpredictable Event            int64  \n",
      " 66  true_cause_Unsafe Fire                    int64  \n",
      " 67  true_cause_Line Impact                    int64  \n",
      " 68  true_cause_Abandoned Fire                 int64  \n",
      " 69  true_cause_Incendiary Device              int64  \n",
      " 70  true_cause_Unclassified                   int64  \n",
      " 71  true_cause_Unattended Fire                int64  \n",
      " 72  true_cause_High Hazard                    int64  \n",
      " 73  true_cause_Mechanical Failure             int64  \n",
      " 74  true_cause_Vehicle Fire                   int64  \n",
      " 75  true_cause_Winter Burning                 int64  \n",
      " 76  true_cause_Arson Known                    int64  \n",
      " 77  true_cause_Friction Spark                 int64  \n",
      " 78  true_cause_Flammable Fluids               int64  \n",
      " 79  true_cause_Animals                        int64  \n",
      " 80  true_cause_Insufficient Resources         int64  \n",
      " 81  det_agent_type_LKT                        int64  \n",
      " 82  det_agent_type_AIR                        int64  \n",
      " 83  det_agent_type_UNP                        int64  \n",
      " 84  det_agent_type_GRP                        int64  \n",
      " 85  det_agent_BF                              int64  \n",
      " 86  det_agent_MD                              int64  \n",
      " 87  det_agent_FG                              int64  \n",
      " 88  det_agent_YA                              int64  \n",
      " 89  det_agent_CM                              int64  \n",
      " 90  det_agent_LFS                             int64  \n",
      " 91  det_agent_310                             int64  \n",
      " 92  det_agent_SR                              int64  \n",
      " 93  det_agent_PD                              int64  \n",
      " 94  det_agent_OL                              int64  \n",
      " 95  det_agent_RT                              int64  \n",
      " 96  det_agent_GE                              int64  \n",
      " 97  det_agent_WF                              int64  \n",
      " 98  det_agent_GOVT                            int64  \n",
      " 99  det_agent_WM                              int64  \n",
      " 100 det_agent_HL                              int64  \n",
      " 101 det_agent_PUB                             int64  \n",
      " 102 det_agent_WT                              int64  \n",
      " 103 det_agent_PU                              int64  \n",
      " 104 det_agent_MQ                              int64  \n",
      " 105 det_agent_FRST                            int64  \n",
      " 106 det_agent_HAC                             int64  \n",
      " 107 det_agent_ASU                             int64  \n",
      " 108 det_agent_CC                              int64  \n",
      " 109 det_agent_RI                              int64  \n",
      " 110 det_agent_UAA                             int64  \n",
      " 111 det_agent_PO                              int64  \n",
      " 112 det_agent_ED                              int64  \n",
      " 113 det_agent_GL                              int64  \n",
      " 114 det_agent_UIND                            int64  \n",
      " 115 det_agent_UPA                             int64  \n",
      " 116 det_agent_TT                              int64  \n",
      " 117 det_agent_IS                              int64  \n",
      " 118 det_agent_AD                              int64  \n",
      " 119 det_agent_LK                              int64  \n",
      " 120 det_agent_SD                              int64  \n",
      " 121 det_agent_WU                              int64  \n",
      " 122 det_agent_RW                              int64  \n",
      " 123 det_agent_BC                              int64  \n",
      " 124 det_agent_AM                              int64  \n",
      " 125 det_agent_ZA                              int64  \n",
      " 126 det_agent_VG                              int64  \n",
      " 127 det_agent_JE                              int64  \n",
      " 128 det_agent_GARD                            int64  \n",
      " 129 det_agent_MR                              int64  \n",
      " 130 det_agent_BS                              int64  \n",
      " 131 det_agent_BI                              int64  \n",
      " 132 det_agent_CY                              int64  \n",
      " 133 det_agent_GT                              int64  \n",
      " 134 det_agent_AL                              int64  \n",
      " 135 det_agent_DM                              int64  \n",
      " 136 det_agent_CP                              int64  \n",
      " 137 det_agent_LG                              int64  \n",
      " 138 det_agent_CK                              int64  \n",
      " 139 det_agent_SV                              int64  \n",
      " 140 det_agent_TY                              int64  \n",
      " 141 det_agent_PS                              int64  \n",
      " 142 det_agent_MY                              int64  \n",
      " 143 det_agent_RK                              int64  \n",
      " 144 det_agent_RH                              int64  \n",
      " 145 det_agent_BN                              int64  \n",
      " 146 det_agent_ST                              int64  \n",
      " 147 det_agent_CU                              int64  \n",
      " 148 det_agent_PT                              int64  \n",
      " 149 det_agent_LO                              int64  \n",
      " 150 det_agent_GF                              int64  \n",
      " 151 det_agent_TO                              int64  \n",
      " 152 det_agent_EA                              int64  \n",
      " 153 det_agent_BR                              int64  \n",
      " 154 det_agent_SK                              int64  \n",
      " 155 det_agent_EL                              int64  \n",
      " 156 det_agent_CF                              int64  \n",
      " 157 det_agent_BZ                              int64  \n",
      " 158 det_agent_SQ                              int64  \n",
      " 159 det_agent_WC                              int64  \n",
      " 160 det_agent_RA                              int64  \n",
      " 161 det_agent_CH                              int64  \n",
      " 162 det_agent_PA                              int64  \n",
      " 163 det_agent_AU                              int64  \n",
      " 164 det_agent_BM                              int64  \n",
      " 165 det_agent_HM                              int64  \n",
      " 166 det_agent_TP                              int64  \n",
      " 167 det_agent_FW                              int64  \n",
      " 168 det_agent_EH                              int64  \n",
      " 169 det_agent_HH                              int64  \n",
      " 170 det_agent_TM                              int64  \n",
      " 171 det_agent_RE                              int64  \n",
      " 172 det_agent_MU                              int64  \n",
      " 173 det_agent_BL                              int64  \n",
      " 174 det_agent_RY                              int64  \n",
      " 175 det_agent_WI                              int64  \n",
      " 176 det_agent_HK                              int64  \n",
      " 177 det_agent_RAP                             int64  \n",
      " 178 det_agent_LI                              int64  \n",
      " 179 det_agent_JM                              int64  \n",
      " 180 det_agent_GM                              int64  \n",
      " 181 det_agent_FT                              int64  \n",
      " 182 det_agent_MN                              int64  \n",
      " 183 det_agent_SW                              int64  \n",
      " 184 det_agent_KE                              int64  \n",
      " 185 det_agent_DG                              int64  \n",
      " 186 det_agent_FO                              int64  \n",
      " 187 det_agent_BP                              int64  \n",
      " 188 det_agent_KM                              int64  \n",
      " 189 det_agent_BY                              int64  \n",
      " 190 det_agent_BD                              int64  \n",
      " 191 det_agent_PATR                            int64  \n",
      " 192 det_agent_BH                              int64  \n",
      " 193 det_agent_DW                              int64  \n",
      " 194 det_agent_IM                              int64  \n",
      " 195 det_agent_SP                              int64  \n",
      " 196 det_agent_AN                              int64  \n",
      " 197 det_agent_WD                              int64  \n",
      " 198 det_agent_HU                              int64  \n",
      " 199 det_agent_SI                              int64  \n",
      " 200 det_agent_MB                              int64  \n",
      " 201 det_agent_JO                              int64  \n",
      " 202 det_agent_CA                              int64  \n",
      " 203 det_agent_SA                              int64  \n",
      " 204 det_agent_BE                              int64  \n",
      " 205 det_agent_HB                              int64  \n",
      " 206 det_agent_NO                              int64  \n",
      " 207 det_agent_AT                              int64  \n",
      " 208 det_agent_FL                              int64  \n",
      " 209 det_agent_PL                              int64  \n",
      " 210 det_agent_YH                              int64  \n",
      " 211 det_agent_SN                              int64  \n",
      " 212 det_agent_KA                              int64  \n",
      " 213 det_agent_BT                              int64  \n",
      " 214 det_agent_HA                              int64  \n",
      " 215 det_agent_KB                              int64  \n",
      " 216 det_agent_CE                              int64  \n",
      " 217 det_agent_EC                              int64  \n",
      " 218 det_agent_SG                              int64  \n",
      " 219 det_agent_MH                              int64  \n",
      " 220 det_agent_MS                              int64  \n",
      " 221 det_agent_MO                              int64  \n",
      " 222 initial_action_by_Air Tanker              int64  \n",
      " 223 initial_action_by_HAC1F                   int64  \n",
      " 224 initial_action_by_FTAC                    int64  \n",
      " 225 initial_action_by_HAC                     int64  \n",
      " 226 initial_action_by_HAC1H                   int64  \n",
      " 227 initial_action_by_FPD Staff               int64  \n",
      " 228 initial_action_by_Fire Department         int64  \n",
      " 229 initial_action_by_Land Owner              int64  \n",
      " 230 initial_action_by_Industry                int64  \n",
      " 231 initial_action_by_Public                  int64  \n",
      " 232 initial_action_by_Other Agency            int64  \n",
      " 233 initial_action_by_RAP                     int64  \n",
      " 234 initial_action_by_HAC1R                   int64  \n",
      " 235 initial_action_by_WFC2                    int64  \n",
      " 236 initial_action_by_UNIT                    int64  \n",
      " 237 fire_type_Surface                         int64  \n",
      " 238 fire_type_Crown                           int64  \n",
      " 239 fire_type_Ground                          int64  \n",
      " 240 fire_type_Unknown                         int64  \n",
      " 241 fire_position_on_slope_Flat               int64  \n",
      " 242 fire_position_on_slope_Middle 1/3         int64  \n",
      " 243 fire_position_on_slope_Bottom             int64  \n",
      " 244 fire_position_on_slope_Upper 1/3          int64  \n",
      " 245 fire_position_on_slope_Lower 1/3          int64  \n",
      " 246 fire_position_on_slope_Unknown            int64  \n",
      " 247 weather_conditions_over_fire_CB Wet       int64  \n",
      " 248 weather_conditions_over_fire_Clear        int64  \n",
      " 249 weather_conditions_over_fire_Cloudy       int64  \n",
      " 250 weather_conditions_over_fire_CB Dry       int64  \n",
      " 251 weather_conditions_over_fire_Rainshowers  int64  \n",
      " 252 weather_conditions_over_fire_Unknown      int64  \n",
      " 253 fuel_type_O1b                             int64  \n",
      " 254 fuel_type_S2                              int64  \n",
      " 255 fuel_type_M1                              int64  \n",
      " 256 fuel_type_C2                              int64  \n",
      " 257 fuel_type_C3                              int64  \n",
      " 258 fuel_type_O1a                             int64  \n",
      " 259 fuel_type_Unknown                         int64  \n",
      " 260 fuel_type_D1                              int64  \n",
      " 261 fuel_type_M2                              int64  \n",
      " 262 fuel_type_C4                              int64  \n",
      " 263 fuel_type_S1                              int64  \n",
      " 264 fuel_type_C1                              int64  \n",
      " 265 fuel_type_C7                              int64  \n",
      " 266 assessment_datetime_Year                  float64\n",
      " 267 assessment_datetime_Month                 float64\n",
      " 268 assessment_datetime_Day                   float64\n",
      " 269 fire_start_date_Year                      float64\n",
      " 270 fire_start_date_Month                     float64\n",
      " 271 fire_start_date_Day                       float64\n",
      " 272 discovered_date_Year                      float64\n",
      " 273 discovered_date_Month                     float64\n",
      " 274 discovered_date_Day                       float64\n",
      " 275 reported_date_Year                        float64\n",
      " 276 reported_date_Month                       float64\n",
      " 277 reported_date_Day                         float64\n",
      " 278 start_for_fire_date_Year                  float64\n",
      " 279 start_for_fire_date_Month                 float64\n",
      " 280 start_for_fire_date_Day                   float64\n",
      " 281 fire_fighting_start_date_Year             float64\n",
      " 282 fire_fighting_start_date_Month            float64\n",
      " 283 fire_fighting_start_date_Day              float64\n",
      " 284 bh_fs_date_Year                           float64\n",
      " 285 bh_fs_date_Month                          float64\n",
      " 286 bh_fs_date_Day                            float64\n",
      " 287 uc_fs_date_Year                           float64\n",
      " 288 uc_fs_date_Month                          float64\n",
      " 289 uc_fs_date_Day                            float64\n",
      " 290 ex_fs_date_Year                           float64\n",
      " 291 ex_fs_date_Month                          float64\n",
      " 292 ex_fs_date_Day                            float64\n",
      "dtypes: float64(30), int64(263)\n",
      "memory usage: 6.3 MB\n"
     ]
    }
   ],
   "source": [
    "### Place holder\n",
    "ohe = ce.OneHotEncoder(handle_unknown='value', use_cat_names=True)\n",
    "X_train_ohe = ohe.fit_transform(X_train)\n",
    "X_train_ohe.info(verbose=True)"
   ]
  },
  {
   "cell_type": "code",
   "execution_count": 145,
   "metadata": {},
   "outputs": [
    {
     "name": "stdout",
     "output_type": "stream",
     "text": [
      "<class 'pandas.core.frame.DataFrame'>\n",
      "RangeIndex: 3969 entries, 0 to 3968\n",
      "Data columns (total 293 columns):\n",
      " #   Column                                    Dtype  \n",
      "---  ------                                    -----  \n",
      " 0   fire_year                                 float64\n",
      " 1   fire_location_latitude                    float64\n",
      " 2   fire_location_longitude                   float64\n",
      " 3   fire_origin_Provincial Land               int64  \n",
      " 4   fire_origin_Private Land                  int64  \n",
      " 5   fire_origin_Indian Reservation            int64  \n",
      " 6   fire_origin_DND                           int64  \n",
      " 7   fire_origin_Metis Settlement              int64  \n",
      " 8   fire_origin_Provincial Park               int64  \n",
      " 9   fire_origin_Unknown                       int64  \n",
      " 10  fire_origin_National Park                 int64  \n",
      " 11  general_cause_desc_Lightning              int64  \n",
      " 12  general_cause_desc_Incendiary             int64  \n",
      " 13  general_cause_desc_Recreation             int64  \n",
      " 14  general_cause_desc_Resident               int64  \n",
      " 15  general_cause_desc_Prescribed Fire        int64  \n",
      " 16  general_cause_desc_Undetermined           int64  \n",
      " 17  general_cause_desc_Power Line Industry    int64  \n",
      " 18  general_cause_desc_Agriculture Industry   int64  \n",
      " 19  general_cause_desc_Oil & Gas Industry     int64  \n",
      " 20  general_cause_desc_Forest Industry        int64  \n",
      " 21  general_cause_desc_Railroad               int64  \n",
      " 22  general_cause_desc_Other Industry         int64  \n",
      " 23  general_cause_desc_Restart                int64  \n",
      " 24  general_cause_desc_Government             int64  \n",
      " 25  general_cause_desc_Under Investigation    int64  \n",
      " 26  activity_class_Unknown                    int64  \n",
      " 27  activity_class_Lighting Fires             int64  \n",
      " 28  activity_class_Unclassified               int64  \n",
      " 29  activity_class_All Terrain Vehicles       int64  \n",
      " 30  activity_class_Grass                      int64  \n",
      " 31  activity_class_Transportation             int64  \n",
      " 32  activity_class_Power Lines                int64  \n",
      " 33  activity_class_OHV Operation              int64  \n",
      " 34  activity_class_Debris Disposal            int64  \n",
      " 35  activity_class_Operations                 int64  \n",
      " 36  activity_class_Refuse                     int64  \n",
      " 37  activity_class_Piles                      int64  \n",
      " 38  activity_class_Flaring Gas                int64  \n",
      " 39  activity_class_Cooking                    int64  \n",
      " 40  activity_class_Children                   int64  \n",
      " 41  activity_class_Ammunition                 int64  \n",
      " 42  activity_class_Cooking and Warming        int64  \n",
      " 43  activity_class_Refuse Disposal            int64  \n",
      " 44  activity_class_Traditional Burning        int64  \n",
      " 45  activity_class_Rail Transportation        int64  \n",
      " 46  activity_class_Brush                      int64  \n",
      " 47  activity_class_Arson                      int64  \n",
      " 48  activity_class_Heavy Equipment            int64  \n",
      " 49  activity_class_Smoking                    int64  \n",
      " 50  activity_class_Vehicle Trans.             int64  \n",
      " 51  activity_class_Structure Fire             int64  \n",
      " 52  activity_class_Pipelines                  int64  \n",
      " 53  activity_class_Slash                      int64  \n",
      " 54  activity_class_Restart                    int64  \n",
      " 55  activity_class_Windrows                   int64  \n",
      " 56  activity_class_Prescribed Fire            int64  \n",
      " 57  activity_class_Power Saw                  int64  \n",
      " 58  activity_class_Welders                    int64  \n",
      " 59  true_cause_Unknown                        int64  \n",
      " 60  true_cause_Arson Suspected                int64  \n",
      " 61  true_cause_Hot Exhaust                    int64  \n",
      " 62  true_cause_Permit Related                 int64  \n",
      " 63  true_cause_Burning Substance              int64  \n",
      " 64  true_cause_Insufficient Buffer            int64  \n",
      " 65  true_cause_Unpredictable Event            int64  \n",
      " 66  true_cause_Unsafe Fire                    int64  \n",
      " 67  true_cause_Line Impact                    int64  \n",
      " 68  true_cause_Abandoned Fire                 int64  \n",
      " 69  true_cause_Incendiary Device              int64  \n",
      " 70  true_cause_Unclassified                   int64  \n",
      " 71  true_cause_Unattended Fire                int64  \n",
      " 72  true_cause_High Hazard                    int64  \n",
      " 73  true_cause_Mechanical Failure             int64  \n",
      " 74  true_cause_Vehicle Fire                   int64  \n",
      " 75  true_cause_Winter Burning                 int64  \n",
      " 76  true_cause_Arson Known                    int64  \n",
      " 77  true_cause_Friction Spark                 int64  \n",
      " 78  true_cause_Flammable Fluids               int64  \n",
      " 79  true_cause_Animals                        int64  \n",
      " 80  true_cause_Insufficient Resources         int64  \n",
      " 81  det_agent_type_LKT                        int64  \n",
      " 82  det_agent_type_AIR                        int64  \n",
      " 83  det_agent_type_UNP                        int64  \n",
      " 84  det_agent_type_GRP                        int64  \n",
      " 85  det_agent_BF                              int64  \n",
      " 86  det_agent_MD                              int64  \n",
      " 87  det_agent_FG                              int64  \n",
      " 88  det_agent_YA                              int64  \n",
      " 89  det_agent_CM                              int64  \n",
      " 90  det_agent_LFS                             int64  \n",
      " 91  det_agent_310                             int64  \n",
      " 92  det_agent_SR                              int64  \n",
      " 93  det_agent_PD                              int64  \n",
      " 94  det_agent_OL                              int64  \n",
      " 95  det_agent_RT                              int64  \n",
      " 96  det_agent_GE                              int64  \n",
      " 97  det_agent_WF                              int64  \n",
      " 98  det_agent_GOVT                            int64  \n",
      " 99  det_agent_WM                              int64  \n",
      " 100 det_agent_HL                              int64  \n",
      " 101 det_agent_PUB                             int64  \n",
      " 102 det_agent_WT                              int64  \n",
      " 103 det_agent_PU                              int64  \n",
      " 104 det_agent_MQ                              int64  \n",
      " 105 det_agent_FRST                            int64  \n",
      " 106 det_agent_HAC                             int64  \n",
      " 107 det_agent_ASU                             int64  \n",
      " 108 det_agent_CC                              int64  \n",
      " 109 det_agent_RI                              int64  \n",
      " 110 det_agent_UAA                             int64  \n",
      " 111 det_agent_PO                              int64  \n",
      " 112 det_agent_ED                              int64  \n",
      " 113 det_agent_GL                              int64  \n",
      " 114 det_agent_UIND                            int64  \n",
      " 115 det_agent_UPA                             int64  \n",
      " 116 det_agent_TT                              int64  \n",
      " 117 det_agent_IS                              int64  \n",
      " 118 det_agent_AD                              int64  \n",
      " 119 det_agent_LK                              int64  \n",
      " 120 det_agent_SD                              int64  \n",
      " 121 det_agent_WU                              int64  \n",
      " 122 det_agent_RW                              int64  \n",
      " 123 det_agent_BC                              int64  \n",
      " 124 det_agent_AM                              int64  \n",
      " 125 det_agent_ZA                              int64  \n",
      " 126 det_agent_VG                              int64  \n",
      " 127 det_agent_JE                              int64  \n",
      " 128 det_agent_GARD                            int64  \n",
      " 129 det_agent_MR                              int64  \n",
      " 130 det_agent_BS                              int64  \n",
      " 131 det_agent_BI                              int64  \n",
      " 132 det_agent_CY                              int64  \n",
      " 133 det_agent_GT                              int64  \n",
      " 134 det_agent_AL                              int64  \n",
      " 135 det_agent_DM                              int64  \n",
      " 136 det_agent_CP                              int64  \n",
      " 137 det_agent_LG                              int64  \n",
      " 138 det_agent_CK                              int64  \n",
      " 139 det_agent_SV                              int64  \n",
      " 140 det_agent_TY                              int64  \n",
      " 141 det_agent_PS                              int64  \n",
      " 142 det_agent_MY                              int64  \n",
      " 143 det_agent_RK                              int64  \n",
      " 144 det_agent_RH                              int64  \n",
      " 145 det_agent_BN                              int64  \n",
      " 146 det_agent_ST                              int64  \n",
      " 147 det_agent_CU                              int64  \n",
      " 148 det_agent_PT                              int64  \n",
      " 149 det_agent_LO                              int64  \n",
      " 150 det_agent_GF                              int64  \n",
      " 151 det_agent_TO                              int64  \n",
      " 152 det_agent_EA                              int64  \n",
      " 153 det_agent_BR                              int64  \n",
      " 154 det_agent_SK                              int64  \n",
      " 155 det_agent_EL                              int64  \n",
      " 156 det_agent_CF                              int64  \n",
      " 157 det_agent_BZ                              int64  \n",
      " 158 det_agent_SQ                              int64  \n",
      " 159 det_agent_WC                              int64  \n",
      " 160 det_agent_RA                              int64  \n",
      " 161 det_agent_CH                              int64  \n",
      " 162 det_agent_PA                              int64  \n",
      " 163 det_agent_AU                              int64  \n",
      " 164 det_agent_BM                              int64  \n",
      " 165 det_agent_HM                              int64  \n",
      " 166 det_agent_TP                              int64  \n",
      " 167 det_agent_FW                              int64  \n",
      " 168 det_agent_EH                              int64  \n",
      " 169 det_agent_HH                              int64  \n",
      " 170 det_agent_TM                              int64  \n",
      " 171 det_agent_RE                              int64  \n",
      " 172 det_agent_MU                              int64  \n",
      " 173 det_agent_BL                              int64  \n",
      " 174 det_agent_RY                              int64  \n",
      " 175 det_agent_WI                              int64  \n",
      " 176 det_agent_HK                              int64  \n",
      " 177 det_agent_RAP                             int64  \n",
      " 178 det_agent_LI                              int64  \n",
      " 179 det_agent_JM                              int64  \n",
      " 180 det_agent_GM                              int64  \n",
      " 181 det_agent_FT                              int64  \n",
      " 182 det_agent_MN                              int64  \n",
      " 183 det_agent_SW                              int64  \n",
      " 184 det_agent_KE                              int64  \n",
      " 185 det_agent_DG                              int64  \n",
      " 186 det_agent_FO                              int64  \n",
      " 187 det_agent_BP                              int64  \n",
      " 188 det_agent_KM                              int64  \n",
      " 189 det_agent_BY                              int64  \n",
      " 190 det_agent_BD                              int64  \n",
      " 191 det_agent_PATR                            int64  \n",
      " 192 det_agent_BH                              int64  \n",
      " 193 det_agent_DW                              int64  \n",
      " 194 det_agent_IM                              int64  \n",
      " 195 det_agent_SP                              int64  \n",
      " 196 det_agent_AN                              int64  \n",
      " 197 det_agent_WD                              int64  \n",
      " 198 det_agent_HU                              int64  \n",
      " 199 det_agent_SI                              int64  \n",
      " 200 det_agent_MB                              int64  \n",
      " 201 det_agent_JO                              int64  \n",
      " 202 det_agent_CA                              int64  \n",
      " 203 det_agent_SA                              int64  \n",
      " 204 det_agent_BE                              int64  \n",
      " 205 det_agent_HB                              int64  \n",
      " 206 det_agent_NO                              int64  \n",
      " 207 det_agent_AT                              int64  \n",
      " 208 det_agent_FL                              int64  \n",
      " 209 det_agent_PL                              int64  \n",
      " 210 det_agent_YH                              int64  \n",
      " 211 det_agent_SN                              int64  \n",
      " 212 det_agent_KA                              int64  \n",
      " 213 det_agent_BT                              int64  \n",
      " 214 det_agent_HA                              int64  \n",
      " 215 det_agent_KB                              int64  \n",
      " 216 det_agent_CE                              int64  \n",
      " 217 det_agent_EC                              int64  \n",
      " 218 det_agent_SG                              int64  \n",
      " 219 det_agent_MH                              int64  \n",
      " 220 det_agent_MS                              int64  \n",
      " 221 det_agent_MO                              int64  \n",
      " 222 initial_action_by_Air Tanker              int64  \n",
      " 223 initial_action_by_HAC1F                   int64  \n",
      " 224 initial_action_by_FTAC                    int64  \n",
      " 225 initial_action_by_HAC                     int64  \n",
      " 226 initial_action_by_HAC1H                   int64  \n",
      " 227 initial_action_by_FPD Staff               int64  \n",
      " 228 initial_action_by_Fire Department         int64  \n",
      " 229 initial_action_by_Land Owner              int64  \n",
      " 230 initial_action_by_Industry                int64  \n",
      " 231 initial_action_by_Public                  int64  \n",
      " 232 initial_action_by_Other Agency            int64  \n",
      " 233 initial_action_by_RAP                     int64  \n",
      " 234 initial_action_by_HAC1R                   int64  \n",
      " 235 initial_action_by_WFC2                    int64  \n",
      " 236 initial_action_by_UNIT                    int64  \n",
      " 237 fire_type_Surface                         int64  \n",
      " 238 fire_type_Crown                           int64  \n",
      " 239 fire_type_Ground                          int64  \n",
      " 240 fire_type_Unknown                         int64  \n",
      " 241 fire_position_on_slope_Flat               int64  \n",
      " 242 fire_position_on_slope_Middle 1/3         int64  \n",
      " 243 fire_position_on_slope_Bottom             int64  \n",
      " 244 fire_position_on_slope_Upper 1/3          int64  \n",
      " 245 fire_position_on_slope_Lower 1/3          int64  \n",
      " 246 fire_position_on_slope_Unknown            int64  \n",
      " 247 weather_conditions_over_fire_CB Wet       int64  \n",
      " 248 weather_conditions_over_fire_Clear        int64  \n",
      " 249 weather_conditions_over_fire_Cloudy       int64  \n",
      " 250 weather_conditions_over_fire_CB Dry       int64  \n",
      " 251 weather_conditions_over_fire_Rainshowers  int64  \n",
      " 252 weather_conditions_over_fire_Unknown      int64  \n",
      " 253 fuel_type_O1b                             int64  \n",
      " 254 fuel_type_S2                              int64  \n",
      " 255 fuel_type_M1                              int64  \n",
      " 256 fuel_type_C2                              int64  \n",
      " 257 fuel_type_C3                              int64  \n",
      " 258 fuel_type_O1a                             int64  \n",
      " 259 fuel_type_Unknown                         int64  \n",
      " 260 fuel_type_D1                              int64  \n",
      " 261 fuel_type_M2                              int64  \n",
      " 262 fuel_type_C4                              int64  \n",
      " 263 fuel_type_S1                              int64  \n",
      " 264 fuel_type_C1                              int64  \n",
      " 265 fuel_type_C7                              int64  \n",
      " 266 assessment_datetime_Year                  float64\n",
      " 267 assessment_datetime_Month                 float64\n",
      " 268 assessment_datetime_Day                   float64\n",
      " 269 fire_start_date_Year                      float64\n",
      " 270 fire_start_date_Month                     float64\n",
      " 271 fire_start_date_Day                       float64\n",
      " 272 discovered_date_Year                      float64\n",
      " 273 discovered_date_Month                     float64\n",
      " 274 discovered_date_Day                       float64\n",
      " 275 reported_date_Year                        float64\n",
      " 276 reported_date_Month                       float64\n",
      " 277 reported_date_Day                         float64\n",
      " 278 start_for_fire_date_Year                  float64\n",
      " 279 start_for_fire_date_Month                 float64\n",
      " 280 start_for_fire_date_Day                   float64\n",
      " 281 fire_fighting_start_date_Year             float64\n",
      " 282 fire_fighting_start_date_Month            float64\n",
      " 283 fire_fighting_start_date_Day              float64\n",
      " 284 bh_fs_date_Year                           float64\n",
      " 285 bh_fs_date_Month                          float64\n",
      " 286 bh_fs_date_Day                            float64\n",
      " 287 uc_fs_date_Year                           float64\n",
      " 288 uc_fs_date_Month                          float64\n",
      " 289 uc_fs_date_Day                            float64\n",
      " 290 ex_fs_date_Year                           float64\n",
      " 291 ex_fs_date_Month                          float64\n",
      " 292 ex_fs_date_Day                            float64\n",
      "dtypes: float64(30), int64(263)\n",
      "memory usage: 8.9 MB\n"
     ]
    }
   ],
   "source": [
    "X_test_ohe = ohe.transform(X_test)\n",
    "X_test_ohe.info(verbose=True)"
   ]
  },
  {
   "cell_type": "code",
   "execution_count": null,
   "metadata": {},
   "outputs": [],
   "source": []
  }
 ],
 "metadata": {
  "kernelspec": {
   "display_name": "Python 3",
   "language": "python",
   "name": "python3"
  },
  "language_info": {
   "codemirror_mode": {
    "name": "ipython",
    "version": 3
   },
   "file_extension": ".py",
   "mimetype": "text/x-python",
   "name": "python",
   "nbconvert_exporter": "python",
   "pygments_lexer": "ipython3",
   "version": "3.6.10"
  }
 },
 "nbformat": 4,
 "nbformat_minor": 4
}
