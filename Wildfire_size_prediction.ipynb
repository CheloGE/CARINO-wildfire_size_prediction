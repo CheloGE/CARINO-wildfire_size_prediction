{
 "cells": [
  {
   "cell_type": "markdown",
   "metadata": {},
   "source": [
    "# The aim of this notebook is to create a model that predicts the size of a wildfire\n",
    "\n",
    "Author: Marcelo Garcia Escalante\n",
    "\n",
    "## Index\n",
    "\n",
    "1. [EDA+Preprocess Data](#1.-EDA-(Exploratory-Data-Analysis)-+-preprocess-data)\n",
    " * [Clean data](#Clean-data)\n",
    "     * [Parsing Dates](#Parsing-Dates)\n",
    "     * [Find null values](#Find-null-values)\n",
    "     * [fillining null data](#fillining-null-data)\n",
    " * [Feature engineering](#Feature-engineering)\n",
    " * [Standardize data](#Standardize-data)\n",
    " * [Visualize class distribution](#Visualize-class-distribution)\n",
    " \n",
    "2. [Build Model](#2.-Build-Model)\n",
    " * [One Hot encode categorical data](#One-Hot-encode-categorical-data)\n",
    " * [Stratified cross validation](#Stratified-cross-validation)\n",
    " * [Define feature importance](#Define-feature-importance)\n",
    "3. [Make submission](#3.-Make-submission)\n",
    "4. [References](#4.-References)"
   ]
  },
  {
   "cell_type": "code",
   "execution_count": 2910,
   "metadata": {},
   "outputs": [
    {
     "name": "stdout",
     "output_type": "stream",
     "text": [
      "The autoreload extension is already loaded. To reload it, use:\n",
      "  %reload_ext autoreload\n"
     ]
    }
   ],
   "source": [
    "# All imports for the project goes here\n",
    "import pandas as pd\n",
    "import numpy as np\n",
    "import matplotlib.pyplot as plt\n",
    "from collections import Counter\n",
    "from helpers import feature_plot, oneHotEnc_to_classes, parse_datetime_features_to_hours, RocCallback\n",
    "from helpers import datetime_feature_engineering, fill_datetime_with_neighbors, fire_number_feature_engineering\n",
    "from helpers import F1Callback\n",
    "from sklearn.ensemble import RandomForestClassifier, AdaBoostClassifier, GradientBoostingClassifier\n",
    "import category_encoders as ce\n",
    "from datetime import datetime\n",
    "from sklearn.preprocessing import StandardScaler, RobustScaler\n",
    "from helpers import feature_plot\n",
    "from sklearn.model_selection import StratifiedKFold\n",
    "from sklearn.model_selection import train_test_split\n",
    "from sklearn.metrics import fbeta_score, accuracy_score, make_scorer\n",
    "from sklearn.model_selection import GridSearchCV\n",
    "\n",
    "\n",
    "%matplotlib inline\n",
    "%load_ext autoreload\n",
    "%autoreload 2"
   ]
  },
  {
   "cell_type": "markdown",
   "metadata": {},
   "source": [
    "## 1. EDA (Exploratory Data Analysis) + preprocess data\n",
    "\n",
    "In this section, we will visualize and analyze our dataset. Also any possible clean-up required will be performed. "
   ]
  },
  {
   "cell_type": "code",
   "execution_count": 4803,
   "metadata": {},
   "outputs": [],
   "source": [
    "# Loading the dataset\n",
    "#train = pd.read_csv('train_fuel_plus_true_cause_plus_activity_class.csv')\n",
    "#test = pd.read_csv('test_fuel_plus_true_cause_plus_activity_class.csv')\n",
    "#train = pd.read_csv(\n",
    "#    'train_fuel_pp_true_cause_pp_activity_class_pp_weather_conditions_pp_fire_posSlope_pp_fire_type2.csv')\n",
    "#test = pd.read_csv(\n",
    "#    'test_fuel_pp_true_cause_pp_activity_class_pp_weather_conditions_pp_fire_posSlope_pp_fire_type2.csv')\n",
    "\n",
    "train = pd.read_csv(\n",
    "    'train_fuel_pp_true_cause_pp_activity_class_pp_weather_conditions_pp_fire_posSlope_pp_fire_type2.csv')\n",
    "test = pd.read_csv(\n",
    "    'test_fuel_pp_true_cause_pp_activity_class_pp_weather_conditions_pp_fire_posSlope_pp_fire_type2.csv')"
   ]
  },
  {
   "cell_type": "code",
   "execution_count": 4804,
   "metadata": {},
   "outputs": [
    {
     "data": {
      "text/plain": [
       "fire_number                      object\n",
       "fire_year                         int64\n",
       "assessment_datetime              object\n",
       "size_class                       object\n",
       "fire_location_latitude          float64\n",
       "fire_location_longitude         float64\n",
       "fire_origin                      object\n",
       "general_cause_desc               object\n",
       "activity_class                   object\n",
       "true_cause                       object\n",
       "fire_start_date                  object\n",
       "det_agent_type                   object\n",
       "det_agent                        object\n",
       "discovered_date                  object\n",
       "reported_date                    object\n",
       "start_for_fire_date              object\n",
       "fire_fighting_start_date         object\n",
       "initial_action_by                object\n",
       "fire_type                        object\n",
       "fire_position_on_slope           object\n",
       "weather_conditions_over_fire     object\n",
       "fuel_type                        object\n",
       "bh_fs_date                       object\n",
       "uc_fs_date                       object\n",
       "ex_fs_date                       object\n",
       "dtype: object"
      ]
     },
     "execution_count": 4804,
     "metadata": {},
     "output_type": "execute_result"
    }
   ],
   "source": [
    "train.dtypes"
   ]
  },
  {
   "cell_type": "markdown",
   "metadata": {},
   "source": [
    "`note:` We can see that most of our data is categorical with two of the features being float numbers and one an integer"
   ]
  },
  {
   "cell_type": "code",
   "execution_count": 4805,
   "metadata": {},
   "outputs": [
    {
     "data": {
      "text/html": [
       "<div>\n",
       "<style scoped>\n",
       "    .dataframe tbody tr th:only-of-type {\n",
       "        vertical-align: middle;\n",
       "    }\n",
       "\n",
       "    .dataframe tbody tr th {\n",
       "        vertical-align: top;\n",
       "    }\n",
       "\n",
       "    .dataframe thead th {\n",
       "        text-align: right;\n",
       "    }\n",
       "</style>\n",
       "<table border=\"1\" class=\"dataframe\">\n",
       "  <thead>\n",
       "    <tr style=\"text-align: right;\">\n",
       "      <th></th>\n",
       "      <th>fire_number</th>\n",
       "      <th>fire_year</th>\n",
       "      <th>assessment_datetime</th>\n",
       "      <th>size_class</th>\n",
       "      <th>fire_location_latitude</th>\n",
       "      <th>fire_location_longitude</th>\n",
       "      <th>fire_origin</th>\n",
       "      <th>general_cause_desc</th>\n",
       "      <th>activity_class</th>\n",
       "      <th>true_cause</th>\n",
       "      <th>fire_start_date</th>\n",
       "      <th>det_agent_type</th>\n",
       "      <th>det_agent</th>\n",
       "      <th>discovered_date</th>\n",
       "      <th>reported_date</th>\n",
       "      <th>start_for_fire_date</th>\n",
       "      <th>fire_fighting_start_date</th>\n",
       "      <th>initial_action_by</th>\n",
       "      <th>fire_type</th>\n",
       "      <th>fire_position_on_slope</th>\n",
       "      <th>weather_conditions_over_fire</th>\n",
       "      <th>fuel_type</th>\n",
       "      <th>bh_fs_date</th>\n",
       "      <th>uc_fs_date</th>\n",
       "      <th>ex_fs_date</th>\n",
       "    </tr>\n",
       "  </thead>\n",
       "  <tbody>\n",
       "    <tr>\n",
       "      <th>15870</th>\n",
       "      <td>SWF001</td>\n",
       "      <td>2006</td>\n",
       "      <td>2006-04-07 17:55:00</td>\n",
       "      <td>B</td>\n",
       "      <td>55.355664</td>\n",
       "      <td>-115.776846</td>\n",
       "      <td>Indian Reservation</td>\n",
       "      <td>Incendiary</td>\n",
       "      <td>Lighting Fires</td>\n",
       "      <td>Arson Known</td>\n",
       "      <td>2006-04-07 16:46:00</td>\n",
       "      <td>UNP</td>\n",
       "      <td>LFS</td>\n",
       "      <td>2006-04-07 17:46:00</td>\n",
       "      <td>2006-04-07 17:46:00</td>\n",
       "      <td>2006-04-07 18:00:00</td>\n",
       "      <td>NaN</td>\n",
       "      <td>Fire Department</td>\n",
       "      <td>Surface</td>\n",
       "      <td>Flat</td>\n",
       "      <td>Clear</td>\n",
       "      <td>O1a</td>\n",
       "      <td>2006-04-07 17:55:00</td>\n",
       "      <td>2006-04-07 17:55:00</td>\n",
       "      <td>2006-04-07 19:30:00</td>\n",
       "    </tr>\n",
       "    <tr>\n",
       "      <th>15871</th>\n",
       "      <td>HWF091</td>\n",
       "      <td>2008</td>\n",
       "      <td>2008-06-03 15:35:00</td>\n",
       "      <td>A</td>\n",
       "      <td>58.743900</td>\n",
       "      <td>-117.223467</td>\n",
       "      <td>Provincial Land</td>\n",
       "      <td>Lightning</td>\n",
       "      <td>Heavy Equipment</td>\n",
       "      <td>Unpredictable Event</td>\n",
       "      <td>2008-06-02 19:00:00</td>\n",
       "      <td>UNP</td>\n",
       "      <td>UPA</td>\n",
       "      <td>2008-06-03 15:00:00</td>\n",
       "      <td>2008-06-03 15:03:00</td>\n",
       "      <td>2008-06-03 15:08:00</td>\n",
       "      <td>2008-06-03 16:00:00</td>\n",
       "      <td>HAC1F</td>\n",
       "      <td>Ground</td>\n",
       "      <td>Flat</td>\n",
       "      <td>Clear</td>\n",
       "      <td>C2</td>\n",
       "      <td>2008-06-03 16:42:00</td>\n",
       "      <td>2008-06-03 16:42:00</td>\n",
       "      <td>2008-06-03 18:24:00</td>\n",
       "    </tr>\n",
       "    <tr>\n",
       "      <th>15872</th>\n",
       "      <td>HWF234</td>\n",
       "      <td>2015</td>\n",
       "      <td>2015-06-26 15:27:00</td>\n",
       "      <td>E</td>\n",
       "      <td>59.846600</td>\n",
       "      <td>-116.768133</td>\n",
       "      <td>Provincial Land</td>\n",
       "      <td>Lightning</td>\n",
       "      <td>Debris Disposal</td>\n",
       "      <td>Unsafe Fire</td>\n",
       "      <td>2015-06-26 12:00:00</td>\n",
       "      <td>UNP</td>\n",
       "      <td>UPA</td>\n",
       "      <td>NaN</td>\n",
       "      <td>2015-06-26 15:27:00</td>\n",
       "      <td>2015-06-26 17:30:00</td>\n",
       "      <td>2015-06-26 17:30:00</td>\n",
       "      <td>FTAC</td>\n",
       "      <td>Ground</td>\n",
       "      <td>Flat</td>\n",
       "      <td>CB Wet</td>\n",
       "      <td>C1</td>\n",
       "      <td>2015-06-26 22:00:00</td>\n",
       "      <td>2015-06-26 23:00:00</td>\n",
       "      <td>2015-07-01 10:46:00</td>\n",
       "    </tr>\n",
       "    <tr>\n",
       "      <th>15873</th>\n",
       "      <td>MWF097</td>\n",
       "      <td>2008</td>\n",
       "      <td>2008-07-19 14:59:00</td>\n",
       "      <td>A</td>\n",
       "      <td>56.300000</td>\n",
       "      <td>-112.535217</td>\n",
       "      <td>Provincial Land</td>\n",
       "      <td>Lightning</td>\n",
       "      <td>Heavy Equipment</td>\n",
       "      <td>Burning Substance</td>\n",
       "      <td>2008-07-19 13:48:00</td>\n",
       "      <td>LKT</td>\n",
       "      <td>GE</td>\n",
       "      <td>2008-07-19 14:48:00</td>\n",
       "      <td>2008-07-19 14:48:00</td>\n",
       "      <td>2008-07-19 14:55:00</td>\n",
       "      <td>2008-07-19 15:10:00</td>\n",
       "      <td>HAC1H</td>\n",
       "      <td>Surface</td>\n",
       "      <td>Flat</td>\n",
       "      <td>Cloudy</td>\n",
       "      <td>C2</td>\n",
       "      <td>2008-07-19 15:20:00</td>\n",
       "      <td>2008-07-19 15:30:00</td>\n",
       "      <td>2008-07-19 17:43:00</td>\n",
       "    </tr>\n",
       "    <tr>\n",
       "      <th>15874</th>\n",
       "      <td>SWF133</td>\n",
       "      <td>2015</td>\n",
       "      <td>2015-06-26 17:05:00</td>\n",
       "      <td>B</td>\n",
       "      <td>55.917023</td>\n",
       "      <td>-113.707167</td>\n",
       "      <td>Private Land</td>\n",
       "      <td>Resident</td>\n",
       "      <td>Debris Disposal</td>\n",
       "      <td>Unsafe Fire</td>\n",
       "      <td>2015-06-26 16:37:00</td>\n",
       "      <td>LKT</td>\n",
       "      <td>SQ</td>\n",
       "      <td>2015-06-26 16:42:00</td>\n",
       "      <td>2015-06-26 16:42:00</td>\n",
       "      <td>2015-06-26 16:51:00</td>\n",
       "      <td>2015-06-26 17:25:00</td>\n",
       "      <td>HAC</td>\n",
       "      <td>Surface</td>\n",
       "      <td>Flat</td>\n",
       "      <td>Clear</td>\n",
       "      <td>M2</td>\n",
       "      <td>2015-06-26 17:52:00</td>\n",
       "      <td>2015-06-26 19:35:00</td>\n",
       "      <td>2015-06-27 16:40:00</td>\n",
       "    </tr>\n",
       "  </tbody>\n",
       "</table>\n",
       "</div>"
      ],
      "text/plain": [
       "      fire_number  fire_year  assessment_datetime size_class  \\\n",
       "15870      SWF001       2006  2006-04-07 17:55:00          B   \n",
       "15871      HWF091       2008  2008-06-03 15:35:00          A   \n",
       "15872      HWF234       2015  2015-06-26 15:27:00          E   \n",
       "15873      MWF097       2008  2008-07-19 14:59:00          A   \n",
       "15874      SWF133       2015  2015-06-26 17:05:00          B   \n",
       "\n",
       "       fire_location_latitude  fire_location_longitude         fire_origin  \\\n",
       "15870               55.355664              -115.776846  Indian Reservation   \n",
       "15871               58.743900              -117.223467     Provincial Land   \n",
       "15872               59.846600              -116.768133     Provincial Land   \n",
       "15873               56.300000              -112.535217     Provincial Land   \n",
       "15874               55.917023              -113.707167        Private Land   \n",
       "\n",
       "      general_cause_desc   activity_class           true_cause  \\\n",
       "15870         Incendiary   Lighting Fires          Arson Known   \n",
       "15871          Lightning  Heavy Equipment  Unpredictable Event   \n",
       "15872          Lightning  Debris Disposal          Unsafe Fire   \n",
       "15873          Lightning  Heavy Equipment    Burning Substance   \n",
       "15874           Resident  Debris Disposal          Unsafe Fire   \n",
       "\n",
       "           fire_start_date det_agent_type det_agent      discovered_date  \\\n",
       "15870  2006-04-07 16:46:00            UNP       LFS  2006-04-07 17:46:00   \n",
       "15871  2008-06-02 19:00:00            UNP       UPA  2008-06-03 15:00:00   \n",
       "15872  2015-06-26 12:00:00            UNP       UPA                  NaN   \n",
       "15873  2008-07-19 13:48:00            LKT        GE  2008-07-19 14:48:00   \n",
       "15874  2015-06-26 16:37:00            LKT        SQ  2015-06-26 16:42:00   \n",
       "\n",
       "             reported_date  start_for_fire_date fire_fighting_start_date  \\\n",
       "15870  2006-04-07 17:46:00  2006-04-07 18:00:00                      NaN   \n",
       "15871  2008-06-03 15:03:00  2008-06-03 15:08:00      2008-06-03 16:00:00   \n",
       "15872  2015-06-26 15:27:00  2015-06-26 17:30:00      2015-06-26 17:30:00   \n",
       "15873  2008-07-19 14:48:00  2008-07-19 14:55:00      2008-07-19 15:10:00   \n",
       "15874  2015-06-26 16:42:00  2015-06-26 16:51:00      2015-06-26 17:25:00   \n",
       "\n",
       "      initial_action_by fire_type fire_position_on_slope  \\\n",
       "15870   Fire Department   Surface                   Flat   \n",
       "15871             HAC1F    Ground                   Flat   \n",
       "15872              FTAC    Ground                   Flat   \n",
       "15873             HAC1H   Surface                   Flat   \n",
       "15874               HAC   Surface                   Flat   \n",
       "\n",
       "      weather_conditions_over_fire fuel_type           bh_fs_date  \\\n",
       "15870                        Clear       O1a  2006-04-07 17:55:00   \n",
       "15871                        Clear        C2  2008-06-03 16:42:00   \n",
       "15872                       CB Wet        C1  2015-06-26 22:00:00   \n",
       "15873                       Cloudy        C2  2008-07-19 15:20:00   \n",
       "15874                        Clear        M2  2015-06-26 17:52:00   \n",
       "\n",
       "                uc_fs_date           ex_fs_date  \n",
       "15870  2006-04-07 17:55:00  2006-04-07 19:30:00  \n",
       "15871  2008-06-03 16:42:00  2008-06-03 18:24:00  \n",
       "15872  2015-06-26 23:00:00  2015-07-01 10:46:00  \n",
       "15873  2008-07-19 15:30:00  2008-07-19 17:43:00  \n",
       "15874  2015-06-26 19:35:00  2015-06-27 16:40:00  "
      ]
     },
     "execution_count": 4805,
     "metadata": {},
     "output_type": "execute_result"
    }
   ],
   "source": [
    "#Visualizing the train dataset\n",
    "train.tail()"
   ]
  },
  {
   "cell_type": "code",
   "execution_count": 4806,
   "metadata": {},
   "outputs": [
    {
     "data": {
      "text/html": [
       "<div>\n",
       "<style scoped>\n",
       "    .dataframe tbody tr th:only-of-type {\n",
       "        vertical-align: middle;\n",
       "    }\n",
       "\n",
       "    .dataframe tbody tr th {\n",
       "        vertical-align: top;\n",
       "    }\n",
       "\n",
       "    .dataframe thead th {\n",
       "        text-align: right;\n",
       "    }\n",
       "</style>\n",
       "<table border=\"1\" class=\"dataframe\">\n",
       "  <thead>\n",
       "    <tr style=\"text-align: right;\">\n",
       "      <th></th>\n",
       "      <th>fire_number</th>\n",
       "      <th>fire_year</th>\n",
       "      <th>assessment_datetime</th>\n",
       "      <th>fire_location_latitude</th>\n",
       "      <th>fire_location_longitude</th>\n",
       "      <th>fire_origin</th>\n",
       "      <th>general_cause_desc</th>\n",
       "      <th>activity_class</th>\n",
       "      <th>true_cause</th>\n",
       "      <th>fire_start_date</th>\n",
       "      <th>det_agent_type</th>\n",
       "      <th>det_agent</th>\n",
       "      <th>discovered_date</th>\n",
       "      <th>reported_date</th>\n",
       "      <th>start_for_fire_date</th>\n",
       "      <th>fire_fighting_start_date</th>\n",
       "      <th>initial_action_by</th>\n",
       "      <th>fire_type</th>\n",
       "      <th>fire_position_on_slope</th>\n",
       "      <th>weather_conditions_over_fire</th>\n",
       "      <th>fuel_type</th>\n",
       "      <th>bh_fs_date</th>\n",
       "      <th>uc_fs_date</th>\n",
       "      <th>ex_fs_date</th>\n",
       "    </tr>\n",
       "  </thead>\n",
       "  <tbody>\n",
       "    <tr>\n",
       "      <th>3964</th>\n",
       "      <td>RWF047</td>\n",
       "      <td>2018</td>\n",
       "      <td>2018-07-30 17:21:00</td>\n",
       "      <td>52.490550</td>\n",
       "      <td>-115.964300</td>\n",
       "      <td>Provincial Land</td>\n",
       "      <td>Lightning</td>\n",
       "      <td>Debris Disposal</td>\n",
       "      <td>Unsafe Fire</td>\n",
       "      <td>2018-07-30 16:30:00</td>\n",
       "      <td>AIR</td>\n",
       "      <td>HAC</td>\n",
       "      <td>2018-07-30 17:21:00</td>\n",
       "      <td>2018-07-30 17:21:00</td>\n",
       "      <td>2018-07-30 17:21:00</td>\n",
       "      <td>2018-07-30 17:42:00</td>\n",
       "      <td>HAC</td>\n",
       "      <td>Surface</td>\n",
       "      <td>Flat</td>\n",
       "      <td>Rainshowers</td>\n",
       "      <td>C3</td>\n",
       "      <td>2018-07-30 17:21:00</td>\n",
       "      <td>2018-07-30 17:50:00</td>\n",
       "      <td>2018-07-30 18:05:00</td>\n",
       "    </tr>\n",
       "    <tr>\n",
       "      <th>3965</th>\n",
       "      <td>GWF067</td>\n",
       "      <td>2009</td>\n",
       "      <td>2009-06-27 19:30:00</td>\n",
       "      <td>55.077350</td>\n",
       "      <td>-117.618717</td>\n",
       "      <td>Private Land</td>\n",
       "      <td>Resident</td>\n",
       "      <td>Refuse</td>\n",
       "      <td>Permit Related</td>\n",
       "      <td>2009-06-26 16:00:00</td>\n",
       "      <td>AIR</td>\n",
       "      <td>ASU</td>\n",
       "      <td>2009-06-27 17:54:00</td>\n",
       "      <td>2009-06-27 17:54:00</td>\n",
       "      <td>2009-06-27 19:00:00</td>\n",
       "      <td>NaN</td>\n",
       "      <td>Land Owner</td>\n",
       "      <td>Surface</td>\n",
       "      <td>Bottom</td>\n",
       "      <td>Cloudy</td>\n",
       "      <td>C2</td>\n",
       "      <td>2009-06-27 19:30:00</td>\n",
       "      <td>2009-06-27 19:30:00</td>\n",
       "      <td>2009-06-30 14:30:00</td>\n",
       "    </tr>\n",
       "    <tr>\n",
       "      <th>3966</th>\n",
       "      <td>GWF194</td>\n",
       "      <td>2006</td>\n",
       "      <td>2006-09-07 14:35:00</td>\n",
       "      <td>54.350328</td>\n",
       "      <td>-119.919998</td>\n",
       "      <td>Provincial Land</td>\n",
       "      <td>Restart</td>\n",
       "      <td>Piles</td>\n",
       "      <td>Unattended Fire</td>\n",
       "      <td>2006-09-01 16:00:00</td>\n",
       "      <td>AIR</td>\n",
       "      <td>MD</td>\n",
       "      <td>2006-09-07 14:35:00</td>\n",
       "      <td>2006-09-07 14:35:00</td>\n",
       "      <td>2006-09-07 14:51:00</td>\n",
       "      <td>2006-09-07 15:35:00</td>\n",
       "      <td>HAC1F</td>\n",
       "      <td>Ground</td>\n",
       "      <td>Upper 1/3</td>\n",
       "      <td>Clear</td>\n",
       "      <td>C3</td>\n",
       "      <td>2006-09-07 14:35:00</td>\n",
       "      <td>2006-09-07 14:35:00</td>\n",
       "      <td>2006-09-27 16:50:00</td>\n",
       "    </tr>\n",
       "    <tr>\n",
       "      <th>3967</th>\n",
       "      <td>LWF091</td>\n",
       "      <td>2012</td>\n",
       "      <td>2012-06-01 16:10:00</td>\n",
       "      <td>55.105667</td>\n",
       "      <td>-111.517000</td>\n",
       "      <td>Provincial Land</td>\n",
       "      <td>Recreation</td>\n",
       "      <td>Transportation</td>\n",
       "      <td>Vehicle Fire</td>\n",
       "      <td>2012-06-01 15:32:00</td>\n",
       "      <td>LKT</td>\n",
       "      <td>HL</td>\n",
       "      <td>2012-06-01 15:35:00</td>\n",
       "      <td>2012-06-01 15:35:00</td>\n",
       "      <td>2012-06-01 15:38:00</td>\n",
       "      <td>NaN</td>\n",
       "      <td>Fire Department</td>\n",
       "      <td>Surface</td>\n",
       "      <td>Bottom</td>\n",
       "      <td>Clear</td>\n",
       "      <td>O1a</td>\n",
       "      <td>2012-06-01 16:10:00</td>\n",
       "      <td>2012-06-01 16:10:00</td>\n",
       "      <td>2012-06-01 16:24:00</td>\n",
       "    </tr>\n",
       "    <tr>\n",
       "      <th>3968</th>\n",
       "      <td>GWF084</td>\n",
       "      <td>2008</td>\n",
       "      <td>2008-07-09 09:26:00</td>\n",
       "      <td>55.035717</td>\n",
       "      <td>-117.867233</td>\n",
       "      <td>Private Land</td>\n",
       "      <td>Resident</td>\n",
       "      <td>Unclassified</td>\n",
       "      <td>Unpredictable Event</td>\n",
       "      <td>2008-07-08 21:00:00</td>\n",
       "      <td>LKT</td>\n",
       "      <td>EC</td>\n",
       "      <td>2008-07-09 07:40:00</td>\n",
       "      <td>2008-07-09 07:40:00</td>\n",
       "      <td>2008-07-09 08:28:00</td>\n",
       "      <td>NaN</td>\n",
       "      <td>Fire Department</td>\n",
       "      <td>Surface</td>\n",
       "      <td>Flat</td>\n",
       "      <td>Clear</td>\n",
       "      <td>C2</td>\n",
       "      <td>2008-07-09 09:26:00</td>\n",
       "      <td>2008-07-09 09:26:00</td>\n",
       "      <td>2008-07-15 10:40:00</td>\n",
       "    </tr>\n",
       "  </tbody>\n",
       "</table>\n",
       "</div>"
      ],
      "text/plain": [
       "     fire_number  fire_year  assessment_datetime  fire_location_latitude  \\\n",
       "3964      RWF047       2018  2018-07-30 17:21:00               52.490550   \n",
       "3965      GWF067       2009  2009-06-27 19:30:00               55.077350   \n",
       "3966      GWF194       2006  2006-09-07 14:35:00               54.350328   \n",
       "3967      LWF091       2012  2012-06-01 16:10:00               55.105667   \n",
       "3968      GWF084       2008  2008-07-09 09:26:00               55.035717   \n",
       "\n",
       "      fire_location_longitude      fire_origin general_cause_desc  \\\n",
       "3964              -115.964300  Provincial Land          Lightning   \n",
       "3965              -117.618717     Private Land           Resident   \n",
       "3966              -119.919998  Provincial Land            Restart   \n",
       "3967              -111.517000  Provincial Land         Recreation   \n",
       "3968              -117.867233     Private Land           Resident   \n",
       "\n",
       "       activity_class           true_cause      fire_start_date  \\\n",
       "3964  Debris Disposal          Unsafe Fire  2018-07-30 16:30:00   \n",
       "3965           Refuse       Permit Related  2009-06-26 16:00:00   \n",
       "3966            Piles      Unattended Fire  2006-09-01 16:00:00   \n",
       "3967   Transportation         Vehicle Fire  2012-06-01 15:32:00   \n",
       "3968     Unclassified  Unpredictable Event  2008-07-08 21:00:00   \n",
       "\n",
       "     det_agent_type det_agent      discovered_date        reported_date  \\\n",
       "3964            AIR       HAC  2018-07-30 17:21:00  2018-07-30 17:21:00   \n",
       "3965            AIR       ASU  2009-06-27 17:54:00  2009-06-27 17:54:00   \n",
       "3966            AIR        MD  2006-09-07 14:35:00  2006-09-07 14:35:00   \n",
       "3967            LKT        HL  2012-06-01 15:35:00  2012-06-01 15:35:00   \n",
       "3968            LKT        EC  2008-07-09 07:40:00  2008-07-09 07:40:00   \n",
       "\n",
       "      start_for_fire_date fire_fighting_start_date initial_action_by  \\\n",
       "3964  2018-07-30 17:21:00      2018-07-30 17:42:00               HAC   \n",
       "3965  2009-06-27 19:00:00                      NaN        Land Owner   \n",
       "3966  2006-09-07 14:51:00      2006-09-07 15:35:00             HAC1F   \n",
       "3967  2012-06-01 15:38:00                      NaN   Fire Department   \n",
       "3968  2008-07-09 08:28:00                      NaN   Fire Department   \n",
       "\n",
       "     fire_type fire_position_on_slope weather_conditions_over_fire fuel_type  \\\n",
       "3964   Surface                   Flat                  Rainshowers        C3   \n",
       "3965   Surface                 Bottom                       Cloudy        C2   \n",
       "3966    Ground              Upper 1/3                        Clear        C3   \n",
       "3967   Surface                 Bottom                        Clear       O1a   \n",
       "3968   Surface                   Flat                        Clear        C2   \n",
       "\n",
       "               bh_fs_date           uc_fs_date           ex_fs_date  \n",
       "3964  2018-07-30 17:21:00  2018-07-30 17:50:00  2018-07-30 18:05:00  \n",
       "3965  2009-06-27 19:30:00  2009-06-27 19:30:00  2009-06-30 14:30:00  \n",
       "3966  2006-09-07 14:35:00  2006-09-07 14:35:00  2006-09-27 16:50:00  \n",
       "3967  2012-06-01 16:10:00  2012-06-01 16:10:00  2012-06-01 16:24:00  \n",
       "3968  2008-07-09 09:26:00  2008-07-09 09:26:00  2008-07-15 10:40:00  "
      ]
     },
     "execution_count": 4806,
     "metadata": {},
     "output_type": "execute_result"
    }
   ],
   "source": [
    "#Visualizing the test dataset\n",
    "test.tail()"
   ]
  },
  {
   "cell_type": "code",
   "execution_count": 4807,
   "metadata": {},
   "outputs": [
    {
     "name": "stdout",
     "output_type": "stream",
     "text": [
      "The shape of train dataset is: (15875, 25)\n",
      "The shape of test dataset is: (3969, 24)\n"
     ]
    }
   ],
   "source": [
    "# Shape of dataset\n",
    "print(f\"The shape of train dataset is: {train.shape}\")\n",
    "print(f\"The shape of test dataset is: {test.shape}\")"
   ]
  },
  {
   "cell_type": "markdown",
   "metadata": {},
   "source": [
    "`comment:` First thing we can notice is that the features are not the same. Train has 25 features while test has only 24. let's see what is the difference"
   ]
  },
  {
   "cell_type": "code",
   "execution_count": 4808,
   "metadata": {},
   "outputs": [
    {
     "data": {
      "text/plain": [
       "'size_class'"
      ]
     },
     "execution_count": 4808,
     "metadata": {},
     "output_type": "execute_result"
    }
   ],
   "source": [
    "train.columns[np.array([feature not in test.columns for feature in train.columns])][0]"
   ]
  },
  {
   "cell_type": "markdown",
   "metadata": {},
   "source": [
    "That will mean that our testing dataset does not have labels. The reason for this is that this is a contest and the labels are not provided as this will be the metric to assess the performance of all the models proposed by each contestant. \n",
    "\n",
    "`size_class` is the target we want to predict with our model. Let's visualize what are the possible outcomes of this feature:\n"
   ]
  },
  {
   "cell_type": "code",
   "execution_count": 4809,
   "metadata": {},
   "outputs": [
    {
     "name": "stdout",
     "output_type": "stream",
     "text": [
      "The possible classes in the target feature are: ['A', 'B', 'D', 'E', 'C']\n"
     ]
    }
   ],
   "source": [
    "classes = list(train['size_class'].unique())\n",
    "print(f\"The possible classes in the target feature are: {classes}\")"
   ]
  },
  {
   "cell_type": "markdown",
   "metadata": {},
   "source": [
    "That will mean that we have 5 classes to predict. In fact in the dataset information we can find that these classes represent ranges to which the wildfire grows until the final aree burned is determined after extinghishment. The area is catalogized as follows: \n",
    "\n",
    "* **A:** 0 to 0.1 [ha]\n",
    "* **B:** 0.1 to 4 [ha]\n",
    "* **C:** 4 to 40 [ha]\n",
    "* **D:** 40 to 200 [ha]\n",
    "* **E:** more than 200 [ha]\n",
    "\n",
    "`note:` all sizes are in hectare(ha). $$ 1 ha = 10000 m^2 $$"
   ]
  },
  {
   "cell_type": "markdown",
   "metadata": {},
   "source": [
    "### Clean data\n",
    "\n",
    "In this section we will clean all unnecesary data or parse any data that it is required\n",
    "\n",
    "#### Parsing Dates\n",
    " \n",
    " As shown from all information above, we can tell that columns that contain dates are presented in our dataset as strings. Therefore we will need to parse them back to dates. The features that should contain dates are:\n",
    " \n",
    " * `assessment_datetime` - The date and time the wildfire was originally assessed by Wildfire Management employees \n",
    " * `fire_start_date` - The time and date the wildfire started.\n",
    " * `discovered_date` - The time the detection agent first discovered the wildfire.\n",
    " * `reported_date` - The time and date the wildfire was first reported to Wildfire Management\n",
    " * `start_for_fire_date` - The time and date that the first Wildfire Management resource started for the wildfire.\n",
    " * `fire_fighting_start_date` - The time and date that the initial action resource began physical suppression on the wildfire.\n",
    " * `bh_fs_date` - The date and time the Incident Commander (IC) determined the wildfire to be at the fire status of\n",
    "being held (BH).\n",
    " * `uc_fs_date` - The date and time the Incident Commander determined the wildfire to be at the fire status of under\n",
    "control (UC).\n",
    " * `ex_fs_date` - This is the date and time the Incident Commander determined the wildfire to be completely\n",
    "extinguished (EX).\n"
   ]
  },
  {
   "cell_type": "code",
   "execution_count": 4810,
   "metadata": {},
   "outputs": [
    {
     "data": {
      "text/html": [
       "<div>\n",
       "<style scoped>\n",
       "    .dataframe tbody tr th:only-of-type {\n",
       "        vertical-align: middle;\n",
       "    }\n",
       "\n",
       "    .dataframe tbody tr th {\n",
       "        vertical-align: top;\n",
       "    }\n",
       "\n",
       "    .dataframe thead th {\n",
       "        text-align: right;\n",
       "    }\n",
       "</style>\n",
       "<table border=\"1\" class=\"dataframe\">\n",
       "  <thead>\n",
       "    <tr style=\"text-align: right;\">\n",
       "      <th></th>\n",
       "      <th>assessment_datetime</th>\n",
       "      <th>fire_start_date</th>\n",
       "      <th>discovered_date</th>\n",
       "      <th>reported_date</th>\n",
       "      <th>start_for_fire_date</th>\n",
       "      <th>fire_fighting_start_date</th>\n",
       "      <th>bh_fs_date</th>\n",
       "      <th>uc_fs_date</th>\n",
       "      <th>ex_fs_date</th>\n",
       "    </tr>\n",
       "  </thead>\n",
       "  <tbody>\n",
       "    <tr>\n",
       "      <th>10948</th>\n",
       "      <td>2018-10-20 15:35:00</td>\n",
       "      <td>2018-10-20 13:30:00</td>\n",
       "      <td>NaN</td>\n",
       "      <td>2018-10-20 14:38:00</td>\n",
       "      <td>2018-10-20 14:52:00</td>\n",
       "      <td>2018-10-20 15:45:00</td>\n",
       "      <td>2018-10-20 15:37:00</td>\n",
       "      <td>2018-10-20 15:37:00</td>\n",
       "      <td>2018-10-20 16:10:00</td>\n",
       "    </tr>\n",
       "  </tbody>\n",
       "</table>\n",
       "</div>"
      ],
      "text/plain": [
       "       assessment_datetime      fire_start_date discovered_date  \\\n",
       "10948  2018-10-20 15:35:00  2018-10-20 13:30:00             NaN   \n",
       "\n",
       "             reported_date  start_for_fire_date fire_fighting_start_date  \\\n",
       "10948  2018-10-20 14:38:00  2018-10-20 14:52:00      2018-10-20 15:45:00   \n",
       "\n",
       "                bh_fs_date           uc_fs_date           ex_fs_date  \n",
       "10948  2018-10-20 15:37:00  2018-10-20 15:37:00  2018-10-20 16:10:00  "
      ]
     },
     "metadata": {},
     "output_type": "display_data"
    },
    {
     "data": {
      "text/plain": [
       "assessment_datetime         object\n",
       "fire_start_date             object\n",
       "discovered_date             object\n",
       "reported_date               object\n",
       "start_for_fire_date         object\n",
       "fire_fighting_start_date    object\n",
       "bh_fs_date                  object\n",
       "uc_fs_date                  object\n",
       "ex_fs_date                  object\n",
       "dtype: object"
      ]
     },
     "execution_count": 4810,
     "metadata": {},
     "output_type": "execute_result"
    }
   ],
   "source": [
    "dates_list = ['assessment_datetime', 'fire_start_date', 'discovered_date', 'reported_date', 'start_for_fire_date', \n",
    "             'fire_fighting_start_date', 'bh_fs_date', 'uc_fs_date', 'ex_fs_date']\n",
    "display(train[dates_list].sample(1))\n",
    "train[dates_list].dtypes"
   ]
  },
  {
   "cell_type": "markdown",
   "metadata": {},
   "source": [
    "- We can see that all the dates have the format = `%y-%m-%d %H:%M:%S`\n",
    "- We can also see that all of them have type object. Therefore we need to convert this values into datetime format"
   ]
  },
  {
   "cell_type": "code",
   "execution_count": 4811,
   "metadata": {},
   "outputs": [],
   "source": [
    "# parsing the object to datetime type\n",
    "train[dates_list]=pd.to_datetime(train[dates_list].stack(), format = \"%Y-%m-%d %H:%M:%S\").unstack()\n",
    "test[dates_list]=pd.to_datetime(test[dates_list].stack(), format = \"%Y-%m-%d %H:%M:%S\").unstack()"
   ]
  },
  {
   "cell_type": "code",
   "execution_count": 4812,
   "metadata": {},
   "outputs": [
    {
     "data": {
      "text/plain": [
       "assessment_datetime         datetime64[ns]\n",
       "fire_start_date             datetime64[ns]\n",
       "discovered_date             datetime64[ns]\n",
       "reported_date               datetime64[ns]\n",
       "start_for_fire_date         datetime64[ns]\n",
       "fire_fighting_start_date    datetime64[ns]\n",
       "bh_fs_date                  datetime64[ns]\n",
       "uc_fs_date                  datetime64[ns]\n",
       "ex_fs_date                  datetime64[ns]\n",
       "dtype: object"
      ]
     },
     "execution_count": 4812,
     "metadata": {},
     "output_type": "execute_result"
    }
   ],
   "source": [
    "train[dates_list].dtypes"
   ]
  },
  {
   "cell_type": "markdown",
   "metadata": {},
   "source": [
    "We can see that date features are now of type `datetime64`."
   ]
  },
  {
   "cell_type": "markdown",
   "metadata": {},
   "source": [
    "#### Find null values\n",
    "we will look for empty or null values that could make invalid our analysis"
   ]
  },
  {
   "cell_type": "code",
   "execution_count": 4813,
   "metadata": {},
   "outputs": [
    {
     "data": {
      "text/plain": [
       "fire_fighting_start_date    4199\n",
       "discovered_date             2119\n",
       "fire_start_date              433\n",
       "fire_origin                    7\n",
       "reported_date                  1\n",
       "det_agent                      1\n",
       "det_agent_type                 1\n",
       "dtype: int64"
      ]
     },
     "execution_count": 4813,
     "metadata": {},
     "output_type": "execute_result"
    }
   ],
   "source": [
    "null_counts = train.isnull().sum()\n",
    "null_counts[null_counts > 0].sort_values(ascending=False)"
   ]
  },
  {
   "cell_type": "code",
   "execution_count": 4814,
   "metadata": {},
   "outputs": [
    {
     "data": {
      "text/plain": [
       "fire_fighting_start_date    1080\n",
       "discovered_date              546\n",
       "fire_start_date              112\n",
       "fire_origin                    3\n",
       "dtype: int64"
      ]
     },
     "execution_count": 4814,
     "metadata": {},
     "output_type": "execute_result"
    }
   ],
   "source": [
    "null_counts = test.isnull().sum()\n",
    "null_counts[null_counts > 0].sort_values(ascending=False)"
   ]
  },
  {
   "cell_type": "markdown",
   "metadata": {},
   "source": [
    "`comment:` From above we can see that most of the missing data for both datasets are in the `true_cause` and `activity class` features, which means that we don't know what was the true reason of the wildfire or what was the activity that was going on when the wildfire was started. "
   ]
  },
  {
   "cell_type": "code",
   "execution_count": 4815,
   "metadata": {},
   "outputs": [
    {
     "name": "stdout",
     "output_type": "stream",
     "text": [
      "Number of datapoints that have at least one value missing: 5623\n"
     ]
    }
   ],
   "source": [
    "pd.set_option('display.max_columns', None)\n",
    "print(f\"Number of datapoints that have at least one value missing: {len(train[train.isnull().any(axis=1)])}\")"
   ]
  },
  {
   "cell_type": "code",
   "execution_count": 4816,
   "metadata": {},
   "outputs": [
    {
     "data": {
      "image/png": "[encoded data removed]",
      "text/plain": [
       "<Figure size 1080x360 with 1 Axes>"
      ]
     },
     "metadata": {
      "needs_background": "light"
     },
     "output_type": "display_data"
    }
   ],
   "source": [
    "plt.figure(figsize=(15,5))\n",
    "plt.bar(*zip(*dict(Counter(train.isnull().sum(axis=1))).items()))\n",
    "plt.xlabel('Number of missing values in a datapoint(row)', fontsize=15)\n",
    "plt.ylabel('Number of samples', fontsize=15)\n",
    "plt.title('train dataset missing data', fontsize=20)\n",
    "plt.show()"
   ]
  },
  {
   "cell_type": "code",
   "execution_count": 4817,
   "metadata": {},
   "outputs": [
    {
     "data": {
      "image/png": "[encoded data removed]",
      "text/plain": [
       "<Figure size 1080x360 with 1 Axes>"
      ]
     },
     "metadata": {
      "needs_background": "light"
     },
     "output_type": "display_data"
    }
   ],
   "source": [
    "plt.figure(figsize=(15,5))\n",
    "plt.bar(*zip(*dict(Counter(test.isnull().sum(axis=1))).items()))\n",
    "plt.xlabel('Number of missing values in a datapoint(row)', fontsize=15)\n",
    "plt.ylabel('Number of samples', fontsize=15)\n",
    "plt.title('test dataset missing data', fontsize=20)\n",
    "plt.show()"
   ]
  },
  {
   "cell_type": "markdown",
   "metadata": {},
   "source": [
    "`comment:` We can see from above that in most of our data 2 missing features are common followed by one missing feature per row. Most likely `true_cause` and `activity class` as they are the most frequent missing feature. That means that perhaps it is not a good idea to trust in these features for building our model.\n",
    "\n",
    "#### fillining null data\n",
    "Since all of the features that contain null values are categorical, we will proceed to change the `NaN` to `unknown`"
   ]
  },
  {
   "cell_type": "code",
   "execution_count": 4818,
   "metadata": {},
   "outputs": [],
   "source": [
    "# First fill NAN datetime types with neighbor features\n",
    "fill_datetime_with_neighbors(train)\n",
    "fill_datetime_with_neighbors(test)"
   ]
  },
  {
   "cell_type": "code",
   "execution_count": 4819,
   "metadata": {},
   "outputs": [],
   "source": [
    "# Fill remaining object types\n",
    "train = train.fillna('Unknown')\n",
    "test = test.fillna('Unknown')"
   ]
  },
  {
   "cell_type": "markdown",
   "metadata": {},
   "source": [
    "### Feature engineering\n",
    "\n",
    "As we saw above we have many datetimes in out dataset. However, this will only be usable if we feed them to our model. To achieve this we will need to convert our datetime features to countable features. In this regard I will create new features for year month and day for all each datetime feature."
   ]
  },
  {
   "cell_type": "code",
   "execution_count": 4820,
   "metadata": {},
   "outputs": [],
   "source": [
    "# feature engineering\n",
    "train_feng = datetime_feature_engineering(train)\n",
    "test_feng = datetime_feature_engineering(test)"
   ]
  },
  {
   "cell_type": "code",
   "execution_count": 4821,
   "metadata": {},
   "outputs": [],
   "source": [
    "# feature engineering fire_number\n",
    "train_feng = fire_number_feature_engineering(train_feng)\n",
    "test_feng = fire_number_feature_engineering(test_feng)"
   ]
  },
  {
   "cell_type": "code",
   "execution_count": 4822,
   "metadata": {},
   "outputs": [
    {
     "data": {
      "text/plain": [
       "fire_number                      object\n",
       "fire_year                         int64\n",
       "size_class                       object\n",
       "fire_location_latitude          float64\n",
       "fire_location_longitude         float64\n",
       "fire_origin                      object\n",
       "general_cause_desc               object\n",
       "activity_class                   object\n",
       "true_cause                       object\n",
       "det_agent_type                   object\n",
       "det_agent                        object\n",
       "initial_action_by                object\n",
       "fire_type                        object\n",
       "fire_position_on_slope           object\n",
       "weather_conditions_over_fire     object\n",
       "fuel_type                        object\n",
       "fire_duration                   float64\n",
       "time_to_ex                      float64\n",
       "time_to_uc                      float64\n",
       "time_to_bh2                     float64\n",
       "time_to_bh                      float64\n",
       "time_to_report                  float64\n",
       "time_to_assess                  float64\n",
       "Location                         object\n",
       "wildfires_in_location             int64\n",
       "dtype: object"
      ]
     },
     "execution_count": 4822,
     "metadata": {},
     "output_type": "execute_result"
    }
   ],
   "source": [
    "train_feng.dtypes"
   ]
  },
  {
   "cell_type": "markdown",
   "metadata": {},
   "source": [
    "### Standardize data\n",
    "\n",
    "It is important to standardize data as we don't want our model to skew towards features that have higher values"
   ]
  },
  {
   "cell_type": "code",
   "execution_count": 4823,
   "metadata": {},
   "outputs": [
    {
     "data": {
      "text/html": [
       "<div>\n",
       "<style scoped>\n",
       "    .dataframe tbody tr th:only-of-type {\n",
       "        vertical-align: middle;\n",
       "    }\n",
       "\n",
       "    .dataframe tbody tr th {\n",
       "        vertical-align: top;\n",
       "    }\n",
       "\n",
       "    .dataframe thead th {\n",
       "        text-align: right;\n",
       "    }\n",
       "</style>\n",
       "<table border=\"1\" class=\"dataframe\">\n",
       "  <thead>\n",
       "    <tr style=\"text-align: right;\">\n",
       "      <th></th>\n",
       "      <th>fire_year</th>\n",
       "      <th>fire_location_latitude</th>\n",
       "      <th>fire_location_longitude</th>\n",
       "      <th>fire_duration</th>\n",
       "      <th>time_to_ex</th>\n",
       "      <th>time_to_uc</th>\n",
       "      <th>time_to_bh2</th>\n",
       "      <th>time_to_bh</th>\n",
       "      <th>time_to_report</th>\n",
       "      <th>time_to_assess</th>\n",
       "      <th>wildfires_in_location</th>\n",
       "    </tr>\n",
       "  </thead>\n",
       "  <tbody>\n",
       "    <tr>\n",
       "      <th>count</th>\n",
       "      <td>15875.000000</td>\n",
       "      <td>15875.000000</td>\n",
       "      <td>15875.000000</td>\n",
       "      <td>1.587500e+04</td>\n",
       "      <td>15875.000000</td>\n",
       "      <td>15875.000000</td>\n",
       "      <td>1.587500e+04</td>\n",
       "      <td>1.587500e+04</td>\n",
       "      <td>15875.000000</td>\n",
       "      <td>1.587500e+04</td>\n",
       "      <td>15875.000000</td>\n",
       "    </tr>\n",
       "    <tr>\n",
       "      <th>mean</th>\n",
       "      <td>2011.717228</td>\n",
       "      <td>54.984684</td>\n",
       "      <td>-115.258572</td>\n",
       "      <td>1.600204e+04</td>\n",
       "      <td>4615.530646</td>\n",
       "      <td>703.417134</td>\n",
       "      <td>-1.417583e+04</td>\n",
       "      <td>1.138651e+04</td>\n",
       "      <td>53.954583</td>\n",
       "      <td>1.117855e+04</td>\n",
       "      <td>96.932472</td>\n",
       "    </tr>\n",
       "    <tr>\n",
       "      <th>std</th>\n",
       "      <td>3.737510</td>\n",
       "      <td>2.669900</td>\n",
       "      <td>2.300677</td>\n",
       "      <td>4.716082e+05</td>\n",
       "      <td>23732.476442</td>\n",
       "      <td>4835.150244</td>\n",
       "      <td>7.250124e+05</td>\n",
       "      <td>4.709257e+05</td>\n",
       "      <td>2815.397723</td>\n",
       "      <td>4.709270e+05</td>\n",
       "      <td>73.564588</td>\n",
       "    </tr>\n",
       "    <tr>\n",
       "      <th>min</th>\n",
       "      <td>2006.000000</td>\n",
       "      <td>49.056267</td>\n",
       "      <td>-119.998067</td>\n",
       "      <td>0.000000e+00</td>\n",
       "      <td>0.000000</td>\n",
       "      <td>0.000000</td>\n",
       "      <td>-4.260241e+07</td>\n",
       "      <td>0.000000e+00</td>\n",
       "      <td>0.000000</td>\n",
       "      <td>-8.886000e+03</td>\n",
       "      <td>1.000000</td>\n",
       "    </tr>\n",
       "    <tr>\n",
       "      <th>25%</th>\n",
       "      <td>2008.000000</td>\n",
       "      <td>53.066609</td>\n",
       "      <td>-116.824059</td>\n",
       "      <td>1.950000e+02</td>\n",
       "      <td>22.000000</td>\n",
       "      <td>0.000000</td>\n",
       "      <td>0.000000e+00</td>\n",
       "      <td>7.100000e+01</td>\n",
       "      <td>0.000000</td>\n",
       "      <td>2.300000e+01</td>\n",
       "      <td>39.000000</td>\n",
       "    </tr>\n",
       "    <tr>\n",
       "      <th>50%</th>\n",
       "      <td>2012.000000</td>\n",
       "      <td>55.336950</td>\n",
       "      <td>-115.156817</td>\n",
       "      <td>1.055000e+03</td>\n",
       "      <td>164.000000</td>\n",
       "      <td>0.000000</td>\n",
       "      <td>0.000000e+00</td>\n",
       "      <td>1.800000e+02</td>\n",
       "      <td>0.000000</td>\n",
       "      <td>7.700000e+01</td>\n",
       "      <td>81.000000</td>\n",
       "    </tr>\n",
       "    <tr>\n",
       "      <th>75%</th>\n",
       "      <td>2015.000000</td>\n",
       "      <td>56.876556</td>\n",
       "      <td>-114.340384</td>\n",
       "      <td>3.760000e+03</td>\n",
       "      <td>1573.000000</td>\n",
       "      <td>96.000000</td>\n",
       "      <td>2.300000e+01</td>\n",
       "      <td>8.950000e+02</td>\n",
       "      <td>2.000000</td>\n",
       "      <td>4.400000e+02</td>\n",
       "      <td>140.000000</td>\n",
       "    </tr>\n",
       "    <tr>\n",
       "      <th>max</th>\n",
       "      <td>2018.000000</td>\n",
       "      <td>59.999510</td>\n",
       "      <td>-110.000917</td>\n",
       "      <td>5.863460e+07</td>\n",
       "      <td>598146.000000</td>\n",
       "      <td>186751.000000</td>\n",
       "      <td>6.145600e+04</td>\n",
       "      <td>5.863078e+07</td>\n",
       "      <td>336614.000000</td>\n",
       "      <td>5.863070e+07</td>\n",
       "      <td>408.000000</td>\n",
       "    </tr>\n",
       "  </tbody>\n",
       "</table>\n",
       "</div>"
      ],
      "text/plain": [
       "          fire_year  fire_location_latitude  fire_location_longitude  \\\n",
       "count  15875.000000            15875.000000             15875.000000   \n",
       "mean    2011.717228               54.984684              -115.258572   \n",
       "std        3.737510                2.669900                 2.300677   \n",
       "min     2006.000000               49.056267              -119.998067   \n",
       "25%     2008.000000               53.066609              -116.824059   \n",
       "50%     2012.000000               55.336950              -115.156817   \n",
       "75%     2015.000000               56.876556              -114.340384   \n",
       "max     2018.000000               59.999510              -110.000917   \n",
       "\n",
       "       fire_duration     time_to_ex     time_to_uc   time_to_bh2  \\\n",
       "count   1.587500e+04   15875.000000   15875.000000  1.587500e+04   \n",
       "mean    1.600204e+04    4615.530646     703.417134 -1.417583e+04   \n",
       "std     4.716082e+05   23732.476442    4835.150244  7.250124e+05   \n",
       "min     0.000000e+00       0.000000       0.000000 -4.260241e+07   \n",
       "25%     1.950000e+02      22.000000       0.000000  0.000000e+00   \n",
       "50%     1.055000e+03     164.000000       0.000000  0.000000e+00   \n",
       "75%     3.760000e+03    1573.000000      96.000000  2.300000e+01   \n",
       "max     5.863460e+07  598146.000000  186751.000000  6.145600e+04   \n",
       "\n",
       "         time_to_bh  time_to_report  time_to_assess  wildfires_in_location  \n",
       "count  1.587500e+04    15875.000000    1.587500e+04           15875.000000  \n",
       "mean   1.138651e+04       53.954583    1.117855e+04              96.932472  \n",
       "std    4.709257e+05     2815.397723    4.709270e+05              73.564588  \n",
       "min    0.000000e+00        0.000000   -8.886000e+03               1.000000  \n",
       "25%    7.100000e+01        0.000000    2.300000e+01              39.000000  \n",
       "50%    1.800000e+02        0.000000    7.700000e+01              81.000000  \n",
       "75%    8.950000e+02        2.000000    4.400000e+02             140.000000  \n",
       "max    5.863078e+07   336614.000000    5.863070e+07             408.000000  "
      ]
     },
     "execution_count": 4823,
     "metadata": {},
     "output_type": "execute_result"
    }
   ],
   "source": [
    "# lest visualize non-standard data first\n",
    "train_feng.describe()"
   ]
  },
  {
   "cell_type": "code",
   "execution_count": 4824,
   "metadata": {},
   "outputs": [],
   "source": [
    "# training standarized\n",
    "numeric_features_indx = np.where(train_feng.dtypes!='O')[0]\n",
    "numeric_features = train_feng.columns[numeric_features_indx]\n",
    "standardize = RobustScaler()\n",
    "train_feng[numeric_features] = standardize.fit_transform(train_feng[numeric_features])\n",
    "# testing standarized\n",
    "numeric_features_indx = np.where(test_feng.dtypes!='O')[0]\n",
    "numeric_features = test_feng.columns[numeric_features_indx]\n",
    "standardize = RobustScaler()\n",
    "test_feng[numeric_features] = standardize.fit_transform(test_feng[numeric_features])\n"
   ]
  },
  {
   "cell_type": "code",
   "execution_count": 4825,
   "metadata": {},
   "outputs": [
    {
     "data": {
      "text/html": [
       "<div>\n",
       "<style scoped>\n",
       "    .dataframe tbody tr th:only-of-type {\n",
       "        vertical-align: middle;\n",
       "    }\n",
       "\n",
       "    .dataframe tbody tr th {\n",
       "        vertical-align: top;\n",
       "    }\n",
       "\n",
       "    .dataframe thead th {\n",
       "        text-align: right;\n",
       "    }\n",
       "</style>\n",
       "<table border=\"1\" class=\"dataframe\">\n",
       "  <thead>\n",
       "    <tr style=\"text-align: right;\">\n",
       "      <th></th>\n",
       "      <th>fire_year</th>\n",
       "      <th>fire_location_latitude</th>\n",
       "      <th>fire_location_longitude</th>\n",
       "      <th>fire_duration</th>\n",
       "      <th>time_to_ex</th>\n",
       "      <th>time_to_uc</th>\n",
       "      <th>time_to_bh2</th>\n",
       "      <th>time_to_bh</th>\n",
       "      <th>time_to_report</th>\n",
       "      <th>time_to_assess</th>\n",
       "      <th>wildfires_in_location</th>\n",
       "    </tr>\n",
       "  </thead>\n",
       "  <tbody>\n",
       "    <tr>\n",
       "      <th>count</th>\n",
       "      <td>15875.000000</td>\n",
       "      <td>15875.000000</td>\n",
       "      <td>15875.000000</td>\n",
       "      <td>15875.000000</td>\n",
       "      <td>15875.000000</td>\n",
       "      <td>15875.000000</td>\n",
       "      <td>1.587500e+04</td>\n",
       "      <td>15875.000000</td>\n",
       "      <td>15875.000000</td>\n",
       "      <td>15875.000000</td>\n",
       "      <td>15875.000000</td>\n",
       "    </tr>\n",
       "    <tr>\n",
       "      <th>mean</th>\n",
       "      <td>-0.040396</td>\n",
       "      <td>-0.092459</td>\n",
       "      <td>-0.040970</td>\n",
       "      <td>4.192719</td>\n",
       "      <td>2.870104</td>\n",
       "      <td>7.327262</td>\n",
       "      <td>-6.163404e+02</td>\n",
       "      <td>13.600138</td>\n",
       "      <td>26.977291</td>\n",
       "      <td>26.622415</td>\n",
       "      <td>0.157747</td>\n",
       "    </tr>\n",
       "    <tr>\n",
       "      <th>std</th>\n",
       "      <td>0.533930</td>\n",
       "      <td>0.700771</td>\n",
       "      <td>0.926319</td>\n",
       "      <td>132.288413</td>\n",
       "      <td>15.301403</td>\n",
       "      <td>50.366148</td>\n",
       "      <td>3.152228e+04</td>\n",
       "      <td>571.511768</td>\n",
       "      <td>1407.698862</td>\n",
       "      <td>1129.321453</td>\n",
       "      <td>0.728362</td>\n",
       "    </tr>\n",
       "    <tr>\n",
       "      <th>min</th>\n",
       "      <td>-0.857143</td>\n",
       "      <td>-1.648496</td>\n",
       "      <td>-1.949228</td>\n",
       "      <td>-0.295933</td>\n",
       "      <td>-0.105738</td>\n",
       "      <td>0.000000</td>\n",
       "      <td>-1.852279e+06</td>\n",
       "      <td>-0.218447</td>\n",
       "      <td>0.000000</td>\n",
       "      <td>-21.494005</td>\n",
       "      <td>-0.792079</td>\n",
       "    </tr>\n",
       "    <tr>\n",
       "      <th>25%</th>\n",
       "      <td>-0.571429</td>\n",
       "      <td>-0.595898</td>\n",
       "      <td>-0.671280</td>\n",
       "      <td>-0.241234</td>\n",
       "      <td>-0.091554</td>\n",
       "      <td>0.000000</td>\n",
       "      <td>0.000000e+00</td>\n",
       "      <td>-0.132282</td>\n",
       "      <td>0.000000</td>\n",
       "      <td>-0.129496</td>\n",
       "      <td>-0.415842</td>\n",
       "    </tr>\n",
       "    <tr>\n",
       "      <th>50%</th>\n",
       "      <td>0.000000</td>\n",
       "      <td>0.000000</td>\n",
       "      <td>0.000000</td>\n",
       "      <td>0.000000</td>\n",
       "      <td>0.000000</td>\n",
       "      <td>0.000000</td>\n",
       "      <td>0.000000e+00</td>\n",
       "      <td>0.000000</td>\n",
       "      <td>0.000000</td>\n",
       "      <td>0.000000</td>\n",
       "      <td>0.000000</td>\n",
       "    </tr>\n",
       "    <tr>\n",
       "      <th>75%</th>\n",
       "      <td>0.428571</td>\n",
       "      <td>0.404102</td>\n",
       "      <td>0.328720</td>\n",
       "      <td>0.758766</td>\n",
       "      <td>0.908446</td>\n",
       "      <td>1.000000</td>\n",
       "      <td>1.000000e+00</td>\n",
       "      <td>0.867718</td>\n",
       "      <td>1.000000</td>\n",
       "      <td>0.870504</td>\n",
       "      <td>0.584158</td>\n",
       "    </tr>\n",
       "    <tr>\n",
       "      <th>max</th>\n",
       "      <td>0.857143</td>\n",
       "      <td>1.223786</td>\n",
       "      <td>2.075916</td>\n",
       "      <td>16446.997195</td>\n",
       "      <td>385.546099</td>\n",
       "      <td>1945.322917</td>\n",
       "      <td>2.672000e+03</td>\n",
       "      <td>71153.640777</td>\n",
       "      <td>168307.000000</td>\n",
       "      <td>140601.014388</td>\n",
       "      <td>3.237624</td>\n",
       "    </tr>\n",
       "  </tbody>\n",
       "</table>\n",
       "</div>"
      ],
      "text/plain": [
       "          fire_year  fire_location_latitude  fire_location_longitude  \\\n",
       "count  15875.000000            15875.000000             15875.000000   \n",
       "mean      -0.040396               -0.092459                -0.040970   \n",
       "std        0.533930                0.700771                 0.926319   \n",
       "min       -0.857143               -1.648496                -1.949228   \n",
       "25%       -0.571429               -0.595898                -0.671280   \n",
       "50%        0.000000                0.000000                 0.000000   \n",
       "75%        0.428571                0.404102                 0.328720   \n",
       "max        0.857143                1.223786                 2.075916   \n",
       "\n",
       "       fire_duration    time_to_ex    time_to_uc   time_to_bh2    time_to_bh  \\\n",
       "count   15875.000000  15875.000000  15875.000000  1.587500e+04  15875.000000   \n",
       "mean        4.192719      2.870104      7.327262 -6.163404e+02     13.600138   \n",
       "std       132.288413     15.301403     50.366148  3.152228e+04    571.511768   \n",
       "min        -0.295933     -0.105738      0.000000 -1.852279e+06     -0.218447   \n",
       "25%        -0.241234     -0.091554      0.000000  0.000000e+00     -0.132282   \n",
       "50%         0.000000      0.000000      0.000000  0.000000e+00      0.000000   \n",
       "75%         0.758766      0.908446      1.000000  1.000000e+00      0.867718   \n",
       "max     16446.997195    385.546099   1945.322917  2.672000e+03  71153.640777   \n",
       "\n",
       "       time_to_report  time_to_assess  wildfires_in_location  \n",
       "count    15875.000000    15875.000000           15875.000000  \n",
       "mean        26.977291       26.622415               0.157747  \n",
       "std       1407.698862     1129.321453               0.728362  \n",
       "min          0.000000      -21.494005              -0.792079  \n",
       "25%          0.000000       -0.129496              -0.415842  \n",
       "50%          0.000000        0.000000               0.000000  \n",
       "75%          1.000000        0.870504               0.584158  \n",
       "max     168307.000000   140601.014388               3.237624  "
      ]
     },
     "execution_count": 4825,
     "metadata": {},
     "output_type": "execute_result"
    }
   ],
   "source": [
    "train_feng.describe()"
   ]
  },
  {
   "cell_type": "code",
   "execution_count": 4826,
   "metadata": {},
   "outputs": [
    {
     "data": {
      "text/html": [
       "<div>\n",
       "<style scoped>\n",
       "    .dataframe tbody tr th:only-of-type {\n",
       "        vertical-align: middle;\n",
       "    }\n",
       "\n",
       "    .dataframe tbody tr th {\n",
       "        vertical-align: top;\n",
       "    }\n",
       "\n",
       "    .dataframe thead th {\n",
       "        text-align: right;\n",
       "    }\n",
       "</style>\n",
       "<table border=\"1\" class=\"dataframe\">\n",
       "  <thead>\n",
       "    <tr style=\"text-align: right;\">\n",
       "      <th></th>\n",
       "      <th>fire_year</th>\n",
       "      <th>fire_location_latitude</th>\n",
       "      <th>fire_location_longitude</th>\n",
       "      <th>fire_duration</th>\n",
       "      <th>time_to_ex</th>\n",
       "      <th>time_to_uc</th>\n",
       "      <th>time_to_bh2</th>\n",
       "      <th>time_to_bh</th>\n",
       "      <th>time_to_report</th>\n",
       "      <th>time_to_assess</th>\n",
       "      <th>wildfires_in_location</th>\n",
       "    </tr>\n",
       "  </thead>\n",
       "  <tbody>\n",
       "    <tr>\n",
       "      <th>count</th>\n",
       "      <td>3969.000000</td>\n",
       "      <td>3969.000000</td>\n",
       "      <td>3969.000000</td>\n",
       "      <td>3969.000000</td>\n",
       "      <td>3969.000000</td>\n",
       "      <td>3969.000000</td>\n",
       "      <td>3.969000e+03</td>\n",
       "      <td>3969.000000</td>\n",
       "      <td>3969.000000</td>\n",
       "      <td>3969.000000</td>\n",
       "      <td>3969.000000</td>\n",
       "    </tr>\n",
       "    <tr>\n",
       "      <th>mean</th>\n",
       "      <td>-0.044704</td>\n",
       "      <td>-0.082983</td>\n",
       "      <td>-0.032437</td>\n",
       "      <td>3.035042</td>\n",
       "      <td>2.290948</td>\n",
       "      <td>6.321836</td>\n",
       "      <td>-1.985643e+03</td>\n",
       "      <td>10.599685</td>\n",
       "      <td>9.170446</td>\n",
       "      <td>20.168243</td>\n",
       "      <td>0.169098</td>\n",
       "    </tr>\n",
       "    <tr>\n",
       "      <th>std</th>\n",
       "      <td>0.535269</td>\n",
       "      <td>0.681130</td>\n",
       "      <td>0.951642</td>\n",
       "      <td>18.504762</td>\n",
       "      <td>9.587543</td>\n",
       "      <td>58.418068</td>\n",
       "      <td>6.668508e+04</td>\n",
       "      <td>84.132611</td>\n",
       "      <td>148.791520</td>\n",
       "      <td>161.144084</td>\n",
       "      <td>0.743645</td>\n",
       "    </tr>\n",
       "    <tr>\n",
       "      <th>min</th>\n",
       "      <td>-0.857143</td>\n",
       "      <td>-1.525187</td>\n",
       "      <td>-2.017126</td>\n",
       "      <td>-0.279456</td>\n",
       "      <td>-0.108808</td>\n",
       "      <td>0.000000</td>\n",
       "      <td>-3.155700e+06</td>\n",
       "      <td>-0.224777</td>\n",
       "      <td>0.000000</td>\n",
       "      <td>-0.183374</td>\n",
       "      <td>-0.790000</td>\n",
       "    </tr>\n",
       "    <tr>\n",
       "      <th>25%</th>\n",
       "      <td>-0.571429</td>\n",
       "      <td>-0.589111</td>\n",
       "      <td>-0.675174</td>\n",
       "      <td>-0.227755</td>\n",
       "      <td>-0.093264</td>\n",
       "      <td>0.000000</td>\n",
       "      <td>0.000000e+00</td>\n",
       "      <td>-0.135377</td>\n",
       "      <td>0.000000</td>\n",
       "      <td>-0.127139</td>\n",
       "      <td>-0.410000</td>\n",
       "    </tr>\n",
       "    <tr>\n",
       "      <th>50%</th>\n",
       "      <td>0.000000</td>\n",
       "      <td>0.000000</td>\n",
       "      <td>0.000000</td>\n",
       "      <td>0.000000</td>\n",
       "      <td>0.000000</td>\n",
       "      <td>0.000000</td>\n",
       "      <td>0.000000e+00</td>\n",
       "      <td>0.000000</td>\n",
       "      <td>0.000000</td>\n",
       "      <td>0.000000</td>\n",
       "      <td>0.000000</td>\n",
       "    </tr>\n",
       "    <tr>\n",
       "      <th>75%</th>\n",
       "      <td>0.428571</td>\n",
       "      <td>0.410889</td>\n",
       "      <td>0.324826</td>\n",
       "      <td>0.772245</td>\n",
       "      <td>0.906736</td>\n",
       "      <td>1.000000</td>\n",
       "      <td>1.000000e+00</td>\n",
       "      <td>0.864623</td>\n",
       "      <td>1.000000</td>\n",
       "      <td>0.872861</td>\n",
       "      <td>0.590000</td>\n",
       "    </tr>\n",
       "    <tr>\n",
       "      <th>max</th>\n",
       "      <td>0.857143</td>\n",
       "      <td>1.188782</td>\n",
       "      <td>2.133778</td>\n",
       "      <td>572.299320</td>\n",
       "      <td>191.199482</td>\n",
       "      <td>3052.166667</td>\n",
       "      <td>1.481875e+03</td>\n",
       "      <td>2686.855683</td>\n",
       "      <td>7648.000000</td>\n",
       "      <td>5143.992665</td>\n",
       "      <td>3.250000</td>\n",
       "    </tr>\n",
       "  </tbody>\n",
       "</table>\n",
       "</div>"
      ],
      "text/plain": [
       "         fire_year  fire_location_latitude  fire_location_longitude  \\\n",
       "count  3969.000000             3969.000000              3969.000000   \n",
       "mean     -0.044704               -0.082983                -0.032437   \n",
       "std       0.535269                0.681130                 0.951642   \n",
       "min      -0.857143               -1.525187                -2.017126   \n",
       "25%      -0.571429               -0.589111                -0.675174   \n",
       "50%       0.000000                0.000000                 0.000000   \n",
       "75%       0.428571                0.410889                 0.324826   \n",
       "max       0.857143                1.188782                 2.133778   \n",
       "\n",
       "       fire_duration   time_to_ex   time_to_uc   time_to_bh2   time_to_bh  \\\n",
       "count    3969.000000  3969.000000  3969.000000  3.969000e+03  3969.000000   \n",
       "mean        3.035042     2.290948     6.321836 -1.985643e+03    10.599685   \n",
       "std        18.504762     9.587543    58.418068  6.668508e+04    84.132611   \n",
       "min        -0.279456    -0.108808     0.000000 -3.155700e+06    -0.224777   \n",
       "25%        -0.227755    -0.093264     0.000000  0.000000e+00    -0.135377   \n",
       "50%         0.000000     0.000000     0.000000  0.000000e+00     0.000000   \n",
       "75%         0.772245     0.906736     1.000000  1.000000e+00     0.864623   \n",
       "max       572.299320   191.199482  3052.166667  1.481875e+03  2686.855683   \n",
       "\n",
       "       time_to_report  time_to_assess  wildfires_in_location  \n",
       "count     3969.000000     3969.000000            3969.000000  \n",
       "mean         9.170446       20.168243               0.169098  \n",
       "std        148.791520      161.144084               0.743645  \n",
       "min          0.000000       -0.183374              -0.790000  \n",
       "25%          0.000000       -0.127139              -0.410000  \n",
       "50%          0.000000        0.000000               0.000000  \n",
       "75%          1.000000        0.872861               0.590000  \n",
       "max       7648.000000     5143.992665               3.250000  "
      ]
     },
     "execution_count": 4826,
     "metadata": {},
     "output_type": "execute_result"
    }
   ],
   "source": [
    "test_feng.describe()"
   ]
  },
  {
   "cell_type": "markdown",
   "metadata": {},
   "source": [
    "\n",
    "### Visualize class distribution\n",
    "Lets visualize data distribution grouped by class of the target feature after the clean up"
   ]
  },
  {
   "cell_type": "code",
   "execution_count": 4827,
   "metadata": {},
   "outputs": [
    {
     "data": {
      "image/png": "[encoded data removed]",
      "text/plain": [
       "<Figure size 1080x432 with 1 Axes>"
      ]
     },
     "metadata": {
      "needs_background": "light"
     },
     "output_type": "display_data"
    }
   ],
   "source": [
    "plt.figure(figsize=(15,6))\n",
    "train_feng['size_class'].value_counts().plot(kind='bar');\n",
    "plt.title('Training set histogram per class', fontsize=15);\n",
    "plt.xlabel('size classes')\n",
    "plt.ylabel('# of samples');"
   ]
  },
  {
   "cell_type": "code",
   "execution_count": 4828,
   "metadata": {},
   "outputs": [
    {
     "data": {
      "text/plain": [
       "A    10679\n",
       "B     4000\n",
       "C      734\n",
       "E      246\n",
       "D      216\n",
       "Name: size_class, dtype: int64"
      ]
     },
     "execution_count": 4828,
     "metadata": {},
     "output_type": "execute_result"
    }
   ],
   "source": [
    "train_feng['size_class'].value_counts()"
   ]
  },
  {
   "cell_type": "markdown",
   "metadata": {},
   "source": [
    "From plot above, we can notice that we have an unbalanced number of classes. Therefore, we must be very cautious to not make our model skew towards the classes with more data"
   ]
  },
  {
   "cell_type": "code",
   "execution_count": 1287,
   "metadata": {},
   "outputs": [
    {
     "name": "stdout",
     "output_type": "stream",
     "text": [
      "10679 4000 734 216 246\n"
     ]
    },
    {
     "data": {
      "text/plain": [
       "C    10679\n",
       "D    10679\n",
       "A    10679\n",
       "B    10679\n",
       "E    10679\n",
       "Name: size_class, dtype: int64"
      ]
     },
     "execution_count": 1287,
     "metadata": {},
     "output_type": "execute_result"
    }
   ],
   "source": [
    "from sklearn.utils import resample\n",
    "\n",
    "# Separate majority and minority classes\n",
    "df_A = train_feng[train_feng.size_class=='A']\n",
    "df_B = train_feng[train_feng.size_class=='B']\n",
    "df_C = train_feng[train_feng.size_class=='C']\n",
    "df_D = train_feng[train_feng.size_class=='D']\n",
    "df_E = train_feng[train_feng.size_class=='E']\n",
    "\n",
    "print(len(df_A),len(df_B),len(df_C),len(df_D),len(df_E))\n",
    "\n",
    "\n",
    "# Upsample minority class\n",
    "df_B_upsampled = resample(df_B, \n",
    "                          replace=True,     # sample with replacement\n",
    "                          n_samples=10679,    # to match majority class\n",
    "                          random_state=42) # reproducible results\n",
    "\n",
    "df_C_upsampled = resample(df_C, \n",
    "                          replace=True,     # sample with replacement\n",
    "                          n_samples=10679,    # to match majority class\n",
    "                          random_state=42) # reproducible results\n",
    "\n",
    "df_D_upsampled = resample(df_D, \n",
    "                          replace=True,     # sample with replacement\n",
    "                          n_samples=10679,    # to match majority class\n",
    "                          random_state=42) # reproducible results\n",
    "\n",
    "df_E_upsampled = resample(df_E, \n",
    "                          replace=True,     # sample with replacement\n",
    "                          n_samples=10679,    # to match majority class\n",
    "                          random_state=42) # reproducible results\n",
    "# Combine majority class with upsampled minority class\n",
    "df_upsampled = pd.concat([df_A, df_B_upsampled, df_C_upsampled, df_D_upsampled, df_E_upsampled])\n",
    " \n",
    "# Display new class counts\n",
    "df_upsampled.size_class.value_counts()\n"
   ]
  },
  {
   "cell_type": "markdown",
   "metadata": {},
   "source": [
    "## 2. Build Model\n",
    "\n",
    "In this section we will build a model to classify `size_class` of our dataset.\n"
   ]
  },
  {
   "cell_type": "markdown",
   "metadata": {},
   "source": [
    "### One Hot encode categorical data"
   ]
  },
  {
   "cell_type": "code",
   "execution_count": 1288,
   "metadata": {},
   "outputs": [],
   "source": [
    "# Extract y_train and X_train\n",
    "y_train = train_feng[['size_class']]\n",
    "X_train = train_feng.drop(['size_class', 'fire_number'], 1)\n",
    "# One hot encode data\n",
    "ohe = ce.OneHotEncoder(handle_unknown='value', use_cat_names=True)\n",
    "X_train_ohe = ohe.fit_transform(X_train)\n",
    "# Drop unknown features\n",
    "Unknown_columns =[column for column in list(X_train_ohe.columns) if 'Unknown' in column]\n",
    "X_train_ohe.drop(Unknown_columns, 1, inplace=True)\n",
    "# Standardize categorical data\n",
    "standardize = RobustScaler()\n",
    "X_train_ohe[X_train_ohe.columns]=standardize.fit_transform(X_train_ohe)\n",
    "#_, validation_X, _, validation_y = train_test_split(X_train_ohe, y_train, \n",
    "#                                                                test_size=0.35, random_state=2, \n",
    "#                                                                stratify=y_train)"
   ]
  },
  {
   "cell_type": "code",
   "execution_count": 4829,
   "metadata": {},
   "outputs": [],
   "source": [
    "## Only A and B\n",
    "#indx_A_and_B = (train_feng['size_class']=='E') | (train_feng['size_class']=='D') \n",
    "#train_refactored = train_feng[indx_A_and_B]"
   ]
  },
  {
   "cell_type": "code",
   "execution_count": 4830,
   "metadata": {},
   "outputs": [],
   "source": [
    "# Extract y_train and X_train\n",
    "y_train = train_feng[['size_class']]\n",
    "X_train = train_feng.drop(['size_class', 'fire_number'], 1)\n",
    "# Extract and X_test\n",
    "X_test = test_feng.drop(['fire_number'], 1)"
   ]
  },
  {
   "cell_type": "code",
   "execution_count": 4831,
   "metadata": {
    "scrolled": true
   },
   "outputs": [],
   "source": [
    "# One hot encode data\n",
    "ohe = ce.OneHotEncoder(handle_unknown='value', use_cat_names=True)\n",
    "X_train_ohe = ohe.fit_transform(X_train)\n",
    "X_test_ohe = ohe.transform(X_test)"
   ]
  },
  {
   "cell_type": "code",
   "execution_count": 4832,
   "metadata": {},
   "outputs": [],
   "source": [
    "# Drop unknown features\n",
    "#Unknown_columns =[column for column in list(X_test_ohe.columns) if 'Unknown' in column]\n",
    "#X_test_ohe.drop(Unknown_columns, 1, inplace=True)\n",
    "#X_train_ohe.drop(Unknown_columns, 1, inplace=True)"
   ]
  },
  {
   "cell_type": "code",
   "execution_count": 4833,
   "metadata": {},
   "outputs": [],
   "source": [
    "# Standardize categorical data\n",
    "standardize = RobustScaler()\n",
    "X_test_ohe[X_test_ohe.columns]=standardize.fit_transform(X_test_ohe)\n",
    "#standardize = RobustScaler()\n",
    "X_train_ohe[X_train_ohe.columns]=standardize.transform(X_train_ohe)"
   ]
  },
  {
   "cell_type": "markdown",
   "metadata": {},
   "source": [
    "### Stratified cross validation\n",
    "\n",
    "We are going to use stratified cross validation to mitigate the imbalance of the dataset that we saw in the EDA section [class distribution](#Visualize-class-distribution) "
   ]
  },
  {
   "cell_type": "code",
   "execution_count": 4834,
   "metadata": {},
   "outputs": [],
   "source": [
    "train_X, validation_X, train_y, validation_y = train_test_split(X_train_ohe, y_train, \n",
    "                                                                test_size=0.3, random_state=2, \n",
    "                                                                stratify=y_train)"
   ]
  },
  {
   "cell_type": "markdown",
   "metadata": {},
   "source": [
    "### Define feature importance\n",
    "\n",
    "In all datasets there is always a high chance that some features are irrelevant to predict the target feature. We could try guessing which ones are the most relevant using our intuition. However, intuition is not always good. Therefore, there is an alternative way to do it using feature importances that is available for tree based models in Sklearn. To quickly identify some of the features let's use a simple random forest classifier."
   ]
  },
  {
   "cell_type": "code",
   "execution_count": 1132,
   "metadata": {},
   "outputs": [],
   "source": [
    "#model = AdaBoostClassifier(random_state=42)\n",
    "model = GradientBoostingClassifier(random_state=42, learning_rate=0.5, n_estimators=50, \n",
    "                                   max_depth=3)\n",
    "model.fit(train_X.values, train_y.values.ravel())\n",
    "\n",
    "# Extract the feature importances using .feature_importances_ \n",
    "importances = model.feature_importances_"
   ]
  },
  {
   "cell_type": "code",
   "execution_count": 1133,
   "metadata": {
    "scrolled": false
   },
   "outputs": [
    {
     "data": {
      "image/png": "[encoded data removed]",
      "text/plain": [
       "<Figure size 1080x1440 with 1 Axes>"
      ]
     },
     "metadata": {
      "needs_background": "light"
     },
     "output_type": "display_data"
    },
    {
     "data": {
      "text/html": [
       "<div>\n",
       "<style scoped>\n",
       "    .dataframe tbody tr th:only-of-type {\n",
       "        vertical-align: middle;\n",
       "    }\n",
       "\n",
       "    .dataframe tbody tr th {\n",
       "        vertical-align: top;\n",
       "    }\n",
       "\n",
       "    .dataframe thead th {\n",
       "        text-align: right;\n",
       "    }\n",
       "</style>\n",
       "<table border=\"1\" class=\"dataframe\">\n",
       "  <thead>\n",
       "    <tr style=\"text-align: right;\">\n",
       "      <th></th>\n",
       "      <th>Features</th>\n",
       "      <th>Importance value</th>\n",
       "    </tr>\n",
       "  </thead>\n",
       "  <tbody>\n",
       "    <tr>\n",
       "      <th>0</th>\n",
       "      <td>time_to_ex</td>\n",
       "      <td>0.438265</td>\n",
       "    </tr>\n",
       "    <tr>\n",
       "      <th>1</th>\n",
       "      <td>time_to_bh2</td>\n",
       "      <td>0.120455</td>\n",
       "    </tr>\n",
       "    <tr>\n",
       "      <th>2</th>\n",
       "      <td>time_to_uc</td>\n",
       "      <td>0.110536</td>\n",
       "    </tr>\n",
       "    <tr>\n",
       "      <th>3</th>\n",
       "      <td>fire_location_latitude</td>\n",
       "      <td>0.049469</td>\n",
       "    </tr>\n",
       "    <tr>\n",
       "      <th>4</th>\n",
       "      <td>fire_duration</td>\n",
       "      <td>0.035751</td>\n",
       "    </tr>\n",
       "    <tr>\n",
       "      <th>...</th>\n",
       "      <td>...</td>\n",
       "      <td>...</td>\n",
       "    </tr>\n",
       "    <tr>\n",
       "      <th>95</th>\n",
       "      <td>general_cause_desc_Government</td>\n",
       "      <td>0.000459</td>\n",
       "    </tr>\n",
       "    <tr>\n",
       "      <th>96</th>\n",
       "      <td>det_agent_HU</td>\n",
       "      <td>0.000436</td>\n",
       "    </tr>\n",
       "    <tr>\n",
       "      <th>97</th>\n",
       "      <td>det_agent_CK</td>\n",
       "      <td>0.000422</td>\n",
       "    </tr>\n",
       "    <tr>\n",
       "      <th>98</th>\n",
       "      <td>det_agent_UIND</td>\n",
       "      <td>0.000415</td>\n",
       "    </tr>\n",
       "    <tr>\n",
       "      <th>99</th>\n",
       "      <td>det_agent_HK</td>\n",
       "      <td>0.000410</td>\n",
       "    </tr>\n",
       "  </tbody>\n",
       "</table>\n",
       "<p>100 rows × 2 columns</p>\n",
       "</div>"
      ],
      "text/plain": [
       "                         Features  Importance value\n",
       "0                      time_to_ex          0.438265\n",
       "1                     time_to_bh2          0.120455\n",
       "2                      time_to_uc          0.110536\n",
       "3          fire_location_latitude          0.049469\n",
       "4                   fire_duration          0.035751\n",
       "..                            ...               ...\n",
       "95  general_cause_desc_Government          0.000459\n",
       "96                   det_agent_HU          0.000436\n",
       "97                   det_agent_CK          0.000422\n",
       "98                 det_agent_UIND          0.000415\n",
       "99                   det_agent_HK          0.000410\n",
       "\n",
       "[100 rows x 2 columns]"
      ]
     },
     "execution_count": 1133,
     "metadata": {},
     "output_type": "execute_result"
    }
   ],
   "source": [
    "relevant_df = feature_plot(importances, train_X, train_y, top_k=100)\n",
    "relevant_df"
   ]
  },
  {
   "cell_type": "markdown",
   "metadata": {},
   "source": [
    "We are going to test the model by using only the first features that have more relevance than the remaining ones"
   ]
  },
  {
   "cell_type": "code",
   "execution_count": 1134,
   "metadata": {},
   "outputs": [
    {
     "data": {
      "text/plain": [
       "0                                   time_to_ex\n",
       "1                                  time_to_bh2\n",
       "2                                   time_to_uc\n",
       "3                       fire_location_latitude\n",
       "4                                fire_duration\n",
       "5                                   time_to_bh\n",
       "6                      fire_location_longitude\n",
       "7                        wildfires_in_location\n",
       "8                general_cause_desc_Recreation\n",
       "9                                fuel_type_O1a\n",
       "10                                   fire_year\n",
       "11                              time_to_report\n",
       "12                               fuel_type_O1b\n",
       "13                        activity_class_Grass\n",
       "14                 fire_origin_Provincial Land\n",
       "15                general_cause_desc_Lightning\n",
       "16                initial_action_by_Land Owner\n",
       "17              fire_origin_Indian Reservation\n",
       "18                     initial_action_by_HAC1F\n",
       "19                               det_agent_UAA\n",
       "20    weather_conditions_over_fire_Rainshowers\n",
       "21                              det_agent_GARD\n",
       "22                                det_agent_FW\n",
       "23         activity_class_All Terrain Vehicles\n",
       "24                             fire_type_Crown\n",
       "25                                fuel_type_D1\n",
       "26                       activity_class_Refuse\n",
       "Name: Features, dtype: object"
      ]
     },
     "execution_count": 1134,
     "metadata": {},
     "output_type": "execute_result"
    }
   ],
   "source": [
    "#most_relevant_features = relevant_df[relevant_df['Importance value']>=0.001]['Features']\n",
    "#most_relevant_features = relevant_df[relevant_df['Importance value']>=0.0015]['Features']\n",
    "most_relevant_features = relevant_df[relevant_df['Importance value']>=0.002]['Features']\n",
    "most_relevant_features"
   ]
  },
  {
   "cell_type": "markdown",
   "metadata": {},
   "source": [
    "## PCA"
   ]
  },
  {
   "cell_type": "code",
   "execution_count": 3568,
   "metadata": {},
   "outputs": [],
   "source": [
    "from sklearn.decomposition import PCA\n",
    "pca = PCA(n_components=20)\n",
    "pca_train_X = pca.fit_transform(X_train_ohe[:])\n",
    "pca_test_X = pca.transform(X_test_ohe[:])\n"
   ]
  },
  {
   "cell_type": "code",
   "execution_count": 3569,
   "metadata": {},
   "outputs": [
    {
     "data": {
      "text/plain": [
       "(15875, 20)"
      ]
     },
     "execution_count": 3569,
     "metadata": {},
     "output_type": "execute_result"
    }
   ],
   "source": [
    "pca_train_X.shape"
   ]
  },
  {
   "cell_type": "code",
   "execution_count": 3570,
   "metadata": {},
   "outputs": [
    {
     "data": {
      "text/plain": [
       "(3969, 20)"
      ]
     },
     "execution_count": 3570,
     "metadata": {},
     "output_type": "execute_result"
    }
   ],
   "source": [
    "pca_test_X.shape"
   ]
  },
  {
   "cell_type": "markdown",
   "metadata": {},
   "source": [
    "#### PCA train and validation for splitted data"
   ]
  },
  {
   "cell_type": "code",
   "execution_count": 3571,
   "metadata": {},
   "outputs": [],
   "source": [
    "pca = PCA(n_components=20)\n",
    "pca_train_split_X = pca.fit_transform(train_X[:])\n",
    "pca_validation_split_X =  pca.transform(validation_X[:])\n",
    "pca_test_X = pca.transform(X_test_ohe[:])"
   ]
  },
  {
   "cell_type": "markdown",
   "metadata": {},
   "source": [
    "### Balanced models"
   ]
  },
  {
   "cell_type": "code",
   "execution_count": 5193,
   "metadata": {},
   "outputs": [
    {
     "name": "stdout",
     "output_type": "stream",
     "text": [
      "Mean f1-score: 0.59350 time to CV model: 17.01092553138733 [s]\n"
     ]
    }
   ],
   "source": [
    "from sklearn.datasets import make_classification\n",
    "from sklearn.model_selection import cross_val_score\n",
    "from sklearn.model_selection import RepeatedStratifiedKFold\n",
    "from imblearn.ensemble import BalancedRandomForestClassifier, EasyEnsembleClassifier, RUSBoostClassifier\n",
    "from imblearn.metrics import geometric_mean_score\n",
    "from sklearn.experimental import enable_hist_gradient_boosting\n",
    "from sklearn.ensemble import HistGradientBoostingClassifier\n",
    "from imblearn.ensemble import BalancedBaggingClassifier\n",
    "from time import time\n",
    "# define model\n",
    "start = time()\n",
    "\n",
    "#weights = {'A':1.5, 'B':4, 'C':15, 'D':30, 'E':30}\n",
    "#weights = {'E': 13, 'D': 8.95240404040404, 'C': 3, 'B': 2, 'A': 1} #32.168 #33.779 #37325\n",
    "#model = RandomForestClassifier(n_estimators=100, max_depth=10, class_weight=weights,\n",
    "#                              criterion='entropy', max_features=None, min_impurity_decrease=0.003,\n",
    "#                              n_jobs=-1) \n",
    "\"\"\"Best model so far\"\"\"\n",
    "#weights = {'A':6, 'B':4, 'C':2.5, 'D':2, 'E':1}\n",
    "#weights = {'A': 10, 'B': 8, 'C': 3, 'D': 2, 'E': 1} #31.455 test\n",
    "weights = {'A': 13, 'B': 9, 'C': 3, 'D': 2, 'E': 1} # 32.041 test\n",
    "weights = {'A': 13, 'B': 8.952631578947368, 'C': 3, 'D': 2, 'E': 1} #32.059\n",
    "weights = {'A': 13, 'B': 8.952727272727273, 'C': 3, 'D': 2, 'E': 1} #32.162\n",
    "weights = {'A': 13, 'B': 8.95240404040404, 'C': 3, 'D': 2, 'E': 1} #32.168 #33.779 #37.325\n",
    "weights = {'A': 13.1717, 'B': 8.9524, 'C': 3, 'D': 2, 'E': 1} #37.528 #37.577\n",
    "weights = {'A': 12.0, 'B': 7.5, 'C': 3, 'D': 2, 'E': 0.791}\n",
    "weights = {'A': 12.0, 'B': 7.5, 'C': 3, 'D': 2, 'E': 1}\n",
    "weights = {'A': 13.1717, 'B': 8.9524, 'C': 3.5, 'D': 3, 'E': 2} #37.528 #37.577\n",
    "#weights = {'A': 13.2, 'B': 8.95240404040404, 'C': 3.3, 'D': 2, 'E': 1} #32.168 #33.779 #37.325 #38.633 #38.79\n",
    "#weights = {'A': 11.5, 'B': 8.0, 'C': 3.0, 'D': 2.0, 'E': 1.5}\n",
    "#weights = {'A': 13.2, 'B': 8.95240404040404, 'C': 3.3, 'D': 2, 'E': 1} #32.168 #33.779 #37.325 #38.633\n",
    "weights = {'A': 13.2, 'B': 8.95, 'C': 3.31, 'D': 2.0, 'E': 1.2} #32.168 #33.779 #37.325 #38.633 #38.79\n",
    "model = BalancedRandomForestClassifier(n_estimators=300, max_depth=8,\n",
    "                                       random_state=42, class_weight=weights,n_jobs = 1,\n",
    "                                      criterion='entropy', max_features=None, min_impurity_decrease=0.01\n",
    "                                      , replacement=False,min_samples_leaf = 5, ccp_alpha=0.005, max_leaf_nodes=32,\n",
    "                                       sampling_strategy= 'auto')\n",
    "\n",
    "\"\"\"\"\"\"\n",
    "\n",
    "#model = EasyEnsembleClassifier(base_estimator=GradientBoostingClassifier(random_state=42, learning_rate=0.5, \n",
    "#                                                                         n_estimators=100, max_depth=10,\n",
    "#                                                                        max_features=None), \n",
    "#                                n_estimators=10, random_state=42, sampling_strategy= 'all', n_jobs=-1)\n",
    "\n",
    "\n",
    "#model = EasyEnsembleClassifier(base_estimator=RandomForestClassifier(n_estimators=100, max_depth=10, \n",
    "#                                                    class_weight='balanced_subsample', criterion='entropy', \n",
    "#                                                    max_features=None, min_impurity_decrease=0.003), \n",
    "#                               n_estimators=10, random_state=42, n_jobs=-1)\n",
    "\n",
    "\n",
    "#model = RUSBoostClassifier(random_state=42,  learning_rate=0.1, n_estimators=300)\n",
    "#model = RUSBoostClassifier(base_estimator=RandomForestClassifier(class_weight = 'balanced_subsample', max_depth=10,\n",
    "#                                                                criterion='entropy'),\n",
    "#                           random_state=42,  learning_rate=0.1, n_estimators=10)\n",
    "\n",
    "#weights = {'A': 13, 'B': 9.95240404040404, 'C': 4, 'D': 2.8, 'E': 2.2} #32.168 #33.779 #37325\n",
    "#model2 = RUSBoostClassifier(RandomForestClassifier(random_state=42, n_estimators=100, \n",
    "#                                   max_depth=10, class_weight = weights, n_jobs = -1,\n",
    "#                              criterion='entropy', max_features=None, min_impurity_decrease=0.03),\n",
    "#                           random_state=42,  learning_rate=0.1, n_estimators=10)\n",
    "\n",
    "#model = BalancedBaggingClassifier(base_estimator=HistGradientBoostingClassifier(random_state=42, \n",
    "#                                        loss='categorical_crossentropy', max_depth=10, min_samples_leaf=5,\n",
    "#                                       l2_regularization = 0.1, early_stopping=True, scoring='loss',\n",
    "#                                        learning_rate=0.1, verbose=False, max_leaf_nodes=10), \n",
    "#                                  n_estimators=10, random_state=42, n_jobs=1)\n",
    "\n",
    "#model = BalancedBaggingClassifier(base_estimator=RandomForestClassifier(n_estimators=100, max_depth=10, \n",
    "#                              class_weight='balanced', criterion='entropy', max_features=None,\n",
    "#                              min_impurity_decrease=0.003, n_jobs=-1) , \n",
    "#            n_estimators=10, random_state=42, n_jobs=1)\n",
    "\n",
    "\n",
    "# define evaluation procedure\n",
    "cv = RepeatedStratifiedKFold(n_splits=5, n_repeats=3, random_state=42)\n",
    "metric = make_scorer(geometric_mean_score)\n",
    "# evaluate model\n",
    "#scores = cross_val_score(model, pca_train_X, y_train, scoring='f1_macro', cv=cv, n_jobs=-1)\n",
    "#scores = cross_val_score(model, X_train_ohe[:], y_train, \n",
    "#                         scoring=metric, cv=cv, n_jobs=-1)\n",
    "\n",
    "scores = cross_val_score(model, X_train_ohe[most_relevant_features], y_train, scoring='f1_macro', cv=cv, n_jobs=-1)\n",
    "#scores = cross_val_score(model, train_X[most_relevant_features], train_y, scoring='f1_macro', cv=cv, n_jobs=-1)\n",
    "# summarize performance\n",
    "end = time()\n",
    "print(f'Mean f1-score: {np.mean(scores):.5f} time to CV model: {end-start} [s]')"
   ]
  },
  {
   "cell_type": "code",
   "execution_count": 3495,
   "metadata": {},
   "outputs": [],
   "source": [
    "most_relevant_features=[x for x in most_relevant_features if 'fire_year' not in x]"
   ]
  },
  {
   "cell_type": "code",
   "execution_count": 3379,
   "metadata": {},
   "outputs": [],
   "source": [
    "most_relevant_features.append('fire_year')"
   ]
  },
  {
   "cell_type": "code",
   "execution_count": 3494,
   "metadata": {},
   "outputs": [],
   "source": [
    "most_relevant_features=A_B_C_D_E"
   ]
  },
  {
   "cell_type": "markdown",
   "metadata": {},
   "source": [
    "### Fine tune Hyper parameters"
   ]
  },
  {
   "cell_type": "code",
   "execution_count": 4965,
   "metadata": {},
   "outputs": [
    {
     "data": {
      "text/plain": [
       "array([0.5 , 0.75, 1.  , 1.25, 1.5 ])"
      ]
     },
     "execution_count": 4965,
     "metadata": {},
     "output_type": "execute_result"
    }
   ],
   "source": [
    "class_list5"
   ]
  },
  {
   "cell_type": "code",
   "execution_count": 4964,
   "metadata": {},
   "outputs": [
    {
     "name": "stdout",
     "output_type": "stream",
     "text": [
      "total time: 6.944444444444445[h]\n"
     ]
    }
   ],
   "source": [
    "class_list = np.arange(11,12.1,0.25)\n",
    "#class_list2 = np.linspace(3,5,100)\n",
    "class_list2 = np.arange(8.0,9.1,0.25)\n",
    "class_list3 = np.arange(3.0,4.1,0.25)\n",
    "class_list4 = np.arange(1.5,2.51,0.25)\n",
    "class_list5 = np.arange(0.5,1.51,0.25)\n",
    "\n",
    "print(\n",
    "    f\"total time: {8/3600*(len(class_list)*len(class_list2)*len(class_list3)*len(class_list4)*len(class_list5))}[h]\")"
   ]
  },
  {
   "cell_type": "code",
   "execution_count": 4968,
   "metadata": {
    "scrolled": true
   },
   "outputs": [
    {
     "name": "stdout",
     "output_type": "stream",
     "text": [
      "Best score: 0.5604807645727832, Best weights: {'A': 11.0, 'B': 8.0, 'C': 3.0, 'D': 1.5, 'E': 0.5}: 0.5}\n",
      "\n",
      "Best score: 0.589188110160053, Best weights: {'A': 11.0, 'B': 8.0, 'C': 3.0, 'D': 1.5, 'E': 0.75} 0.75}\n",
      "\n",
      "Best score: 0.589979361256564, Best weights: {'A': 11.0, 'B': 8.0, 'C': 3.0, 'D': 1.5, 'E': 1.25} 1.25}\n",
      "\n",
      "Best score: 0.5927854882831517, Best weights: {'A': 11.0, 'B': 8.0, 'C': 3.0, 'D': 1.75, 'E': 1.5}: 1.5}}\n",
      "\n",
      "Best score: 0.5928413468847911, Best weights: {'A': 11.0, 'B': 8.0, 'C': 3.25, 'D': 1.75, 'E': 1.5}: 1.5}}\n",
      "\n",
      "Best score: 0.5939441482753255, Best weights: {'A': 11.0, 'B': 8.0, 'C': 3.5, 'D': 2.0, 'E': 1.5}: 1.5}}}}\n",
      "\n",
      "Best score: 0.5949158154761639, Best weights: {'A': 11.0, 'B': 8.0, 'C': 4.0, 'D': 2.25, 'E': 1.5}: 1.5}}}\n",
      "\n",
      "Best score: 0.5954404911292459, Best weights: {'A': 11.75, 'B': 8.0, 'C': 3.25, 'D': 1.75, 'E': 1.5}: 1.5}}}\n",
      "\n",
      "Current score: 0.5920240667800888, Current weights: {'A': 12.0, 'B': 9.0, 'C': 4.0, 'D': 2.5, 'E': 1.5}}}}}}\r"
     ]
    }
   ],
   "source": [
    "list_of_weights = {'A':class_list, 'B':class_list2, 'C':class_list3, 'D':class_list4, 'E':class_list5}\n",
    "best_score = 0.0\n",
    "for A_value in list_of_weights['A']:\n",
    "    for B_value in list_of_weights['B']:\n",
    "        for C_value in list_of_weights['C']:\n",
    "            for D_value in list_of_weights['D']:\n",
    "                for E_value in list_of_weights['E']:\n",
    "                    weights = {'A':A_value, 'B':B_value, 'C':C_value, 'D':D_value, 'E':E_value}\n",
    "                    model = BalancedRandomForestClassifier(n_estimators=100, max_depth=8,\n",
    "                                       random_state=42, class_weight=weights,n_jobs = 1,\n",
    "                                      criterion='entropy', max_features=None, min_impurity_decrease=0.01\n",
    "                                      , replacement=False,min_samples_leaf = 5, ccp_alpha=0.005, max_leaf_nodes=32,\n",
    "                                       sampling_strategy= 'auto')\n",
    "                    cv = RepeatedStratifiedKFold(n_splits=5, n_repeats=3, random_state=42)\n",
    "                    scores = cross_val_score(model, X_train_ohe[most_relevant_features]\n",
    "                                             , y_train, scoring='f1_macro', cv=cv, n_jobs=-1)\n",
    "                    final_score = np.mean(scores)\n",
    "                    print(f\"Current score: {final_score}, Current weights: {weights}\", end=\"\\r\", flush=True)\n",
    "                    if final_score > best_score:\n",
    "                        best_score = final_score\n",
    "                        best_weighs = weights\n",
    "                        print(f\"Best score: {best_score}, Best weights: {best_weighs}\\n\")"
   ]
  },
  {
   "cell_type": "markdown",
   "metadata": {},
   "source": [
    "### Train Validation results"
   ]
  },
  {
   "cell_type": "code",
   "execution_count": 2383,
   "metadata": {},
   "outputs": [],
   "source": [
    "train_X, validation_X, train_y, validation_y = train_test_split(X_train_ohe, y_train, \n",
    "                                                                test_size=0.3, random_state=3126, \n",
    "                                                                stratify=y_train)"
   ]
  },
  {
   "cell_type": "code",
   "execution_count": 5134,
   "metadata": {
    "scrolled": false
   },
   "outputs": [
    {
     "name": "stdout",
     "output_type": "stream",
     "text": [
      "F1-score - validation:0.5802069796596063\n",
      "Geometric mean - validation:0.5736292466050498\n",
      "Geometric mean per class - validation:[0.80701734 0.74286515 0.65068935 0.66323905 0.76098508]\n",
      "-------------------------------------------------------------------------------------------\n",
      "F1-score - train:0.6274648006864698\n",
      "Geometric mean - train:0.6402342492457319\n",
      "Geometric mean per class - train:[0.81132447 0.74152935 0.69254277 0.78383356 0.79875839]\n"
     ]
    }
   ],
   "source": [
    "#model.fit(pca_train_split_X, train_y.values.ravel())\n",
    "model.fit(train_X[most_relevant_features], train_y.values.ravel())\n",
    "#model.fit(X_train_ohe, y_train.values.ravel())\n",
    "\n",
    "#pred_validation_y = model.predict(pca_validation_split_X)\n",
    "pred_validation_y = model.predict(validation_X[most_relevant_features])\n",
    "#pred_y = model.predict(X_train_ohe)\n",
    "f1_score = fbeta_score(validation_y.values.ravel(), pred_validation_y, beta = 1, average='macro')\n",
    "gmean_score = geometric_mean_score(validation_y.values.ravel(), pred_validation_y)\n",
    "gmean_score_sparse = geometric_mean_score(validation_y.values.ravel(), pred_validation_y, average=None)\n",
    "print(f\"F1-score - validation:{f1_score}\")\n",
    "print(f\"Geometric mean - validation:{gmean_score}\")\n",
    "print(f\"Geometric mean per class - validation:{gmean_score_sparse}\")\n",
    "\n",
    "print(\"-------------------------------------------------------------------------------------------\")\n",
    "#pred_train_y = model.predict(pca_train_split_X)\n",
    "pred_train_y = model.predict(train_X[most_relevant_features])\n",
    "f1_score = fbeta_score(train_y.values.ravel(), pred_train_y, beta = 1, average='macro')\n",
    "gmean_score = geometric_mean_score(train_y.values.ravel(), pred_train_y)\n",
    "gmean_score_sparse = geometric_mean_score(train_y.values.ravel(), pred_train_y, average=None)\n",
    "print(f\"F1-score - train:{f1_score}\")\n",
    "print(f\"Geometric mean - train:{gmean_score}\")\n",
    "print(f\"Geometric mean per class - train:{gmean_score_sparse}\")"
   ]
  },
  {
   "cell_type": "code",
   "execution_count": 2306,
   "metadata": {},
   "outputs": [
    {
     "name": "stdout",
     "output_type": "stream",
     "text": [
      "Best score: 0.5733747738913346, Best random_state: 0_state: 0\n",
      "\n",
      "Best score: 0.5958333453604795, Best random_state: 2_state: 2\n",
      "\n",
      "Best score: 0.6132595262484275, Best random_state: 7_state: 7\n",
      "\n",
      "Best score: 0.6143779557023636, Best random_state: 16state: 16\n",
      "\n",
      "Best score: 0.6191984798373141, Best random_state: 24state: 24\n",
      "\n",
      "Best score: 0.6203086500046952, Best random_state: 30state: 30\n",
      "\n",
      "Best score: 0.6222518130435966, Best random_state: 125tate: 125\n",
      "\n",
      "Best score: 0.6263135426988413, Best random_state: 220tate: 220\n",
      "\n",
      "Best score: 0.63549790794399, Best random_state: 452tate: 45251\n",
      "\n",
      "Best score: 0.6365441130576862, Best random_state: 758tate: 758\n",
      "\n",
      "Best score: 0.6369833207524922, Best random_state: 915tate: 915\n",
      "\n",
      "Best score: 0.6375624630924264, Best random_state: 3126ate: 3126\n",
      "\n",
      "Best score: 0.6391785620233101, Best random_state: 6194ate: 6194\n",
      "\n",
      "Best score: 0.6429016944470809, Best random_state: 9003ate: 9003\n",
      "\n",
      "Best score: 0.6437582915889312, Best random_state: 14964te: 14964\n",
      "\n",
      "Best score: 0.6499851334877207, Best random_state: 15205te: 15205\n",
      "\n",
      "Best score: 0.6509871686836306, Best random_state: 19101te: 19101\n",
      "\n",
      "Current f1-score: 0.5856148946268249, Current random_state: 19999\r"
     ]
    }
   ],
   "source": [
    "best_score=0.0\n",
    "for i in list(range(20000)):\n",
    "    train_X, validation_X, train_y, validation_y = train_test_split(X_train_ohe, y_train, \n",
    "                                                                test_size=0.3, random_state=i, \n",
    "                                                                stratify=y_train)\n",
    "    #model.fit(pca_train_split_X, train_y.values.ravel())\n",
    "    model.fit(train_X[most_relevant_features], train_y.values.ravel())\n",
    "    #model.fit(X_train_ohe, y_train.values.ravel())\n",
    "\n",
    "    pred_validation_y = model.predict(validation_X[most_relevant_features])\n",
    "    f1_score = fbeta_score(validation_y.values.ravel(), pred_validation_y, beta = 1, average='macro')\n",
    "    \n",
    "    print(f\"Current f1-score: {f1_score}, Current random_state: {i}\", end=\"\\r\", flush=True)\n",
    "    if f1_score > best_score:\n",
    "        best_score = f1_score\n",
    "        best_weighs = i\n",
    "        print(f\"Best score: {best_score}, Best random_state: {best_weighs}\\n\")"
   ]
  },
  {
   "cell_type": "code",
   "execution_count": 4835,
   "metadata": {
    "scrolled": false
   },
   "outputs": [
    {
     "data": {
      "image/png": "[encoded data removed]",
      "text/plain": [
       "<Figure size 1080x1440 with 1 Axes>"
      ]
     },
     "metadata": {
      "needs_background": "light"
     },
     "output_type": "display_data"
    },
    {
     "data": {
      "text/html": [
       "<div>\n",
       "<style scoped>\n",
       "    .dataframe tbody tr th:only-of-type {\n",
       "        vertical-align: middle;\n",
       "    }\n",
       "\n",
       "    .dataframe tbody tr th {\n",
       "        vertical-align: top;\n",
       "    }\n",
       "\n",
       "    .dataframe thead th {\n",
       "        text-align: right;\n",
       "    }\n",
       "</style>\n",
       "<table border=\"1\" class=\"dataframe\">\n",
       "  <thead>\n",
       "    <tr style=\"text-align: right;\">\n",
       "      <th></th>\n",
       "      <th>Features</th>\n",
       "      <th>Importance value</th>\n",
       "    </tr>\n",
       "  </thead>\n",
       "  <tbody>\n",
       "    <tr>\n",
       "      <th>0</th>\n",
       "      <td>time_to_ex</td>\n",
       "      <td>0.237016</td>\n",
       "    </tr>\n",
       "    <tr>\n",
       "      <th>1</th>\n",
       "      <td>time_to_bh2</td>\n",
       "      <td>0.216305</td>\n",
       "    </tr>\n",
       "    <tr>\n",
       "      <th>2</th>\n",
       "      <td>time_to_uc</td>\n",
       "      <td>0.168689</td>\n",
       "    </tr>\n",
       "    <tr>\n",
       "      <th>3</th>\n",
       "      <td>fire_location_latitude</td>\n",
       "      <td>0.052852</td>\n",
       "    </tr>\n",
       "    <tr>\n",
       "      <th>4</th>\n",
       "      <td>fire_duration</td>\n",
       "      <td>0.051199</td>\n",
       "    </tr>\n",
       "    <tr>\n",
       "      <th>5</th>\n",
       "      <td>wildfires_in_location</td>\n",
       "      <td>0.049450</td>\n",
       "    </tr>\n",
       "    <tr>\n",
       "      <th>6</th>\n",
       "      <td>fire_location_longitude</td>\n",
       "      <td>0.028845</td>\n",
       "    </tr>\n",
       "    <tr>\n",
       "      <th>7</th>\n",
       "      <td>time_to_bh</td>\n",
       "      <td>0.026740</td>\n",
       "    </tr>\n",
       "    <tr>\n",
       "      <th>8</th>\n",
       "      <td>time_to_assess</td>\n",
       "      <td>0.024084</td>\n",
       "    </tr>\n",
       "    <tr>\n",
       "      <th>9</th>\n",
       "      <td>fire_year</td>\n",
       "      <td>0.016206</td>\n",
       "    </tr>\n",
       "    <tr>\n",
       "      <th>10</th>\n",
       "      <td>fuel_type_O1a</td>\n",
       "      <td>0.015372</td>\n",
       "    </tr>\n",
       "    <tr>\n",
       "      <th>11</th>\n",
       "      <td>general_cause_desc_Recreation</td>\n",
       "      <td>0.009772</td>\n",
       "    </tr>\n",
       "    <tr>\n",
       "      <th>12</th>\n",
       "      <td>time_to_report</td>\n",
       "      <td>0.009088</td>\n",
       "    </tr>\n",
       "    <tr>\n",
       "      <th>13</th>\n",
       "      <td>fire_origin_Provincial Land</td>\n",
       "      <td>0.008190</td>\n",
       "    </tr>\n",
       "    <tr>\n",
       "      <th>14</th>\n",
       "      <td>fuel_type_O1b</td>\n",
       "      <td>0.005634</td>\n",
       "    </tr>\n",
       "    <tr>\n",
       "      <th>15</th>\n",
       "      <td>det_agent_type_LKT</td>\n",
       "      <td>0.005080</td>\n",
       "    </tr>\n",
       "    <tr>\n",
       "      <th>16</th>\n",
       "      <td>fuel_type_C2</td>\n",
       "      <td>0.005079</td>\n",
       "    </tr>\n",
       "    <tr>\n",
       "      <th>17</th>\n",
       "      <td>general_cause_desc_Lightning</td>\n",
       "      <td>0.004923</td>\n",
       "    </tr>\n",
       "    <tr>\n",
       "      <th>18</th>\n",
       "      <td>weather_conditions_over_fire_Clear</td>\n",
       "      <td>0.004906</td>\n",
       "    </tr>\n",
       "    <tr>\n",
       "      <th>19</th>\n",
       "      <td>fire_type_Surface</td>\n",
       "      <td>0.003720</td>\n",
       "    </tr>\n",
       "    <tr>\n",
       "      <th>20</th>\n",
       "      <td>det_agent_type_UNP</td>\n",
       "      <td>0.003513</td>\n",
       "    </tr>\n",
       "    <tr>\n",
       "      <th>21</th>\n",
       "      <td>weather_conditions_over_fire_Cloudy</td>\n",
       "      <td>0.003481</td>\n",
       "    </tr>\n",
       "    <tr>\n",
       "      <th>22</th>\n",
       "      <td>activity_class_Debris Disposal</td>\n",
       "      <td>0.003274</td>\n",
       "    </tr>\n",
       "    <tr>\n",
       "      <th>23</th>\n",
       "      <td>initial_action_by_Land Owner</td>\n",
       "      <td>0.003125</td>\n",
       "    </tr>\n",
       "    <tr>\n",
       "      <th>24</th>\n",
       "      <td>general_cause_desc_Resident</td>\n",
       "      <td>0.002924</td>\n",
       "    </tr>\n",
       "    <tr>\n",
       "      <th>25</th>\n",
       "      <td>fire_origin_Private Land</td>\n",
       "      <td>0.002427</td>\n",
       "    </tr>\n",
       "    <tr>\n",
       "      <th>26</th>\n",
       "      <td>Location_H</td>\n",
       "      <td>0.002311</td>\n",
       "    </tr>\n",
       "    <tr>\n",
       "      <th>27</th>\n",
       "      <td>initial_action_by_Fire Department</td>\n",
       "      <td>0.002236</td>\n",
       "    </tr>\n",
       "    <tr>\n",
       "      <th>28</th>\n",
       "      <td>det_agent_type_AIR</td>\n",
       "      <td>0.002147</td>\n",
       "    </tr>\n",
       "    <tr>\n",
       "      <th>29</th>\n",
       "      <td>fire_origin_Indian Reservation</td>\n",
       "      <td>0.002090</td>\n",
       "    </tr>\n",
       "  </tbody>\n",
       "</table>\n",
       "</div>"
      ],
      "text/plain": [
       "                               Features  Importance value\n",
       "0                            time_to_ex          0.237016\n",
       "1                           time_to_bh2          0.216305\n",
       "2                            time_to_uc          0.168689\n",
       "3                fire_location_latitude          0.052852\n",
       "4                         fire_duration          0.051199\n",
       "5                 wildfires_in_location          0.049450\n",
       "6               fire_location_longitude          0.028845\n",
       "7                            time_to_bh          0.026740\n",
       "8                        time_to_assess          0.024084\n",
       "9                             fire_year          0.016206\n",
       "10                        fuel_type_O1a          0.015372\n",
       "11        general_cause_desc_Recreation          0.009772\n",
       "12                       time_to_report          0.009088\n",
       "13          fire_origin_Provincial Land          0.008190\n",
       "14                        fuel_type_O1b          0.005634\n",
       "15                   det_agent_type_LKT          0.005080\n",
       "16                         fuel_type_C2          0.005079\n",
       "17         general_cause_desc_Lightning          0.004923\n",
       "18   weather_conditions_over_fire_Clear          0.004906\n",
       "19                    fire_type_Surface          0.003720\n",
       "20                   det_agent_type_UNP          0.003513\n",
       "21  weather_conditions_over_fire_Cloudy          0.003481\n",
       "22       activity_class_Debris Disposal          0.003274\n",
       "23         initial_action_by_Land Owner          0.003125\n",
       "24          general_cause_desc_Resident          0.002924\n",
       "25             fire_origin_Private Land          0.002427\n",
       "26                           Location_H          0.002311\n",
       "27    initial_action_by_Fire Department          0.002236\n",
       "28                   det_agent_type_AIR          0.002147\n",
       "29       fire_origin_Indian Reservation          0.002090"
      ]
     },
     "metadata": {},
     "output_type": "display_data"
    }
   ],
   "source": [
    "# Extract the feature importances using .feature_importances_ \n",
    "model2 = BalancedRandomForestClassifier(n_estimators=100, max_depth=10,\n",
    "                                       random_state=42, class_weight=weights,n_jobs = 1,\n",
    "                                      criterion='entropy', max_features=None, min_impurity_decrease=0.005\n",
    "                                      ,min_samples_leaf = 5, ccp_alpha=0.008, max_leaf_nodes=None,\n",
    "                                       sampling_strategy= 'auto')\n",
    "model2.fit(train_X[:], train_y.values.ravel())\n",
    "importances = model2.feature_importances_\n",
    "relevant_df = feature_plot(importances, train_X[:], train_y, top_k=60)\n",
    "indx = relevant_df['Importance value']>=0.002\n",
    "display(relevant_df[indx])\n",
    "most_relevant_features = relevant_df[indx]['Features']\n"
   ]
  },
  {
   "cell_type": "code",
   "execution_count": 2153,
   "metadata": {},
   "outputs": [],
   "source": [
    "A_B_C_D_E = list(a_b_c_d)+list(D_E-a_b_c_d)"
   ]
  },
  {
   "cell_type": "code",
   "execution_count": 2162,
   "metadata": {},
   "outputs": [
    {
     "data": {
      "text/plain": [
       "['fire_origin_Provincial Land',\n",
       " 'time_to_bh2',\n",
       " 'wildfires_in_location',\n",
       " 'activity_class_Operations',\n",
       " 'initial_action_by_FPD Staff',\n",
       " 'det_agent_type_LKT',\n",
       " 'Location_S',\n",
       " 'fire_location_longitude',\n",
       " 'fire_type_Ground',\n",
       " 'det_agent_GOVT',\n",
       " 'weather_conditions_over_fire_Cloudy',\n",
       " 'activity_class_Grass',\n",
       " 'general_cause_desc_Recreation',\n",
       " 'true_cause_Permit Related',\n",
       " 'Location_G',\n",
       " 'initial_action_by_HAC1H',\n",
       " 'general_cause_desc_Resident',\n",
       " 'fuel_type_O1a',\n",
       " 'fire_duration',\n",
       " 'det_agent_type_AIR',\n",
       " 'general_cause_desc_Lightning',\n",
       " 'true_cause_Hot Exhaust',\n",
       " 'Location_H',\n",
       " 'det_agent_type_UNP',\n",
       " 'initial_action_by_Land Owner',\n",
       " 'fire_location_latitude',\n",
       " 'fire_position_on_slope_Flat',\n",
       " 'weather_conditions_over_fire_Clear',\n",
       " 'true_cause_Burning Substance',\n",
       " 'fuel_type_O1b',\n",
       " 'fire_type_Crown',\n",
       " 'fuel_type_C2',\n",
       " 'time_to_report',\n",
       " 'det_agent_type_GRP',\n",
       " 'time_to_uc',\n",
       " 'time_to_bh',\n",
       " 'true_cause_Friction Spark',\n",
       " 'activity_class_Unclassified',\n",
       " 'fire_origin_Private Land',\n",
       " 'fuel_type_M2',\n",
       " 'fire_type_Surface',\n",
       " 'activity_class_All Terrain Vehicles',\n",
       " 'fire_year',\n",
       " 'activity_class_OHV Operation',\n",
       " 'fuel_type_D1',\n",
       " 'time_to_ex',\n",
       " 'initial_action_by_FTAC',\n",
       " 'weather_conditions_over_fire_CB Dry']"
      ]
     },
     "execution_count": 2162,
     "metadata": {},
     "output_type": "execute_result"
    }
   ],
   "source": [
    "A_B_C_D_E"
   ]
  },
  {
   "cell_type": "code",
   "execution_count": 4988,
   "metadata": {},
   "outputs": [
    {
     "ename": "NotFittedError",
     "evalue": "This BalancedRandomForestClassifier instance is not fitted yet. Call 'fit' with appropriate arguments before using this estimator.",
     "output_type": "error",
     "traceback": [
      "\u001b[1;31m---------------------------------------------------------------------------\u001b[0m",
      "\u001b[1;31mNotFittedError\u001b[0m                            Traceback (most recent call last)",
      "\u001b[1;32m<ipython-input-4988-c9ff6d5d8a16>\u001b[0m in \u001b[0;36m<module>\u001b[1;34m\u001b[0m\n\u001b[0;32m      1\u001b[0m \u001b[0my_valid_pred\u001b[0m \u001b[1;33m=\u001b[0m \u001b[0mpd\u001b[0m\u001b[1;33m.\u001b[0m\u001b[0mDataFrame\u001b[0m\u001b[1;33m(\u001b[0m\u001b[1;33m)\u001b[0m\u001b[1;33m\u001b[0m\u001b[1;33m\u001b[0m\u001b[0m\n\u001b[0;32m      2\u001b[0m \u001b[0my_valid_pred\u001b[0m\u001b[1;33m[\u001b[0m\u001b[1;34m'fire_number'\u001b[0m\u001b[1;33m]\u001b[0m \u001b[1;33m=\u001b[0m \u001b[0mtrain_feng\u001b[0m\u001b[1;33m[\u001b[0m\u001b[1;34m'fire_number'\u001b[0m\u001b[1;33m]\u001b[0m\u001b[1;33m\u001b[0m\u001b[1;33m\u001b[0m\u001b[0m\n\u001b[1;32m----> 3\u001b[1;33m \u001b[0my_valid_pred\u001b[0m\u001b[1;33m[\u001b[0m\u001b[1;34m'size_class'\u001b[0m\u001b[1;33m]\u001b[0m \u001b[1;33m=\u001b[0m \u001b[0mmodel\u001b[0m\u001b[1;33m.\u001b[0m\u001b[0mpredict\u001b[0m\u001b[1;33m(\u001b[0m\u001b[0mX_train_ohe\u001b[0m\u001b[1;33m[\u001b[0m\u001b[0mmost_relevant_features\u001b[0m\u001b[1;33m]\u001b[0m\u001b[1;33m)\u001b[0m\u001b[1;33m\u001b[0m\u001b[1;33m\u001b[0m\u001b[0m\n\u001b[0m\u001b[0;32m      4\u001b[0m \u001b[1;31m#y_valid_pred['size_class'] = model.predict(pca_train_X)\u001b[0m\u001b[1;33m\u001b[0m\u001b[1;33m\u001b[0m\u001b[1;33m\u001b[0m\u001b[0m\n\u001b[0;32m      5\u001b[0m \u001b[0my_valid_pred\u001b[0m\u001b[1;33m[\u001b[0m\u001b[1;34m'size_class'\u001b[0m\u001b[1;33m]\u001b[0m\u001b[1;33m.\u001b[0m\u001b[0mhist\u001b[0m\u001b[1;33m(\u001b[0m\u001b[1;33m)\u001b[0m\u001b[1;33m\u001b[0m\u001b[1;33m\u001b[0m\u001b[0m\n",
      "\u001b[1;32m~\\Anaconda3\\envs\\carino\\lib\\site-packages\\sklearn\\ensemble\\_forest.py\u001b[0m in \u001b[0;36mpredict\u001b[1;34m(self, X)\u001b[0m\n\u001b[0;32m    627\u001b[0m             \u001b[0mThe\u001b[0m \u001b[0mpredicted\u001b[0m \u001b[0mclasses\u001b[0m\u001b[1;33m.\u001b[0m\u001b[1;33m\u001b[0m\u001b[1;33m\u001b[0m\u001b[0m\n\u001b[0;32m    628\u001b[0m         \"\"\"\n\u001b[1;32m--> 629\u001b[1;33m         \u001b[0mproba\u001b[0m \u001b[1;33m=\u001b[0m \u001b[0mself\u001b[0m\u001b[1;33m.\u001b[0m\u001b[0mpredict_proba\u001b[0m\u001b[1;33m(\u001b[0m\u001b[0mX\u001b[0m\u001b[1;33m)\u001b[0m\u001b[1;33m\u001b[0m\u001b[1;33m\u001b[0m\u001b[0m\n\u001b[0m\u001b[0;32m    630\u001b[0m \u001b[1;33m\u001b[0m\u001b[0m\n\u001b[0;32m    631\u001b[0m         \u001b[1;32mif\u001b[0m \u001b[0mself\u001b[0m\u001b[1;33m.\u001b[0m\u001b[0mn_outputs_\u001b[0m \u001b[1;33m==\u001b[0m \u001b[1;36m1\u001b[0m\u001b[1;33m:\u001b[0m\u001b[1;33m\u001b[0m\u001b[1;33m\u001b[0m\u001b[0m\n",
      "\u001b[1;32m~\\Anaconda3\\envs\\carino\\lib\\site-packages\\sklearn\\ensemble\\_forest.py\u001b[0m in \u001b[0;36mpredict_proba\u001b[1;34m(self, X)\u001b[0m\n\u001b[0;32m    669\u001b[0m             \u001b[0mclasses\u001b[0m \u001b[0mcorresponds\u001b[0m \u001b[0mto\u001b[0m \u001b[0mthat\u001b[0m \u001b[1;32min\u001b[0m \u001b[0mthe\u001b[0m \u001b[0mattribute\u001b[0m \u001b[1;33m:\u001b[0m\u001b[0mterm\u001b[0m\u001b[1;33m:\u001b[0m\u001b[0;31m`\u001b[0m\u001b[0mclasses_\u001b[0m\u001b[0;31m`\u001b[0m\u001b[1;33m.\u001b[0m\u001b[1;33m\u001b[0m\u001b[1;33m\u001b[0m\u001b[0m\n\u001b[0;32m    670\u001b[0m         \"\"\"\n\u001b[1;32m--> 671\u001b[1;33m         \u001b[0mcheck_is_fitted\u001b[0m\u001b[1;33m(\u001b[0m\u001b[0mself\u001b[0m\u001b[1;33m)\u001b[0m\u001b[1;33m\u001b[0m\u001b[1;33m\u001b[0m\u001b[0m\n\u001b[0m\u001b[0;32m    672\u001b[0m         \u001b[1;31m# Check data\u001b[0m\u001b[1;33m\u001b[0m\u001b[1;33m\u001b[0m\u001b[1;33m\u001b[0m\u001b[0m\n\u001b[0;32m    673\u001b[0m         \u001b[0mX\u001b[0m \u001b[1;33m=\u001b[0m \u001b[0mself\u001b[0m\u001b[1;33m.\u001b[0m\u001b[0m_validate_X_predict\u001b[0m\u001b[1;33m(\u001b[0m\u001b[0mX\u001b[0m\u001b[1;33m)\u001b[0m\u001b[1;33m\u001b[0m\u001b[1;33m\u001b[0m\u001b[0m\n",
      "\u001b[1;32m~\\Anaconda3\\envs\\carino\\lib\\site-packages\\sklearn\\utils\\validation.py\u001b[0m in \u001b[0;36minner_f\u001b[1;34m(*args, **kwargs)\u001b[0m\n\u001b[0;32m     71\u001b[0m                           FutureWarning)\n\u001b[0;32m     72\u001b[0m         \u001b[0mkwargs\u001b[0m\u001b[1;33m.\u001b[0m\u001b[0mupdate\u001b[0m\u001b[1;33m(\u001b[0m\u001b[1;33m{\u001b[0m\u001b[0mk\u001b[0m\u001b[1;33m:\u001b[0m \u001b[0marg\u001b[0m \u001b[1;32mfor\u001b[0m \u001b[0mk\u001b[0m\u001b[1;33m,\u001b[0m \u001b[0marg\u001b[0m \u001b[1;32min\u001b[0m \u001b[0mzip\u001b[0m\u001b[1;33m(\u001b[0m\u001b[0msig\u001b[0m\u001b[1;33m.\u001b[0m\u001b[0mparameters\u001b[0m\u001b[1;33m,\u001b[0m \u001b[0margs\u001b[0m\u001b[1;33m)\u001b[0m\u001b[1;33m}\u001b[0m\u001b[1;33m)\u001b[0m\u001b[1;33m\u001b[0m\u001b[1;33m\u001b[0m\u001b[0m\n\u001b[1;32m---> 73\u001b[1;33m         \u001b[1;32mreturn\u001b[0m \u001b[0mf\u001b[0m\u001b[1;33m(\u001b[0m\u001b[1;33m**\u001b[0m\u001b[0mkwargs\u001b[0m\u001b[1;33m)\u001b[0m\u001b[1;33m\u001b[0m\u001b[1;33m\u001b[0m\u001b[0m\n\u001b[0m\u001b[0;32m     74\u001b[0m     \u001b[1;32mreturn\u001b[0m \u001b[0minner_f\u001b[0m\u001b[1;33m\u001b[0m\u001b[1;33m\u001b[0m\u001b[0m\n\u001b[0;32m     75\u001b[0m \u001b[1;33m\u001b[0m\u001b[0m\n",
      "\u001b[1;32m~\\Anaconda3\\envs\\carino\\lib\\site-packages\\sklearn\\utils\\validation.py\u001b[0m in \u001b[0;36mcheck_is_fitted\u001b[1;34m(estimator, attributes, msg, all_or_any)\u001b[0m\n\u001b[0;32m   1018\u001b[0m \u001b[1;33m\u001b[0m\u001b[0m\n\u001b[0;32m   1019\u001b[0m     \u001b[1;32mif\u001b[0m \u001b[1;32mnot\u001b[0m \u001b[0mattrs\u001b[0m\u001b[1;33m:\u001b[0m\u001b[1;33m\u001b[0m\u001b[1;33m\u001b[0m\u001b[0m\n\u001b[1;32m-> 1020\u001b[1;33m         \u001b[1;32mraise\u001b[0m \u001b[0mNotFittedError\u001b[0m\u001b[1;33m(\u001b[0m\u001b[0mmsg\u001b[0m \u001b[1;33m%\u001b[0m \u001b[1;33m{\u001b[0m\u001b[1;34m'name'\u001b[0m\u001b[1;33m:\u001b[0m \u001b[0mtype\u001b[0m\u001b[1;33m(\u001b[0m\u001b[0mestimator\u001b[0m\u001b[1;33m)\u001b[0m\u001b[1;33m.\u001b[0m\u001b[0m__name__\u001b[0m\u001b[1;33m}\u001b[0m\u001b[1;33m)\u001b[0m\u001b[1;33m\u001b[0m\u001b[1;33m\u001b[0m\u001b[0m\n\u001b[0m\u001b[0;32m   1021\u001b[0m \u001b[1;33m\u001b[0m\u001b[0m\n\u001b[0;32m   1022\u001b[0m \u001b[1;33m\u001b[0m\u001b[0m\n",
      "\u001b[1;31mNotFittedError\u001b[0m: This BalancedRandomForestClassifier instance is not fitted yet. Call 'fit' with appropriate arguments before using this estimator."
     ]
    }
   ],
   "source": [
    "y_valid_pred = pd.DataFrame()\n",
    "y_valid_pred['fire_number'] = train_feng['fire_number']\n",
    "y_valid_pred['size_class'] = model.predict(X_train_ohe[most_relevant_features])\n",
    "#y_valid_pred['size_class'] = model.predict(pca_train_X)\n",
    "y_valid_pred['size_class'].hist()\n",
    "y_valid_pred['size_class'].value_counts()"
   ]
  },
  {
   "cell_type": "code",
   "execution_count": 5194,
   "metadata": {},
   "outputs": [
    {
     "data": {
      "image/png": "[encoded data removed]",
      "text/plain": [
       "<Figure size 432x288 with 2 Axes>"
      ]
     },
     "metadata": {
      "needs_background": "light"
     },
     "output_type": "display_data"
    },
    {
     "data": {
      "image/png": "[encoded data removed]",
      "text/plain": [
       "<Figure size 432x288 with 2 Axes>"
      ]
     },
     "metadata": {
      "needs_background": "light"
     },
     "output_type": "display_data"
    }
   ],
   "source": [
    "from sklearn.metrics import plot_confusion_matrix\n",
    "\n",
    "model.fit(train_X[most_relevant_features], train_y.values.ravel())\n",
    "\n",
    "class_names = validation_y['size_class'].unique()\n",
    "\n",
    "# Plot non-normalized and normalized confusion matrices\n",
    "titles_options = [(\"Confusion matrix, without normalization\", None),\n",
    "                  (\"Normalized confusion matrix\", 'true')]\n",
    "#validation_X[most_relevant_features]\n",
    "for title, normalize in titles_options:\n",
    "    disp = plot_confusion_matrix(model, X_train_ohe[most_relevant_features], y_train.values.ravel(),\n",
    "                                 labels=class_names,\n",
    "                                 cmap=plt.cm.Blues,\n",
    "                                 normalize=normalize)\n",
    "    disp.ax_.set_title(title)\n",
    "\n",
    "plt.show()"
   ]
  },
  {
   "cell_type": "code",
   "execution_count": 5184,
   "metadata": {
    "scrolled": false
   },
   "outputs": [
    {
     "data": {
      "image/png": "[encoded data removed]",
      "text/plain": [
       "<Figure size 432x288 with 2 Axes>"
      ]
     },
     "metadata": {
      "needs_background": "light"
     },
     "output_type": "display_data"
    },
    {
     "data": {
      "image/png": "[encoded data removed]",
      "text/plain": [
       "<Figure size 432x288 with 2 Axes>"
      ]
     },
     "metadata": {
      "needs_background": "light"
     },
     "output_type": "display_data"
    }
   ],
   "source": [
    "from sklearn.metrics import plot_confusion_matrix\n",
    "\n",
    "model.fit(X_train_ohe[most_relevant_features], y_train.values.ravel())\n",
    "\n",
    "class_names = validation_y['size_class'].unique()\n",
    "\n",
    "# Plot non-normalized and normalized confusion matrices\n",
    "titles_options = [(\"Confusion matrix, without normalization\", None),\n",
    "                  (\"Normalized confusion matrix\", 'true')]\n",
    "#validation_X[most_relevant_features]\n",
    "for title, normalize in titles_options:\n",
    "    disp = plot_confusion_matrix(model, X_train_ohe[most_relevant_features], y_train.values.ravel(),\n",
    "                                 labels=class_names,\n",
    "                                 cmap=plt.cm.Blues,\n",
    "                                 normalize=normalize)\n",
    "    disp.ax_.set_title(title)\n",
    "\n",
    "plt.show()"
   ]
  },
  {
   "cell_type": "markdown",
   "metadata": {},
   "source": [
    "### Deep Neural Network\n",
    "[refence](https://machinelearningmastery.com/cost-sensitive-neural-network-for-imbalanced-classification/)"
   ]
  },
  {
   "cell_type": "code",
   "execution_count": 331,
   "metadata": {},
   "outputs": [],
   "source": [
    "from keras.layers import Dense, Dropout, BatchNormalization, Conv1D, Flatten, InputLayer, GlobalAveragePooling1D\n",
    "from keras.models import Sequential\n",
    "from keras.optimizers import Adam\n",
    "\n",
    "\n",
    "# define the neural network model\n",
    "def define_NN_model(n_input):\n",
    "    ## Hyperparameters\n",
    "    lr = 1e-3\n",
    "    dropout_prob = 0.1\n",
    "    \n",
    "    # define model\n",
    "    model = Sequential(name='Wildfire model')\n",
    "    model.add(InputLayer(input_shape=(n_input,1)))\n",
    "    model.add(Conv1D(filters=10000, kernel_size=10, padding='same', activation='relu'))\n",
    "    model.add(BatchNormalization())\n",
    "    model.add(GlobalAveragePooling1D())\n",
    "    #model.add(Flatten())\n",
    "    model.add(Dense(100, activation='relu', kernel_initializer='he_uniform'))\n",
    "    model.add(BatchNormalization())\n",
    "    model.add(Dense(5, activation='softmax'))\n",
    "    \n",
    "    # define loss and optimizer\n",
    "    model.compile(loss='categorical_crossentropy', optimizer=Adam(lr), metrics=['accuracy'])\n",
    "    return model"
   ]
  },
  {
   "cell_type": "code",
   "execution_count": 332,
   "metadata": {},
   "outputs": [
    {
     "data": {
      "text/html": [
       "<div>\n",
       "<style scoped>\n",
       "    .dataframe tbody tr th:only-of-type {\n",
       "        vertical-align: middle;\n",
       "    }\n",
       "\n",
       "    .dataframe tbody tr th {\n",
       "        vertical-align: top;\n",
       "    }\n",
       "\n",
       "    .dataframe thead th {\n",
       "        text-align: right;\n",
       "    }\n",
       "</style>\n",
       "<table border=\"1\" class=\"dataframe\">\n",
       "  <thead>\n",
       "    <tr style=\"text-align: right;\">\n",
       "      <th></th>\n",
       "      <th>size_class_A</th>\n",
       "      <th>size_class_B</th>\n",
       "      <th>size_class_C</th>\n",
       "      <th>size_class_E</th>\n",
       "      <th>size_class_D</th>\n",
       "    </tr>\n",
       "  </thead>\n",
       "  <tbody>\n",
       "    <tr>\n",
       "      <th>8204</th>\n",
       "      <td>1</td>\n",
       "      <td>0</td>\n",
       "      <td>0</td>\n",
       "      <td>0</td>\n",
       "      <td>0</td>\n",
       "    </tr>\n",
       "  </tbody>\n",
       "</table>\n",
       "</div>"
      ],
      "text/plain": [
       "      size_class_A  size_class_B  size_class_C  size_class_E  size_class_D\n",
       "8204             1             0             0             0             0"
      ]
     },
     "execution_count": 332,
     "metadata": {},
     "output_type": "execute_result"
    }
   ],
   "source": [
    "# One hot encode for the labels\n",
    "ohe = ce.OneHotEncoder(use_cat_names=True)\n",
    "y_train_ohe = ohe.fit_transform(train_y)\n",
    "y_validation_ohe = ohe.transform(validation_y)\n",
    "\n",
    "y_validation_ohe.sample(1)"
   ]
  },
  {
   "cell_type": "code",
   "execution_count": 333,
   "metadata": {},
   "outputs": [
    {
     "name": "stdout",
     "output_type": "stream",
     "text": [
      "Model: \"Wildfire model\"\n",
      "_________________________________________________________________\n",
      "Layer (type)                 Output Shape              Param #   \n",
      "=================================================================\n",
      "conv1d_54 (Conv1D)           (None, 8, 10000)          110000    \n",
      "_________________________________________________________________\n",
      "batch_normalization_83 (Batc (None, 8, 10000)          40000     \n",
      "_________________________________________________________________\n",
      "global_average_pooling1d_6 ( (None, 10000)             0         \n",
      "_________________________________________________________________\n",
      "dense_132 (Dense)            (None, 100)               1000100   \n",
      "_________________________________________________________________\n",
      "batch_normalization_84 (Batc (None, 100)               400       \n",
      "_________________________________________________________________\n",
      "dense_133 (Dense)            (None, 5)                 505       \n",
      "=================================================================\n",
      "Total params: 1,151,005\n",
      "Trainable params: 1,130,805\n",
      "Non-trainable params: 20,200\n",
      "_________________________________________________________________\n"
     ]
    }
   ],
   "source": [
    "#input_size = train_X[:].shape[1]\n",
    "input_size = pca_train_split_X.shape[1]\n",
    "model = define_NN_model(input_size)\n",
    "model.summary()"
   ]
  },
  {
   "cell_type": "code",
   "execution_count": 334,
   "metadata": {},
   "outputs": [
    {
     "name": "stdout",
     "output_type": "stream",
     "text": [
      "Train on 11112 samples, validate on 4763 samples\n",
      "Epoch 1/100\n",
      "11112/11112 [==============================] - 35s 3ms/step - loss: 2.2465 - accuracy: 0.6586 - val_loss: 1.7439 - val_accuracy: 0.0157\n",
      "f1_macro_train: 0.0346 - f1_macro_val: 0.0286                                                                                                    \n",
      "Epoch 2/100\n",
      "11112/11112 [==============================] - 34s 3ms/step - loss: 1.7229 - accuracy: 0.6907 - val_loss: 1.5128 - val_accuracy: 0.6378\n",
      "f1_macro_train: 0.0318 - f1_macro_val: 0.025                                                                                                    \n",
      "Epoch 3/100\n",
      "11112/11112 [==============================] - 34s 3ms/step - loss: 1.5734 - accuracy: 0.6908 - val_loss: 1.2547 - val_accuracy: 0.6805\n",
      "f1_macro_train: 0.0631 - f1_macro_val: 0.0468                                                                                                    \n",
      "Epoch 4/100\n",
      " 7296/11112 [==================>...........] - ETA: 10s - loss: 1.5393 - accuracy: 0.6890"
     ]
    },
    {
     "ename": "KeyboardInterrupt",
     "evalue": "",
     "output_type": "error",
     "traceback": [
      "\u001b[1;31m---------------------------------------------------------------------------\u001b[0m",
      "\u001b[1;31mKeyboardInterrupt\u001b[0m                         Traceback (most recent call last)",
      "\u001b[1;32m<ipython-input-334-7adcc607a59c>\u001b[0m in \u001b[0;36m<module>\u001b[1;34m\u001b[0m\n\u001b[0;32m     32\u001b[0m           \u001b[0mvalidation_data\u001b[0m\u001b[1;33m=\u001b[0m\u001b[1;33m(\u001b[0m\u001b[0mpca_validation_split_X\u001b[0m\u001b[1;33m.\u001b[0m\u001b[0mreshape\u001b[0m\u001b[1;33m(\u001b[0m\u001b[1;33m-\u001b[0m\u001b[1;36m1\u001b[0m\u001b[1;33m,\u001b[0m\u001b[1;36m8\u001b[0m\u001b[1;33m,\u001b[0m\u001b[1;36m1\u001b[0m\u001b[1;33m)\u001b[0m\u001b[1;33m,\u001b[0m \u001b[0my_validation_ohe\u001b[0m\u001b[1;33m)\u001b[0m\u001b[1;33m,\u001b[0m\u001b[1;33m\u001b[0m\u001b[1;33m\u001b[0m\u001b[0m\n\u001b[0;32m     33\u001b[0m           \u001b[0mepochs\u001b[0m\u001b[1;33m=\u001b[0m\u001b[1;36m100\u001b[0m\u001b[1;33m,\u001b[0m \u001b[0mverbose\u001b[0m\u001b[1;33m=\u001b[0m\u001b[1;36m1\u001b[0m\u001b[1;33m,\u001b[0m \u001b[0mclass_weight\u001b[0m\u001b[1;33m=\u001b[0m\u001b[0mweights\u001b[0m\u001b[1;33m,\u001b[0m\u001b[1;33m\u001b[0m\u001b[1;33m\u001b[0m\u001b[0m\n\u001b[1;32m---> 34\u001b[1;33m          callbacks=callbacks_list, batch_size=128)\n\u001b[0m",
      "\u001b[1;32m~\\Anaconda3\\envs\\carino\\lib\\site-packages\\keras\\engine\\training.py\u001b[0m in \u001b[0;36mfit\u001b[1;34m(self, x, y, batch_size, epochs, verbose, callbacks, validation_split, validation_data, shuffle, class_weight, sample_weight, initial_epoch, steps_per_epoch, validation_steps, validation_freq, max_queue_size, workers, use_multiprocessing, **kwargs)\u001b[0m\n\u001b[0;32m   1237\u001b[0m                                         \u001b[0msteps_per_epoch\u001b[0m\u001b[1;33m=\u001b[0m\u001b[0msteps_per_epoch\u001b[0m\u001b[1;33m,\u001b[0m\u001b[1;33m\u001b[0m\u001b[1;33m\u001b[0m\u001b[0m\n\u001b[0;32m   1238\u001b[0m                                         \u001b[0mvalidation_steps\u001b[0m\u001b[1;33m=\u001b[0m\u001b[0mvalidation_steps\u001b[0m\u001b[1;33m,\u001b[0m\u001b[1;33m\u001b[0m\u001b[1;33m\u001b[0m\u001b[0m\n\u001b[1;32m-> 1239\u001b[1;33m                                         validation_freq=validation_freq)\n\u001b[0m\u001b[0;32m   1240\u001b[0m \u001b[1;33m\u001b[0m\u001b[0m\n\u001b[0;32m   1241\u001b[0m     def evaluate(self,\n",
      "\u001b[1;32m~\\Anaconda3\\envs\\carino\\lib\\site-packages\\keras\\engine\\training_arrays.py\u001b[0m in \u001b[0;36mfit_loop\u001b[1;34m(model, fit_function, fit_inputs, out_labels, batch_size, epochs, verbose, callbacks, val_function, val_inputs, shuffle, initial_epoch, steps_per_epoch, validation_steps, validation_freq)\u001b[0m\n\u001b[0;32m    194\u001b[0m                     \u001b[0mins_batch\u001b[0m\u001b[1;33m[\u001b[0m\u001b[0mi\u001b[0m\u001b[1;33m]\u001b[0m \u001b[1;33m=\u001b[0m \u001b[0mins_batch\u001b[0m\u001b[1;33m[\u001b[0m\u001b[0mi\u001b[0m\u001b[1;33m]\u001b[0m\u001b[1;33m.\u001b[0m\u001b[0mtoarray\u001b[0m\u001b[1;33m(\u001b[0m\u001b[1;33m)\u001b[0m\u001b[1;33m\u001b[0m\u001b[1;33m\u001b[0m\u001b[0m\n\u001b[0;32m    195\u001b[0m \u001b[1;33m\u001b[0m\u001b[0m\n\u001b[1;32m--> 196\u001b[1;33m                 \u001b[0mouts\u001b[0m \u001b[1;33m=\u001b[0m \u001b[0mfit_function\u001b[0m\u001b[1;33m(\u001b[0m\u001b[0mins_batch\u001b[0m\u001b[1;33m)\u001b[0m\u001b[1;33m\u001b[0m\u001b[1;33m\u001b[0m\u001b[0m\n\u001b[0m\u001b[0;32m    197\u001b[0m                 \u001b[0mouts\u001b[0m \u001b[1;33m=\u001b[0m \u001b[0mto_list\u001b[0m\u001b[1;33m(\u001b[0m\u001b[0mouts\u001b[0m\u001b[1;33m)\u001b[0m\u001b[1;33m\u001b[0m\u001b[1;33m\u001b[0m\u001b[0m\n\u001b[0;32m    198\u001b[0m                 \u001b[1;32mfor\u001b[0m \u001b[0ml\u001b[0m\u001b[1;33m,\u001b[0m \u001b[0mo\u001b[0m \u001b[1;32min\u001b[0m \u001b[0mzip\u001b[0m\u001b[1;33m(\u001b[0m\u001b[0mout_labels\u001b[0m\u001b[1;33m,\u001b[0m \u001b[0mouts\u001b[0m\u001b[1;33m)\u001b[0m\u001b[1;33m:\u001b[0m\u001b[1;33m\u001b[0m\u001b[1;33m\u001b[0m\u001b[0m\n",
      "\u001b[1;32m~\\Anaconda3\\envs\\carino\\lib\\site-packages\\tensorflow_core\\python\\keras\\backend.py\u001b[0m in \u001b[0;36m__call__\u001b[1;34m(self, inputs)\u001b[0m\n\u001b[0;32m   3725\u001b[0m         \u001b[0mvalue\u001b[0m \u001b[1;33m=\u001b[0m \u001b[0mmath_ops\u001b[0m\u001b[1;33m.\u001b[0m\u001b[0mcast\u001b[0m\u001b[1;33m(\u001b[0m\u001b[0mvalue\u001b[0m\u001b[1;33m,\u001b[0m \u001b[0mtensor\u001b[0m\u001b[1;33m.\u001b[0m\u001b[0mdtype\u001b[0m\u001b[1;33m)\u001b[0m\u001b[1;33m\u001b[0m\u001b[1;33m\u001b[0m\u001b[0m\n\u001b[0;32m   3726\u001b[0m       \u001b[0mconverted_inputs\u001b[0m\u001b[1;33m.\u001b[0m\u001b[0mappend\u001b[0m\u001b[1;33m(\u001b[0m\u001b[0mvalue\u001b[0m\u001b[1;33m)\u001b[0m\u001b[1;33m\u001b[0m\u001b[1;33m\u001b[0m\u001b[0m\n\u001b[1;32m-> 3727\u001b[1;33m     \u001b[0moutputs\u001b[0m \u001b[1;33m=\u001b[0m \u001b[0mself\u001b[0m\u001b[1;33m.\u001b[0m\u001b[0m_graph_fn\u001b[0m\u001b[1;33m(\u001b[0m\u001b[1;33m*\u001b[0m\u001b[0mconverted_inputs\u001b[0m\u001b[1;33m)\u001b[0m\u001b[1;33m\u001b[0m\u001b[1;33m\u001b[0m\u001b[0m\n\u001b[0m\u001b[0;32m   3728\u001b[0m \u001b[1;33m\u001b[0m\u001b[0m\n\u001b[0;32m   3729\u001b[0m     \u001b[1;31m# EagerTensor.numpy() will often make a copy to ensure memory safety.\u001b[0m\u001b[1;33m\u001b[0m\u001b[1;33m\u001b[0m\u001b[1;33m\u001b[0m\u001b[0m\n",
      "\u001b[1;32m~\\Anaconda3\\envs\\carino\\lib\\site-packages\\tensorflow_core\\python\\eager\\function.py\u001b[0m in \u001b[0;36m__call__\u001b[1;34m(self, *args, **kwargs)\u001b[0m\n\u001b[0;32m   1549\u001b[0m       \u001b[0mTypeError\u001b[0m\u001b[1;33m:\u001b[0m \u001b[0mFor\u001b[0m \u001b[0minvalid\u001b[0m \u001b[0mpositional\u001b[0m\u001b[1;33m/\u001b[0m\u001b[0mkeyword\u001b[0m \u001b[0margument\u001b[0m \u001b[0mcombinations\u001b[0m\u001b[1;33m.\u001b[0m\u001b[1;33m\u001b[0m\u001b[1;33m\u001b[0m\u001b[0m\n\u001b[0;32m   1550\u001b[0m     \"\"\"\n\u001b[1;32m-> 1551\u001b[1;33m     \u001b[1;32mreturn\u001b[0m \u001b[0mself\u001b[0m\u001b[1;33m.\u001b[0m\u001b[0m_call_impl\u001b[0m\u001b[1;33m(\u001b[0m\u001b[0margs\u001b[0m\u001b[1;33m,\u001b[0m \u001b[0mkwargs\u001b[0m\u001b[1;33m)\u001b[0m\u001b[1;33m\u001b[0m\u001b[1;33m\u001b[0m\u001b[0m\n\u001b[0m\u001b[0;32m   1552\u001b[0m \u001b[1;33m\u001b[0m\u001b[0m\n\u001b[0;32m   1553\u001b[0m   \u001b[1;32mdef\u001b[0m \u001b[0m_call_impl\u001b[0m\u001b[1;33m(\u001b[0m\u001b[0mself\u001b[0m\u001b[1;33m,\u001b[0m \u001b[0margs\u001b[0m\u001b[1;33m,\u001b[0m \u001b[0mkwargs\u001b[0m\u001b[1;33m,\u001b[0m \u001b[0mcancellation_manager\u001b[0m\u001b[1;33m=\u001b[0m\u001b[1;32mNone\u001b[0m\u001b[1;33m)\u001b[0m\u001b[1;33m:\u001b[0m\u001b[1;33m\u001b[0m\u001b[1;33m\u001b[0m\u001b[0m\n",
      "\u001b[1;32m~\\Anaconda3\\envs\\carino\\lib\\site-packages\\tensorflow_core\\python\\eager\\function.py\u001b[0m in \u001b[0;36m_call_impl\u001b[1;34m(self, args, kwargs, cancellation_manager)\u001b[0m\n\u001b[0;32m   1589\u001b[0m       raise TypeError(\"Keyword arguments {} unknown. Expected {}.\".format(\n\u001b[0;32m   1590\u001b[0m           list(kwargs.keys()), list(self._arg_keywords)))\n\u001b[1;32m-> 1591\u001b[1;33m     \u001b[1;32mreturn\u001b[0m \u001b[0mself\u001b[0m\u001b[1;33m.\u001b[0m\u001b[0m_call_flat\u001b[0m\u001b[1;33m(\u001b[0m\u001b[0margs\u001b[0m\u001b[1;33m,\u001b[0m \u001b[0mself\u001b[0m\u001b[1;33m.\u001b[0m\u001b[0mcaptured_inputs\u001b[0m\u001b[1;33m,\u001b[0m \u001b[0mcancellation_manager\u001b[0m\u001b[1;33m)\u001b[0m\u001b[1;33m\u001b[0m\u001b[1;33m\u001b[0m\u001b[0m\n\u001b[0m\u001b[0;32m   1592\u001b[0m \u001b[1;33m\u001b[0m\u001b[0m\n\u001b[0;32m   1593\u001b[0m   \u001b[1;32mdef\u001b[0m \u001b[0m_filtered_call\u001b[0m\u001b[1;33m(\u001b[0m\u001b[0mself\u001b[0m\u001b[1;33m,\u001b[0m \u001b[0margs\u001b[0m\u001b[1;33m,\u001b[0m \u001b[0mkwargs\u001b[0m\u001b[1;33m)\u001b[0m\u001b[1;33m:\u001b[0m\u001b[1;33m\u001b[0m\u001b[1;33m\u001b[0m\u001b[0m\n",
      "\u001b[1;32m~\\Anaconda3\\envs\\carino\\lib\\site-packages\\tensorflow_core\\python\\eager\\function.py\u001b[0m in \u001b[0;36m_call_flat\u001b[1;34m(self, args, captured_inputs, cancellation_manager)\u001b[0m\n\u001b[0;32m   1690\u001b[0m       \u001b[1;31m# No tape is watching; skip to running the function.\u001b[0m\u001b[1;33m\u001b[0m\u001b[1;33m\u001b[0m\u001b[1;33m\u001b[0m\u001b[0m\n\u001b[0;32m   1691\u001b[0m       return self._build_call_outputs(self._inference_function.call(\n\u001b[1;32m-> 1692\u001b[1;33m           ctx, args, cancellation_manager=cancellation_manager))\n\u001b[0m\u001b[0;32m   1693\u001b[0m     forward_backward = self._select_forward_and_backward_functions(\n\u001b[0;32m   1694\u001b[0m         \u001b[0margs\u001b[0m\u001b[1;33m,\u001b[0m\u001b[1;33m\u001b[0m\u001b[1;33m\u001b[0m\u001b[0m\n",
      "\u001b[1;32m~\\Anaconda3\\envs\\carino\\lib\\site-packages\\tensorflow_core\\python\\eager\\function.py\u001b[0m in \u001b[0;36mcall\u001b[1;34m(self, ctx, args, cancellation_manager)\u001b[0m\n\u001b[0;32m    543\u001b[0m               \u001b[0minputs\u001b[0m\u001b[1;33m=\u001b[0m\u001b[0margs\u001b[0m\u001b[1;33m,\u001b[0m\u001b[1;33m\u001b[0m\u001b[1;33m\u001b[0m\u001b[0m\n\u001b[0;32m    544\u001b[0m               \u001b[0mattrs\u001b[0m\u001b[1;33m=\u001b[0m\u001b[1;33m(\u001b[0m\u001b[1;34m\"executor_type\"\u001b[0m\u001b[1;33m,\u001b[0m \u001b[0mexecutor_type\u001b[0m\u001b[1;33m,\u001b[0m \u001b[1;34m\"config_proto\"\u001b[0m\u001b[1;33m,\u001b[0m \u001b[0mconfig\u001b[0m\u001b[1;33m)\u001b[0m\u001b[1;33m,\u001b[0m\u001b[1;33m\u001b[0m\u001b[1;33m\u001b[0m\u001b[0m\n\u001b[1;32m--> 545\u001b[1;33m               ctx=ctx)\n\u001b[0m\u001b[0;32m    546\u001b[0m         \u001b[1;32melse\u001b[0m\u001b[1;33m:\u001b[0m\u001b[1;33m\u001b[0m\u001b[1;33m\u001b[0m\u001b[0m\n\u001b[0;32m    547\u001b[0m           outputs = execute.execute_with_cancellation(\n",
      "\u001b[1;32m~\\Anaconda3\\envs\\carino\\lib\\site-packages\\tensorflow_core\\python\\eager\\execute.py\u001b[0m in \u001b[0;36mquick_execute\u001b[1;34m(op_name, num_outputs, inputs, attrs, ctx, name)\u001b[0m\n\u001b[0;32m     59\u001b[0m     tensors = pywrap_tensorflow.TFE_Py_Execute(ctx._handle, device_name,\n\u001b[0;32m     60\u001b[0m                                                \u001b[0mop_name\u001b[0m\u001b[1;33m,\u001b[0m \u001b[0minputs\u001b[0m\u001b[1;33m,\u001b[0m \u001b[0mattrs\u001b[0m\u001b[1;33m,\u001b[0m\u001b[1;33m\u001b[0m\u001b[1;33m\u001b[0m\u001b[0m\n\u001b[1;32m---> 61\u001b[1;33m                                                num_outputs)\n\u001b[0m\u001b[0;32m     62\u001b[0m   \u001b[1;32mexcept\u001b[0m \u001b[0mcore\u001b[0m\u001b[1;33m.\u001b[0m\u001b[0m_NotOkStatusException\u001b[0m \u001b[1;32mas\u001b[0m \u001b[0me\u001b[0m\u001b[1;33m:\u001b[0m\u001b[1;33m\u001b[0m\u001b[1;33m\u001b[0m\u001b[0m\n\u001b[0;32m     63\u001b[0m     \u001b[1;32mif\u001b[0m \u001b[0mname\u001b[0m \u001b[1;32mis\u001b[0m \u001b[1;32mnot\u001b[0m \u001b[1;32mNone\u001b[0m\u001b[1;33m:\u001b[0m\u001b[1;33m\u001b[0m\u001b[1;33m\u001b[0m\u001b[0m\n",
      "\u001b[1;31mKeyboardInterrupt\u001b[0m: "
     ]
    }
   ],
   "source": [
    "from keras.callbacks import ModelCheckpoint, EarlyStopping, ReduceLROnPlateau\n",
    "\n",
    "## Callbacks definitions\n",
    "early = EarlyStopping(monitor='val_loss', \n",
    "                       mode= 'min', \n",
    "                       patience=2)\n",
    "lr_reduce = ReduceLROnPlateau(monitor='loss', factor=0.5, patience=0, verbose=2, mode='min')\n",
    "\n",
    "roc = RocCallback(training_data=(pca_train_split_X, y_train_ohe),\n",
    "                  validation_data=(pca_validation_split_X, y_validation_ohe))\n",
    "\n",
    "f1_macro=F1Callback(training_data=(pca_train_split_X, y_train_ohe),\n",
    "                  validation_data=(pca_validation_split_X, y_validation_ohe))\n",
    "\n",
    "callbacks_list = [lr_reduce, early, f1_macro]\n",
    "\n",
    "\n",
    "\n",
    "## Run model {A, B, C, E, D}\n",
    "#weights = {0:1, 1:2.7, 2:14.5, 3:43.5, 4:50}\n",
    "#weights = {0:1, 1:4.7, 2:14, 3:43, 4:50}\n",
    "weights = {3: 13, 4: 8.95240404040404, 2: 3, 1: 2, 0: 1}\n",
    "#weights = {0:2, 1:2, 2:1, 3:1, 4:1}\n",
    "\"\"\"\n",
    "model.fit(train_X[:], y_train_ohe, \n",
    "          validation_data=(validation_X[:], y_validation_ohe),\n",
    "          epochs=100, verbose=1, class_weight=weights,\n",
    "         callbacks=callbacks_list)\n",
    "\"\"\"\n",
    "\n",
    "model.fit(pca_train_split_X.reshape(-1,8,1), y_train_ohe, \n",
    "          validation_data=(pca_validation_split_X.reshape(-1,8,1), y_validation_ohe),\n",
    "          epochs=100, verbose=1, class_weight=weights,\n",
    "         callbacks=callbacks_list, batch_size=128)\n"
   ]
  },
  {
   "cell_type": "code",
   "execution_count": 214,
   "metadata": {},
   "outputs": [
    {
     "name": "stdout",
     "output_type": "stream",
     "text": [
      "F1-score - validation:0.8328205302760298\n"
     ]
    },
    {
     "data": {
      "image/png": "[encoded data removed]",
      "text/plain": [
       "<Figure size 1080x360 with 1 Axes>"
      ]
     },
     "metadata": {
      "needs_background": "light"
     },
     "output_type": "display_data"
    }
   ],
   "source": [
    "y_valid_pred = pd.DataFrame()\n",
    "y_valid_pred['labels'] = validation_y.values.ravel()\n",
    "y_valid_pred['size_class'] = oneHotEnc_to_classes(model.predict(pca_validation_split_X.reshape(-1,8,1)), \n",
    "                                                  y_validation_ohe.columns)\n",
    "                                          \n",
    "\n",
    "fig = plt.figure(figsize=(15,5))\n",
    "ax = fig.add_subplot(111)    \n",
    "#y_valid_pred['size_class'] = model.predict(pca_train_X)\n",
    "y_valid_pred['size_class'].hist(ax=ax, color='b')\n",
    "y_valid_pred['labels'].hist(ax=ax, alpha = 0.25,  color= 'r')\n",
    "ax.legend(['predicted', 'labels'])\n",
    "\n",
    "f1_score = fbeta_score(y_valid_pred['labels'], y_valid_pred['size_class'], beta = 1, average='macro')\n",
    "print(f\"F1-score - validation:{f1_score}\")\n"
   ]
  },
  {
   "cell_type": "code",
   "execution_count": 215,
   "metadata": {
    "scrolled": false
   },
   "outputs": [
    {
     "name": "stdout",
     "output_type": "stream",
     "text": [
      "Legitimate Transactions Detected (True Negatives):  0.632334581772784\n",
      "Legitimate Transactions Incorrectly Detected (False Positives):  0.0024968789013732834\n",
      "Fraudulent Transactions Missed (False Negatives):  0.0\n",
      "Fraudulent Transactions Detected (True Positives):  0.9965667915106118\n",
      "Total Fraudulent Transactions:  1.0\n"
     ]
    },
    {
     "data": {
      "image/png": "[encoded data removed]",
      "text/plain": [
       "<Figure size 720x720 with 2 Axes>"
      ]
     },
     "metadata": {
      "needs_background": "light"
     },
     "output_type": "display_data"
    }
   ],
   "source": [
    "from sklearn.metrics import confusion_matrix\n",
    "import seaborn as sns\n",
    "def plot_cm(labels, predictions):\n",
    "    class_names_pred = predictions.unique()\n",
    "    class_names_labels = labels.unique()\n",
    "    cm = confusion_matrix(labels, predictions, normalize='true', labels=class_names_pred)\n",
    "    plt.figure(figsize=(10,10))\n",
    "    sns.heatmap(cm, annot=True, xticklabels=class_names_pred, yticklabels=class_names_pred)#, fmt=\"d\")\n",
    "    #plt.title('Confusion matrix @{:.2f}'.format(p))\n",
    "    plt.ylabel('Actual label')\n",
    "    plt.xlabel('Predicted label')\n",
    "    print('Legitimate Transactions Detected (True Negatives): ', cm[0][0])\n",
    "    print('Legitimate Transactions Incorrectly Detected (False Positives): ', cm[0][1])\n",
    "    print('Fraudulent Transactions Missed (False Negatives): ', cm[1][0])\n",
    "    print('Fraudulent Transactions Detected (True Positives): ', cm[1][1])\n",
    "    print('Total Fraudulent Transactions: ', np.sum(cm[1]))\n",
    "plot_cm(y_valid_pred['labels'], y_valid_pred['size_class'])"
   ]
  },
  {
   "cell_type": "markdown",
   "metadata": {},
   "source": [
    "#### Optimize model"
   ]
  },
  {
   "cell_type": "code",
   "execution_count": 544,
   "metadata": {},
   "outputs": [
    {
     "name": "stdout",
     "output_type": "stream",
     "text": [
      "Optimized model\n",
      "------\n",
      "F-score on validation data: 0.3184\n",
      "F-score on training data: 0.4649\n"
     ]
    }
   ],
   "source": [
    "# Initialize the classifier\n",
    "model = GradientBoostingClassifier(random_state=42, max_depth=3)\n",
    "\n",
    "# Create the parameters to tune\n",
    "parameters = {  \n",
    "    'n_estimators': [500],\n",
    "    'learning_rate': [0.01]\n",
    "}\n",
    "\n",
    "# Make an fbeta_score scoring object using make_scorer()\n",
    "scorer = make_scorer(fbeta_score, beta=1.0, average='macro')\n",
    "\n",
    "# Perform grid search on the classifier using 'scorer' as the scoring method using GridSearchCV()\n",
    "grid_obj = GridSearchCV(model, parameters, scoring=scorer)\n",
    "\n",
    "# Fit the grid search object to the training data and find the optimal parameters using fit()\n",
    "grid_fit = grid_obj.fit(train_X[most_relevant_features].values, train_y.values.ravel())\n",
    "\n",
    "# Get the estimator\n",
    "best_clf = grid_fit.best_estimator_\n",
    "\n",
    "# Make predictions using the optimized model\n",
    "best_predictions_validation = best_clf.predict(validation_X[most_relevant_features])\n",
    "best_predictions_train = best_clf.predict(train_X[most_relevant_features])\n",
    "\n",
    "# Report the before-and-afterscores\n",
    "print(\"Optimized model\\n------\")\n",
    "print(\"F-score on validation data: {:.4f}\".format(fbeta_score(validation_y.values.ravel(), \n",
    "                                                              best_predictions_validation, \n",
    "                                                              beta = 1.0, average='macro')))\n",
    "\n",
    "print(\"F-score on training data: {:.4f}\".format(fbeta_score(train_y.values.ravel(), \n",
    "                                                            best_predictions_train, \n",
    "                                                            beta = 1.0, average='macro')))"
   ]
  },
  {
   "cell_type": "code",
   "execution_count": null,
   "metadata": {},
   "outputs": [],
   "source": [
    "# Initialize the classifier\n",
    "model = BalancedRandomForestClassifier(n_estimators=100, max_depth=10,\n",
    "                                       random_state=42, n_jobs = 1,\n",
    "                                      criterion='entropy', max_features=None, min_impurity_decrease=0.003\n",
    "                                      ,min_samples_leaf = 5, ccp_alpha=0.008, sampling_strategy= 'all')\n",
    "cv = RepeatedStratifiedKFold(n_splits=5, n_repeats=3, random_state=42)\n",
    "scores = cross_val_score(model, pca_train_X, y_train, scoring='f1_macro', cv=cv, n_jobs=-1)\n",
    "final_score = np.mean(scores)\n",
    "\n",
    "# Create the parameters to tune\n",
    "parameters = {  \n",
    "    'class_weight': [{'A':[1,3,4], 'B':7, 'C':7, 'D':2, 'E':1}]\n",
    "}\n",
    "\n",
    "# Make an fbeta_score scoring object using make_scorer()\n",
    "scorer = make_scorer(fbeta_score, beta=1.0, average='macro')\n",
    "\n",
    "# Perform grid search on the classifier using 'scorer' as the scoring method using GridSearchCV()\n",
    "grid_obj = GridSearchCV(model, parameters, scoring=scorer)\n",
    "\n",
    "# Fit the grid search object to the training data and find the optimal parameters using fit()\n",
    "grid_fit = grid_obj.fit(train_X[most_relevant_features].values, train_y.values.ravel())\n",
    "\n",
    "# Get the estimator\n",
    "best_clf = grid_fit.best_estimator_\n",
    "\n",
    "# Make predictions using the optimized model\n",
    "best_predictions_validation = best_clf.predict(validation_X[most_relevant_features])\n",
    "best_predictions_train = best_clf.predict(train_X[most_relevant_features])\n",
    "\n",
    "# Report the before-and-afterscores\n",
    "print(\"Optimized model\\n------\")\n",
    "print(\"F-score on validation data: {:.4f}\".format(fbeta_score(validation_y.values.ravel(), \n",
    "                                                              best_predictions_validation, \n",
    "                                                              beta = 1.0, average='macro')))\n",
    "\n",
    "print(\"F-score on training data: {:.4f}\".format(fbeta_score(train_y.values.ravel(), \n",
    "                                                            best_predictions_train, \n",
    "                                                            beta = 1.0, average='macro')))"
   ]
  },
  {
   "cell_type": "code",
   "execution_count": 545,
   "metadata": {},
   "outputs": [
    {
     "data": {
      "text/plain": [
       "GradientBoostingClassifier(learning_rate=0.01, n_estimators=500,\n",
       "                           random_state=42)"
      ]
     },
     "execution_count": 545,
     "metadata": {},
     "output_type": "execute_result"
    }
   ],
   "source": [
    "best_clf"
   ]
  },
  {
   "cell_type": "markdown",
   "metadata": {},
   "source": [
    "## 3. Make submission"
   ]
  },
  {
   "cell_type": "code",
   "execution_count": 5195,
   "metadata": {},
   "outputs": [],
   "source": [
    "y_test_pred = pd.DataFrame()\n",
    "y_test_pred['fire_number'] = test_feng['fire_number']\n",
    "#y_test_pred['size_class'] = model.predict(pca_test_X)\n",
    "#y_test_pred['size_class'] = oneHotEnc_to_classes(model.predict(pca_test_X.reshape(-1,8,1)), \n",
    "#                                                 y_validation_ohe.columns)\n",
    "y_test_pred['size_class'] = model.predict(X_test_ohe[most_relevant_features])"
   ]
  },
  {
   "cell_type": "code",
   "execution_count": 5196,
   "metadata": {},
   "outputs": [],
   "source": [
    "freeze_A = y_test_pred['size_class']=='A'\n",
    "freeze_B = y_test_pred['size_class']=='B'\n",
    "freeze_C = y_test_pred['size_class']=='C'\n",
    "freeze_D = y_test_pred['size_class']=='D'\n",
    "freeze_E = y_test_pred['size_class']=='E'\n",
    "freeze_ind = ~freeze_A & ~freeze_D & ~freeze_E"
   ]
  },
  {
   "cell_type": "code",
   "execution_count": 5197,
   "metadata": {},
   "outputs": [
    {
     "data": {
      "text/plain": [
       "1377"
      ]
     },
     "execution_count": 5197,
     "metadata": {},
     "output_type": "execute_result"
    }
   ],
   "source": [
    "len(X_test_ohe[most_relevant_features][freeze_ind])"
   ]
  },
  {
   "cell_type": "code",
   "execution_count": 5198,
   "metadata": {},
   "outputs": [],
   "source": [
    "## llenar no freezeados\n",
    "y_test_pred['fire_number'][freeze_ind] = test_feng['fire_number'][freeze_ind]\n",
    "#y_test_pred['size_class'] = model.predict(pca_test_X)\n",
    "#y_test_pred['size_class'] = oneHotEnc_to_classes(model.predict(pca_test_X.reshape(-1,8,1)), \n",
    "#                                                 y_validation_ohe.columns)\n",
    "y_test_pred['size_class'][freeze_ind] = model.predict(X_test_ohe[most_relevant_features][freeze_ind])"
   ]
  },
  {
   "cell_type": "code",
   "execution_count": 5199,
   "metadata": {},
   "outputs": [
    {
     "data": {
      "text/plain": [
       "A    2480\n",
       "B    1174\n",
       "C     203\n",
       "D      70\n",
       "E      42\n",
       "Name: size_class, dtype: int64"
      ]
     },
     "execution_count": 5199,
     "metadata": {},
     "output_type": "execute_result"
    },
    {
     "data": {
      "image/png": "[encoded data removed]",
      "text/plain": [
       "<Figure size 432x288 with 1 Axes>"
      ]
     },
     "metadata": {
      "needs_background": "light"
     },
     "output_type": "display_data"
    }
   ],
   "source": [
    "#new\n",
    "y_test_pred['size_class'].hist()\n",
    "y_test_pred['size_class'].value_counts()"
   ]
  },
  {
   "cell_type": "code",
   "execution_count": 5200,
   "metadata": {},
   "outputs": [
    {
     "data": {
      "text/plain": [
       "A    2480\n",
       "B    1174\n",
       "C     203\n",
       "D      70\n",
       "E      42\n",
       "Name: size_class, dtype: int64"
      ]
     },
     "execution_count": 5200,
     "metadata": {},
     "output_type": "execute_result"
    },
    {
     "data": {
      "image/png": "[encoded data removed]",
      "text/plain": [
       "<Figure size 432x288 with 1 Axes>"
      ]
     },
     "metadata": {
      "needs_background": "light"
     },
     "output_type": "display_data"
    }
   ],
   "source": [
    "# Best so far\n",
    "y_test_pred['size_class'].hist()\n",
    "y_test_pred['size_class'].value_counts()"
   ]
  },
  {
   "cell_type": "code",
   "execution_count": 4979,
   "metadata": {},
   "outputs": [
    {
     "name": "stdout",
     "output_type": "stream",
     "text": [
      "(3969, 2)\n"
     ]
    }
   ],
   "source": [
    "print(y_test_pred.shape)"
   ]
  },
  {
   "cell_type": "markdown",
   "metadata": {},
   "source": [
    "### Push the prediction to CARINO platform\n",
    "\n",
    "[Parameters](#Balanced-models)\n"
   ]
  },
  {
   "cell_type": "code",
   "execution_count": 5201,
   "metadata": {},
   "outputs": [],
   "source": [
    "import math\n",
    "import requests\n",
    "\n",
    "TOKEN = 'bef13dde60939ab809582f85a2518337f4eee028e2ea385cf64831961737072d977ed884b5c4e58821b1e5f1f5376aa2f6afecacab61ea9ecf406c89cc1e19cf' # Replace with 'your token' (please ensure value is between quotes)\n",
    "comment = 'some comment' # Free text, visible by you only\n",
    "\n",
    "\n",
    "def submit_prediction(df, TOKEN=None, sep=',', comment='', compression='gzip', **kwargs):\n",
    "    if TOKEN is None:\n",
    "        print(\"Please set TOKEN to the value provided in CARINO plarform under Submissions tab\")\n",
    "        return None\n",
    "    URL='http://18.185.86.47/api/submissions'\n",
    "    df.to_csv('temporary.dat', sep=sep, compression=compression, **kwargs)\n",
    "    r = requests.post(URL, headers={'Authorization': 'Bearer {}'.format(TOKEN)},files={'datafile': open('temporary.dat', 'rb')},data={'comment':comment, 'compression': compression})\n",
    "    if r.status_code == 429:\n",
    "        raise Exception('Submissions are too close. Next submission is only allowed in {} minutes.'.format(int(math.ceil(int(r.headers['x-rate-limit-remaining']) / 1000.0 / 60.0))))\n",
    "    if r.status_code != 200:\n",
    "        raise Exception(r.text)"
   ]
  },
  {
   "cell_type": "code",
   "execution_count": 5202,
   "metadata": {},
   "outputs": [],
   "source": [
    "submit_prediction(y_test_pred, TOKEN, sep=',', index=True, comment=comment)"
   ]
  },
  {
   "cell_type": "markdown",
   "metadata": {},
   "source": [
    "## 4. References\n",
    "\n",
    "* [Stratified cross validation](https://machinelearningmastery.com/cross-validation-for-imbalanced-classification/)\n",
    "* [Oversampling using SMOTE](https://medium.com/lumiata/cross-validation-for-imbalanced-datasets-9d203ba47e8)"
   ]
  },
  {
   "cell_type": "code",
   "execution_count": 4199,
   "metadata": {},
   "outputs": [],
   "source": [
    "A = [2483,2476,2476,2490,2479,2483,2479,2481,2469,2498,2609,2515,2511,2500,2511,2498,2507,2506,2482,2505,2497,2501,\n",
    "    2500, 2499,2500,2499,2500,2505,2501,2495,2490,2501,2500,2505,2492,2493,2494,2501]\n",
    "B = [1180,1182,1175,1159,1179,1177,1177,1172,1187,1157,1070,1141,1140,1155,1139,1154,1148,1153,1133,1147,1159,1154,\n",
    "    1158, 1162,1159,1161,1154,1150,1154,1163,1163,1159,1158,1154,1165,1161,1161,1157]\n",
    "C = [199,205,211,210,204,202,207,210,207,207,182,205,207,206,209,206,206,199,234,206,204,207,204,200,203,201,207,\n",
    "     205,206,204,210,197,204,203,205,208,206,203]\n",
    "D = [70,69,69,75,70,70,68,68,69,69,72,70,71,69,72,72,70,72,90,72,70,69,69,69,69,69,70,70,69,69,69,73,69,69,69,69,70,\n",
    "    70]\n",
    "E = [37,37,38,35,37,37,38,38,37,38,36,38,40,39,38,39,38,39,30,39,39,39,38,39,38,39,38,39,39,38,39,39,38,38,38,38,38,\n",
    "    38]\n",
    "target = np.array([38.843,39.091,38.764,38.79,38.69,38.938,39.144,39.122,39.022,39.315,\n",
    "                   38.820,38.591,38.164,39.385,38.291,38.343,39.088,38.98,35.87,38.603,\n",
    "                  39.234,39.302,39.332,38.973,39.365,38.99,39.320,38.90,39.094,39.363,\n",
    "                  39.181,38.65,39.313,39.243,39.228,39.139,39.314,39.365]).reshape(-1,1)\n",
    "comments = np.array(['-','-','-','-','-','-','-','-','-','-','-','-','-','-','-','-','A_B_C_D_E',\n",
    "                    'RUS for feature importance','PCA 100','feature impt 0.001','feature impt 0.002',\n",
    "                    'min_impurity 0.009', 'min_impurity 0.01', 'feature_imp 0.0025','feature impt model 0.002',\n",
    "                    'feature impt model 0.0025', 'feature impt model 0.0015', 'feature impt model 0.0001',\n",
    "                    'feature impt model 0.0006', 'feature impt model 0.0023','C+0.1','C-0.1','C-0.01','B+0.01',\n",
    "                    'A+0.1717 B+0.0024','B+0.0024','B+0.0024 C-0.01','C+0.001'])\n",
    "df = pd.DataFrame({'A':A, 'B':B, 'C':C, 'D':D, 'E':E})\n",
    "df['score']=target\n",
    "df['comments']=comments"
   ]
  },
  {
   "cell_type": "code",
   "execution_count": 4200,
   "metadata": {},
   "outputs": [
    {
     "data": {
      "text/html": [
       "<div>\n",
       "<style scoped>\n",
       "    .dataframe tbody tr th:only-of-type {\n",
       "        vertical-align: middle;\n",
       "    }\n",
       "\n",
       "    .dataframe tbody tr th {\n",
       "        vertical-align: top;\n",
       "    }\n",
       "\n",
       "    .dataframe thead th {\n",
       "        text-align: right;\n",
       "    }\n",
       "</style>\n",
       "<table border=\"1\" class=\"dataframe\">\n",
       "  <thead>\n",
       "    <tr style=\"text-align: right;\">\n",
       "      <th></th>\n",
       "      <th>A</th>\n",
       "      <th>B</th>\n",
       "      <th>C</th>\n",
       "      <th>D</th>\n",
       "      <th>E</th>\n",
       "      <th>score</th>\n",
       "      <th>comments</th>\n",
       "    </tr>\n",
       "  </thead>\n",
       "  <tbody>\n",
       "    <tr>\n",
       "      <th>13</th>\n",
       "      <td>2500</td>\n",
       "      <td>1155</td>\n",
       "      <td>206</td>\n",
       "      <td>69</td>\n",
       "      <td>39</td>\n",
       "      <td>39.385</td>\n",
       "      <td>-</td>\n",
       "    </tr>\n",
       "    <tr>\n",
       "      <th>24</th>\n",
       "      <td>2500</td>\n",
       "      <td>1159</td>\n",
       "      <td>203</td>\n",
       "      <td>69</td>\n",
       "      <td>38</td>\n",
       "      <td>39.365</td>\n",
       "      <td>feature impt model 0.002</td>\n",
       "    </tr>\n",
       "    <tr>\n",
       "      <th>37</th>\n",
       "      <td>2501</td>\n",
       "      <td>1157</td>\n",
       "      <td>203</td>\n",
       "      <td>70</td>\n",
       "      <td>38</td>\n",
       "      <td>39.365</td>\n",
       "      <td>C+0.001</td>\n",
       "    </tr>\n",
       "    <tr>\n",
       "      <th>29</th>\n",
       "      <td>2495</td>\n",
       "      <td>1163</td>\n",
       "      <td>204</td>\n",
       "      <td>69</td>\n",
       "      <td>38</td>\n",
       "      <td>39.363</td>\n",
       "      <td>feature impt model 0.0023</td>\n",
       "    </tr>\n",
       "    <tr>\n",
       "      <th>22</th>\n",
       "      <td>2500</td>\n",
       "      <td>1158</td>\n",
       "      <td>204</td>\n",
       "      <td>69</td>\n",
       "      <td>38</td>\n",
       "      <td>39.332</td>\n",
       "      <td>min_impurity 0.01</td>\n",
       "    </tr>\n",
       "    <tr>\n",
       "      <th>26</th>\n",
       "      <td>2500</td>\n",
       "      <td>1154</td>\n",
       "      <td>207</td>\n",
       "      <td>70</td>\n",
       "      <td>38</td>\n",
       "      <td>39.320</td>\n",
       "      <td>feature impt model 0.0015</td>\n",
       "    </tr>\n",
       "    <tr>\n",
       "      <th>9</th>\n",
       "      <td>2498</td>\n",
       "      <td>1157</td>\n",
       "      <td>207</td>\n",
       "      <td>69</td>\n",
       "      <td>38</td>\n",
       "      <td>39.315</td>\n",
       "      <td>-</td>\n",
       "    </tr>\n",
       "    <tr>\n",
       "      <th>36</th>\n",
       "      <td>2494</td>\n",
       "      <td>1161</td>\n",
       "      <td>206</td>\n",
       "      <td>70</td>\n",
       "      <td>38</td>\n",
       "      <td>39.314</td>\n",
       "      <td>B+0.0024 C-0.01</td>\n",
       "    </tr>\n",
       "    <tr>\n",
       "      <th>32</th>\n",
       "      <td>2500</td>\n",
       "      <td>1158</td>\n",
       "      <td>204</td>\n",
       "      <td>69</td>\n",
       "      <td>38</td>\n",
       "      <td>39.313</td>\n",
       "      <td>C-0.01</td>\n",
       "    </tr>\n",
       "    <tr>\n",
       "      <th>21</th>\n",
       "      <td>2501</td>\n",
       "      <td>1154</td>\n",
       "      <td>207</td>\n",
       "      <td>69</td>\n",
       "      <td>39</td>\n",
       "      <td>39.302</td>\n",
       "      <td>min_impurity 0.009</td>\n",
       "    </tr>\n",
       "    <tr>\n",
       "      <th>33</th>\n",
       "      <td>2505</td>\n",
       "      <td>1154</td>\n",
       "      <td>203</td>\n",
       "      <td>69</td>\n",
       "      <td>38</td>\n",
       "      <td>39.243</td>\n",
       "      <td>B+0.01</td>\n",
       "    </tr>\n",
       "    <tr>\n",
       "      <th>20</th>\n",
       "      <td>2497</td>\n",
       "      <td>1159</td>\n",
       "      <td>204</td>\n",
       "      <td>70</td>\n",
       "      <td>39</td>\n",
       "      <td>39.234</td>\n",
       "      <td>feature impt 0.002</td>\n",
       "    </tr>\n",
       "    <tr>\n",
       "      <th>34</th>\n",
       "      <td>2492</td>\n",
       "      <td>1165</td>\n",
       "      <td>205</td>\n",
       "      <td>69</td>\n",
       "      <td>38</td>\n",
       "      <td>39.228</td>\n",
       "      <td>A+0.1717 B+0.0024</td>\n",
       "    </tr>\n",
       "    <tr>\n",
       "      <th>30</th>\n",
       "      <td>2490</td>\n",
       "      <td>1163</td>\n",
       "      <td>210</td>\n",
       "      <td>69</td>\n",
       "      <td>39</td>\n",
       "      <td>39.181</td>\n",
       "      <td>C+0.1</td>\n",
       "    </tr>\n",
       "    <tr>\n",
       "      <th>6</th>\n",
       "      <td>2479</td>\n",
       "      <td>1177</td>\n",
       "      <td>207</td>\n",
       "      <td>68</td>\n",
       "      <td>38</td>\n",
       "      <td>39.144</td>\n",
       "      <td>-</td>\n",
       "    </tr>\n",
       "    <tr>\n",
       "      <th>35</th>\n",
       "      <td>2493</td>\n",
       "      <td>1161</td>\n",
       "      <td>208</td>\n",
       "      <td>69</td>\n",
       "      <td>38</td>\n",
       "      <td>39.139</td>\n",
       "      <td>B+0.0024</td>\n",
       "    </tr>\n",
       "    <tr>\n",
       "      <th>7</th>\n",
       "      <td>2481</td>\n",
       "      <td>1172</td>\n",
       "      <td>210</td>\n",
       "      <td>68</td>\n",
       "      <td>38</td>\n",
       "      <td>39.122</td>\n",
       "      <td>-</td>\n",
       "    </tr>\n",
       "    <tr>\n",
       "      <th>28</th>\n",
       "      <td>2501</td>\n",
       "      <td>1154</td>\n",
       "      <td>206</td>\n",
       "      <td>69</td>\n",
       "      <td>39</td>\n",
       "      <td>39.094</td>\n",
       "      <td>feature impt model 0.0006</td>\n",
       "    </tr>\n",
       "    <tr>\n",
       "      <th>1</th>\n",
       "      <td>2476</td>\n",
       "      <td>1182</td>\n",
       "      <td>205</td>\n",
       "      <td>69</td>\n",
       "      <td>37</td>\n",
       "      <td>39.091</td>\n",
       "      <td>-</td>\n",
       "    </tr>\n",
       "    <tr>\n",
       "      <th>16</th>\n",
       "      <td>2507</td>\n",
       "      <td>1148</td>\n",
       "      <td>206</td>\n",
       "      <td>70</td>\n",
       "      <td>38</td>\n",
       "      <td>39.088</td>\n",
       "      <td>A_B_C_D_E</td>\n",
       "    </tr>\n",
       "    <tr>\n",
       "      <th>8</th>\n",
       "      <td>2469</td>\n",
       "      <td>1187</td>\n",
       "      <td>207</td>\n",
       "      <td>69</td>\n",
       "      <td>37</td>\n",
       "      <td>39.022</td>\n",
       "      <td>-</td>\n",
       "    </tr>\n",
       "    <tr>\n",
       "      <th>25</th>\n",
       "      <td>2499</td>\n",
       "      <td>1161</td>\n",
       "      <td>201</td>\n",
       "      <td>69</td>\n",
       "      <td>39</td>\n",
       "      <td>38.990</td>\n",
       "      <td>feature impt model 0.0025</td>\n",
       "    </tr>\n",
       "    <tr>\n",
       "      <th>17</th>\n",
       "      <td>2506</td>\n",
       "      <td>1153</td>\n",
       "      <td>199</td>\n",
       "      <td>72</td>\n",
       "      <td>39</td>\n",
       "      <td>38.980</td>\n",
       "      <td>RUS for feature importance</td>\n",
       "    </tr>\n",
       "    <tr>\n",
       "      <th>23</th>\n",
       "      <td>2499</td>\n",
       "      <td>1162</td>\n",
       "      <td>200</td>\n",
       "      <td>69</td>\n",
       "      <td>39</td>\n",
       "      <td>38.973</td>\n",
       "      <td>feature_imp 0.0025</td>\n",
       "    </tr>\n",
       "    <tr>\n",
       "      <th>5</th>\n",
       "      <td>2483</td>\n",
       "      <td>1177</td>\n",
       "      <td>202</td>\n",
       "      <td>70</td>\n",
       "      <td>37</td>\n",
       "      <td>38.938</td>\n",
       "      <td>-</td>\n",
       "    </tr>\n",
       "    <tr>\n",
       "      <th>27</th>\n",
       "      <td>2505</td>\n",
       "      <td>1150</td>\n",
       "      <td>205</td>\n",
       "      <td>70</td>\n",
       "      <td>39</td>\n",
       "      <td>38.900</td>\n",
       "      <td>feature impt model 0.0001</td>\n",
       "    </tr>\n",
       "    <tr>\n",
       "      <th>0</th>\n",
       "      <td>2483</td>\n",
       "      <td>1180</td>\n",
       "      <td>199</td>\n",
       "      <td>70</td>\n",
       "      <td>37</td>\n",
       "      <td>38.843</td>\n",
       "      <td>-</td>\n",
       "    </tr>\n",
       "    <tr>\n",
       "      <th>10</th>\n",
       "      <td>2609</td>\n",
       "      <td>1070</td>\n",
       "      <td>182</td>\n",
       "      <td>72</td>\n",
       "      <td>36</td>\n",
       "      <td>38.820</td>\n",
       "      <td>-</td>\n",
       "    </tr>\n",
       "    <tr>\n",
       "      <th>3</th>\n",
       "      <td>2490</td>\n",
       "      <td>1159</td>\n",
       "      <td>210</td>\n",
       "      <td>75</td>\n",
       "      <td>35</td>\n",
       "      <td>38.790</td>\n",
       "      <td>-</td>\n",
       "    </tr>\n",
       "    <tr>\n",
       "      <th>2</th>\n",
       "      <td>2476</td>\n",
       "      <td>1175</td>\n",
       "      <td>211</td>\n",
       "      <td>69</td>\n",
       "      <td>38</td>\n",
       "      <td>38.764</td>\n",
       "      <td>-</td>\n",
       "    </tr>\n",
       "    <tr>\n",
       "      <th>4</th>\n",
       "      <td>2479</td>\n",
       "      <td>1179</td>\n",
       "      <td>204</td>\n",
       "      <td>70</td>\n",
       "      <td>37</td>\n",
       "      <td>38.690</td>\n",
       "      <td>-</td>\n",
       "    </tr>\n",
       "    <tr>\n",
       "      <th>31</th>\n",
       "      <td>2501</td>\n",
       "      <td>1159</td>\n",
       "      <td>197</td>\n",
       "      <td>73</td>\n",
       "      <td>39</td>\n",
       "      <td>38.650</td>\n",
       "      <td>C-0.1</td>\n",
       "    </tr>\n",
       "    <tr>\n",
       "      <th>19</th>\n",
       "      <td>2505</td>\n",
       "      <td>1147</td>\n",
       "      <td>206</td>\n",
       "      <td>72</td>\n",
       "      <td>39</td>\n",
       "      <td>38.603</td>\n",
       "      <td>feature impt 0.001</td>\n",
       "    </tr>\n",
       "    <tr>\n",
       "      <th>11</th>\n",
       "      <td>2515</td>\n",
       "      <td>1141</td>\n",
       "      <td>205</td>\n",
       "      <td>70</td>\n",
       "      <td>38</td>\n",
       "      <td>38.591</td>\n",
       "      <td>-</td>\n",
       "    </tr>\n",
       "    <tr>\n",
       "      <th>15</th>\n",
       "      <td>2498</td>\n",
       "      <td>1154</td>\n",
       "      <td>206</td>\n",
       "      <td>72</td>\n",
       "      <td>39</td>\n",
       "      <td>38.343</td>\n",
       "      <td>-</td>\n",
       "    </tr>\n",
       "    <tr>\n",
       "      <th>14</th>\n",
       "      <td>2511</td>\n",
       "      <td>1139</td>\n",
       "      <td>209</td>\n",
       "      <td>72</td>\n",
       "      <td>38</td>\n",
       "      <td>38.291</td>\n",
       "      <td>-</td>\n",
       "    </tr>\n",
       "    <tr>\n",
       "      <th>12</th>\n",
       "      <td>2511</td>\n",
       "      <td>1140</td>\n",
       "      <td>207</td>\n",
       "      <td>71</td>\n",
       "      <td>40</td>\n",
       "      <td>38.164</td>\n",
       "      <td>-</td>\n",
       "    </tr>\n",
       "    <tr>\n",
       "      <th>18</th>\n",
       "      <td>2482</td>\n",
       "      <td>1133</td>\n",
       "      <td>234</td>\n",
       "      <td>90</td>\n",
       "      <td>30</td>\n",
       "      <td>35.870</td>\n",
       "      <td>PCA 100</td>\n",
       "    </tr>\n",
       "  </tbody>\n",
       "</table>\n",
       "</div>"
      ],
      "text/plain": [
       "       A     B    C   D   E   score                    comments\n",
       "13  2500  1155  206  69  39  39.385                           -\n",
       "24  2500  1159  203  69  38  39.365    feature impt model 0.002\n",
       "37  2501  1157  203  70  38  39.365                     C+0.001\n",
       "29  2495  1163  204  69  38  39.363   feature impt model 0.0023\n",
       "22  2500  1158  204  69  38  39.332           min_impurity 0.01\n",
       "26  2500  1154  207  70  38  39.320   feature impt model 0.0015\n",
       "9   2498  1157  207  69  38  39.315                           -\n",
       "36  2494  1161  206  70  38  39.314             B+0.0024 C-0.01\n",
       "32  2500  1158  204  69  38  39.313                      C-0.01\n",
       "21  2501  1154  207  69  39  39.302          min_impurity 0.009\n",
       "33  2505  1154  203  69  38  39.243                      B+0.01\n",
       "20  2497  1159  204  70  39  39.234          feature impt 0.002\n",
       "34  2492  1165  205  69  38  39.228           A+0.1717 B+0.0024\n",
       "30  2490  1163  210  69  39  39.181                       C+0.1\n",
       "6   2479  1177  207  68  38  39.144                           -\n",
       "35  2493  1161  208  69  38  39.139                    B+0.0024\n",
       "7   2481  1172  210  68  38  39.122                           -\n",
       "28  2501  1154  206  69  39  39.094   feature impt model 0.0006\n",
       "1   2476  1182  205  69  37  39.091                           -\n",
       "16  2507  1148  206  70  38  39.088                   A_B_C_D_E\n",
       "8   2469  1187  207  69  37  39.022                           -\n",
       "25  2499  1161  201  69  39  38.990   feature impt model 0.0025\n",
       "17  2506  1153  199  72  39  38.980  RUS for feature importance\n",
       "23  2499  1162  200  69  39  38.973          feature_imp 0.0025\n",
       "5   2483  1177  202  70  37  38.938                           -\n",
       "27  2505  1150  205  70  39  38.900   feature impt model 0.0001\n",
       "0   2483  1180  199  70  37  38.843                           -\n",
       "10  2609  1070  182  72  36  38.820                           -\n",
       "3   2490  1159  210  75  35  38.790                           -\n",
       "2   2476  1175  211  69  38  38.764                           -\n",
       "4   2479  1179  204  70  37  38.690                           -\n",
       "31  2501  1159  197  73  39  38.650                       C-0.1\n",
       "19  2505  1147  206  72  39  38.603          feature impt 0.001\n",
       "11  2515  1141  205  70  38  38.591                           -\n",
       "15  2498  1154  206  72  39  38.343                           -\n",
       "14  2511  1139  209  72  38  38.291                           -\n",
       "12  2511  1140  207  71  40  38.164                           -\n",
       "18  2482  1133  234  90  30  35.870                     PCA 100"
      ]
     },
     "execution_count": 4200,
     "metadata": {},
     "output_type": "execute_result"
    }
   ],
   "source": [
    "df.sort_values('score', ascending=False)"
   ]
  },
  {
   "cell_type": "code",
   "execution_count": null,
   "metadata": {},
   "outputs": [],
   "source": []
  }
 ],
 "metadata": {
  "kernelspec": {
   "display_name": "Python 3",
   "language": "python",
   "name": "python3"
  },
  "language_info": {
   "codemirror_mode": {
    "name": "ipython",
    "version": 3
   },
   "file_extension": ".py",
   "mimetype": "text/x-python",
   "name": "python",
   "nbconvert_exporter": "python",
   "pygments_lexer": "ipython3",
   "version": "3.6.10"
  }
 },
 "nbformat": 4,
 "nbformat_minor": 4
}
