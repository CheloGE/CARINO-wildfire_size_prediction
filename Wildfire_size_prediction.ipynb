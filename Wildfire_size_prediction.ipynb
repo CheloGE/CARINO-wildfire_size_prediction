{
 "cells": [
  {
   "cell_type": "markdown",
   "metadata": {},
   "source": [
    "# The aim of this notebook is to create a model that predicts the size of a wildfire\n",
    "\n",
    "Author: Marcelo Garcia Escalante"
   ]
  },
  {
   "cell_type": "code",
   "execution_count": 115,
   "metadata": {},
   "outputs": [],
   "source": [
    "# All imports for the project goes here\n",
    "import pandas as pd\n",
    "import numpy as np\n",
    "import matplotlib.pyplot as plt\n",
    "from collections import Counter\n",
    "\n",
    "%matplotlib inline"
   ]
  },
  {
   "cell_type": "markdown",
   "metadata": {},
   "source": [
    "## EDA (Exploratory Data Analysis)\n",
    "\n",
    "In this section, we will visualize and analyze our dataset. Also any possible clean-up required will be performed. "
   ]
  },
  {
   "cell_type": "code",
   "execution_count": 2,
   "metadata": {},
   "outputs": [],
   "source": [
    "# Loading the dataset\n",
    "train = pd.read_csv('train.csv')\n",
    "test = pd.read_csv('test.csv')"
   ]
  },
  {
   "cell_type": "code",
   "execution_count": 36,
   "metadata": {},
   "outputs": [
    {
     "data": {
      "text/html": [
       "<div>\n",
       "<style scoped>\n",
       "    .dataframe tbody tr th:only-of-type {\n",
       "        vertical-align: middle;\n",
       "    }\n",
       "\n",
       "    .dataframe tbody tr th {\n",
       "        vertical-align: top;\n",
       "    }\n",
       "\n",
       "    .dataframe thead th {\n",
       "        text-align: right;\n",
       "    }\n",
       "</style>\n",
       "<table border=\"1\" class=\"dataframe\">\n",
       "  <thead>\n",
       "    <tr style=\"text-align: right;\">\n",
       "      <th></th>\n",
       "      <th>fire_number</th>\n",
       "      <th>fire_year</th>\n",
       "      <th>assessment_datetime</th>\n",
       "      <th>size_class</th>\n",
       "      <th>fire_location_latitude</th>\n",
       "      <th>fire_location_longitude</th>\n",
       "      <th>fire_origin</th>\n",
       "      <th>general_cause_desc</th>\n",
       "      <th>activity_class</th>\n",
       "      <th>true_cause</th>\n",
       "      <th>...</th>\n",
       "      <th>start_for_fire_date</th>\n",
       "      <th>fire_fighting_start_date</th>\n",
       "      <th>initial_action_by</th>\n",
       "      <th>fire_type</th>\n",
       "      <th>fire_position_on_slope</th>\n",
       "      <th>weather_conditions_over_fire</th>\n",
       "      <th>fuel_type</th>\n",
       "      <th>bh_fs_date</th>\n",
       "      <th>uc_fs_date</th>\n",
       "      <th>ex_fs_date</th>\n",
       "    </tr>\n",
       "  </thead>\n",
       "  <tbody>\n",
       "    <tr>\n",
       "      <th>15870</th>\n",
       "      <td>SWF001</td>\n",
       "      <td>2006</td>\n",
       "      <td>2006-04-07 17:55:00</td>\n",
       "      <td>B</td>\n",
       "      <td>55.355664</td>\n",
       "      <td>-115.776846</td>\n",
       "      <td>Indian Reservation</td>\n",
       "      <td>Incendiary</td>\n",
       "      <td>Lighting Fires</td>\n",
       "      <td>Arson Known</td>\n",
       "      <td>...</td>\n",
       "      <td>2006-04-07 18:00:00</td>\n",
       "      <td>NaN</td>\n",
       "      <td>Fire Department</td>\n",
       "      <td>Surface</td>\n",
       "      <td>Flat</td>\n",
       "      <td>Clear</td>\n",
       "      <td>O1a</td>\n",
       "      <td>2006-04-07 17:55:00</td>\n",
       "      <td>2006-04-07 17:55:00</td>\n",
       "      <td>2006-04-07 19:30:00</td>\n",
       "    </tr>\n",
       "    <tr>\n",
       "      <th>15871</th>\n",
       "      <td>HWF091</td>\n",
       "      <td>2008</td>\n",
       "      <td>2008-06-03 15:35:00</td>\n",
       "      <td>A</td>\n",
       "      <td>58.743900</td>\n",
       "      <td>-117.223467</td>\n",
       "      <td>Provincial Land</td>\n",
       "      <td>Lightning</td>\n",
       "      <td>NaN</td>\n",
       "      <td>NaN</td>\n",
       "      <td>...</td>\n",
       "      <td>2008-06-03 15:08:00</td>\n",
       "      <td>2008-06-03 16:00:00</td>\n",
       "      <td>HAC1F</td>\n",
       "      <td>Ground</td>\n",
       "      <td>Flat</td>\n",
       "      <td>Clear</td>\n",
       "      <td>C2</td>\n",
       "      <td>2008-06-03 16:42:00</td>\n",
       "      <td>2008-06-03 16:42:00</td>\n",
       "      <td>2008-06-03 18:24:00</td>\n",
       "    </tr>\n",
       "    <tr>\n",
       "      <th>15872</th>\n",
       "      <td>HWF234</td>\n",
       "      <td>2015</td>\n",
       "      <td>2015-06-26 15:27:00</td>\n",
       "      <td>E</td>\n",
       "      <td>59.846600</td>\n",
       "      <td>-116.768133</td>\n",
       "      <td>Provincial Land</td>\n",
       "      <td>Lightning</td>\n",
       "      <td>NaN</td>\n",
       "      <td>NaN</td>\n",
       "      <td>...</td>\n",
       "      <td>2015-06-26 17:30:00</td>\n",
       "      <td>2015-06-26 17:30:00</td>\n",
       "      <td>FTAC</td>\n",
       "      <td>Ground</td>\n",
       "      <td>Flat</td>\n",
       "      <td>CB Wet</td>\n",
       "      <td>C1</td>\n",
       "      <td>2015-06-26 22:00:00</td>\n",
       "      <td>2015-06-26 23:00:00</td>\n",
       "      <td>2015-07-01 10:46:00</td>\n",
       "    </tr>\n",
       "    <tr>\n",
       "      <th>15873</th>\n",
       "      <td>MWF097</td>\n",
       "      <td>2008</td>\n",
       "      <td>2008-07-19 14:59:00</td>\n",
       "      <td>A</td>\n",
       "      <td>56.300000</td>\n",
       "      <td>-112.535217</td>\n",
       "      <td>Provincial Land</td>\n",
       "      <td>Lightning</td>\n",
       "      <td>NaN</td>\n",
       "      <td>NaN</td>\n",
       "      <td>...</td>\n",
       "      <td>2008-07-19 14:55:00</td>\n",
       "      <td>2008-07-19 15:10:00</td>\n",
       "      <td>HAC1H</td>\n",
       "      <td>Surface</td>\n",
       "      <td>Flat</td>\n",
       "      <td>Cloudy</td>\n",
       "      <td>C2</td>\n",
       "      <td>2008-07-19 15:20:00</td>\n",
       "      <td>2008-07-19 15:30:00</td>\n",
       "      <td>2008-07-19 17:43:00</td>\n",
       "    </tr>\n",
       "    <tr>\n",
       "      <th>15874</th>\n",
       "      <td>SWF133</td>\n",
       "      <td>2015</td>\n",
       "      <td>2015-06-26 17:05:00</td>\n",
       "      <td>B</td>\n",
       "      <td>55.917023</td>\n",
       "      <td>-113.707167</td>\n",
       "      <td>Private Land</td>\n",
       "      <td>Resident</td>\n",
       "      <td>Debris Disposal</td>\n",
       "      <td>Unsafe Fire</td>\n",
       "      <td>...</td>\n",
       "      <td>2015-06-26 16:51:00</td>\n",
       "      <td>2015-06-26 17:25:00</td>\n",
       "      <td>HAC</td>\n",
       "      <td>Surface</td>\n",
       "      <td>Flat</td>\n",
       "      <td>Clear</td>\n",
       "      <td>M2</td>\n",
       "      <td>2015-06-26 17:52:00</td>\n",
       "      <td>2015-06-26 19:35:00</td>\n",
       "      <td>2015-06-27 16:40:00</td>\n",
       "    </tr>\n",
       "  </tbody>\n",
       "</table>\n",
       "<p>5 rows × 25 columns</p>\n",
       "</div>"
      ],
      "text/plain": [
       "      fire_number  fire_year  assessment_datetime size_class  \\\n",
       "15870      SWF001       2006  2006-04-07 17:55:00          B   \n",
       "15871      HWF091       2008  2008-06-03 15:35:00          A   \n",
       "15872      HWF234       2015  2015-06-26 15:27:00          E   \n",
       "15873      MWF097       2008  2008-07-19 14:59:00          A   \n",
       "15874      SWF133       2015  2015-06-26 17:05:00          B   \n",
       "\n",
       "       fire_location_latitude  fire_location_longitude         fire_origin  \\\n",
       "15870               55.355664              -115.776846  Indian Reservation   \n",
       "15871               58.743900              -117.223467     Provincial Land   \n",
       "15872               59.846600              -116.768133     Provincial Land   \n",
       "15873               56.300000              -112.535217     Provincial Land   \n",
       "15874               55.917023              -113.707167        Private Land   \n",
       "\n",
       "      general_cause_desc   activity_class   true_cause  ...  \\\n",
       "15870         Incendiary   Lighting Fires  Arson Known  ...   \n",
       "15871          Lightning              NaN          NaN  ...   \n",
       "15872          Lightning              NaN          NaN  ...   \n",
       "15873          Lightning              NaN          NaN  ...   \n",
       "15874           Resident  Debris Disposal  Unsafe Fire  ...   \n",
       "\n",
       "       start_for_fire_date fire_fighting_start_date initial_action_by  \\\n",
       "15870  2006-04-07 18:00:00                      NaN   Fire Department   \n",
       "15871  2008-06-03 15:08:00      2008-06-03 16:00:00             HAC1F   \n",
       "15872  2015-06-26 17:30:00      2015-06-26 17:30:00              FTAC   \n",
       "15873  2008-07-19 14:55:00      2008-07-19 15:10:00             HAC1H   \n",
       "15874  2015-06-26 16:51:00      2015-06-26 17:25:00               HAC   \n",
       "\n",
       "      fire_type fire_position_on_slope weather_conditions_over_fire fuel_type  \\\n",
       "15870   Surface                   Flat                        Clear       O1a   \n",
       "15871    Ground                   Flat                        Clear        C2   \n",
       "15872    Ground                   Flat                       CB Wet        C1   \n",
       "15873   Surface                   Flat                       Cloudy        C2   \n",
       "15874   Surface                   Flat                        Clear        M2   \n",
       "\n",
       "                bh_fs_date           uc_fs_date           ex_fs_date  \n",
       "15870  2006-04-07 17:55:00  2006-04-07 17:55:00  2006-04-07 19:30:00  \n",
       "15871  2008-06-03 16:42:00  2008-06-03 16:42:00  2008-06-03 18:24:00  \n",
       "15872  2015-06-26 22:00:00  2015-06-26 23:00:00  2015-07-01 10:46:00  \n",
       "15873  2008-07-19 15:20:00  2008-07-19 15:30:00  2008-07-19 17:43:00  \n",
       "15874  2015-06-26 17:52:00  2015-06-26 19:35:00  2015-06-27 16:40:00  \n",
       "\n",
       "[5 rows x 25 columns]"
      ]
     },
     "execution_count": 36,
     "metadata": {},
     "output_type": "execute_result"
    }
   ],
   "source": [
    "#Visualizing the train dataset\n",
    "train.tail()"
   ]
  },
  {
   "cell_type": "code",
   "execution_count": 37,
   "metadata": {},
   "outputs": [
    {
     "data": {
      "text/html": [
       "<div>\n",
       "<style scoped>\n",
       "    .dataframe tbody tr th:only-of-type {\n",
       "        vertical-align: middle;\n",
       "    }\n",
       "\n",
       "    .dataframe tbody tr th {\n",
       "        vertical-align: top;\n",
       "    }\n",
       "\n",
       "    .dataframe thead th {\n",
       "        text-align: right;\n",
       "    }\n",
       "</style>\n",
       "<table border=\"1\" class=\"dataframe\">\n",
       "  <thead>\n",
       "    <tr style=\"text-align: right;\">\n",
       "      <th></th>\n",
       "      <th>fire_number</th>\n",
       "      <th>fire_year</th>\n",
       "      <th>assessment_datetime</th>\n",
       "      <th>fire_location_latitude</th>\n",
       "      <th>fire_location_longitude</th>\n",
       "      <th>fire_origin</th>\n",
       "      <th>general_cause_desc</th>\n",
       "      <th>activity_class</th>\n",
       "      <th>true_cause</th>\n",
       "      <th>fire_start_date</th>\n",
       "      <th>...</th>\n",
       "      <th>start_for_fire_date</th>\n",
       "      <th>fire_fighting_start_date</th>\n",
       "      <th>initial_action_by</th>\n",
       "      <th>fire_type</th>\n",
       "      <th>fire_position_on_slope</th>\n",
       "      <th>weather_conditions_over_fire</th>\n",
       "      <th>fuel_type</th>\n",
       "      <th>bh_fs_date</th>\n",
       "      <th>uc_fs_date</th>\n",
       "      <th>ex_fs_date</th>\n",
       "    </tr>\n",
       "  </thead>\n",
       "  <tbody>\n",
       "    <tr>\n",
       "      <th>3964</th>\n",
       "      <td>RWF047</td>\n",
       "      <td>2018</td>\n",
       "      <td>2018-07-30 17:21:00</td>\n",
       "      <td>52.490550</td>\n",
       "      <td>-115.964300</td>\n",
       "      <td>Provincial Land</td>\n",
       "      <td>Lightning</td>\n",
       "      <td>NaN</td>\n",
       "      <td>NaN</td>\n",
       "      <td>2018-07-30 16:30:00</td>\n",
       "      <td>...</td>\n",
       "      <td>2018-07-30 17:21:00</td>\n",
       "      <td>2018-07-30 17:42:00</td>\n",
       "      <td>HAC</td>\n",
       "      <td>Surface</td>\n",
       "      <td>Flat</td>\n",
       "      <td>Rainshowers</td>\n",
       "      <td>C3</td>\n",
       "      <td>2018-07-30 17:21:00</td>\n",
       "      <td>2018-07-30 17:50:00</td>\n",
       "      <td>2018-07-30 18:05:00</td>\n",
       "    </tr>\n",
       "    <tr>\n",
       "      <th>3965</th>\n",
       "      <td>GWF067</td>\n",
       "      <td>2009</td>\n",
       "      <td>2009-06-27 19:30:00</td>\n",
       "      <td>55.077350</td>\n",
       "      <td>-117.618717</td>\n",
       "      <td>Private Land</td>\n",
       "      <td>Resident</td>\n",
       "      <td>Refuse</td>\n",
       "      <td>Permit Related</td>\n",
       "      <td>2009-06-26 16:00:00</td>\n",
       "      <td>...</td>\n",
       "      <td>2009-06-27 19:00:00</td>\n",
       "      <td>NaN</td>\n",
       "      <td>Land Owner</td>\n",
       "      <td>Surface</td>\n",
       "      <td>Bottom</td>\n",
       "      <td>Cloudy</td>\n",
       "      <td>NaN</td>\n",
       "      <td>2009-06-27 19:30:00</td>\n",
       "      <td>2009-06-27 19:30:00</td>\n",
       "      <td>2009-06-30 14:30:00</td>\n",
       "    </tr>\n",
       "    <tr>\n",
       "      <th>3966</th>\n",
       "      <td>GWF194</td>\n",
       "      <td>2006</td>\n",
       "      <td>2006-09-07 14:35:00</td>\n",
       "      <td>54.350328</td>\n",
       "      <td>-119.919998</td>\n",
       "      <td>Provincial Land</td>\n",
       "      <td>Restart</td>\n",
       "      <td>NaN</td>\n",
       "      <td>NaN</td>\n",
       "      <td>2006-09-01 16:00:00</td>\n",
       "      <td>...</td>\n",
       "      <td>2006-09-07 14:51:00</td>\n",
       "      <td>2006-09-07 15:35:00</td>\n",
       "      <td>HAC1F</td>\n",
       "      <td>Ground</td>\n",
       "      <td>Upper 1/3</td>\n",
       "      <td>Clear</td>\n",
       "      <td>C3</td>\n",
       "      <td>2006-09-07 14:35:00</td>\n",
       "      <td>2006-09-07 14:35:00</td>\n",
       "      <td>2006-09-27 16:50:00</td>\n",
       "    </tr>\n",
       "    <tr>\n",
       "      <th>3967</th>\n",
       "      <td>LWF091</td>\n",
       "      <td>2012</td>\n",
       "      <td>2012-06-01 16:10:00</td>\n",
       "      <td>55.105667</td>\n",
       "      <td>-111.517000</td>\n",
       "      <td>Provincial Land</td>\n",
       "      <td>Recreation</td>\n",
       "      <td>Transportation</td>\n",
       "      <td>Vehicle Fire</td>\n",
       "      <td>2012-06-01 15:32:00</td>\n",
       "      <td>...</td>\n",
       "      <td>2012-06-01 15:38:00</td>\n",
       "      <td>NaN</td>\n",
       "      <td>Fire Department</td>\n",
       "      <td>Surface</td>\n",
       "      <td>Bottom</td>\n",
       "      <td>Clear</td>\n",
       "      <td>O1a</td>\n",
       "      <td>2012-06-01 16:10:00</td>\n",
       "      <td>2012-06-01 16:10:00</td>\n",
       "      <td>2012-06-01 16:24:00</td>\n",
       "    </tr>\n",
       "    <tr>\n",
       "      <th>3968</th>\n",
       "      <td>GWF084</td>\n",
       "      <td>2008</td>\n",
       "      <td>2008-07-09 09:26:00</td>\n",
       "      <td>55.035717</td>\n",
       "      <td>-117.867233</td>\n",
       "      <td>Private Land</td>\n",
       "      <td>Resident</td>\n",
       "      <td>Unclassified</td>\n",
       "      <td>Unpredictable Event</td>\n",
       "      <td>2008-07-08 21:00:00</td>\n",
       "      <td>...</td>\n",
       "      <td>2008-07-09 08:28:00</td>\n",
       "      <td>NaN</td>\n",
       "      <td>Fire Department</td>\n",
       "      <td>Surface</td>\n",
       "      <td>Flat</td>\n",
       "      <td>Clear</td>\n",
       "      <td>NaN</td>\n",
       "      <td>2008-07-09 09:26:00</td>\n",
       "      <td>2008-07-09 09:26:00</td>\n",
       "      <td>2008-07-15 10:40:00</td>\n",
       "    </tr>\n",
       "  </tbody>\n",
       "</table>\n",
       "<p>5 rows × 24 columns</p>\n",
       "</div>"
      ],
      "text/plain": [
       "     fire_number  fire_year  assessment_datetime  fire_location_latitude  \\\n",
       "3964      RWF047       2018  2018-07-30 17:21:00               52.490550   \n",
       "3965      GWF067       2009  2009-06-27 19:30:00               55.077350   \n",
       "3966      GWF194       2006  2006-09-07 14:35:00               54.350328   \n",
       "3967      LWF091       2012  2012-06-01 16:10:00               55.105667   \n",
       "3968      GWF084       2008  2008-07-09 09:26:00               55.035717   \n",
       "\n",
       "      fire_location_longitude      fire_origin general_cause_desc  \\\n",
       "3964              -115.964300  Provincial Land          Lightning   \n",
       "3965              -117.618717     Private Land           Resident   \n",
       "3966              -119.919998  Provincial Land            Restart   \n",
       "3967              -111.517000  Provincial Land         Recreation   \n",
       "3968              -117.867233     Private Land           Resident   \n",
       "\n",
       "      activity_class           true_cause      fire_start_date  ...  \\\n",
       "3964             NaN                  NaN  2018-07-30 16:30:00  ...   \n",
       "3965          Refuse       Permit Related  2009-06-26 16:00:00  ...   \n",
       "3966             NaN                  NaN  2006-09-01 16:00:00  ...   \n",
       "3967  Transportation         Vehicle Fire  2012-06-01 15:32:00  ...   \n",
       "3968    Unclassified  Unpredictable Event  2008-07-08 21:00:00  ...   \n",
       "\n",
       "      start_for_fire_date fire_fighting_start_date initial_action_by  \\\n",
       "3964  2018-07-30 17:21:00      2018-07-30 17:42:00               HAC   \n",
       "3965  2009-06-27 19:00:00                      NaN        Land Owner   \n",
       "3966  2006-09-07 14:51:00      2006-09-07 15:35:00             HAC1F   \n",
       "3967  2012-06-01 15:38:00                      NaN   Fire Department   \n",
       "3968  2008-07-09 08:28:00                      NaN   Fire Department   \n",
       "\n",
       "     fire_type fire_position_on_slope weather_conditions_over_fire fuel_type  \\\n",
       "3964   Surface                   Flat                  Rainshowers        C3   \n",
       "3965   Surface                 Bottom                       Cloudy       NaN   \n",
       "3966    Ground              Upper 1/3                        Clear        C3   \n",
       "3967   Surface                 Bottom                        Clear       O1a   \n",
       "3968   Surface                   Flat                        Clear       NaN   \n",
       "\n",
       "               bh_fs_date           uc_fs_date           ex_fs_date  \n",
       "3964  2018-07-30 17:21:00  2018-07-30 17:50:00  2018-07-30 18:05:00  \n",
       "3965  2009-06-27 19:30:00  2009-06-27 19:30:00  2009-06-30 14:30:00  \n",
       "3966  2006-09-07 14:35:00  2006-09-07 14:35:00  2006-09-27 16:50:00  \n",
       "3967  2012-06-01 16:10:00  2012-06-01 16:10:00  2012-06-01 16:24:00  \n",
       "3968  2008-07-09 09:26:00  2008-07-09 09:26:00  2008-07-15 10:40:00  \n",
       "\n",
       "[5 rows x 24 columns]"
      ]
     },
     "execution_count": 37,
     "metadata": {},
     "output_type": "execute_result"
    }
   ],
   "source": [
    "#Visualizing the test dataset\n",
    "test.tail()"
   ]
  },
  {
   "cell_type": "code",
   "execution_count": 39,
   "metadata": {},
   "outputs": [
    {
     "name": "stdout",
     "output_type": "stream",
     "text": [
      "The shape of train dataset is: (15875, 25)\n",
      "The shape of test dataset is: (3969, 24)\n"
     ]
    }
   ],
   "source": [
    "# Shape of dataset\n",
    "print(f\"The shape of train dataset is: {train.shape}\")\n",
    "print(f\"The shape of test dataset is: {test.shape}\")"
   ]
  },
  {
   "cell_type": "markdown",
   "metadata": {},
   "source": [
    "`comment:` First thing we can notice is that the features are not the same. Train has 25 features while test has only 24. let's see what is the difference"
   ]
  },
  {
   "cell_type": "code",
   "execution_count": 32,
   "metadata": {},
   "outputs": [
    {
     "data": {
      "text/plain": [
       "'size_class'"
      ]
     },
     "execution_count": 32,
     "metadata": {},
     "output_type": "execute_result"
    }
   ],
   "source": [
    "train.columns[np.array([feature not in test.columns for feature in train.columns])][0]"
   ]
  },
  {
   "cell_type": "markdown",
   "metadata": {},
   "source": [
    "That will mean that our testing dataset does not have labels. The reason for this is that this is a contest and the labels are not provided as this will be the metric to assess the performance of all the models proposed by each contestant. \n",
    "\n",
    "### Clean data\n",
    "\n",
    "In this section we will look for empty or null values that could make invalid our analysis"
   ]
  },
  {
   "cell_type": "code",
   "execution_count": 33,
   "metadata": {},
   "outputs": [
    {
     "data": {
      "text/plain": [
       "true_cause                      7194\n",
       "activity_class                  6197\n",
       "fuel_type                       4793\n",
       "fire_fighting_start_date        4199\n",
       "discovered_date                 2119\n",
       "weather_conditions_over_fire    1893\n",
       "fire_position_on_slope          1888\n",
       "fire_type                       1819\n",
       "fire_start_date                  433\n",
       "fire_origin                        7\n",
       "reported_date                      1\n",
       "det_agent                          1\n",
       "det_agent_type                     1\n",
       "dtype: int64"
      ]
     },
     "execution_count": 33,
     "metadata": {},
     "output_type": "execute_result"
    }
   ],
   "source": [
    "null_counts = train.isnull().sum()\n",
    "null_counts[null_counts > 0].sort_values(ascending=False)"
   ]
  },
  {
   "cell_type": "code",
   "execution_count": 51,
   "metadata": {},
   "outputs": [
    {
     "data": {
      "text/plain": [
       "true_cause                      1796\n",
       "activity_class                  1524\n",
       "fuel_type                       1247\n",
       "fire_fighting_start_date        1080\n",
       "discovered_date                  546\n",
       "weather_conditions_over_fire     456\n",
       "fire_position_on_slope           456\n",
       "fire_type                        434\n",
       "fire_start_date                  112\n",
       "fire_origin                        3\n",
       "dtype: int64"
      ]
     },
     "execution_count": 51,
     "metadata": {},
     "output_type": "execute_result"
    }
   ],
   "source": [
    "null_counts = test.isnull().sum()\n",
    "null_counts[null_counts > 0].sort_values(ascending=False)"
   ]
  },
  {
   "cell_type": "markdown",
   "metadata": {},
   "source": [
    "`comment:` From above we can see that most of the missing data for both datasets are in the `true_cause` and `activity class` features, which means that we don't know what was the true reason of the wildfire or what was the activity that was going on when the wildfire was started. "
   ]
  },
  {
   "cell_type": "code",
   "execution_count": 129,
   "metadata": {},
   "outputs": [
    {
     "name": "stdout",
     "output_type": "stream",
     "text": [
      "Number of datapoints that have at least one value missing: 14137\n"
     ]
    }
   ],
   "source": [
    "pd.set_option('display.max_columns', None)\n",
    "print(f\"Number of datapoints that have at least one value missing: {len(train[train.isnull().any(axis=1)])}\")"
   ]
  },
  {
   "cell_type": "code",
   "execution_count": 132,
   "metadata": {},
   "outputs": [
    {
     "data": {
      "image/png": "[encoded data removed]",
      "text/plain": [
       "<Figure size 1080x360 with 1 Axes>"
      ]
     },
     "metadata": {
      "needs_background": "light"
     },
     "output_type": "display_data"
    }
   ],
   "source": [
    "plt.figure(figsize=(15,5))\n",
    "plt.bar(*zip(*dict(Counter(train.isnull().sum(axis=1))).items()))\n",
    "plt.xlabel('Number of missing values in a datapoint(row)', fontsize=15)\n",
    "plt.ylabel('Number of samples', fontsize=15)\n",
    "plt.title('train dataset missing data', fontsize=20)\n",
    "plt.show()"
   ]
  },
  {
   "cell_type": "code",
   "execution_count": 133,
   "metadata": {},
   "outputs": [
    {
     "data": {
      "image/png": "[encoded data removed]",
      "text/plain": [
       "<Figure size 1080x360 with 1 Axes>"
      ]
     },
     "metadata": {
      "needs_background": "light"
     },
     "output_type": "display_data"
    }
   ],
   "source": [
    "plt.figure(figsize=(15,5))\n",
    "plt.bar(*zip(*dict(Counter(test.isnull().sum(axis=1))).items()))\n",
    "plt.xlabel('Number of missing values in a datapoint(row)', fontsize=15)\n",
    "plt.ylabel('Number of samples', fontsize=15)\n",
    "plt.title('test dataset missing data', fontsize=20)\n",
    "plt.show()"
   ]
  },
  {
   "cell_type": "markdown",
   "metadata": {},
   "source": [
    "`comment:` We can see from above that in most of our data 2 missing features are common followed by one missing feature per row. Most likely `true_cause` and `activity class` as they are the most frequent missing feature. That means that perhaps it is not a good idea to trust in this features for building our model"
   ]
  },
  {
   "cell_type": "code",
   "execution_count": null,
   "metadata": {},
   "outputs": [],
   "source": []
  }
 ],
 "metadata": {
  "kernelspec": {
   "display_name": "Python 3",
   "language": "python",
   "name": "python3"
  },
  "language_info": {
   "codemirror_mode": {
    "name": "ipython",
    "version": 3
   },
   "file_extension": ".py",
   "mimetype": "text/x-python",
   "name": "python",
   "nbconvert_exporter": "python",
   "pygments_lexer": "ipython3",
   "version": "3.6.10"
  }
 },
 "nbformat": 4,
 "nbformat_minor": 4
}
