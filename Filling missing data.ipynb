{
 "cells": [
  {
   "cell_type": "markdown",
   "metadata": {},
   "source": [
    "# This notebook aims to fill missing data from the wildfire dataset\n",
    "\n",
    "* [Fill `fuel_type` feature](#Fill-fuel_type-feature)\n",
    "* [Fill `true_cause` feature](#Fill-true_cause-feature)"
   ]
  },
  {
   "cell_type": "code",
   "execution_count": 2,
   "metadata": {},
   "outputs": [
    {
     "name": "stderr",
     "output_type": "stream",
     "text": [
      "Using TensorFlow backend.\n"
     ]
    }
   ],
   "source": [
    "# All imports for the project goes here\n",
    "import pandas as pd\n",
    "import numpy as np\n",
    "import matplotlib.pyplot as plt\n",
    "from collections import Counter\n",
    "from helpers import feature_plot, oneHotEnc_to_classes, parse_datetime_features_to_hours, RocCallback\n",
    "from helpers import datetime_feature_engineering, fill_datetime_with_neighbors, save_model, load_model\n",
    "from helpers import fire_number_feature_engineering, data_analysis_by_size_class\n",
    "from sklearn.ensemble import RandomForestClassifier, AdaBoostClassifier, GradientBoostingClassifier\n",
    "import category_encoders as ce\n",
    "from datetime import datetime\n",
    "from sklearn.preprocessing import StandardScaler, RobustScaler\n",
    "from helpers import feature_plot\n",
    "from sklearn.model_selection import StratifiedKFold\n",
    "from sklearn.model_selection import train_test_split\n",
    "from sklearn.metrics import fbeta_score, accuracy_score, make_scorer\n",
    "from sklearn.model_selection import GridSearchCV\n",
    "\n",
    "\n",
    "%matplotlib inline\n",
    "%load_ext autoreload\n",
    "%autoreload 2"
   ]
  },
  {
   "cell_type": "code",
   "execution_count": 3,
   "metadata": {},
   "outputs": [],
   "source": [
    "# Loading the dataset\n",
    "train = pd.read_csv('train.csv')\n",
    "test = pd.read_csv('test.csv')"
   ]
  },
  {
   "cell_type": "code",
   "execution_count": 4,
   "metadata": {},
   "outputs": [],
   "source": [
    "# Parsing date data to datetime type\n",
    "dates_list = ['assessment_datetime', 'fire_start_date', 'discovered_date', 'reported_date', 'start_for_fire_date', \n",
    "             'fire_fighting_start_date', 'bh_fs_date', 'uc_fs_date', 'ex_fs_date']\n",
    "train[dates_list]=pd.to_datetime(train[dates_list].stack(), format = \"%Y-%m-%d %H:%M:%S\").unstack()\n",
    "test[dates_list]=pd.to_datetime(test[dates_list].stack(), format = \"%Y-%m-%d %H:%M:%S\").unstack()"
   ]
  },
  {
   "cell_type": "code",
   "execution_count": 5,
   "metadata": {},
   "outputs": [
    {
     "data": {
      "text/plain": [
       "true_cause                      7194\n",
       "activity_class                  6197\n",
       "fuel_type                       4793\n",
       "fire_fighting_start_date        4199\n",
       "discovered_date                 2119\n",
       "weather_conditions_over_fire    1893\n",
       "fire_position_on_slope          1888\n",
       "fire_type                       1819\n",
       "fire_start_date                  433\n",
       "fire_origin                        7\n",
       "reported_date                      1\n",
       "det_agent                          1\n",
       "det_agent_type                     1\n",
       "dtype: int64"
      ]
     },
     "execution_count": 5,
     "metadata": {},
     "output_type": "execute_result"
    }
   ],
   "source": [
    "# Train missing data\n",
    "null_counts = train.isnull().sum()\n",
    "null_counts[null_counts > 0].sort_values(ascending=False)"
   ]
  },
  {
   "cell_type": "code",
   "execution_count": 4,
   "metadata": {},
   "outputs": [
    {
     "data": {
      "text/plain": [
       "true_cause                      1796\n",
       "activity_class                  1524\n",
       "fuel_type                       1247\n",
       "fire_fighting_start_date        1080\n",
       "discovered_date                  546\n",
       "weather_conditions_over_fire     456\n",
       "fire_position_on_slope           456\n",
       "fire_type                        434\n",
       "fire_start_date                  112\n",
       "fire_origin                        3\n",
       "dtype: int64"
      ]
     },
     "execution_count": 4,
     "metadata": {},
     "output_type": "execute_result"
    }
   ],
   "source": [
    "# Test missing data\n",
    "null_counts = test.isnull().sum()\n",
    "null_counts[null_counts > 0].sort_values(ascending=False)"
   ]
  },
  {
   "cell_type": "code",
   "execution_count": 6,
   "metadata": {},
   "outputs": [],
   "source": [
    "# Get training data only with non null rows\n",
    "noNaN_train = train.dropna()"
   ]
  },
  {
   "cell_type": "code",
   "execution_count": 7,
   "metadata": {},
   "outputs": [
    {
     "data": {
      "text/html": [
       "<div>\n",
       "<style scoped>\n",
       "    .dataframe tbody tr th:only-of-type {\n",
       "        vertical-align: middle;\n",
       "    }\n",
       "\n",
       "    .dataframe tbody tr th {\n",
       "        vertical-align: top;\n",
       "    }\n",
       "\n",
       "    .dataframe thead th {\n",
       "        text-align: right;\n",
       "    }\n",
       "</style>\n",
       "<table border=\"1\" class=\"dataframe\">\n",
       "  <thead>\n",
       "    <tr style=\"text-align: right;\">\n",
       "      <th></th>\n",
       "      <th>fire_number</th>\n",
       "      <th>fire_year</th>\n",
       "      <th>size_class</th>\n",
       "      <th>fire_location_latitude</th>\n",
       "      <th>fire_location_longitude</th>\n",
       "      <th>fire_origin</th>\n",
       "      <th>general_cause_desc</th>\n",
       "      <th>activity_class</th>\n",
       "      <th>true_cause</th>\n",
       "      <th>det_agent_type</th>\n",
       "      <th>...</th>\n",
       "      <th>fire_type</th>\n",
       "      <th>fire_position_on_slope</th>\n",
       "      <th>weather_conditions_over_fire</th>\n",
       "      <th>fuel_type</th>\n",
       "      <th>fire_duration</th>\n",
       "      <th>time_to_ex</th>\n",
       "      <th>time_to_uc</th>\n",
       "      <th>time_to_bh2</th>\n",
       "      <th>time_to_bh</th>\n",
       "      <th>time_to_report</th>\n",
       "    </tr>\n",
       "  </thead>\n",
       "  <tbody>\n",
       "    <tr>\n",
       "      <th>4</th>\n",
       "      <td>SWF001</td>\n",
       "      <td>2009</td>\n",
       "      <td>A</td>\n",
       "      <td>55.905933</td>\n",
       "      <td>-113.578850</td>\n",
       "      <td>Indian Reservation</td>\n",
       "      <td>Resident</td>\n",
       "      <td>Piles</td>\n",
       "      <td>Permit Related</td>\n",
       "      <td>UNP</td>\n",
       "      <td>...</td>\n",
       "      <td>Surface</td>\n",
       "      <td>Flat</td>\n",
       "      <td>Clear</td>\n",
       "      <td>C2</td>\n",
       "      <td>1395.0</td>\n",
       "      <td>1161.0</td>\n",
       "      <td>0.0</td>\n",
       "      <td>114.0</td>\n",
       "      <td>234.0</td>\n",
       "      <td>0.0</td>\n",
       "    </tr>\n",
       "    <tr>\n",
       "      <th>41</th>\n",
       "      <td>SWF216</td>\n",
       "      <td>2009</td>\n",
       "      <td>B</td>\n",
       "      <td>54.932783</td>\n",
       "      <td>-115.210783</td>\n",
       "      <td>Provincial Land</td>\n",
       "      <td>Power Line Industry</td>\n",
       "      <td>Power Lines</td>\n",
       "      <td>Unpredictable Event</td>\n",
       "      <td>UNP</td>\n",
       "      <td>...</td>\n",
       "      <td>Surface</td>\n",
       "      <td>Flat</td>\n",
       "      <td>Cloudy</td>\n",
       "      <td>C2</td>\n",
       "      <td>1253.0</td>\n",
       "      <td>1203.0</td>\n",
       "      <td>963.0</td>\n",
       "      <td>42.0</td>\n",
       "      <td>50.0</td>\n",
       "      <td>0.0</td>\n",
       "    </tr>\n",
       "    <tr>\n",
       "      <th>44</th>\n",
       "      <td>HWF044</td>\n",
       "      <td>2006</td>\n",
       "      <td>B</td>\n",
       "      <td>58.496423</td>\n",
       "      <td>-115.123148</td>\n",
       "      <td>Indian Reservation</td>\n",
       "      <td>Resident</td>\n",
       "      <td>Grass</td>\n",
       "      <td>Permit Related</td>\n",
       "      <td>LKT</td>\n",
       "      <td>...</td>\n",
       "      <td>Surface</td>\n",
       "      <td>Flat</td>\n",
       "      <td>Clear</td>\n",
       "      <td>O1a</td>\n",
       "      <td>1155.0</td>\n",
       "      <td>1115.0</td>\n",
       "      <td>1055.0</td>\n",
       "      <td>0.0</td>\n",
       "      <td>40.0</td>\n",
       "      <td>3.0</td>\n",
       "    </tr>\n",
       "    <tr>\n",
       "      <th>53</th>\n",
       "      <td>HWF036</td>\n",
       "      <td>2009</td>\n",
       "      <td>A</td>\n",
       "      <td>58.720683</td>\n",
       "      <td>-118.696617</td>\n",
       "      <td>Indian Reservation</td>\n",
       "      <td>Resident</td>\n",
       "      <td>Children</td>\n",
       "      <td>Burning Substance</td>\n",
       "      <td>UNP</td>\n",
       "      <td>...</td>\n",
       "      <td>Surface</td>\n",
       "      <td>Flat</td>\n",
       "      <td>Clear</td>\n",
       "      <td>O1a</td>\n",
       "      <td>2269.0</td>\n",
       "      <td>2267.0</td>\n",
       "      <td>0.0</td>\n",
       "      <td>0.0</td>\n",
       "      <td>2.0</td>\n",
       "      <td>0.0</td>\n",
       "    </tr>\n",
       "    <tr>\n",
       "      <th>68</th>\n",
       "      <td>HWF034</td>\n",
       "      <td>2011</td>\n",
       "      <td>B</td>\n",
       "      <td>58.452807</td>\n",
       "      <td>-114.579165</td>\n",
       "      <td>Indian Reservation</td>\n",
       "      <td>Resident</td>\n",
       "      <td>Grass</td>\n",
       "      <td>Permit Related</td>\n",
       "      <td>LKT</td>\n",
       "      <td>...</td>\n",
       "      <td>Surface</td>\n",
       "      <td>Flat</td>\n",
       "      <td>CB Dry</td>\n",
       "      <td>O1a</td>\n",
       "      <td>2660.0</td>\n",
       "      <td>2610.0</td>\n",
       "      <td>10.0</td>\n",
       "      <td>10.0</td>\n",
       "      <td>50.0</td>\n",
       "      <td>0.0</td>\n",
       "    </tr>\n",
       "    <tr>\n",
       "      <th>...</th>\n",
       "      <td>...</td>\n",
       "      <td>...</td>\n",
       "      <td>...</td>\n",
       "      <td>...</td>\n",
       "      <td>...</td>\n",
       "      <td>...</td>\n",
       "      <td>...</td>\n",
       "      <td>...</td>\n",
       "      <td>...</td>\n",
       "      <td>...</td>\n",
       "      <td>...</td>\n",
       "      <td>...</td>\n",
       "      <td>...</td>\n",
       "      <td>...</td>\n",
       "      <td>...</td>\n",
       "      <td>...</td>\n",
       "      <td>...</td>\n",
       "      <td>...</td>\n",
       "      <td>...</td>\n",
       "      <td>...</td>\n",
       "      <td>...</td>\n",
       "    </tr>\n",
       "    <tr>\n",
       "      <th>15847</th>\n",
       "      <td>LWF009</td>\n",
       "      <td>2013</td>\n",
       "      <td>B</td>\n",
       "      <td>55.917117</td>\n",
       "      <td>-110.736367</td>\n",
       "      <td>Indian Reservation</td>\n",
       "      <td>Resident</td>\n",
       "      <td>Debris Disposal</td>\n",
       "      <td>Unsafe Fire</td>\n",
       "      <td>LKT</td>\n",
       "      <td>...</td>\n",
       "      <td>Surface</td>\n",
       "      <td>Flat</td>\n",
       "      <td>Clear</td>\n",
       "      <td>O1a</td>\n",
       "      <td>1188.0</td>\n",
       "      <td>1147.0</td>\n",
       "      <td>104.0</td>\n",
       "      <td>0.0</td>\n",
       "      <td>41.0</td>\n",
       "      <td>2.0</td>\n",
       "    </tr>\n",
       "    <tr>\n",
       "      <th>15859</th>\n",
       "      <td>SWF050</td>\n",
       "      <td>2008</td>\n",
       "      <td>C</td>\n",
       "      <td>55.464667</td>\n",
       "      <td>-114.796350</td>\n",
       "      <td>Provincial Park</td>\n",
       "      <td>Power Line Industry</td>\n",
       "      <td>Power Lines</td>\n",
       "      <td>Unpredictable Event</td>\n",
       "      <td>LKT</td>\n",
       "      <td>...</td>\n",
       "      <td>Crown</td>\n",
       "      <td>Middle 1/3</td>\n",
       "      <td>Cloudy</td>\n",
       "      <td>M2</td>\n",
       "      <td>54342.0</td>\n",
       "      <td>51810.0</td>\n",
       "      <td>1912.0</td>\n",
       "      <td>2380.0</td>\n",
       "      <td>2532.0</td>\n",
       "      <td>2.0</td>\n",
       "    </tr>\n",
       "    <tr>\n",
       "      <th>15861</th>\n",
       "      <td>GWF159</td>\n",
       "      <td>2008</td>\n",
       "      <td>A</td>\n",
       "      <td>54.859544</td>\n",
       "      <td>-118.777492</td>\n",
       "      <td>Provincial Land</td>\n",
       "      <td>Power Line Industry</td>\n",
       "      <td>Power Lines</td>\n",
       "      <td>Insufficient Buffer</td>\n",
       "      <td>UNP</td>\n",
       "      <td>...</td>\n",
       "      <td>Surface</td>\n",
       "      <td>Flat</td>\n",
       "      <td>Clear</td>\n",
       "      <td>O1b</td>\n",
       "      <td>142.0</td>\n",
       "      <td>5.0</td>\n",
       "      <td>0.0</td>\n",
       "      <td>-1.0</td>\n",
       "      <td>137.0</td>\n",
       "      <td>0.0</td>\n",
       "    </tr>\n",
       "    <tr>\n",
       "      <th>15863</th>\n",
       "      <td>SWF202</td>\n",
       "      <td>2006</td>\n",
       "      <td>A</td>\n",
       "      <td>55.949617</td>\n",
       "      <td>-113.730433</td>\n",
       "      <td>Provincial Land</td>\n",
       "      <td>Recreation</td>\n",
       "      <td>All Terrain Vehicles</td>\n",
       "      <td>Hot Exhaust</td>\n",
       "      <td>LKT</td>\n",
       "      <td>...</td>\n",
       "      <td>Surface</td>\n",
       "      <td>Flat</td>\n",
       "      <td>Clear</td>\n",
       "      <td>M2</td>\n",
       "      <td>935.0</td>\n",
       "      <td>865.0</td>\n",
       "      <td>65.0</td>\n",
       "      <td>25.0</td>\n",
       "      <td>70.0</td>\n",
       "      <td>0.0</td>\n",
       "    </tr>\n",
       "    <tr>\n",
       "      <th>15874</th>\n",
       "      <td>SWF133</td>\n",
       "      <td>2015</td>\n",
       "      <td>B</td>\n",
       "      <td>55.917023</td>\n",
       "      <td>-113.707167</td>\n",
       "      <td>Private Land</td>\n",
       "      <td>Resident</td>\n",
       "      <td>Debris Disposal</td>\n",
       "      <td>Unsafe Fire</td>\n",
       "      <td>LKT</td>\n",
       "      <td>...</td>\n",
       "      <td>Surface</td>\n",
       "      <td>Flat</td>\n",
       "      <td>Clear</td>\n",
       "      <td>M2</td>\n",
       "      <td>1443.0</td>\n",
       "      <td>1368.0</td>\n",
       "      <td>103.0</td>\n",
       "      <td>27.0</td>\n",
       "      <td>75.0</td>\n",
       "      <td>0.0</td>\n",
       "    </tr>\n",
       "  </tbody>\n",
       "</table>\n",
       "<p>1738 rows × 22 columns</p>\n",
       "</div>"
      ],
      "text/plain": [
       "      fire_number  fire_year size_class  fire_location_latitude  \\\n",
       "4          SWF001       2009          A               55.905933   \n",
       "41         SWF216       2009          B               54.932783   \n",
       "44         HWF044       2006          B               58.496423   \n",
       "53         HWF036       2009          A               58.720683   \n",
       "68         HWF034       2011          B               58.452807   \n",
       "...           ...        ...        ...                     ...   \n",
       "15847      LWF009       2013          B               55.917117   \n",
       "15859      SWF050       2008          C               55.464667   \n",
       "15861      GWF159       2008          A               54.859544   \n",
       "15863      SWF202       2006          A               55.949617   \n",
       "15874      SWF133       2015          B               55.917023   \n",
       "\n",
       "       fire_location_longitude         fire_origin   general_cause_desc  \\\n",
       "4                  -113.578850  Indian Reservation             Resident   \n",
       "41                 -115.210783     Provincial Land  Power Line Industry   \n",
       "44                 -115.123148  Indian Reservation             Resident   \n",
       "53                 -118.696617  Indian Reservation             Resident   \n",
       "68                 -114.579165  Indian Reservation             Resident   \n",
       "...                        ...                 ...                  ...   \n",
       "15847              -110.736367  Indian Reservation             Resident   \n",
       "15859              -114.796350     Provincial Park  Power Line Industry   \n",
       "15861              -118.777492     Provincial Land  Power Line Industry   \n",
       "15863              -113.730433     Provincial Land           Recreation   \n",
       "15874              -113.707167        Private Land             Resident   \n",
       "\n",
       "             activity_class           true_cause det_agent_type  ...  \\\n",
       "4                     Piles       Permit Related            UNP  ...   \n",
       "41              Power Lines  Unpredictable Event            UNP  ...   \n",
       "44                    Grass       Permit Related            LKT  ...   \n",
       "53                 Children    Burning Substance            UNP  ...   \n",
       "68                    Grass       Permit Related            LKT  ...   \n",
       "...                     ...                  ...            ...  ...   \n",
       "15847       Debris Disposal          Unsafe Fire            LKT  ...   \n",
       "15859           Power Lines  Unpredictable Event            LKT  ...   \n",
       "15861           Power Lines  Insufficient Buffer            UNP  ...   \n",
       "15863  All Terrain Vehicles          Hot Exhaust            LKT  ...   \n",
       "15874       Debris Disposal          Unsafe Fire            LKT  ...   \n",
       "\n",
       "      fire_type fire_position_on_slope weather_conditions_over_fire fuel_type  \\\n",
       "4       Surface                   Flat                        Clear        C2   \n",
       "41      Surface                   Flat                       Cloudy        C2   \n",
       "44      Surface                   Flat                        Clear       O1a   \n",
       "53      Surface                   Flat                        Clear       O1a   \n",
       "68      Surface                   Flat                       CB Dry       O1a   \n",
       "...         ...                    ...                          ...       ...   \n",
       "15847   Surface                   Flat                        Clear       O1a   \n",
       "15859     Crown             Middle 1/3                       Cloudy        M2   \n",
       "15861   Surface                   Flat                        Clear       O1b   \n",
       "15863   Surface                   Flat                        Clear        M2   \n",
       "15874   Surface                   Flat                        Clear        M2   \n",
       "\n",
       "      fire_duration time_to_ex  time_to_uc  time_to_bh2  time_to_bh  \\\n",
       "4            1395.0     1161.0         0.0        114.0       234.0   \n",
       "41           1253.0     1203.0       963.0         42.0        50.0   \n",
       "44           1155.0     1115.0      1055.0          0.0        40.0   \n",
       "53           2269.0     2267.0         0.0          0.0         2.0   \n",
       "68           2660.0     2610.0        10.0         10.0        50.0   \n",
       "...             ...        ...         ...          ...         ...   \n",
       "15847        1188.0     1147.0       104.0          0.0        41.0   \n",
       "15859       54342.0    51810.0      1912.0       2380.0      2532.0   \n",
       "15861         142.0        5.0         0.0         -1.0       137.0   \n",
       "15863         935.0      865.0        65.0         25.0        70.0   \n",
       "15874        1443.0     1368.0       103.0         27.0        75.0   \n",
       "\n",
       "       time_to_report  \n",
       "4                 0.0  \n",
       "41                0.0  \n",
       "44                3.0  \n",
       "53                0.0  \n",
       "68                0.0  \n",
       "...               ...  \n",
       "15847             2.0  \n",
       "15859             2.0  \n",
       "15861             0.0  \n",
       "15863             0.0  \n",
       "15874             0.0  \n",
       "\n",
       "[1738 rows x 22 columns]"
      ]
     },
     "execution_count": 7,
     "metadata": {},
     "output_type": "execute_result"
    }
   ],
   "source": [
    "datetime_feature_engineering(noNaN_train)"
   ]
  },
  {
   "cell_type": "code",
   "execution_count": 210,
   "metadata": {},
   "outputs": [
    {
     "data": {
      "image/png": "[encoded data removed]",
      "text/plain": [
       "<Figure size 1440x360 with 1 Axes>"
      ]
     },
     "metadata": {
      "needs_background": "light"
     },
     "output_type": "display_data"
    }
   ],
   "source": [
    "plt.figure(figsize=(20,5))\n",
    "plt.boxplot(datetime_feature_engineering(noNaN_train)['fire_duration'], vert=False)\n",
    "plt.xlabel('Time [minutes]', fontsize=15)\n",
    "plt.xlim([-100,20000]);"
   ]
  },
  {
   "cell_type": "code",
   "execution_count": 211,
   "metadata": {},
   "outputs": [],
   "source": [
    "#plt.figure(figsize=(20,5))\n",
    "#plt.boxplot(datetime_feature_engineering(noNaN_train)['time_to_ex'], vert=False);\n",
    "#plt.xlabel('Time [minutes]', fontsize=15)\n",
    "#plt.xlim([-100,20000]);"
   ]
  },
  {
   "cell_type": "code",
   "execution_count": 212,
   "metadata": {},
   "outputs": [
    {
     "data": {
      "image/png": "[encoded data removed]",
      "text/plain": [
       "<Figure size 1440x360 with 1 Axes>"
      ]
     },
     "metadata": {
      "needs_background": "light"
     },
     "output_type": "display_data"
    }
   ],
   "source": [
    "plt.figure(figsize=(20,5))\n",
    "plt.boxplot(datetime_feature_engineering(noNaN_train)['fire_fight_response_time'], vert=False);\n",
    "plt.xlabel('Time [minutes]', fontsize=15)\n",
    "plt.xlim([-5,500]);"
   ]
  },
  {
   "cell_type": "code",
   "execution_count": 213,
   "metadata": {},
   "outputs": [
    {
     "data": {
      "image/png": "[encoded data removed]",
      "text/plain": [
       "<Figure size 1440x360 with 1 Axes>"
      ]
     },
     "metadata": {
      "needs_background": "light"
     },
     "output_type": "display_data"
    }
   ],
   "source": [
    "plt.figure(figsize=(20,5))\n",
    "plt.boxplot(datetime_feature_engineering(noNaN_train)['time_to_discover'], vert=False);\n",
    "plt.xlabel('Time [minutes]', fontsize=15)\n",
    "plt.xlim([-10,1000]);"
   ]
  },
  {
   "cell_type": "code",
   "execution_count": 214,
   "metadata": {},
   "outputs": [
    {
     "data": {
      "text/html": [
       "<div>\n",
       "<style scoped>\n",
       "    .dataframe tbody tr th:only-of-type {\n",
       "        vertical-align: middle;\n",
       "    }\n",
       "\n",
       "    .dataframe tbody tr th {\n",
       "        vertical-align: top;\n",
       "    }\n",
       "\n",
       "    .dataframe thead th {\n",
       "        text-align: right;\n",
       "    }\n",
       "</style>\n",
       "<table border=\"1\" class=\"dataframe\">\n",
       "  <thead>\n",
       "    <tr style=\"text-align: right;\">\n",
       "      <th></th>\n",
       "      <th>fire_number</th>\n",
       "      <th>fire_year</th>\n",
       "      <th>fire_location_latitude</th>\n",
       "      <th>fire_location_longitude</th>\n",
       "      <th>fire_origin</th>\n",
       "      <th>general_cause_desc</th>\n",
       "      <th>activity_class</th>\n",
       "      <th>true_cause</th>\n",
       "      <th>det_agent_type</th>\n",
       "      <th>det_agent</th>\n",
       "      <th>initial_action_by</th>\n",
       "      <th>fire_type</th>\n",
       "      <th>fire_position_on_slope</th>\n",
       "      <th>weather_conditions_over_fire</th>\n",
       "      <th>fuel_type</th>\n",
       "      <th>fire_duration</th>\n",
       "      <th>time_to_ex</th>\n",
       "      <th>fire_fight_response_time</th>\n",
       "      <th>time_to_discover</th>\n",
       "      <th>time_to_report</th>\n",
       "    </tr>\n",
       "  </thead>\n",
       "  <tbody>\n",
       "    <tr>\n",
       "      <th>1</th>\n",
       "      <td>WWF031</td>\n",
       "      <td>2008</td>\n",
       "      <td>54.186250</td>\n",
       "      <td>-115.175200</td>\n",
       "      <td>Provincial Land</td>\n",
       "      <td>Recreation</td>\n",
       "      <td>All Terrain Vehicles</td>\n",
       "      <td>Burning Substance</td>\n",
       "      <td>LKT</td>\n",
       "      <td>IM</td>\n",
       "      <td>HAC1H</td>\n",
       "      <td>Surface</td>\n",
       "      <td>Flat</td>\n",
       "      <td>Clear</td>\n",
       "      <td>M2</td>\n",
       "      <td>2719.0</td>\n",
       "      <td>2590.0</td>\n",
       "      <td>60.0</td>\n",
       "      <td>15.0</td>\n",
       "      <td>0.0</td>\n",
       "    </tr>\n",
       "    <tr>\n",
       "      <th>17</th>\n",
       "      <td>RWF051</td>\n",
       "      <td>2009</td>\n",
       "      <td>52.462913</td>\n",
       "      <td>-115.095227</td>\n",
       "      <td>Provincial Land</td>\n",
       "      <td>Power Line Industry</td>\n",
       "      <td>Power Lines</td>\n",
       "      <td>Insufficient Buffer</td>\n",
       "      <td>LKT</td>\n",
       "      <td>RY</td>\n",
       "      <td>FPD Staff</td>\n",
       "      <td>Surface</td>\n",
       "      <td>Flat</td>\n",
       "      <td>Cloudy</td>\n",
       "      <td>O1a</td>\n",
       "      <td>444.0</td>\n",
       "      <td>328.0</td>\n",
       "      <td>28.0</td>\n",
       "      <td>83.0</td>\n",
       "      <td>0.0</td>\n",
       "    </tr>\n",
       "    <tr>\n",
       "      <th>31</th>\n",
       "      <td>CWF117</td>\n",
       "      <td>2018</td>\n",
       "      <td>51.142300</td>\n",
       "      <td>-114.721217</td>\n",
       "      <td>Provincial Land</td>\n",
       "      <td>Resident</td>\n",
       "      <td>Transportation</td>\n",
       "      <td>Vehicle Fire</td>\n",
       "      <td>GRP</td>\n",
       "      <td>PATR</td>\n",
       "      <td>FPD Staff</td>\n",
       "      <td>Surface</td>\n",
       "      <td>Flat</td>\n",
       "      <td>Cloudy</td>\n",
       "      <td>O1b</td>\n",
       "      <td>50.0</td>\n",
       "      <td>20.0</td>\n",
       "      <td>0.0</td>\n",
       "      <td>10.0</td>\n",
       "      <td>0.0</td>\n",
       "    </tr>\n",
       "    <tr>\n",
       "      <th>32</th>\n",
       "      <td>CWF209</td>\n",
       "      <td>2016</td>\n",
       "      <td>50.184933</td>\n",
       "      <td>-114.319600</td>\n",
       "      <td>Provincial Land</td>\n",
       "      <td>Recreation</td>\n",
       "      <td>Cooking and Warming</td>\n",
       "      <td>Unsafe Fire</td>\n",
       "      <td>UNP</td>\n",
       "      <td>LFS</td>\n",
       "      <td>FPD Staff</td>\n",
       "      <td>Surface</td>\n",
       "      <td>Bottom</td>\n",
       "      <td>Clear</td>\n",
       "      <td>D1</td>\n",
       "      <td>2674.0</td>\n",
       "      <td>1594.0</td>\n",
       "      <td>1041.0</td>\n",
       "      <td>39.0</td>\n",
       "      <td>0.0</td>\n",
       "    </tr>\n",
       "    <tr>\n",
       "      <th>33</th>\n",
       "      <td>PWF010</td>\n",
       "      <td>2010</td>\n",
       "      <td>56.477417</td>\n",
       "      <td>-116.414167</td>\n",
       "      <td>Provincial Land</td>\n",
       "      <td>Resident</td>\n",
       "      <td>Children</td>\n",
       "      <td>Burning Substance</td>\n",
       "      <td>UNP</td>\n",
       "      <td>LFS</td>\n",
       "      <td>FPD Staff</td>\n",
       "      <td>Ground</td>\n",
       "      <td>Flat</td>\n",
       "      <td>Clear</td>\n",
       "      <td>O1a</td>\n",
       "      <td>398.0</td>\n",
       "      <td>181.0</td>\n",
       "      <td>22.0</td>\n",
       "      <td>195.0</td>\n",
       "      <td>0.0</td>\n",
       "    </tr>\n",
       "    <tr>\n",
       "      <th>...</th>\n",
       "      <td>...</td>\n",
       "      <td>...</td>\n",
       "      <td>...</td>\n",
       "      <td>...</td>\n",
       "      <td>...</td>\n",
       "      <td>...</td>\n",
       "      <td>...</td>\n",
       "      <td>...</td>\n",
       "      <td>...</td>\n",
       "      <td>...</td>\n",
       "      <td>...</td>\n",
       "      <td>...</td>\n",
       "      <td>...</td>\n",
       "      <td>...</td>\n",
       "      <td>...</td>\n",
       "      <td>...</td>\n",
       "      <td>...</td>\n",
       "      <td>...</td>\n",
       "      <td>...</td>\n",
       "      <td>...</td>\n",
       "    </tr>\n",
       "    <tr>\n",
       "      <th>3945</th>\n",
       "      <td>LWF008</td>\n",
       "      <td>2012</td>\n",
       "      <td>55.931817</td>\n",
       "      <td>-110.725767</td>\n",
       "      <td>Indian Reservation</td>\n",
       "      <td>Resident</td>\n",
       "      <td>Debris Disposal</td>\n",
       "      <td>Unsafe Fire</td>\n",
       "      <td>UNP</td>\n",
       "      <td>LFS</td>\n",
       "      <td>FPD Staff</td>\n",
       "      <td>Surface</td>\n",
       "      <td>Flat</td>\n",
       "      <td>Clear</td>\n",
       "      <td>O1b</td>\n",
       "      <td>1180.0</td>\n",
       "      <td>1122.0</td>\n",
       "      <td>2.0</td>\n",
       "      <td>58.0</td>\n",
       "      <td>0.0</td>\n",
       "    </tr>\n",
       "    <tr>\n",
       "      <th>3947</th>\n",
       "      <td>SWF123</td>\n",
       "      <td>2010</td>\n",
       "      <td>55.636133</td>\n",
       "      <td>-116.402533</td>\n",
       "      <td>Provincial Land</td>\n",
       "      <td>Resident</td>\n",
       "      <td>Unclassified</td>\n",
       "      <td>Unattended Fire</td>\n",
       "      <td>UNP</td>\n",
       "      <td>310</td>\n",
       "      <td>HAC1H</td>\n",
       "      <td>Surface</td>\n",
       "      <td>Flat</td>\n",
       "      <td>CB Dry</td>\n",
       "      <td>M2</td>\n",
       "      <td>2440.0</td>\n",
       "      <td>1217.0</td>\n",
       "      <td>19.0</td>\n",
       "      <td>1205.0</td>\n",
       "      <td>0.0</td>\n",
       "    </tr>\n",
       "    <tr>\n",
       "      <th>3959</th>\n",
       "      <td>HWF017</td>\n",
       "      <td>2008</td>\n",
       "      <td>58.717650</td>\n",
       "      <td>-118.746317</td>\n",
       "      <td>Indian Reservation</td>\n",
       "      <td>Resident</td>\n",
       "      <td>Grass</td>\n",
       "      <td>Abandoned Fire</td>\n",
       "      <td>LKT</td>\n",
       "      <td>ZA</td>\n",
       "      <td>HAC1H</td>\n",
       "      <td>Surface</td>\n",
       "      <td>Flat</td>\n",
       "      <td>Cloudy</td>\n",
       "      <td>O1a</td>\n",
       "      <td>264.0</td>\n",
       "      <td>126.0</td>\n",
       "      <td>114.0</td>\n",
       "      <td>26.0</td>\n",
       "      <td>0.0</td>\n",
       "    </tr>\n",
       "    <tr>\n",
       "      <th>3960</th>\n",
       "      <td>MWF005</td>\n",
       "      <td>2016</td>\n",
       "      <td>56.163967</td>\n",
       "      <td>-111.744100</td>\n",
       "      <td>Provincial Land</td>\n",
       "      <td>Other Industry</td>\n",
       "      <td>Debris Disposal</td>\n",
       "      <td>Winter Burning</td>\n",
       "      <td>LKT</td>\n",
       "      <td>AL</td>\n",
       "      <td>HAC</td>\n",
       "      <td>Surface</td>\n",
       "      <td>Flat</td>\n",
       "      <td>Clear</td>\n",
       "      <td>S1</td>\n",
       "      <td>102381.0</td>\n",
       "      <td>1311.0</td>\n",
       "      <td>71.0</td>\n",
       "      <td>101014.0</td>\n",
       "      <td>0.0</td>\n",
       "    </tr>\n",
       "    <tr>\n",
       "      <th>3961</th>\n",
       "      <td>SWF055</td>\n",
       "      <td>2012</td>\n",
       "      <td>56.013267</td>\n",
       "      <td>-113.898417</td>\n",
       "      <td>Provincial Land</td>\n",
       "      <td>Resident</td>\n",
       "      <td>Transportation</td>\n",
       "      <td>Vehicle Fire</td>\n",
       "      <td>LKT</td>\n",
       "      <td>SQ</td>\n",
       "      <td>FTAC</td>\n",
       "      <td>Surface</td>\n",
       "      <td>Flat</td>\n",
       "      <td>Clear</td>\n",
       "      <td>O1a</td>\n",
       "      <td>80.0</td>\n",
       "      <td>40.0</td>\n",
       "      <td>27.0</td>\n",
       "      <td>3.0</td>\n",
       "      <td>0.0</td>\n",
       "    </tr>\n",
       "  </tbody>\n",
       "</table>\n",
       "<p>418 rows × 20 columns</p>\n",
       "</div>"
      ],
      "text/plain": [
       "     fire_number  fire_year  fire_location_latitude  fire_location_longitude  \\\n",
       "1         WWF031       2008               54.186250              -115.175200   \n",
       "17        RWF051       2009               52.462913              -115.095227   \n",
       "31        CWF117       2018               51.142300              -114.721217   \n",
       "32        CWF209       2016               50.184933              -114.319600   \n",
       "33        PWF010       2010               56.477417              -116.414167   \n",
       "...          ...        ...                     ...                      ...   \n",
       "3945      LWF008       2012               55.931817              -110.725767   \n",
       "3947      SWF123       2010               55.636133              -116.402533   \n",
       "3959      HWF017       2008               58.717650              -118.746317   \n",
       "3960      MWF005       2016               56.163967              -111.744100   \n",
       "3961      SWF055       2012               56.013267              -113.898417   \n",
       "\n",
       "             fire_origin   general_cause_desc        activity_class  \\\n",
       "1        Provincial Land           Recreation  All Terrain Vehicles   \n",
       "17       Provincial Land  Power Line Industry           Power Lines   \n",
       "31       Provincial Land             Resident        Transportation   \n",
       "32       Provincial Land           Recreation   Cooking and Warming   \n",
       "33       Provincial Land             Resident              Children   \n",
       "...                  ...                  ...                   ...   \n",
       "3945  Indian Reservation             Resident       Debris Disposal   \n",
       "3947     Provincial Land             Resident          Unclassified   \n",
       "3959  Indian Reservation             Resident                 Grass   \n",
       "3960     Provincial Land       Other Industry       Debris Disposal   \n",
       "3961     Provincial Land             Resident        Transportation   \n",
       "\n",
       "               true_cause det_agent_type det_agent initial_action_by  \\\n",
       "1       Burning Substance            LKT        IM             HAC1H   \n",
       "17    Insufficient Buffer            LKT        RY         FPD Staff   \n",
       "31           Vehicle Fire            GRP      PATR         FPD Staff   \n",
       "32            Unsafe Fire            UNP       LFS         FPD Staff   \n",
       "33      Burning Substance            UNP       LFS         FPD Staff   \n",
       "...                   ...            ...       ...               ...   \n",
       "3945          Unsafe Fire            UNP       LFS         FPD Staff   \n",
       "3947      Unattended Fire            UNP       310             HAC1H   \n",
       "3959       Abandoned Fire            LKT        ZA             HAC1H   \n",
       "3960       Winter Burning            LKT        AL               HAC   \n",
       "3961         Vehicle Fire            LKT        SQ              FTAC   \n",
       "\n",
       "     fire_type fire_position_on_slope weather_conditions_over_fire fuel_type  \\\n",
       "1      Surface                   Flat                        Clear        M2   \n",
       "17     Surface                   Flat                       Cloudy       O1a   \n",
       "31     Surface                   Flat                       Cloudy       O1b   \n",
       "32     Surface                 Bottom                        Clear        D1   \n",
       "33      Ground                   Flat                        Clear       O1a   \n",
       "...        ...                    ...                          ...       ...   \n",
       "3945   Surface                   Flat                        Clear       O1b   \n",
       "3947   Surface                   Flat                       CB Dry        M2   \n",
       "3959   Surface                   Flat                       Cloudy       O1a   \n",
       "3960   Surface                   Flat                        Clear        S1   \n",
       "3961   Surface                   Flat                        Clear       O1a   \n",
       "\n",
       "      fire_duration  time_to_ex  fire_fight_response_time  time_to_discover  \\\n",
       "1            2719.0      2590.0                      60.0              15.0   \n",
       "17            444.0       328.0                      28.0              83.0   \n",
       "31             50.0        20.0                       0.0              10.0   \n",
       "32           2674.0      1594.0                    1041.0              39.0   \n",
       "33            398.0       181.0                      22.0             195.0   \n",
       "...             ...         ...                       ...               ...   \n",
       "3945         1180.0      1122.0                       2.0              58.0   \n",
       "3947         2440.0      1217.0                      19.0            1205.0   \n",
       "3959          264.0       126.0                     114.0              26.0   \n",
       "3960       102381.0      1311.0                      71.0          101014.0   \n",
       "3961           80.0        40.0                      27.0               3.0   \n",
       "\n",
       "      time_to_report  \n",
       "1                0.0  \n",
       "17               0.0  \n",
       "31               0.0  \n",
       "32               0.0  \n",
       "33               0.0  \n",
       "...              ...  \n",
       "3945             0.0  \n",
       "3947             0.0  \n",
       "3959             0.0  \n",
       "3960             0.0  \n",
       "3961             0.0  \n",
       "\n",
       "[418 rows x 20 columns]"
      ]
     },
     "execution_count": 214,
     "metadata": {},
     "output_type": "execute_result"
    }
   ],
   "source": [
    "# Get training data only with non null rows\n",
    "noNaN_test = test.dropna()\n",
    "datetime_feature_engineering(noNaN_test)"
   ]
  },
  {
   "cell_type": "code",
   "execution_count": 215,
   "metadata": {},
   "outputs": [
    {
     "data": {
      "image/png": "[encoded data removed]",
      "text/plain": [
       "<Figure size 1440x360 with 1 Axes>"
      ]
     },
     "metadata": {
      "needs_background": "light"
     },
     "output_type": "display_data"
    }
   ],
   "source": [
    "plt.figure(figsize=(20,5))\n",
    "plt.boxplot(datetime_feature_engineering(noNaN_test)['fire_duration'], vert=False)\n",
    "plt.xlabel('Time [minutes]', fontsize=15)\n",
    "plt.xlim([-100,20000]);"
   ]
  },
  {
   "cell_type": "code",
   "execution_count": 216,
   "metadata": {},
   "outputs": [],
   "source": [
    "#plt.figure(figsize=(20,5))\n",
    "#plt.boxplot(datetime_feature_engineering(noNaN_test)['time_to_ex'], vert=False);\n",
    "#plt.xlabel('Time [minutes]', fontsize=15)\n",
    "#plt.xlim([-100,20000]);"
   ]
  },
  {
   "cell_type": "code",
   "execution_count": 217,
   "metadata": {},
   "outputs": [
    {
     "data": {
      "image/png": "[encoded data removed]",
      "text/plain": [
       "<Figure size 1440x360 with 1 Axes>"
      ]
     },
     "metadata": {
      "needs_background": "light"
     },
     "output_type": "display_data"
    }
   ],
   "source": [
    "plt.figure(figsize=(20,5))\n",
    "plt.boxplot(datetime_feature_engineering(noNaN_test)['fire_fight_response_time'], vert=False);\n",
    "plt.xlabel('Time [minutes]', fontsize=15)\n",
    "plt.xlim([-5,500]);"
   ]
  },
  {
   "cell_type": "code",
   "execution_count": 218,
   "metadata": {},
   "outputs": [
    {
     "data": {
      "image/png": "[encoded data removed]",
      "text/plain": [
       "<Figure size 1440x360 with 1 Axes>"
      ]
     },
     "metadata": {
      "needs_background": "light"
     },
     "output_type": "display_data"
    }
   ],
   "source": [
    "plt.figure(figsize=(20,5))\n",
    "plt.boxplot(datetime_feature_engineering(noNaN_test)['time_to_discover'], vert=False);\n",
    "plt.xlabel('Time [minutes]', fontsize=15)\n",
    "plt.xlim([-10,1000]);"
   ]
  },
  {
   "cell_type": "markdown",
   "metadata": {},
   "source": [
    "# Fill `fuel_type` feature\n",
    "## Build model"
   ]
  },
  {
   "cell_type": "code",
   "execution_count": 8,
   "metadata": {},
   "outputs": [
    {
     "data": {
      "text/plain": [
       "true_cause                      7194\n",
       "activity_class                  6197\n",
       "fuel_type                       4793\n",
       "fire_fighting_start_date        4199\n",
       "discovered_date                 2119\n",
       "weather_conditions_over_fire    1893\n",
       "fire_position_on_slope          1888\n",
       "fire_type                       1819\n",
       "fire_start_date                  433\n",
       "fire_origin                        7\n",
       "reported_date                      1\n",
       "det_agent                          1\n",
       "det_agent_type                     1\n",
       "dtype: int64"
      ]
     },
     "execution_count": 8,
     "metadata": {},
     "output_type": "execute_result"
    }
   ],
   "source": [
    "# Train missing data\n",
    "null_counts = train.isnull().sum()\n",
    "null_counts[null_counts > 0].sort_values(ascending=False)"
   ]
  },
  {
   "cell_type": "markdown",
   "metadata": {},
   "source": [
    "**Note:** One of the highest unknown featues is the fuel_type which represents The predominate fuel type (vegetation cover) in which the wildfire is burning, at the time of initial assessment. The classes of this feature can be the following:\n",
    "\n",
    "Group: Coniferous\n",
    "* `C1:` Spruce-Lichen Woodland\n",
    "* `C2:` Boreal Spruce\n",
    "* `C3:` Mature Jack or Lodgepole Pine\n",
    "* `C4:` Immature Jack or Lodgepole Pine\n",
    "* `C7:` Conifer plantation\n",
    "\n",
    "Group: Mixedwood\n",
    "* `M1:` Boreal Mixedwood-Leafless\n",
    "* `M2:` Boreal Mixedwood-Green\n",
    "\n",
    "Group: Slash\n",
    "* `S1:` Jack or Lodgepole Pine slash\n",
    "* `S2:` White Spruce-Balsam slash\n",
    "\n",
    "Group: Deciduous\n",
    "* `D1:` Leafless Aspen\n",
    "\n",
    "Group: Grass\n",
    "* `O1a:` Matted Grass\n",
    "* `O1b:` Standing Grass"
   ]
  },
  {
   "cell_type": "code",
   "execution_count": 9,
   "metadata": {},
   "outputs": [],
   "source": [
    "# train non null fuel indexes\n",
    "nan_fuel_indx_train = ~train['fuel_type'].isnull()\n",
    "# test non null fuel indexes\n",
    "nan_fuel_indx_test = ~test['fuel_type'].isnull()\n",
    "## join the datasets: train + test datasets\n",
    "full_dataset = pd.concat([train.drop(['size_class'], 1)[nan_fuel_indx_train], \n",
    "           test[nan_fuel_indx_test]])\n",
    "## Get the features and labels\n",
    "X = full_dataset.drop(['fuel_type'], 1)\n",
    "y = full_dataset['fuel_type']"
   ]
  },
  {
   "cell_type": "code",
   "execution_count": 10,
   "metadata": {},
   "outputs": [
    {
     "data": {
      "image/png": "[encoded data removed]",
      "text/plain": [
       "<Figure size 1080x432 with 1 Axes>"
      ]
     },
     "metadata": {
      "needs_background": "light"
     },
     "output_type": "display_data"
    },
    {
     "data": {
      "text/plain": [
       "C2     5173\n",
       "O1a    2878\n",
       "M2     1776\n",
       "O1b    1380\n",
       "C3      538\n",
       "M1      478\n",
       "C1      446\n",
       "D1      350\n",
       "S1      331\n",
       "S2      329\n",
       "C4      112\n",
       "C7       10\n",
       "M3        2\n",
       "M4        1\n",
       "Name: fuel_type, dtype: int64"
      ]
     },
     "execution_count": 10,
     "metadata": {},
     "output_type": "execute_result"
    }
   ],
   "source": [
    "plt.figure(figsize=(15,6))\n",
    "full_dataset['fuel_type'].value_counts().plot(kind='bar');\n",
    "plt.title('fuel type histogram per class', fontsize=15);\n",
    "plt.xlabel('classes')\n",
    "plt.ylabel('# of samples');\n",
    "plt.show()\n",
    "full_dataset['fuel_type'].value_counts()"
   ]
  },
  {
   "cell_type": "code",
   "execution_count": 11,
   "metadata": {},
   "outputs": [],
   "source": [
    "## Fill unknown data\n",
    "fill_datetime_with_neighbors(X)\n",
    "X.fillna('Unknown', inplace=True)"
   ]
  },
  {
   "cell_type": "code",
   "execution_count": 12,
   "metadata": {},
   "outputs": [],
   "source": [
    "## feature engineering\n",
    "X = datetime_feature_engineering(X)\n",
    "X = fire_number_feature_engineering(X)\n",
    "X.drop(['fire_number'], 1, inplace=True)"
   ]
  },
  {
   "cell_type": "code",
   "execution_count": 13,
   "metadata": {},
   "outputs": [],
   "source": [
    "# One hot encode data\n",
    "ohe = ce.OneHotEncoder(handle_unknown='value', use_cat_names=True)\n",
    "X = ohe.fit_transform(X)"
   ]
  },
  {
   "cell_type": "code",
   "execution_count": 14,
   "metadata": {},
   "outputs": [],
   "source": [
    "# standarized dataset\n",
    "standardize = RobustScaler()\n",
    "X[X.columns]=standardize.fit_transform(X)"
   ]
  },
  {
   "cell_type": "code",
   "execution_count": 15,
   "metadata": {},
   "outputs": [],
   "source": [
    "# get rid of very low classes\n",
    "no_M4_M3_C7_indx = (y!='M4') & (y!='M3') &((y!='C7'))"
   ]
  },
  {
   "cell_type": "code",
   "execution_count": 16,
   "metadata": {},
   "outputs": [],
   "source": [
    "train_X, validation_X, train_y, validation_y = train_test_split(X[no_M4_M3_C7_indx], y[no_M4_M3_C7_indx], \n",
    "                                                                test_size=0.25, random_state=2, \n",
    "                                                                stratify=y[no_M4_M3_C7_indx])"
   ]
  },
  {
   "cell_type": "code",
   "execution_count": 17,
   "metadata": {
    "scrolled": false
   },
   "outputs": [
    {
     "data": {
      "image/png": "[encoded data removed]",
      "text/plain": [
       "<Figure size 1080x1440 with 1 Axes>"
      ]
     },
     "metadata": {
      "needs_background": "light"
     },
     "output_type": "display_data"
    },
    {
     "data": {
      "text/html": [
       "<div>\n",
       "<style scoped>\n",
       "    .dataframe tbody tr th:only-of-type {\n",
       "        vertical-align: middle;\n",
       "    }\n",
       "\n",
       "    .dataframe tbody tr th {\n",
       "        vertical-align: top;\n",
       "    }\n",
       "\n",
       "    .dataframe thead th {\n",
       "        text-align: right;\n",
       "    }\n",
       "</style>\n",
       "<table border=\"1\" class=\"dataframe\">\n",
       "  <thead>\n",
       "    <tr style=\"text-align: right;\">\n",
       "      <th></th>\n",
       "      <th>Features</th>\n",
       "      <th>Importance value</th>\n",
       "    </tr>\n",
       "  </thead>\n",
       "  <tbody>\n",
       "    <tr>\n",
       "      <th>0</th>\n",
       "      <td>general_cause_desc_Lightning</td>\n",
       "      <td>0.208832</td>\n",
       "    </tr>\n",
       "    <tr>\n",
       "      <th>1</th>\n",
       "      <td>general_cause_desc_Forest Industry</td>\n",
       "      <td>0.197058</td>\n",
       "    </tr>\n",
       "    <tr>\n",
       "      <th>2</th>\n",
       "      <td>wildfires_in_location</td>\n",
       "      <td>0.180390</td>\n",
       "    </tr>\n",
       "    <tr>\n",
       "      <th>3</th>\n",
       "      <td>fire_location_latitude</td>\n",
       "      <td>0.058429</td>\n",
       "    </tr>\n",
       "    <tr>\n",
       "      <th>4</th>\n",
       "      <td>fire_location_longitude</td>\n",
       "      <td>0.038655</td>\n",
       "    </tr>\n",
       "    <tr>\n",
       "      <th>5</th>\n",
       "      <td>true_cause_High Hazard</td>\n",
       "      <td>0.030272</td>\n",
       "    </tr>\n",
       "    <tr>\n",
       "      <th>6</th>\n",
       "      <td>time_to_bh</td>\n",
       "      <td>0.027318</td>\n",
       "    </tr>\n",
       "    <tr>\n",
       "      <th>7</th>\n",
       "      <td>time_to_ex</td>\n",
       "      <td>0.018052</td>\n",
       "    </tr>\n",
       "    <tr>\n",
       "      <th>8</th>\n",
       "      <td>time_to_bh2</td>\n",
       "      <td>0.017129</td>\n",
       "    </tr>\n",
       "    <tr>\n",
       "      <th>9</th>\n",
       "      <td>fire_duration</td>\n",
       "      <td>0.016429</td>\n",
       "    </tr>\n",
       "    <tr>\n",
       "      <th>10</th>\n",
       "      <td>fire_origin_Provincial Land</td>\n",
       "      <td>0.013673</td>\n",
       "    </tr>\n",
       "    <tr>\n",
       "      <th>11</th>\n",
       "      <td>time_to_report</td>\n",
       "      <td>0.009967</td>\n",
       "    </tr>\n",
       "    <tr>\n",
       "      <th>12</th>\n",
       "      <td>Location_W</td>\n",
       "      <td>0.009667</td>\n",
       "    </tr>\n",
       "    <tr>\n",
       "      <th>13</th>\n",
       "      <td>time_to_uc</td>\n",
       "      <td>0.008430</td>\n",
       "    </tr>\n",
       "    <tr>\n",
       "      <th>14</th>\n",
       "      <td>fire_type_Crown</td>\n",
       "      <td>0.007535</td>\n",
       "    </tr>\n",
       "    <tr>\n",
       "      <th>15</th>\n",
       "      <td>activity_class_Cooking</td>\n",
       "      <td>0.006482</td>\n",
       "    </tr>\n",
       "    <tr>\n",
       "      <th>16</th>\n",
       "      <td>det_agent_CF</td>\n",
       "      <td>0.005688</td>\n",
       "    </tr>\n",
       "    <tr>\n",
       "      <th>17</th>\n",
       "      <td>fire_year</td>\n",
       "      <td>0.005026</td>\n",
       "    </tr>\n",
       "    <tr>\n",
       "      <th>18</th>\n",
       "      <td>Location_G</td>\n",
       "      <td>0.005007</td>\n",
       "    </tr>\n",
       "    <tr>\n",
       "      <th>19</th>\n",
       "      <td>general_cause_desc_Recreation</td>\n",
       "      <td>0.004929</td>\n",
       "    </tr>\n",
       "  </tbody>\n",
       "</table>\n",
       "</div>"
      ],
      "text/plain": [
       "                              Features  Importance value\n",
       "0         general_cause_desc_Lightning          0.208832\n",
       "1   general_cause_desc_Forest Industry          0.197058\n",
       "2                wildfires_in_location          0.180390\n",
       "3               fire_location_latitude          0.058429\n",
       "4              fire_location_longitude          0.038655\n",
       "5               true_cause_High Hazard          0.030272\n",
       "6                           time_to_bh          0.027318\n",
       "7                           time_to_ex          0.018052\n",
       "8                          time_to_bh2          0.017129\n",
       "9                        fire_duration          0.016429\n",
       "10         fire_origin_Provincial Land          0.013673\n",
       "11                      time_to_report          0.009967\n",
       "12                          Location_W          0.009667\n",
       "13                          time_to_uc          0.008430\n",
       "14                     fire_type_Crown          0.007535\n",
       "15              activity_class_Cooking          0.006482\n",
       "16                        det_agent_CF          0.005688\n",
       "17                           fire_year          0.005026\n",
       "18                          Location_G          0.005007\n",
       "19       general_cause_desc_Recreation          0.004929"
      ]
     },
     "execution_count": 17,
     "metadata": {},
     "output_type": "execute_result"
    }
   ],
   "source": [
    "model = GradientBoostingClassifier(random_state=42, learning_rate=0.5, n_estimators=50, \n",
    "                                   max_depth=3)\n",
    "model.fit(train_X.values, train_y.values.ravel())\n",
    "\n",
    "# Extract the feature importances using .feature_importances_ \n",
    "importances = model.feature_importances_\n",
    "\n",
    "# Plot\n",
    "relevant_df = feature_plot(importances, train_X, train_y, top_k=20)\n",
    "relevant_df"
   ]
  },
  {
   "cell_type": "code",
   "execution_count": 130,
   "metadata": {},
   "outputs": [],
   "source": [
    "from sklearn.decomposition import PCA\n",
    "pca = PCA(n_components=25)\n",
    "pca_X = pca.fit_transform(X[no_M4_M3_C7_indx])\n",
    "pca = PCA(n_components=25)\n",
    "pca_train_split_X = pca.fit_transform(train_X)\n",
    "pca_validation_split_X =  pca.transform(validation_X)"
   ]
  },
  {
   "cell_type": "code",
   "execution_count": 132,
   "metadata": {},
   "outputs": [
    {
     "name": "stdout",
     "output_type": "stream",
     "text": [
      "Mean f1-score: 0.307\n"
     ]
    }
   ],
   "source": [
    "from sklearn.datasets import make_classification\n",
    "from sklearn.model_selection import cross_val_score\n",
    "from sklearn.model_selection import RepeatedStratifiedKFold\n",
    "from imblearn.ensemble import BalancedRandomForestClassifier, EasyEnsembleClassifier, RUSBoostClassifier\n",
    "from imblearn.metrics import geometric_mean_score\n",
    "# define model\n",
    "\"\"\"Best model so far\"\"\"\n",
    "#model = RandomForestClassifier(n_estimators=100, max_depth=10, class_weight='balanced_subsample',\n",
    "#                              criterion='entropy', max_features=20, min_impurity_decrease=0.003) \n",
    "\"\"\"\"\"\"\n",
    "#weights = {'C4': 1, 'S2': 1.8, 'S1': 3, 'D1': 3.75, 'C1': 9.6,\n",
    "#           'M1': 10.8, 'C3': 11.6, 'O1b': 14.8, 'M2':15.63, 'O1a':15.72, 'C2':46.18}\n",
    "#weights = {'C4': 10, 'S2': 11.8, 'S1': 14, 'D1': 15.75, 'C1': 9.6,\n",
    "#           'M1': 20.8, 'C3': 17.6, 'O1b': 14.8, 'M2':29.63, 'O1a':15.72, 'C2':16.18}\n",
    "\n",
    "#model = BalancedRandomForestClassifier(n_estimators=150, max_depth=10,\n",
    "#                                       random_state=42, class_weight=weights,n_jobs = 1,\n",
    "#                                      criterion='entropy', max_features=None, min_impurity_decrease=0.003\n",
    "#                                      ,min_samples_leaf = 5, ccp_alpha=0.008, sampling_strategy= 'all')\n",
    "#model = EasyEnsembleClassifier(base_estimator=GradientBoostingClassifier(random_state=42, learning_rate=0.5, \n",
    "#                                                                         n_estimators=100, max_depth=3,\n",
    "#                                                                        max_features=15), \n",
    "#                                n_estimators=10, random_state=42)\n",
    "#model = RUSBoostClassifier(random_state=42,  learning_rate=0.1, n_estimators=50)\n",
    "#model = RUSBoostClassifier(base_estimator=RandomForestClassifier(class_weight = 'balanced_subsample', max_depth=10,\n",
    "#                                                                criterion='entropy', max_features=15),\n",
    "#                           random_state=42,  learning_rate=0.1, n_estimators=10)\n",
    "model = RUSBoostClassifier(RandomForestClassifier(random_state=42, n_estimators=100, \n",
    "                                   max_depth=10, class_weight = 'balanced_subsample',\n",
    "                              criterion='entropy', max_features=None, min_impurity_decrease=0.003),\n",
    "                           random_state=42,  learning_rate=0.1, n_estimators=10)\n",
    "\n",
    "\n",
    "# define evaluation procedure\n",
    "cv = RepeatedStratifiedKFold(n_splits=5, n_repeats=3, random_state=42)\n",
    "\n",
    "# evaluate model\n",
    "scores = cross_val_score(model, X[no_M4_M3_C7_indx], y[no_M4_M3_C7_indx], scoring='f1_macro', cv=cv, n_jobs=-1)\n",
    "#scores = cross_val_score(model, pca_X, y[no_M4_M3_C7_indx], scoring='f1_macro', cv=cv, n_jobs=-1)\n",
    "# summarize performance\n",
    "print('Mean f1-score: %.3f' % np.mean(scores))"
   ]
  },
  {
   "cell_type": "code",
   "execution_count": 133,
   "metadata": {},
   "outputs": [
    {
     "name": "stdout",
     "output_type": "stream",
     "text": [
      "F1-score - validation:0.31460781009422606\n",
      "Geometric mean - validation:0.3549685402201809\n",
      "Geometric mean per class - validation:[0.58156904 0.65713075 0.62962812 0.53272208 0.5358808  0.48760169\n",
      " 0.52318532 0.67292774 0.59155173 0.51773537 0.66177666]\n",
      "-------------------------------------------------------------------------------------------\n",
      "F1-score - train:0.4241216869235656\n",
      "Geometric mean - train:0.5128515875158052\n",
      "Geometric mean per class - train:[0.64864323 0.67630565 0.69379977 0.89017409 0.75249901 0.64716854\n",
      " 0.563376   0.67823543 0.66241678 0.71746316 0.7832119 ]\n"
     ]
    }
   ],
   "source": [
    "## Fit model\n",
    "model.fit(train_X, train_y.values.ravel())\n",
    "\n",
    "## predict using fit model\n",
    "pred_validation_y = model.predict(validation_X)\n",
    "f1_score = fbeta_score(validation_y.values.ravel(), pred_validation_y, beta = 1, average='macro')\n",
    "gmean_score = geometric_mean_score(validation_y.values.ravel(), pred_validation_y)\n",
    "gmean_score_sparse = geometric_mean_score(validation_y.values.ravel(), pred_validation_y, average=None)\n",
    "print(f\"F1-score - validation:{f1_score}\")\n",
    "print(f\"Geometric mean - validation:{gmean_score}\")\n",
    "print(f\"Geometric mean per class - validation:{gmean_score_sparse}\")\n",
    "\n",
    "print(\"-------------------------------------------------------------------------------------------\")\n",
    "pred_train_y = model.predict(train_X)\n",
    "f1_score = fbeta_score(train_y.values.ravel(), pred_train_y, beta = 1, average='macro')\n",
    "gmean_score = geometric_mean_score(train_y.values.ravel(), pred_train_y)\n",
    "gmean_score_sparse = geometric_mean_score(train_y.values.ravel(), pred_train_y, average=None)\n",
    "print(f\"F1-score - train:{f1_score}\")\n",
    "print(f\"Geometric mean - train:{gmean_score}\")\n",
    "print(f\"Geometric mean per class - train:{gmean_score_sparse}\")"
   ]
  },
  {
   "cell_type": "code",
   "execution_count": 134,
   "metadata": {},
   "outputs": [
    {
     "data": {
      "image/png": "[encoded data removed]",
      "text/plain": [
       "<Figure size 720x720 with 2 Axes>"
      ]
     },
     "metadata": {
      "needs_background": "light"
     },
     "output_type": "display_data"
    }
   ],
   "source": [
    "from sklearn.metrics import plot_confusion_matrix\n",
    "\n",
    "class_names = validation_y.unique()\n",
    "\n",
    "# Plot non-normalized and normalized confusion matrices\n",
    "titles_options = [(\"Normalized confusion matrix\", 'true')]\n",
    "\n",
    "fig, ax = plt.subplots(figsize=(10, 10))\n",
    "for title, normalize in titles_options:\n",
    "    disp = plot_confusion_matrix(model, validation_X, validation_y.values.ravel(),\n",
    "                                 labels=class_names,\n",
    "                                 cmap=plt.cm.Blues,\n",
    "                                 normalize=normalize, ax=ax)\n",
    "    disp.ax_.set_title(title)\n",
    "\n",
    "plt.show()"
   ]
  },
  {
   "cell_type": "markdown",
   "metadata": {},
   "source": [
    "## Predicting on missing data to fill their values"
   ]
  },
  {
   "cell_type": "code",
   "execution_count": 135,
   "metadata": {},
   "outputs": [],
   "source": [
    "# null fuel_type indexes for training dataset\n",
    "nan_fuel_indx_train = train['fuel_type'].isnull()\n",
    "# null fuel_type indexes for testing dataset\n",
    "nan_fuel_indx_test = test['fuel_type'].isnull()"
   ]
  },
  {
   "cell_type": "code",
   "execution_count": 136,
   "metadata": {},
   "outputs": [],
   "source": [
    "## Preprocess data\n",
    "train_features = train.drop(['size_class', 'fuel_type'], 1)[nan_fuel_indx_train]\n",
    "test_features = test.drop(['fuel_type'], 1)[nan_fuel_indx_test]\n",
    "\n",
    "## Fill unknown data\n",
    "fill_datetime_with_neighbors(train_features)\n",
    "train_features.fillna('Unknown', inplace=True)\n",
    "\n",
    "fill_datetime_with_neighbors(test_features)\n",
    "test_features.fillna('Unknown', inplace=True)\n",
    "\n",
    "## feature engineering\n",
    "train_features = datetime_feature_engineering(train_features)\n",
    "train_features = fire_number_feature_engineering(train_features)\n",
    "train_features.drop(['fire_number'], 1, inplace=True)\n",
    "\n",
    "test_features = datetime_feature_engineering(test_features)\n",
    "test_features = fire_number_feature_engineering(test_features)\n",
    "test_features.drop(['fire_number'], 1, inplace=True)\n",
    "\n",
    "## One hot encode data\n",
    "#ohe = ce.OneHotEncoder(handle_unknown='value', use_cat_names=True)\n",
    "train_features = ohe.transform(train_features)\n",
    "test_features = ohe.transform(test_features)\n",
    "\n",
    "## standarized dataset\n",
    "standardize = RobustScaler()\n",
    "train_features[train_features.columns]=standardize.fit_transform(train_features)\n",
    "\n",
    "standardize = RobustScaler()\n",
    "test_features[test_features.columns]=standardize.fit_transform(test_features)"
   ]
  },
  {
   "cell_type": "code",
   "execution_count": 137,
   "metadata": {},
   "outputs": [
    {
     "data": {
      "text/plain": [
       "Index([], dtype='object')"
      ]
     },
     "execution_count": 137,
     "metadata": {},
     "output_type": "execute_result"
    }
   ],
   "source": [
    "inx = [s not in train_X.columns for s in train_features.columns]\n",
    "train_features.columns[inx]"
   ]
  },
  {
   "cell_type": "code",
   "execution_count": 138,
   "metadata": {},
   "outputs": [],
   "source": [
    "## predicting values\n",
    "pred_train = model.predict(train_features)\n",
    "pred_test = model.predict(test_features)"
   ]
  },
  {
   "cell_type": "code",
   "execution_count": 139,
   "metadata": {},
   "outputs": [
    {
     "data": {
      "text/plain": [
       "M2    633\n",
       "C2    236\n",
       "C1    194\n",
       "C3    167\n",
       "C4     11\n",
       "S1      3\n",
       "S2      2\n",
       "M1      1\n",
       "Name: test, dtype: int64"
      ]
     },
     "execution_count": 139,
     "metadata": {},
     "output_type": "execute_result"
    }
   ],
   "source": [
    "pd.DataFrame({'test':pred_test})['test'].value_counts()"
   ]
  },
  {
   "cell_type": "code",
   "execution_count": 140,
   "metadata": {},
   "outputs": [
    {
     "data": {
      "text/plain": [
       "M2    2489\n",
       "C2     907\n",
       "C1     791\n",
       "C3     555\n",
       "C4      31\n",
       "S1       8\n",
       "M1       6\n",
       "S2       6\n",
       "Name: train, dtype: int64"
      ]
     },
     "execution_count": 140,
     "metadata": {},
     "output_type": "execute_result"
    }
   ],
   "source": [
    "pd.DataFrame({'train':pred_train})['train'].value_counts()"
   ]
  },
  {
   "cell_type": "code",
   "execution_count": 141,
   "metadata": {},
   "outputs": [],
   "source": [
    "# Saving the model\n",
    "save_model('./fuel_model3.pkl', model)"
   ]
  },
  {
   "cell_type": "code",
   "execution_count": 142,
   "metadata": {},
   "outputs": [],
   "source": [
    "# Loading the model\n",
    "model2 = load_model('./fuel_model3.pkl')"
   ]
  },
  {
   "cell_type": "code",
   "execution_count": 143,
   "metadata": {},
   "outputs": [
    {
     "data": {
      "text/plain": [
       "M2    633\n",
       "C2    236\n",
       "C1    194\n",
       "C3    167\n",
       "C4     11\n",
       "S1      3\n",
       "S2      2\n",
       "M1      1\n",
       "Name: test2, dtype: int64"
      ]
     },
     "execution_count": 143,
     "metadata": {},
     "output_type": "execute_result"
    }
   ],
   "source": [
    "test_prr = model2.predict(test_features)\n",
    "pd.DataFrame({'test2':test_prr})['test2'].value_counts()"
   ]
  },
  {
   "cell_type": "markdown",
   "metadata": {},
   "source": [
    "## fill dataset and save it with model"
   ]
  },
  {
   "cell_type": "code",
   "execution_count": 144,
   "metadata": {},
   "outputs": [],
   "source": [
    "## non null indexes\n",
    "non_null_indx_train = ~train['fuel_type'].isnull()\n",
    "non_null_indx_test = ~test['fuel_type'].isnull()"
   ]
  },
  {
   "cell_type": "code",
   "execution_count": 145,
   "metadata": {},
   "outputs": [],
   "source": [
    "## null indexes\n",
    "null_indx_train = train['fuel_type'].isnull()\n",
    "null_indx_test = test['fuel_type'].isnull()"
   ]
  },
  {
   "cell_type": "markdown",
   "metadata": {},
   "source": [
    "#### Non null data"
   ]
  },
  {
   "cell_type": "code",
   "execution_count": 146,
   "metadata": {},
   "outputs": [
    {
     "data": {
      "text/plain": [
       "C2     4125\n",
       "O1a    2325\n",
       "M2     1435\n",
       "O1b    1127\n",
       "C3      428\n",
       "M1      378\n",
       "C1      364\n",
       "D1      278\n",
       "S2      269\n",
       "S1      253\n",
       "C4       89\n",
       "C7        8\n",
       "M3        2\n",
       "M4        1\n",
       "Name: fuel_type, dtype: int64"
      ]
     },
     "execution_count": 146,
     "metadata": {},
     "output_type": "execute_result"
    }
   ],
   "source": [
    "train[non_null_indx_train].fuel_type.value_counts()"
   ]
  },
  {
   "cell_type": "code",
   "execution_count": 147,
   "metadata": {},
   "outputs": [
    {
     "data": {
      "text/plain": [
       "C2     1048\n",
       "O1a     553\n",
       "M2      341\n",
       "O1b     253\n",
       "C3      110\n",
       "M1      100\n",
       "C1       82\n",
       "S1       78\n",
       "D1       72\n",
       "S2       60\n",
       "C4       23\n",
       "C7        2\n",
       "Name: fuel_type, dtype: int64"
      ]
     },
     "execution_count": 147,
     "metadata": {},
     "output_type": "execute_result"
    }
   ],
   "source": [
    "test[non_null_indx_test].fuel_type.value_counts()"
   ]
  },
  {
   "cell_type": "markdown",
   "metadata": {},
   "source": [
    "#### Null data"
   ]
  },
  {
   "cell_type": "code",
   "execution_count": 148,
   "metadata": {},
   "outputs": [
    {
     "data": {
      "text/plain": [
       "True    4793\n",
       "Name: fuel_type, dtype: int64"
      ]
     },
     "execution_count": 148,
     "metadata": {},
     "output_type": "execute_result"
    }
   ],
   "source": [
    "train[null_indx_train].fuel_type.isnull().value_counts()"
   ]
  },
  {
   "cell_type": "code",
   "execution_count": 149,
   "metadata": {},
   "outputs": [
    {
     "data": {
      "text/plain": [
       "True    1247\n",
       "Name: fuel_type, dtype: int64"
      ]
     },
     "execution_count": 149,
     "metadata": {},
     "output_type": "execute_result"
    }
   ],
   "source": [
    "test[null_indx_test].fuel_type.isnull().value_counts()"
   ]
  },
  {
   "cell_type": "markdown",
   "metadata": {},
   "source": [
    "### Filling data"
   ]
  },
  {
   "cell_type": "code",
   "execution_count": 150,
   "metadata": {},
   "outputs": [],
   "source": [
    "train.loc[null_indx_train, 'fuel_type'] = model.predict(train_features)\n",
    "test.loc[null_indx_test, 'fuel_type'] = model.predict(test_features)"
   ]
  },
  {
   "cell_type": "code",
   "execution_count": 151,
   "metadata": {},
   "outputs": [
    {
     "data": {
      "image/png": "[encoded data removed]",
      "text/plain": [
       "<Figure size 1080x432 with 1 Axes>"
      ]
     },
     "metadata": {
      "needs_background": "light"
     },
     "output_type": "display_data"
    },
    {
     "data": {
      "text/plain": [
       "C2     5032\n",
       "M2     3924\n",
       "O1a    2325\n",
       "C1     1155\n",
       "O1b    1127\n",
       "C3      983\n",
       "M1      384\n",
       "D1      278\n",
       "S2      275\n",
       "S1      261\n",
       "C4      120\n",
       "C7        8\n",
       "M3        2\n",
       "M4        1\n",
       "Name: fuel_type, dtype: int64"
      ]
     },
     "execution_count": 151,
     "metadata": {},
     "output_type": "execute_result"
    }
   ],
   "source": [
    "plt.figure(figsize=(15,6))\n",
    "train['fuel_type'].value_counts().plot(kind='bar');\n",
    "plt.title('fuel type histogram per class (Training dataset)', fontsize=15);\n",
    "plt.xlabel('classes')\n",
    "plt.ylabel('# of samples');\n",
    "plt.show()\n",
    "train['fuel_type'].value_counts()"
   ]
  },
  {
   "cell_type": "code",
   "execution_count": 152,
   "metadata": {},
   "outputs": [
    {
     "data": {
      "image/png": "[encoded data removed]",
      "text/plain": [
       "<Figure size 1080x432 with 1 Axes>"
      ]
     },
     "metadata": {
      "needs_background": "light"
     },
     "output_type": "display_data"
    },
    {
     "data": {
      "text/plain": [
       "C2     1284\n",
       "M2      974\n",
       "O1a     553\n",
       "C3      277\n",
       "C1      276\n",
       "O1b     253\n",
       "M1      101\n",
       "S1       81\n",
       "D1       72\n",
       "S2       62\n",
       "C4       34\n",
       "C7        2\n",
       "Name: fuel_type, dtype: int64"
      ]
     },
     "execution_count": 152,
     "metadata": {},
     "output_type": "execute_result"
    }
   ],
   "source": [
    "plt.figure(figsize=(15,6))\n",
    "test['fuel_type'].value_counts().plot(kind='bar');\n",
    "plt.title('fuel type histogram per class (testing dataset)', fontsize=15);\n",
    "plt.xlabel('classes')\n",
    "plt.ylabel('# of samples');\n",
    "plt.show()\n",
    "test['fuel_type'].value_counts()"
   ]
  },
  {
   "cell_type": "markdown",
   "metadata": {},
   "source": [
    "## saving data back to csv Files"
   ]
  },
  {
   "cell_type": "code",
   "execution_count": 153,
   "metadata": {},
   "outputs": [],
   "source": [
    "file_name = 'train_fuel.csv'\n",
    "train.to_csv(file_name, encoding='utf-8', index=False)"
   ]
  },
  {
   "cell_type": "code",
   "execution_count": 154,
   "metadata": {},
   "outputs": [],
   "source": [
    "file_name = 'test_fuel.csv'\n",
    "test.to_csv(file_name, encoding='utf-8', index=False)"
   ]
  },
  {
   "cell_type": "markdown",
   "metadata": {},
   "source": [
    "# Fill `true_cause` feature\n",
    "## Build model"
   ]
  },
  {
   "cell_type": "code",
   "execution_count": 17,
   "metadata": {},
   "outputs": [],
   "source": [
    "# Loading the dataset\n",
    "train = pd.read_csv('train_fuel2.csv')\n",
    "test = pd.read_csv('test_fuel2.csv')\n",
    "# Parsing date data to datetime type\n",
    "dates_list = ['assessment_datetime', 'fire_start_date', 'discovered_date', 'reported_date', 'start_for_fire_date', \n",
    "             'fire_fighting_start_date', 'bh_fs_date', 'uc_fs_date', 'ex_fs_date']\n",
    "train[dates_list]=pd.to_datetime(train[dates_list].stack(), format = \"%Y-%m-%d %H:%M:%S\").unstack()\n",
    "test[dates_list]=pd.to_datetime(test[dates_list].stack(), format = \"%Y-%m-%d %H:%M:%S\").unstack()"
   ]
  },
  {
   "cell_type": "code",
   "execution_count": 18,
   "metadata": {},
   "outputs": [
    {
     "data": {
      "text/plain": [
       "true_cause                      7194\n",
       "activity_class                  6197\n",
       "fire_fighting_start_date        4199\n",
       "discovered_date                 2119\n",
       "weather_conditions_over_fire    1893\n",
       "fire_position_on_slope          1888\n",
       "fire_type                       1819\n",
       "fire_start_date                  433\n",
       "fire_origin                        7\n",
       "reported_date                      1\n",
       "det_agent                          1\n",
       "det_agent_type                     1\n",
       "dtype: int64"
      ]
     },
     "execution_count": 18,
     "metadata": {},
     "output_type": "execute_result"
    }
   ],
   "source": [
    "# Train missing data\n",
    "null_counts = train.isnull().sum()\n",
    "null_counts[null_counts > 0].sort_values(ascending=False)"
   ]
  },
  {
   "cell_type": "code",
   "execution_count": 19,
   "metadata": {},
   "outputs": [],
   "source": [
    "# train non null fuel indexes\n",
    "nan_trueCause_indx_train = ~train['true_cause'].isnull()\n",
    "# test non null fuel indexes\n",
    "nan_trueCause_indx_test = ~test['true_cause'].isnull()\n",
    "## join the datasets: train + test datasets\n",
    "full_dataset = pd.concat([train.drop(['size_class'], 1)[nan_trueCause_indx_train], \n",
    "           test[nan_trueCause_indx_test]])\n",
    "## Get the features and labels\n",
    "X = full_dataset.drop(['true_cause'], 1)\n",
    "y = full_dataset['true_cause']"
   ]
  },
  {
   "cell_type": "code",
   "execution_count": 20,
   "metadata": {},
   "outputs": [
    {
     "data": {
      "image/png": "[encoded data removed]",
      "text/plain": [
       "<Figure size 1080x432 with 1 Axes>"
      ]
     },
     "metadata": {
      "needs_background": "light"
     },
     "output_type": "display_data"
    },
    {
     "data": {
      "text/plain": [
       "Unsafe Fire               3747\n",
       "Abandoned Fire            2084\n",
       "Permit Related            1147\n",
       "Burning Substance         1089\n",
       "Arson Suspected            423\n",
       "Unpredictable Event        363\n",
       "Insufficient Buffer        361\n",
       "Line Impact                343\n",
       "Winter Burning             300\n",
       "Mechanical Failure         203\n",
       "Hot Exhaust                155\n",
       "Unattended Fire            143\n",
       "Vehicle Fire               117\n",
       "Friction Spark             108\n",
       "Unclassified                83\n",
       "Arson Known                 59\n",
       "High Hazard                 58\n",
       "Incendiary Device           25\n",
       "Animals                     25\n",
       "Flammable Fluids            17\n",
       "Insufficient Resources       4\n",
       "Name: true_cause, dtype: int64"
      ]
     },
     "execution_count": 20,
     "metadata": {},
     "output_type": "execute_result"
    }
   ],
   "source": [
    "plt.figure(figsize=(15,6))\n",
    "full_dataset['true_cause'].value_counts().plot(kind='bar');\n",
    "plt.title('true_cause histogram per class', fontsize=15);\n",
    "plt.xlabel('classes')\n",
    "plt.ylabel('# of samples');\n",
    "plt.show()\n",
    "full_dataset['true_cause'].value_counts()"
   ]
  },
  {
   "cell_type": "code",
   "execution_count": 21,
   "metadata": {},
   "outputs": [],
   "source": [
    "## Fill unknown data\n",
    "fill_datetime_with_neighbors(X)\n",
    "X.fillna('Unknown', inplace=True)\n",
    "## feature engineering\n",
    "X = datetime_feature_engineering(X)\n",
    "X = fire_number_feature_engineering(X)\n",
    "X.drop(['fire_number'], 1, inplace=True)\n",
    "# One hot encode data\n",
    "ohe = ce.OneHotEncoder(handle_unknown='value', use_cat_names=True)\n",
    "X = ohe.fit_transform(X)\n",
    "# standarized dataset\n",
    "standardize = RobustScaler()\n",
    "X[X.columns]=standardize.fit_transform(X)\n",
    "# get rid of very low classes\n",
    "no_Insfficnt_Resrcs_indx = (y!='Insufficient Resources')\n",
    "train_X, validation_X, train_y, validation_y = train_test_split(X[no_Insfficnt_Resrcs_indx], \n",
    "                                                                y[no_Insfficnt_Resrcs_indx], \n",
    "                                                                test_size=0.25, random_state=2, \n",
    "                                                                stratify=y[no_Insfficnt_Resrcs_indx])"
   ]
  },
  {
   "cell_type": "code",
   "execution_count": 22,
   "metadata": {
    "scrolled": false
   },
   "outputs": [
    {
     "data": {
      "image/png": "[encoded data removed]",
      "text/plain": [
       "<Figure size 1080x1440 with 1 Axes>"
      ]
     },
     "metadata": {
      "needs_background": "light"
     },
     "output_type": "display_data"
    },
    {
     "data": {
      "text/html": [
       "<div>\n",
       "<style scoped>\n",
       "    .dataframe tbody tr th:only-of-type {\n",
       "        vertical-align: middle;\n",
       "    }\n",
       "\n",
       "    .dataframe tbody tr th {\n",
       "        vertical-align: top;\n",
       "    }\n",
       "\n",
       "    .dataframe thead th {\n",
       "        text-align: right;\n",
       "    }\n",
       "</style>\n",
       "<table border=\"1\" class=\"dataframe\">\n",
       "  <thead>\n",
       "    <tr style=\"text-align: right;\">\n",
       "      <th></th>\n",
       "      <th>Features</th>\n",
       "      <th>Importance value</th>\n",
       "    </tr>\n",
       "  </thead>\n",
       "  <tbody>\n",
       "    <tr>\n",
       "      <th>0</th>\n",
       "      <td>activity_class_Operations</td>\n",
       "      <td>0.235322</td>\n",
       "    </tr>\n",
       "    <tr>\n",
       "      <th>1</th>\n",
       "      <td>Location_R</td>\n",
       "      <td>0.174755</td>\n",
       "    </tr>\n",
       "    <tr>\n",
       "      <th>2</th>\n",
       "      <td>activity_class_Cooking</td>\n",
       "      <td>0.144315</td>\n",
       "    </tr>\n",
       "    <tr>\n",
       "      <th>3</th>\n",
       "      <td>fire_year</td>\n",
       "      <td>0.102281</td>\n",
       "    </tr>\n",
       "    <tr>\n",
       "      <th>4</th>\n",
       "      <td>activity_class_Transportation</td>\n",
       "      <td>0.056566</td>\n",
       "    </tr>\n",
       "    <tr>\n",
       "      <th>5</th>\n",
       "      <td>general_cause_desc_Incendiary</td>\n",
       "      <td>0.052579</td>\n",
       "    </tr>\n",
       "    <tr>\n",
       "      <th>6</th>\n",
       "      <td>activity_class_Unclassified</td>\n",
       "      <td>0.038674</td>\n",
       "    </tr>\n",
       "    <tr>\n",
       "      <th>7</th>\n",
       "      <td>general_cause_desc_Power Line Industry</td>\n",
       "      <td>0.028291</td>\n",
       "    </tr>\n",
       "    <tr>\n",
       "      <th>8</th>\n",
       "      <td>activity_class_Vehicle Trans.</td>\n",
       "      <td>0.023638</td>\n",
       "    </tr>\n",
       "    <tr>\n",
       "      <th>9</th>\n",
       "      <td>time_to_bh</td>\n",
       "      <td>0.021465</td>\n",
       "    </tr>\n",
       "    <tr>\n",
       "      <th>10</th>\n",
       "      <td>activity_class_Refuse</td>\n",
       "      <td>0.016142</td>\n",
       "    </tr>\n",
       "    <tr>\n",
       "      <th>11</th>\n",
       "      <td>activity_class_Power Lines</td>\n",
       "      <td>0.012797</td>\n",
       "    </tr>\n",
       "    <tr>\n",
       "      <th>12</th>\n",
       "      <td>activity_class_Cooking and Warming</td>\n",
       "      <td>0.010961</td>\n",
       "    </tr>\n",
       "    <tr>\n",
       "      <th>13</th>\n",
       "      <td>fire_location_longitude</td>\n",
       "      <td>0.010561</td>\n",
       "    </tr>\n",
       "    <tr>\n",
       "      <th>14</th>\n",
       "      <td>fire_location_latitude</td>\n",
       "      <td>0.008319</td>\n",
       "    </tr>\n",
       "    <tr>\n",
       "      <th>15</th>\n",
       "      <td>Location_W</td>\n",
       "      <td>0.005786</td>\n",
       "    </tr>\n",
       "    <tr>\n",
       "      <th>16</th>\n",
       "      <td>activity_class_Debris Disposal</td>\n",
       "      <td>0.004608</td>\n",
       "    </tr>\n",
       "    <tr>\n",
       "      <th>17</th>\n",
       "      <td>initial_action_by_Land Owner</td>\n",
       "      <td>0.004313</td>\n",
       "    </tr>\n",
       "    <tr>\n",
       "      <th>18</th>\n",
       "      <td>general_cause_desc_Government</td>\n",
       "      <td>0.003334</td>\n",
       "    </tr>\n",
       "    <tr>\n",
       "      <th>19</th>\n",
       "      <td>fire_duration</td>\n",
       "      <td>0.003325</td>\n",
       "    </tr>\n",
       "  </tbody>\n",
       "</table>\n",
       "</div>"
      ],
      "text/plain": [
       "                                  Features  Importance value\n",
       "0                activity_class_Operations          0.235322\n",
       "1                               Location_R          0.174755\n",
       "2                   activity_class_Cooking          0.144315\n",
       "3                                fire_year          0.102281\n",
       "4            activity_class_Transportation          0.056566\n",
       "5            general_cause_desc_Incendiary          0.052579\n",
       "6              activity_class_Unclassified          0.038674\n",
       "7   general_cause_desc_Power Line Industry          0.028291\n",
       "8            activity_class_Vehicle Trans.          0.023638\n",
       "9                               time_to_bh          0.021465\n",
       "10                   activity_class_Refuse          0.016142\n",
       "11              activity_class_Power Lines          0.012797\n",
       "12      activity_class_Cooking and Warming          0.010961\n",
       "13                 fire_location_longitude          0.010561\n",
       "14                  fire_location_latitude          0.008319\n",
       "15                              Location_W          0.005786\n",
       "16          activity_class_Debris Disposal          0.004608\n",
       "17            initial_action_by_Land Owner          0.004313\n",
       "18           general_cause_desc_Government          0.003334\n",
       "19                           fire_duration          0.003325"
      ]
     },
     "execution_count": 22,
     "metadata": {},
     "output_type": "execute_result"
    }
   ],
   "source": [
    "model = GradientBoostingClassifier(random_state=42, learning_rate=0.5, n_estimators=50, \n",
    "                                   max_depth=3)\n",
    "model.fit(train_X.values, train_y.values.ravel())\n",
    "\n",
    "# Extract the feature importances using .feature_importances_ \n",
    "importances = model.feature_importances_\n",
    "\n",
    "# Plot\n",
    "relevant_df = feature_plot(importances, train_X, train_y, top_k=20)\n",
    "relevant_df"
   ]
  },
  {
   "cell_type": "code",
   "execution_count": 24,
   "metadata": {},
   "outputs": [
    {
     "name": "stdout",
     "output_type": "stream",
     "text": [
      "Mean f1-score: 0.476\n"
     ]
    }
   ],
   "source": [
    "from sklearn.datasets import make_classification\n",
    "from sklearn.model_selection import cross_val_score\n",
    "from sklearn.model_selection import RepeatedStratifiedKFold\n",
    "from imblearn.ensemble import BalancedRandomForestClassifier, EasyEnsembleClassifier, RUSBoostClassifier\n",
    "from imblearn.metrics import geometric_mean_score\n",
    "# define model\n",
    "\"\"\"Best model so far\"\"\"\n",
    "#model = RandomForestClassifier(n_estimators=100, max_depth=10, class_weight='balanced_subsample',\n",
    "#                              criterion='entropy', max_features=20, min_impurity_decrease=0.003) \n",
    "\"\"\"\"\"\"\n",
    "#weights = {'C4': 1, 'S2': 1.8, 'S1': 3, 'D1': 3.75, 'C1': 9.6,\n",
    "#           'M1': 10.8, 'C3': 11.6, 'O1b': 14.8, 'M2':15.63, 'O1a':15.72, 'C2':46.18}\n",
    "#weights = {'C4': 10, 'S2': 11.8, 'S1': 14, 'D1': 15.75, 'C1': 9.6,\n",
    "#           'M1': 20.8, 'C3': 17.6, 'O1b': 14.8, 'M2':29.63, 'O1a':15.72, 'C2':16.18}\n",
    "\n",
    "#model = BalancedRandomForestClassifier(n_estimators=150, max_depth=10,\n",
    "#                                       random_state=42, class_weight=weights,n_jobs = 1,\n",
    "#                                      criterion='entropy', max_features=None, min_impurity_decrease=0.003\n",
    "#                                      ,min_samples_leaf = 5, ccp_alpha=0.008, sampling_strategy= 'all')\n",
    "#model = EasyEnsembleClassifier(base_estimator=GradientBoostingClassifier(random_state=42, learning_rate=0.5, \n",
    "#                                                                         n_estimators=100, max_depth=3,\n",
    "#                                                                        max_features=15), \n",
    "#                                n_estimators=10, random_state=42)\n",
    "#model = RUSBoostClassifier(random_state=42,  learning_rate=0.1, n_estimators=50)\n",
    "#model = RUSBoostClassifier(base_estimator=RandomForestClassifier(class_weight = 'balanced_subsample', max_depth=10,\n",
    "#                                                                criterion='entropy', max_features=15),\n",
    "#                           random_state=42,  learning_rate=0.1, n_estimators=10)\n",
    "model = RUSBoostClassifier(RandomForestClassifier(random_state=42, n_estimators=100, \n",
    "                                   max_depth=10, class_weight = 'balanced_subsample',\n",
    "                              criterion='entropy', max_features=None, min_impurity_decrease=0.003),\n",
    "                           random_state=42,  learning_rate=0.1, n_estimators=10)\n",
    "\n",
    "\n",
    "# define evaluation procedure\n",
    "cv = RepeatedStratifiedKFold(n_splits=5, n_repeats=3, random_state=42)\n",
    "\n",
    "# evaluate model\n",
    "scores = cross_val_score(model, X[no_Insfficnt_Resrcs_indx], y[no_Insfficnt_Resrcs_indx], scoring='f1_macro', cv=cv, n_jobs=-1)\n",
    "#scores = cross_val_score(model, pca_X, y[no_M4_M3_C7_indx], scoring='f1_macro', cv=cv, n_jobs=-1)\n",
    "# summarize performance\n",
    "print('Mean f1-score: %.3f' % np.mean(scores))"
   ]
  },
  {
   "cell_type": "code",
   "execution_count": 25,
   "metadata": {},
   "outputs": [
    {
     "name": "stdout",
     "output_type": "stream",
     "text": [
      "F1-score - validation:0.45736919661359937\n",
      "Geometric mean - validation:0.0\n",
      "Geometric mean per class - validation:[0.85047471 0.         0.68160917 0.94006969 0.4405181  0.85896355\n",
      " 0.88536573 0.65319672 0.74202509 0.40734241 0.91770497 0.87286383\n",
      " 0.13987011 0.85364253 0.494837   0.89906671 0.51011347 0.89017111\n",
      " 0.84635323 0.95491228]\n",
      "-------------------------------------------------------------------------------------------\n",
      "F1-score - train:0.55049474112335\n",
      "Geometric mean - train:0.6423258488947863\n",
      "Geometric mean per class - train:[0.86279935 0.85527007 0.79649096 0.95212516 0.50306613 0.99227692\n",
      " 0.85132928 0.86474034 0.86675668 0.88671554 0.90365124 0.9143234\n",
      " 0.38877402 0.87452382 0.60560342 0.87050726 0.58619532 0.87890269\n",
      " 0.89855824 0.94183618]\n"
     ]
    }
   ],
   "source": [
    "## Fit model\n",
    "model.fit(train_X, train_y.values.ravel())\n",
    "\n",
    "## predict using fit model\n",
    "pred_validation_y = model.predict(validation_X)\n",
    "f1_score = fbeta_score(validation_y.values.ravel(), pred_validation_y, beta = 1, average='macro')\n",
    "gmean_score = geometric_mean_score(validation_y.values.ravel(), pred_validation_y)\n",
    "gmean_score_sparse = geometric_mean_score(validation_y.values.ravel(), pred_validation_y, average=None)\n",
    "print(f\"F1-score - validation:{f1_score}\")\n",
    "print(f\"Geometric mean - validation:{gmean_score}\")\n",
    "print(f\"Geometric mean per class - validation:{gmean_score_sparse}\")\n",
    "\n",
    "print(\"-------------------------------------------------------------------------------------------\")\n",
    "pred_train_y = model.predict(train_X)\n",
    "f1_score = fbeta_score(train_y.values.ravel(), pred_train_y, beta = 1, average='macro')\n",
    "gmean_score = geometric_mean_score(train_y.values.ravel(), pred_train_y)\n",
    "gmean_score_sparse = geometric_mean_score(train_y.values.ravel(), pred_train_y, average=None)\n",
    "print(f\"F1-score - train:{f1_score}\")\n",
    "print(f\"Geometric mean - train:{gmean_score}\")\n",
    "print(f\"Geometric mean per class - train:{gmean_score_sparse}\")"
   ]
  },
  {
   "cell_type": "code",
   "execution_count": 26,
   "metadata": {},
   "outputs": [
    {
     "data": {
      "image/png": "[encoded data removed]",
      "text/plain": [
       "<Figure size 720x720 with 2 Axes>"
      ]
     },
     "metadata": {
      "needs_background": "light"
     },
     "output_type": "display_data"
    }
   ],
   "source": [
    "from sklearn.metrics import plot_confusion_matrix\n",
    "\n",
    "class_names = validation_y.unique()\n",
    "\n",
    "# Plot non-normalized and normalized confusion matrices\n",
    "titles_options = [(\"Normalized confusion matrix\", 'true')]\n",
    "\n",
    "fig, ax = plt.subplots(figsize=(10, 10))\n",
    "for title, normalize in titles_options:\n",
    "    disp = plot_confusion_matrix(model, validation_X, validation_y.values.ravel(),\n",
    "                                 labels=class_names,\n",
    "                                 cmap=plt.cm.Blues,\n",
    "                                 normalize=normalize, ax=ax)\n",
    "    disp.ax_.set_title(title)\n",
    "\n",
    "plt.show()"
   ]
  },
  {
   "cell_type": "markdown",
   "metadata": {},
   "source": [
    "## Predicting on missing data to fill their values"
   ]
  },
  {
   "cell_type": "code",
   "execution_count": 27,
   "metadata": {},
   "outputs": [],
   "source": [
    "# null fuel_type indexes for training dataset\n",
    "nan_fuel_indx_train = train['true_cause'].isnull()\n",
    "# null fuel_type indexes for testing dataset\n",
    "nan_fuel_indx_test = test['true_cause'].isnull()\n",
    "\n",
    "## Preprocess data\n",
    "train_features = train.drop(['size_class', 'true_cause'], 1)[nan_fuel_indx_train]\n",
    "test_features = test.drop(['true_cause'], 1)[nan_fuel_indx_test]\n",
    "\n",
    "## Fill unknown data\n",
    "fill_datetime_with_neighbors(train_features)\n",
    "train_features.fillna('Unknown', inplace=True)\n",
    "\n",
    "fill_datetime_with_neighbors(test_features)\n",
    "test_features.fillna('Unknown', inplace=True)\n",
    "\n",
    "## feature engineering\n",
    "train_features = datetime_feature_engineering(train_features)\n",
    "train_features = fire_number_feature_engineering(train_features)\n",
    "train_features.drop(['fire_number'], 1, inplace=True)\n",
    "\n",
    "test_features = datetime_feature_engineering(test_features)\n",
    "test_features = fire_number_feature_engineering(test_features)\n",
    "test_features.drop(['fire_number'], 1, inplace=True)\n",
    "\n",
    "## One hot encode data\n",
    "#ohe = ce.OneHotEncoder(handle_unknown='value', use_cat_names=True)\n",
    "train_features = ohe.transform(train_features)\n",
    "test_features = ohe.transform(test_features)\n",
    "\n",
    "## standarized dataset\n",
    "standardize = RobustScaler()\n",
    "train_features[train_features.columns]=standardize.fit_transform(train_features)\n",
    "\n",
    "standardize = RobustScaler()\n",
    "test_features[test_features.columns]=standardize.fit_transform(test_features)"
   ]
  },
  {
   "cell_type": "code",
   "execution_count": 28,
   "metadata": {},
   "outputs": [],
   "source": [
    "## predicting values\n",
    "pred_train = model.predict(train_features)\n",
    "pred_test = model.predict(test_features)"
   ]
  },
  {
   "cell_type": "code",
   "execution_count": 29,
   "metadata": {},
   "outputs": [
    {
     "data": {
      "text/plain": [
       "Friction Spark         687\n",
       "Hot Exhaust            411\n",
       "Unpredictable Event    326\n",
       "Unclassified           141\n",
       "Unattended Fire        105\n",
       "Arson Suspected         33\n",
       "Incendiary Device       28\n",
       "Unsafe Fire             26\n",
       "Vehicle Fire            14\n",
       "Flammable Fluids         8\n",
       "Burning Substance        7\n",
       "Insufficient Buffer      6\n",
       "Permit Related           3\n",
       "Line Impact              1\n",
       "Name: test, dtype: int64"
      ]
     },
     "execution_count": 29,
     "metadata": {},
     "output_type": "execute_result"
    }
   ],
   "source": [
    "pd.DataFrame({'test':pred_test})['test'].value_counts()"
   ]
  },
  {
   "cell_type": "code",
   "execution_count": 30,
   "metadata": {},
   "outputs": [
    {
     "data": {
      "text/plain": [
       "Friction Spark         2767\n",
       "Hot Exhaust            1602\n",
       "Unpredictable Event    1394\n",
       "Unclassified            545\n",
       "Unattended Fire         421\n",
       "Arson Suspected         112\n",
       "Incendiary Device        92\n",
       "Vehicle Fire             91\n",
       "Unsafe Fire              69\n",
       "Flammable Fluids         41\n",
       "Insufficient Buffer      33\n",
       "Burning Substance        11\n",
       "Permit Related            7\n",
       "Winter Burning            4\n",
       "Mechanical Failure        2\n",
       "Abandoned Fire            2\n",
       "Arson Known               1\n",
       "Name: train, dtype: int64"
      ]
     },
     "execution_count": 30,
     "metadata": {},
     "output_type": "execute_result"
    }
   ],
   "source": [
    "pd.DataFrame({'train':pred_train})['train'].value_counts()"
   ]
  },
  {
   "cell_type": "code",
   "execution_count": 31,
   "metadata": {},
   "outputs": [],
   "source": [
    "# Saving the model\n",
    "save_model('./true_cause_model.pkl', model)"
   ]
  },
  {
   "cell_type": "code",
   "execution_count": 32,
   "metadata": {},
   "outputs": [],
   "source": [
    "# Loading the model\n",
    "model2 = load_model('./true_cause_model.pkl')"
   ]
  },
  {
   "cell_type": "code",
   "execution_count": 33,
   "metadata": {},
   "outputs": [
    {
     "data": {
      "text/plain": [
       "Friction Spark         687\n",
       "Hot Exhaust            411\n",
       "Unpredictable Event    326\n",
       "Unclassified           141\n",
       "Unattended Fire        105\n",
       "Arson Suspected         33\n",
       "Incendiary Device       28\n",
       "Unsafe Fire             26\n",
       "Vehicle Fire            14\n",
       "Flammable Fluids         8\n",
       "Burning Substance        7\n",
       "Insufficient Buffer      6\n",
       "Permit Related           3\n",
       "Line Impact              1\n",
       "Name: test2, dtype: int64"
      ]
     },
     "execution_count": 33,
     "metadata": {},
     "output_type": "execute_result"
    }
   ],
   "source": [
    "test_prr = model2.predict(test_features)\n",
    "pd.DataFrame({'test2':test_prr})['test2'].value_counts()"
   ]
  },
  {
   "cell_type": "markdown",
   "metadata": {},
   "source": [
    "## fill dataset and save it with model"
   ]
  },
  {
   "cell_type": "code",
   "execution_count": 34,
   "metadata": {},
   "outputs": [],
   "source": [
    "## non null indexes\n",
    "non_null_indx_train = ~train['true_cause'].isnull()\n",
    "non_null_indx_test = ~test['true_cause'].isnull()\n",
    "## null indexes\n",
    "null_indx_train = train['true_cause'].isnull()\n",
    "null_indx_test = test['true_cause'].isnull()"
   ]
  },
  {
   "cell_type": "code",
   "execution_count": 35,
   "metadata": {},
   "outputs": [],
   "source": [
    "train.loc[null_indx_train, 'true_cause'] = model.predict(train_features)\n",
    "test.loc[null_indx_test, 'true_cause'] = model.predict(test_features)"
   ]
  },
  {
   "cell_type": "markdown",
   "metadata": {},
   "source": [
    "## saving data back to csv Files"
   ]
  },
  {
   "cell_type": "code",
   "execution_count": 36,
   "metadata": {},
   "outputs": [],
   "source": [
    "file_name = 'train_fuel_plus_true_cause.csv'\n",
    "train.to_csv(file_name, encoding='utf-8', index=False)\n",
    "file_name = 'test_fuel_plus_true_cause.csv'\n",
    "test.to_csv(file_name, encoding='utf-8', index=False)"
   ]
  },
  {
   "cell_type": "code",
   "execution_count": null,
   "metadata": {},
   "outputs": [],
   "source": []
  }
 ],
 "metadata": {
  "kernelspec": {
   "display_name": "Python 3",
   "language": "python",
   "name": "python3"
  },
  "language_info": {
   "codemirror_mode": {
    "name": "ipython",
    "version": 3
   },
   "file_extension": ".py",
   "mimetype": "text/x-python",
   "name": "python",
   "nbconvert_exporter": "python",
   "pygments_lexer": "ipython3",
   "version": "3.6.10"
  }
 },
 "nbformat": 4,
 "nbformat_minor": 4
}
